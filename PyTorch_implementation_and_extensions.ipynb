{
  "nbformat": 4,
  "nbformat_minor": 0,
  "metadata": {
    "colab": {
      "name": "PyTorch  implementation and extensions.ipynb",
      "provenance": [],
      "collapsed_sections": [],
      "toc_visible": true,
      "include_colab_link": true
    },
    "kernelspec": {
      "name": "python3",
      "display_name": "Python 3"
    },
    "language_info": {
      "name": "python"
    },
    "accelerator": "GPU"
  },
  "cells": [
    {
      "cell_type": "markdown",
      "metadata": {
        "id": "view-in-github",
        "colab_type": "text"
      },
      "source": [
        "<a href=\"https://colab.research.google.com/github/RafalCer/Machine_learning/blob/main/PyTorch_implementation_and_extensions.ipynb\" target=\"_parent\"><img src=\"https://colab.research.google.com/assets/colab-badge.svg\" alt=\"Open In Colab\"/></a>"
      ]
    },
    {
      "cell_type": "markdown",
      "metadata": {
        "id": "C1MjLuhLfuQ0"
      },
      "source": [
        "**Note**: This textbook was submitted for the third assignment of the Machine Learning for Language Technology course at Uppsala University. The original code implementing data pre-processing and classifiers from PyTorch was prepared by the teacher with reference to the PyTorch tutorials. "
      ]
    },
    {
      "cell_type": "markdown",
      "metadata": {
        "id": "QD8r-0eRFKTZ"
      },
      "source": [
        "# **INTRODUCTION**\n",
        "\n",
        "This notebook addresses the third Machine Learning Assignment. It firstly introduces the data pre-processing, followed by a Tagger class. The third part of the document addresses the 7 extensions along with discussion:\n",
        "\n",
        "\n",
        "\n",
        "1.   Implementation of GRU\n",
        "2.   Bi-directional LSTM\n",
        "3.  Dataloader class\n",
        "4.  Regularization and weight decay\n",
        "5.  Tagging a morphologically rich language\n",
        "6.  Cross-language transferring\n",
        "7.  Language-specific tagset\n",
        "\n",
        "I split the analysis into several sections that also address the extensions.\n",
        "\n",
        "I would argue that learning to work with PyTorch was a real challenge. This was, however, also the most useful part. This assignment also helped to grasp the recurrent neural networks in a greater detail. The absolutely most difficult part was the extension involving data augomentation. It was difficult to find useful examples on the internet and even more difficult to try and implement some augumentation described in the literature."
      ]
    },
    {
      "cell_type": "markdown",
      "metadata": {
        "id": "I7xpKR4AgEGR"
      },
      "source": [
        "# **IMPORTING AND PARSING THE DATA**\n",
        "\n",
        "Importing the whole UD data set to enable one use whichever language."
      ]
    },
    {
      "cell_type": "code",
      "metadata": {
        "colab": {
          "base_uri": "https://localhost:8080/"
        },
        "id": "npxKK9-CJrXM",
        "outputId": "c4a41058-7952-4608-c37d-2967e67712a0"
      },
      "source": [
        "import tarfile\n",
        "import os \n",
        "\n",
        "os.chdir('/content')\n",
        "!wget -N https://lindat.mff.cuni.cz/repository/xmlui/bitstream/handle/11234/1-3687{/ud-treebanks-v2.8.tgz,/ud-documentation-v2.8.tgz,/ud-tools-v2.8.tgz}\n",
        "\n",
        "tar = tarfile.open('ud-treebanks-v2.8.tgz')\n",
        "tar.extractall()\n",
        "tar.close()"
      ],
      "execution_count": null,
      "outputs": [
        {
          "output_type": "stream",
          "text": [
            "--2021-05-20 00:30:52--  https://lindat.mff.cuni.cz/repository/xmlui/bitstream/handle/11234/1-3687/ud-treebanks-v2.8.tgz\n",
            "Resolving lindat.mff.cuni.cz (lindat.mff.cuni.cz)... 195.113.20.140\n",
            "Connecting to lindat.mff.cuni.cz (lindat.mff.cuni.cz)|195.113.20.140|:443... connected.\n",
            "HTTP request sent, awaiting response... 200 OK\n",
            "Length: 430576293 (411M) [application/x-gzip]\n",
            "Saving to: ‘ud-treebanks-v2.8.tgz’\n",
            "\n",
            "ud-treebanks-v2.8.t 100%[===================>] 410.63M  19.2MB/s    in 23s     \n",
            "\n",
            "2021-05-20 00:31:16 (18.2 MB/s) - ‘ud-treebanks-v2.8.tgz’ saved [430576293/430576293]\n",
            "\n",
            "--2021-05-20 00:31:16--  https://lindat.mff.cuni.cz/repository/xmlui/bitstream/handle/11234/1-3687/ud-documentation-v2.8.tgz\n",
            "Reusing existing connection to lindat.mff.cuni.cz:443.\n",
            "HTTP request sent, awaiting response... 200 OK\n",
            "Length: 94335511 (90M) [application/x-gzip]\n",
            "Saving to: ‘ud-documentation-v2.8.tgz’\n",
            "\n",
            "ud-documentation-v2 100%[===================>]  89.96M  19.2MB/s    in 4.6s    \n",
            "\n",
            "2021-05-20 00:31:21 (19.4 MB/s) - ‘ud-documentation-v2.8.tgz’ saved [94335511/94335511]\n",
            "\n",
            "--2021-05-20 00:31:21--  https://lindat.mff.cuni.cz/repository/xmlui/bitstream/handle/11234/1-3687/ud-tools-v2.8.tgz\n",
            "Reusing existing connection to lindat.mff.cuni.cz:443.\n",
            "HTTP request sent, awaiting response... 200 OK\n",
            "Length: 546289 (533K) [application/x-gzip]\n",
            "Saving to: ‘ud-tools-v2.8.tgz’\n",
            "\n",
            "ud-tools-v2.8.tgz   100%[===================>] 533.49K  --.-KB/s    in 0.002s  \n",
            "\n",
            "2021-05-20 00:31:22 (312 MB/s) - ‘ud-tools-v2.8.tgz’ saved [546289/546289]\n",
            "\n",
            "FINISHED --2021-05-20 00:31:22--\n",
            "Total wall clock time: 29s\n",
            "Downloaded: 3 files, 501M in 27s (18.4 MB/s)\n"
          ],
          "name": "stdout"
        }
      ]
    },
    {
      "cell_type": "markdown",
      "metadata": {
        "id": "tipE7wr3GGZM"
      },
      "source": [
        "Parsing the downloaded data sets with a custom *conllu_parser* function."
      ]
    },
    {
      "cell_type": "code",
      "metadata": {
        "id": "HUWQ8X6DLs20"
      },
      "source": [
        "import os\n",
        "\n",
        "def conllu_parser(file_path, file_name):\n",
        "  sentences = []\n",
        "  tags = []\n",
        "  os.chdir(file_path)\n",
        "  with open(file_name, 'r', encoding='utf-8') as infile:\n",
        "    prev_index = 0 \n",
        "    for line in infile:\n",
        "      line = line.split('\\t')\n",
        "      if line[0][0] == '#' or line[0][0] == '\\n':\n",
        "        continue\n",
        "      elif ',' in line[0] or '-' in line[0] or '.' in line[0]:\n",
        "        continue\n",
        "      if prev_index > int(line[0]):\n",
        "        sentences.append(sentence_)\n",
        "        tags.append(sentence_tags)\n",
        "      if line[0] == '1':\n",
        "        sentence_ = []\n",
        "        sentence_tags = []\n",
        "      if line[0].isalnum():\n",
        "        try:\n",
        "          sentence_.append(line[1])\n",
        "          sentence_tags.append(line[3])\n",
        "        except IndexError:\n",
        "          continue\n",
        "      prev_index = int(line[0])\n",
        "\n",
        "  return sentences, tags\n",
        "############################## LT ALKSNIS ######################################\n",
        "X_lt_train_alksnis, y_lt_train_alksnis = conllu_parser('/content/ud-treebanks-v2.8/UD_Lithuanian-ALKSNIS', 'lt_alksnis-ud-train.conllu')\n",
        "X_lt_test_alksnis, y_lt_test_alksnis = conllu_parser('/content/ud-treebanks-v2.8/UD_Lithuanian-ALKSNIS', 'lt_alksnis-ud-test.conllu')\n",
        "\n",
        "############################## PL LFG ##########################################\n",
        "X_pl_train_lfg, y_pl_train_lfg = conllu_parser('/content/ud-treebanks-v2.8/UD_Polish-LFG', 'pl_lfg-ud-train.conllu')\n",
        "X_pl_test_lfg, y_pl_test_lfg = conllu_parser('/content/ud-treebanks-v2.8/UD_Polish-LFG', 'pl_lfg-ud-test.conllu')\n",
        "\n",
        "############################# SE TALBANKEN #####################################\n",
        "X_se_train_talbanken, y_se_train_talbanken = conllu_parser('/content/ud-treebanks-v2.8/UD_Swedish-Talbanken', 'sv_talbanken-ud-train.conllu')\n",
        "X_se_test_talbanken, y_se_test_talbanken = conllu_parser('/content/ud-treebanks-v2.8/UD_Swedish-Talbanken', 'sv_talbanken-ud-test.conllu')\n",
        "\n",
        "################################### EN ESL #####################################\n",
        "X_en_train_esl, y_en_train_esl = conllu_parser('/content/ud-treebanks-v2.8/UD_English-ESL', 'en_esl-ud-train.conllu')\n",
        "X_en_test_esl, y_en_test_esl = conllu_parser('/content/ud-treebanks-v2.8/UD_English-ESL', 'en_esl-ud-test.conllu')\n",
        "\n",
        "################################### EN ESL #####################################\n",
        "X_en_train_ewt, y_en_train_ewt = conllu_parser('/content/ud-treebanks-v2.8/UD_English-EWT', 'en_ewt-ud-train.conllu')\n",
        "X_en_test_ewt, y_en_test_ewt = conllu_parser('/content/ud-treebanks-v2.8/UD_English-EWT', 'en_ewt-ud-test.conllu')\n",
        "\n"
      ],
      "execution_count": null,
      "outputs": []
    },
    {
      "cell_type": "markdown",
      "metadata": {
        "id": "PIMBqgH6XUa8"
      },
      "source": [
        "# **DATASET and DATALOADER as DataProcessing class**\n",
        "\n",
        "The DataProcessing class is a mixture of Dataset and DataLoader. The class pads_and_encodes the data as well as iterates through the batches. It is briefly discussed in the extension 3 section."
      ]
    },
    {
      "cell_type": "code",
      "metadata": {
        "id": "SFMC37ECaXwr"
      },
      "source": [
        "import numpy as np\n",
        "import torch\n",
        "import torch.nn as nn\n",
        "from torch.utils.data import Dataset, DataLoader\n",
        "\n",
        "class DataProcessing(Dataset, DataLoader):\n",
        "  def __init__(self, X_, y_):\n",
        "    tokens = {token for sentence in X_ for token in sentence}\n",
        "    idx2token = list(tokens) \n",
        "    idx2token.insert(0, '<UNK>')\n",
        "    idx2token.append('<PAD>')\n",
        "    self.idx2token = idx2token\n",
        "    self.token2idx = {token:idx for idx, token in enumerate(idx2token)}\n",
        "\n",
        "    tags = {tag for tags in y_ for tag in tags}\n",
        "    idx2tag = list(tags)\n",
        "    idx2tag.append('<PAD>')\n",
        "    self.idx2tag = idx2tag\n",
        "    self.tag2idx = {tag:idx for idx, tag in enumerate(idx2tag)}\n",
        "\n",
        "  def pad_and_encode(self, X_, y_=None):\n",
        "    self.max_sentence_length = np.max([len(sentence) for sentence in X_])\n",
        "    padded_sentences = torch.zeros(len(X_), self.max_sentence_length,\n",
        "                                  dtype=torch.long)\n",
        "    padded_sentences[:] = self.token2idx['<PAD>']\n",
        "\n",
        "    if y_:\n",
        "      padded_labels = torch.zeros(len(X_), self.max_sentence_length, \n",
        "                                  dtype=torch.long)\n",
        "      padded_labels[:] = self.tag2idx['<PAD>']\n",
        "    for i, (sentence, tags) in enumerate(zip(X_, y_)):              \n",
        "      for j, token in enumerate(sentence):\n",
        "        if token in self.token2idx.keys():\n",
        "          padded_sentences[i, j] = self.token2idx[token]\n",
        "        else:\n",
        "          padded_sentences[i, j] = self.token2idx['<UNK>']\n",
        "      for j, tag in enumerate(tags):\n",
        "        padded_labels[i, j] = self.tag2idx[tag]\n",
        "\n",
        "    return padded_sentences, padded_labels\n",
        "\n",
        "  def batch_iterator(self, sentences, labels, batch_size=64):\n",
        "    for i in range(0, len(sentences), batch_size):\n",
        "      X, y = self.pad_and_encode(sentences[i:min(i+batch_size, len(sentences))],\n",
        "                            labels[i:min(i+batch_size, len(sentences))])\n",
        "      if torch.cuda.is_available():\n",
        "        yield (X.cuda(), y.cuda())\n",
        "      else:\n",
        "        yield (X, y)\n",
        "\n",
        "processor = DataProcessing(X_lt_train_alksnis, y_lt_train_alksnis)"
      ],
      "execution_count": null,
      "outputs": []
    },
    {
      "cell_type": "markdown",
      "metadata": {
        "id": "RiYALhjcaOaZ"
      },
      "source": [
        "# **THE MODEL**\n",
        "\n",
        "I created an outer class called Tagger where I initiate the rnn classifier. This made the code look messy, yet the model arguably became more user friendly, as will be briefly mentioned in the extensions. Additionally, such layout is somewhat closer to that of the Sklearn API."
      ]
    },
    {
      "cell_type": "code",
      "metadata": {
        "id": "XUUGfxi-90xh"
      },
      "source": [
        "import torch\n",
        "import torch.nn as nn\n",
        "import numpy as np\n",
        "from sklearn.model_selection import train_test_split\n",
        "from tqdm import tqdm\n",
        "import matplotlib.pyplot as plt\n",
        "\n",
        "class Tagger():\n",
        "  def __init__(self, bidirectional_bool=False, rnn_type='LSTM', data_storage=None,\n",
        "               word_embedding_dim=32, \n",
        "                   rnn_hidden_dim=64,\n",
        "                   vocabulary_size=len(processor.token2idx),\n",
        "                   tagset_size=len(processor.tag2idx)-1,):\n",
        "    \n",
        "    self.rnn_type = rnn_type\n",
        "    self.data_storage = data_storage\n",
        "\n",
        "    class rnn(nn.Module):\n",
        "      def __init__(self, word_embedding_dim, rnn_hidden_dim, vocabulary_size, tagset_size):\n",
        "        super(rnn, self).__init__()   \n",
        "\n",
        "        self.rnn_hidden_dim_ = rnn_hidden_dim                                     # This simply stores the parameters\n",
        "        self.vocabulary_size_ = vocabulary_size\n",
        "        self.tagset_size_ = tagset_size\n",
        "\n",
        "        self._word_embedding = nn.Embedding(num_embeddings=vocabulary_size,         # Creates the vector space for the input words\n",
        "                                            embedding_dim=word_embedding_dim, \n",
        "                                            padding_idx=data_storage.token2idx['<PAD>'])\n",
        "        \n",
        "        if rnn_type == 'LSTM': \n",
        "          self._lstm = nn.LSTM(input_size=word_embedding_dim,                         # The LSTM takes an embedded sentence as input, and outputs \n",
        "                              hidden_size=rnn_hidden_dim,                           # vectors with dimensionality lstm_hidden_dim.\n",
        "                              batch_first=True, bidirectional=bidirectional_bool)\n",
        "                \n",
        "        elif rnn_type == 'GRU': \n",
        "          self._lstm = nn.GRU(input_size=word_embedding_dim, \n",
        "                              hidden_size=rnn_hidden_dim,\n",
        "                              batch_first=True, bidirectional=bidirectional_bool)\n",
        "          \n",
        "        elif rnn_type == 'RNN': \n",
        "          self._lstm = nn.GRU(input_size=word_embedding_dim, \n",
        "                              hidden_size=rnn_hidden_dim,\n",
        "                              batch_first=True, bidirectional=bidirectional_bool)\n",
        "          \n",
        "        if bidirectional_bool:\n",
        "          self._fc = nn.Linear(self.rnn_hidden_dim_*2, tagset_size)     # The linear layer maps from the RNN output space to tag space\n",
        "        else:\n",
        "          self._fc = nn.Linear(self.rnn_hidden_dim_, tagset_size)   \n",
        "\n",
        "        self._softmax = nn.LogSoftmax(dim=1)                                        # Softmax of outputting PDFs over tags\n",
        "        \n",
        "        self.training_loss_ = list()                                                # For plotting\n",
        "        self.training_accuracy_ = list()\n",
        "\n",
        "        if torch.cuda.is_available():                                               # Move the model to the GPU (if we have one)\n",
        "          self.cuda()\n",
        "\n",
        "      def forward(self, padded_sentences):\n",
        "        \"\"\"The forward pass through the network\"\"\"\n",
        "        batch_size, max_sentence_length = padded_sentences.size()\n",
        "\n",
        "        embedded_sentences = self._word_embedding(padded_sentences)                 # Sentences encoded as integers are mapped to vectors    \n",
        "\n",
        "        sentence_lengths = (padded_sentences!=data_storage.token2idx['<PAD>']).sum(dim=1)        # Find the length of sentences\n",
        "        sentence_lengths = sentence_lengths.long().cpu()                            # Ensure the correct format\n",
        "        X = nn.utils.rnn.pack_padded_sequence(embedded_sentences, sentence_lengths, # Pack the embedded data\n",
        "                                              batch_first=True, enforce_sorted=False)\n",
        "        lstm_out, _ = self._lstm(X)                                                 # Run the LSTM layer\n",
        "        X, _ = nn.utils.rnn.pad_packed_sequence(lstm_out, batch_first=True)         # Unpack the output from the LSTM\n",
        "\n",
        "        X = X.contiguous().view(-1, X.shape[2])                                     # The output from the LSTM layer is flattened\n",
        "        tag_space = self._fc(X)                                                     # Fully connected layer\n",
        "        tag_scores = self._softmax(tag_space) \n",
        "                                              # Softmax is applied to normalise the outputs\n",
        "        return tag_scores.view(batch_size, max_sentence_length, self.tagset_size_)\n",
        "\n",
        "\n",
        "    self.model = rnn(word_embedding_dim=32, rnn_hidden_dim=64, vocabulary_size=len(processor.token2idx), tagset_size=len(processor.tag2idx)-1)\n",
        "    \n",
        "################################ TRAIN #########################################\n",
        "\n",
        "  def train(self, X_train_, y_train_, no_epochs, batch_size=256, regularizer=None):\n",
        "    loss_function = nn.NLLLoss(ignore_index=self.data_storage.tag2idx['<PAD>'])                       # A loss function that fits our choice of output layer and data. Th loss function will ignore the padding index in the targets.\n",
        "    if regularizer:\n",
        "      optimizer = torch.optim.Adam(self.model.parameters(), lr=0.01,  weight_decay=regularizer)  \n",
        "    else:\n",
        "      optimizer = torch.optim.Adam(self.model.parameters(), lr=0.01)                       # We give the optimiser the parameters to work with, note that we can choose to only give some parameters\n",
        "\n",
        "    self.batch_size = batch_size                                                               # Define the size of each batch\n",
        "    for epoch in range(int(no_epochs)):                                                          # Times to loop over the full dataset\n",
        "      with tqdm(self.data_storage.batch_iterator(X_train_, y_train_, batch_size=batch_size), \n",
        "                total=len(X_train_)//batch_size+1, unit=\"batch\", desc=\"Epoch %i\" % epoch) as batches:\n",
        "        for inputs, targets in batches:                                             # Loop once over the training data\n",
        "          self.model.zero_grad()                                                         # Reset gradients\n",
        "          scores = self.model(inputs)                                                    # Forward pass\n",
        "          loss = loss_function(scores.view(-1, self.model.tagset_size_), targets.view(-1))               \n",
        "          loss.backward()                                                           # Backpropagate the error\n",
        "          optimizer.step()                                                          # Run the optimizer to change the weights w.r.t the loss\n",
        "          predictions = scores.argmax(dim=2, keepdim=True).squeeze()                # Calculate the batch training accuracy\n",
        "          mask = targets!=self.data_storage.tag2idx['<PAD>']                                          # Create a mask for ignoring <PAD> in the targets\n",
        "          correct = (predictions[mask] == targets[mask]).sum().item()               # Item pulls the value from the GPU automatically (if needed)\n",
        "          accuracy = correct / mask.sum().item()*100\n",
        "          self.model.training_accuracy_.append(accuracy)                                 # Save the accuracy for plotting\n",
        "          self.model.training_loss_.append(loss.item())                                  # Save the loss for plotting\n",
        "          batches.set_postfix(loss=loss.item(), accuracy=accuracy)                  # Update the progress bar\n",
        "\n",
        "################################# TEST #########################################\n",
        "  \n",
        "  def test(self, X_test_, y_test_):\n",
        "    with torch.no_grad():                                                           # Do not use the following forward passes to calculate a gradient\n",
        "      n_correct = 0\n",
        "      n_total = 0\n",
        "      for inputs, targets in self.data_storage.batch_iterator(X_test_, y_test_, batch_size=self.batch_size): # Loop once over the test data\n",
        "        scores = self.model(inputs)                                                      # Runs the test data through the model\n",
        "        predictions = scores.argmax(dim=2, keepdim=True).squeeze()                  # Finds the predictions\n",
        "        mask = targets!=self.data_storage.tag2idx['<PAD>']                                            # Create a mask for ignoring <PAD> in the targets\n",
        "        n_correct += (predictions[mask] == targets[mask]).sum().item()              # Sums the number of correct predictions\n",
        "        n_total += mask.sum().item()\n",
        "    print(\"Test accuracy %.1f%%\" % (100*n_correct/n_total))\n",
        "\n",
        "############################## PREDICT #########################################\n",
        "\n",
        "  def predict(self, X_):\n",
        "\n",
        "    self.model.to('cpu')\n",
        "    scores = self.model(X_)                                                      # Runs the test data through the model\n",
        "    predictions = scores.argmax(dim=2, keepdim=True).squeeze()                  # Finds the predictions\n",
        "\n",
        "    tags_ = np.zeros(predictions.size(), dtype=object)\n",
        "    decoded_sentences = np.zeros(predictions.size(), dtype=object)\n",
        "    tagged_sentences = []\n",
        "\n",
        "    for i_1, sentence in enumerate(predictions):\n",
        "      for i_2, tag in enumerate(sentence):\n",
        "        tags_[i_1, i_2] = self.data_storage.idx2tag[tag]\n",
        "\n",
        "    for i_1, sentence in enumerate(X_):\n",
        "      for i_2, word in enumerate(sentence):\n",
        "        decoded_sentences[i_1, i_2] = self.data_storage.idx2token[word]\n",
        "\n",
        "    for i_1, sentence in enumerate(decoded_sentences):\n",
        "      tagged_sentence_ = []\n",
        "      for i_2, word in enumerate(sentence):\n",
        "        if word != '<PAD>':\n",
        "          tagged_sentence_.append((word, tags_[i_1, i_2]))\n",
        "      tagged_sentences.append(tagged_sentence_)\n",
        "\n",
        "    print(tagged_sentences)\n",
        "        "
      ],
      "execution_count": null,
      "outputs": []
    },
    {
      "cell_type": "markdown",
      "metadata": {
        "id": "Ljo4cRZXD9NJ"
      },
      "source": [
        "# **DIMENSIONALITIES**\n",
        "\n",
        "My tests showed that higher number of word embedding dimensions as well as hidden states tends to lead to better results for all languages on all models. For instance, as shown below, 100 embedding dimensions along with 60 hidden dimensions signifficantly outperforms a 50-50 combination. \n",
        "\n",
        "The improvement was only seen on values below 130, as more than 130 dimensions often resulted in either no improvement or sometimes even a worse accuracy."
      ]
    },
    {
      "cell_type": "code",
      "metadata": {
        "id": "c5n2PkX_DsQB"
      },
      "source": [
        "####### 50 embedding dimensions, 50 hidden dimensions ##########\n",
        "\n",
        "pos_tagger = Tagger(rnn_type = 'GRU', word_embedding_dim=50,\n",
        "                   rnn_hidden_dim=50,\n",
        "                   vocabulary_size=len(processor.token2idx),\n",
        "                   tagset_size=len(processor.tag2idx)-1, bidirectional_bool=False,\n",
        "                  data_storage = processor)"
      ],
      "execution_count": null,
      "outputs": []
    },
    {
      "cell_type": "code",
      "metadata": {
        "colab": {
          "base_uri": "https://localhost:8080/"
        },
        "id": "6jEJMhVFECMy",
        "outputId": "d9ce1d5c-edf6-4dd5-f69c-3ec55a0da6b1"
      },
      "source": [
        "pos_tagger.train(X_lt_train_alksnis, y_lt_train_alksnis, no_epochs=10)\n",
        "pos_tagger.test(X_lt_test_alksnis, y_lt_test_alksnis)"
      ],
      "execution_count": null,
      "outputs": [
        {
          "output_type": "stream",
          "text": [
            "Epoch 0: 100%|██████████| 10/10 [00:00<00:00, 16.71batch/s, accuracy=56.2, loss=1.57]\n",
            "Epoch 1: 100%|██████████| 10/10 [00:00<00:00, 16.40batch/s, accuracy=63, loss=1.23]\n",
            "Epoch 2: 100%|██████████| 10/10 [00:00<00:00, 17.21batch/s, accuracy=68.5, loss=1.02]\n",
            "Epoch 3: 100%|██████████| 10/10 [00:00<00:00, 16.83batch/s, accuracy=74.8, loss=0.846]\n",
            "Epoch 4: 100%|██████████| 10/10 [00:00<00:00, 16.89batch/s, accuracy=80.3, loss=0.667]\n",
            "Epoch 5: 100%|██████████| 10/10 [00:00<00:00, 16.95batch/s, accuracy=85.3, loss=0.499]\n",
            "Epoch 6: 100%|██████████| 10/10 [00:00<00:00, 17.14batch/s, accuracy=90.1, loss=0.362]\n",
            "Epoch 7: 100%|██████████| 10/10 [00:00<00:00, 16.66batch/s, accuracy=93.9, loss=0.243]\n",
            "Epoch 8: 100%|██████████| 10/10 [00:00<00:00, 16.46batch/s, accuracy=96.6, loss=0.156]\n",
            "Epoch 9: 100%|██████████| 10/10 [00:00<00:00, 17.32batch/s, accuracy=97.7, loss=0.0988]\n"
          ],
          "name": "stderr"
        },
        {
          "output_type": "stream",
          "text": [
            "Test accuracy 56.5%\n"
          ],
          "name": "stdout"
        }
      ]
    },
    {
      "cell_type": "code",
      "metadata": {
        "id": "IjdAGHuUUCnw"
      },
      "source": [
        "####### 100 embedding dimensions, 60 hidden dimensions ##########\n",
        "\n",
        "pos_tagger = Tagger(rnn_type = 'GRU', word_embedding_dim=100,\n",
        "                   rnn_hidden_dim=60,\n",
        "                   vocabulary_size=len(processor.token2idx),\n",
        "                   tagset_size=len(processor.tag2idx)-1, bidirectional_bool=False,\n",
        "                  data_storage = processor)"
      ],
      "execution_count": null,
      "outputs": []
    },
    {
      "cell_type": "code",
      "metadata": {
        "colab": {
          "base_uri": "https://localhost:8080/"
        },
        "id": "vrxOhFHnX8BK",
        "outputId": "a5e15211-7779-4022-eee6-849c34024b80"
      },
      "source": [
        "pos_tagger.train(X_lt_train_alksnis, y_lt_train_alksnis, no_epochs=10)\n",
        "pos_tagger.test(X_lt_test_alksnis, y_lt_test_alksnis)"
      ],
      "execution_count": null,
      "outputs": [
        {
          "output_type": "stream",
          "text": [
            "Epoch 0: 100%|██████████| 10/10 [00:00<00:00, 16.82batch/s, accuracy=53.5, loss=1.57]\n",
            "Epoch 1: 100%|██████████| 10/10 [00:00<00:00, 17.20batch/s, accuracy=64, loss=1.22]\n",
            "Epoch 2: 100%|██████████| 10/10 [00:00<00:00, 16.95batch/s, accuracy=69.1, loss=1.01]\n",
            "Epoch 3: 100%|██████████| 10/10 [00:00<00:00, 17.24batch/s, accuracy=76.3, loss=0.812]\n",
            "Epoch 4: 100%|██████████| 10/10 [00:00<00:00, 17.28batch/s, accuracy=82.6, loss=0.622]\n",
            "Epoch 5: 100%|██████████| 10/10 [00:00<00:00, 16.94batch/s, accuracy=87.9, loss=0.448]\n",
            "Epoch 6: 100%|██████████| 10/10 [00:00<00:00, 17.50batch/s, accuracy=92.2, loss=0.309]\n",
            "Epoch 7: 100%|██████████| 10/10 [00:00<00:00, 17.03batch/s, accuracy=96.8, loss=0.198]\n",
            "Epoch 8: 100%|██████████| 10/10 [00:00<00:00, 17.23batch/s, accuracy=98.2, loss=0.127]\n",
            "Epoch 9: 100%|██████████| 10/10 [00:00<00:00, 17.14batch/s, accuracy=99.2, loss=0.0788]\n"
          ],
          "name": "stderr"
        },
        {
          "output_type": "stream",
          "text": [
            "Test accuracy 72.7%\n"
          ],
          "name": "stdout"
        }
      ]
    },
    {
      "cell_type": "code",
      "metadata": {
        "colab": {
          "base_uri": "https://localhost:8080/"
        },
        "id": "Q7qp3M4VCoRW",
        "outputId": "207e1ce9-77bd-4ae6-d5c2-68ba55a0c14c"
      },
      "source": [
        "pos_tagger.test(X_lt_test_alksnis, y_lt_test_alksnis)"
      ],
      "execution_count": null,
      "outputs": [
        {
          "output_type": "stream",
          "text": [
            "Test accuracy 74.2%\n"
          ],
          "name": "stdout"
        }
      ]
    },
    {
      "cell_type": "code",
      "metadata": {
        "id": "X5XM9hJqGndj"
      },
      "source": [
        "####### 140 embedding dimensions, 140 hidden dimensions ##########\n",
        "\n",
        "pos_tagger = Tagger(rnn_type = 'GRU', word_embedding_dim=140,\n",
        "                   rnn_hidden_dim=140,\n",
        "                   vocabulary_size=len(processor.token2idx),\n",
        "                   tagset_size=len(processor.tag2idx)-1, bidirectional_bool=False,\n",
        "                  data_storage = processor)"
      ],
      "execution_count": null,
      "outputs": []
    },
    {
      "cell_type": "code",
      "metadata": {
        "colab": {
          "base_uri": "https://localhost:8080/"
        },
        "id": "F2lglsmGGpPL",
        "outputId": "2222c6e0-5f42-434b-fd5d-ab19e08d031c"
      },
      "source": [
        "pos_tagger.train(X_lt_train_alksnis, y_lt_train_alksnis, no_epochs=10)\n",
        "pos_tagger.test(X_lt_test_alksnis, y_lt_test_alksnis)"
      ],
      "execution_count": null,
      "outputs": [
        {
          "output_type": "stream",
          "text": [
            "Epoch 0: 100%|██████████| 10/10 [00:00<00:00, 17.39batch/s, accuracy=50.2, loss=1.58]\n",
            "Epoch 1: 100%|██████████| 10/10 [00:00<00:00, 16.90batch/s, accuracy=64, loss=1.2]\n",
            "Epoch 2: 100%|██████████| 10/10 [00:00<00:00, 16.85batch/s, accuracy=70, loss=0.994]\n",
            "Epoch 3: 100%|██████████| 10/10 [00:00<00:00, 16.82batch/s, accuracy=77.7, loss=0.804]\n",
            "Epoch 4: 100%|██████████| 10/10 [00:00<00:00, 17.07batch/s, accuracy=81.6, loss=0.623]\n",
            "Epoch 5: 100%|██████████| 10/10 [00:00<00:00, 17.29batch/s, accuracy=87.6, loss=0.458]\n",
            "Epoch 6: 100%|██████████| 10/10 [00:00<00:00, 17.19batch/s, accuracy=91.3, loss=0.329]\n",
            "Epoch 7: 100%|██████████| 10/10 [00:00<00:00, 17.38batch/s, accuracy=94.5, loss=0.228]\n",
            "Epoch 8: 100%|██████████| 10/10 [00:00<00:00, 17.17batch/s, accuracy=96.6, loss=0.152]\n",
            "Epoch 9: 100%|██████████| 10/10 [00:00<00:00, 16.96batch/s, accuracy=97.7, loss=0.0995]\n"
          ],
          "name": "stderr"
        },
        {
          "output_type": "stream",
          "text": [
            "Test accuracy 63.3%\n"
          ],
          "name": "stdout"
        }
      ]
    },
    {
      "cell_type": "markdown",
      "metadata": {
        "id": "ziZrVZ7G_ZOW"
      },
      "source": [
        "# **BRIEF QUALITATIVE ANALYSIS**\n",
        "\n",
        "I implemented the function *predict* that outputs tuples of tokens and their respective tags to be able to go through some of the data and look at some real examples in the classification. "
      ]
    },
    {
      "cell_type": "code",
      "metadata": {
        "colab": {
          "base_uri": "https://localhost:8080/"
        },
        "id": "ZEsVUopUKsUC",
        "outputId": "58b6b38f-d7ba-4aa2-d943-ea55f277bde5"
      },
      "source": [
        "X_lt_test_padded, y_lt_test_padded = processor.pad_and_encode(X_lt_test_alksnis, y_lt_test_alksnis)\n",
        "\n",
        "pos_tagger.predict(X_lt_test_padded)"
      ],
      "execution_count": null,
      "outputs": [
        {
          "output_type": "stream",
          "text": [
            "[[('<UNK>', 'PUNCT'), ('galvos', 'NOUN'), ('<UNK>', 'NOUN')], [('<UNK>', 'PUNCT'), ('<UNK>', 'PUNCT'), ('<UNK>', 'NOUN'), ('<UNK>', 'NOUN')], [('<UNK>', 'PUNCT'), ('gali', 'VERB'), ('būti', 'AUX'), ('galvos', 'VERB'), ('<UNK>', 'PUNCT'), ('?', 'PUNCT')], [('1', 'NUM'), ('.', 'PUNCT'), ('<UNK>', 'PUNCT'), ('.', 'PUNCT')], [('Tai', 'DET'), ('tokie', 'DET'), ('galvos', 'NOUN'), ('<UNK>', 'PUNCT'), (',', 'PUNCT'), ('kai', 'SCONJ'), ('nėra', 'VERB'), ('akivaizdžių', 'VERB'), ('ligų', 'NOUN'), ('ir', 'CCONJ'), ('<UNK>', 'NOUN'), ('<UNK>', 'NOUN'), (',', 'PUNCT'), ('<UNK>', 'NOUN'), ('juos', 'PRON'), ('sukelti', 'VERB'), ('.', 'PUNCT')], [('Jie', 'PRON'), ('linkę', 'VERB'), ('kartotis', 'VERB'), ('.', 'PUNCT')], [('Šiai', 'NOUN'), ('grupei', 'NOUN'), ('priklauso', 'VERB'), ('trys', 'NUM'), ('rūšys', 'NOUN'), ('–', 'PUNCT'), ('<UNK>', 'PUNCT'), (',', 'PUNCT'), ('<UNK>', 'NOUN'), ('<UNK>', 'NOUN'), ('ir', 'CCONJ'), ('<UNK>', 'NOUN'), ('galvos', 'NOUN'), ('<UNK>', 'NOUN'), ('.', 'PUNCT')], [('2', 'NUM'), ('.', 'PUNCT'), ('<UNK>', 'PUNCT'), ('.', 'PUNCT')], [('Juos', 'NOUN'), ('sukelia', 'VERB'), ('kokia', 'DET'), ('nors', 'X'), ('<UNK>', 'PUNCT'), ('<UNK>', 'PUNCT'), ('<UNK>', 'NOUN'), ('ir', 'CCONJ'), ('šiuo', 'DET'), ('atveju', 'NOUN'), ('galvos', 'NOUN'), ('skausmas', 'NOUN'), ('yra', 'AUX'), ('tik', 'PART'), ('tam', 'PRON'), ('tikros', 'X'), ('<UNK>', 'PUNCT'), ('<UNK>', 'NOUN'), ('.', 'PUNCT')], [('Kada', 'X'), ('galvos', 'NOUN'), ('skausmas', 'NOUN'), ('yra', 'AUX'), ('<UNK>', 'NOUN'), ('?', 'PUNCT')], [('Jeigu', 'SCONJ'), ('galvos', 'NOUN'), ('<UNK>', 'NOUN'), ('prasidėjo', 'VERB'), ('<UNK>', 'PUNCT'), ('50', 'NOUN'), ('metų', 'NOUN'), ('amžiaus', 'NOUN'), ('.', 'PUNCT')], [('Jeigu', 'SCONJ'), ('tai', 'DET'), ('<UNK>', 'NOUN'), (',', 'PUNCT'), ('naujai', 'ADV'), ('<UNK>', 'NOUN'), ('galvos', 'NOUN'), ('skausmas', 'NOUN'), (',', 'PUNCT'), ('<UNK>', 'NOUN'), ('pobūdžio', 'NOUN'), ('nei', 'SCONJ'), ('anksčiau', 'ADV'), ('.', 'PUNCT')], [('Jeigu', 'SCONJ'), ('<UNK>', 'PUNCT'), ('tuoj', 'VERB'), ('pat', 'X'), ('<UNK>', 'PUNCT'), ('po', 'ADP'), ('<UNK>', 'PUNCT'), ('ar', 'CCONJ'), ('<UNK>', 'NOUN'), ('iš', 'ADP'), ('<UNK>', 'NOUN'), ('.', 'PUNCT')], [('Jeigu', 'SCONJ'), ('buvo', 'AUX'), ('padidėjęs', 'VERB'), ('<UNK>', 'PUNCT'), ('kraujo', 'NOUN'), ('<UNK>', 'NOUN'), ('.', 'PUNCT')], [('Jeigu', 'SCONJ'), ('galvos', 'NOUN'), ('<UNK>', 'NOUN'), ('prasidėjo', 'VERB'), ('po', 'ADP'), ('galvos', 'NOUN'), ('traumos', 'NOUN'), ('.', 'PUNCT')], [('Jeigu', 'SCONJ'), ('skausmas', 'NOUN'), ('nepasiduoda', 'VERB'), ('<UNK>', 'NOUN'), ('įprastiniais', 'VERB'), ('<UNK>', 'PUNCT'), ('<UNK>', 'NOUN'), ('<UNK>', 'NOUN'), ('.', 'PUNCT')], [('Jeigu', 'SCONJ'), ('galvos', 'NOUN'), ('<UNK>', 'NOUN'), ('<UNK>', 'NOUN'), ('<UNK>', 'NOUN'), ('<UNK>', 'NOUN'), (',', 'PUNCT'), ('sąmonės', 'NOUN'), ('ir', 'CCONJ'), ('<UNK>', 'NOUN'), ('<UNK>', 'NOUN'), ('.', 'PUNCT')], [('Jeigu', 'SCONJ'), ('greta', 'ADP'), ('yra', 'AUX'), ('<UNK>', 'PUNCT'), ('<UNK>', 'NOUN'), ('požymių', 'NOUN'), ('(', 'PUNCT'), ('<UNK>', 'PUNCT'), (',', 'PUNCT'), ('<UNK>', 'NOUN'), ('<UNK>', 'NOUN'), ('<UNK>', 'NOUN'), (',', 'PUNCT'), ('<UNK>', 'NOUN'), ('ir', 'CCONJ'), ('kt', 'X'), ('.', 'PUNCT'), (')', 'PUNCT'), ('.', 'PUNCT')], [('<UNK>', 'PUNCT'), ('<UNK>', 'PUNCT'), (',', 'PUNCT'), ('kai', 'SCONJ'), ('reikia', 'VERB'), ('<UNK>', 'NOUN'), ('siųsti', 'VERB'), ('pas', 'VERB'), ('<UNK>', 'NOUN'), (':', 'PUNCT')], [('Jeigu', 'SCONJ'), ('skauda', 'VERB'), ('visą', 'DET'), ('galvą', 'NOUN'), ('–', 'PUNCT'), ('<UNK>', 'PUNCT'), (',', 'PUNCT'), ('<UNK>', 'NOUN'), (',', 'PUNCT'), ('<UNK>', 'NOUN'), ('<UNK>', 'NOUN'), ('.', 'PUNCT')], [('Skausmas', 'NOUN'), ('kaktos', 'NOUN'), ('srityje', 'NOUN'), (',', 'PUNCT'), ('virš', 'VERB'), ('<UNK>', 'PUNCT'), ('–', 'PUNCT'), ('<UNK>', 'NOUN'), ('<UNK>', 'NOUN'), (',', 'PUNCT'), ('<UNK>', 'NOUN'), ('<UNK>', 'NOUN'), ('<UNK>', 'NOUN'), (',', 'PUNCT'), ('<UNK>', 'NOUN'), ('.', 'PUNCT')], [('<UNK>', 'PUNCT'), ('abiejų', 'PRON'), ('<UNK>', 'PUNCT'), ('skausmas', 'NOUN'), (',', 'PUNCT'), ('taip', 'PART'), ('pat', 'X'), ('<UNK>', 'PUNCT'), ('–', 'PUNCT'), ('<UNK>', 'NOUN'), ('.', 'PUNCT')], [('<UNK>', 'PUNCT'), ('skausmas', 'NOUN'), (',', 'PUNCT'), ('<UNK>', 'NOUN'), ('per', 'ADP'), ('<UNK>', 'NOUN'), (',', 'PUNCT'), ('<UNK>', 'NOUN'), (',', 'PUNCT'), ('<UNK>', 'NOUN'), ('–', 'PUNCT'), ('<UNK>', 'NOUN'), ('<UNK>', 'NOUN'), ('išraiška', 'NOUN'), ('.', 'PUNCT')], [('<UNK>', 'PUNCT'), ('už', 'ADP'), ('ausies', 'NOUN'), ('(', 'PUNCT'), ('iš', 'ADP'), ('vienos', 'PRON'), ('pusės', 'NOUN'), (')', 'PUNCT'), (',', 'PUNCT'), ('<UNK>', 'NOUN'), ('–', 'PUNCT'), ('<UNK>', 'NOUN'), ('problemos', 'NOUN'), ('arba', 'CCONJ'), ('<UNK>', 'NOUN'), ('.', 'PUNCT')], [('<UNK>', 'PUNCT'), ('skausmas', 'NOUN'), ('(', 'PUNCT'), ('vienos', 'DET'), ('pusės', 'NOUN'), (')', 'PUNCT'), ('–', 'PUNCT'), ('<UNK>', 'PUNCT'), ('.', 'PUNCT')], [('Jūs', 'PRON'), ('<UNK>', 'PUNCT'), ('<UNK>', 'NOUN'), ('galvos', 'NOUN'), ('<UNK>', 'NOUN'), (':', 'PUNCT')], [('<UNK>', 'PUNCT'), ('veiksnius', 'NOUN'), (',', 'PUNCT'), ('kurie', 'DET'), ('sukelia', 'VERB'), ('galvos', 'NOUN'), ('<UNK>', 'PUNCT'), ('ir', 'CCONJ'), ('jų', 'PRON'), ('<UNK>', 'NOUN'), (';', 'PUNCT')], [('<UNK>', 'PUNCT'), ('daug', 'ADV'), ('vandens', 'NOUN'), ('(', 'PUNCT'), ('bent', 'PART'), ('6', 'NUM'), ('<UNK>', 'NOUN'), ('per', 'ADP'), ('dieną', 'NOUN'), (')', 'PUNCT'), ('ir', 'CCONJ'), ('<UNK>', 'NOUN'), ('<UNK>', 'NOUN'), (';', 'PUNCT')], [('<UNK>', 'PUNCT'), ('<UNK>', 'PUNCT'), ('padėtį', 'NOUN'), ('<UNK>', 'NOUN'), ('prie', 'ADP'), ('stalo', 'NOUN'), (';', 'PUNCT')], [('periodiškai', 'ADV'), ('<UNK>', 'PUNCT'), ('<UNK>', 'PUNCT'), ('<UNK>', 'NOUN'), (';', 'PUNCT')], [('<UNK>', 'PUNCT'), ('<UNK>', 'PUNCT'), (';', 'PUNCT')], [('tinkamai', 'ADV'), ('<UNK>', 'PUNCT'), ('ir', 'CCONJ'), ('<UNK>', 'NOUN'), (';', 'PUNCT')], [('<UNK>', 'PUNCT'), ('<UNK>', 'PUNCT'), ('<UNK>', 'NOUN'), ('maistą', 'NOUN'), (';', 'PUNCT')], [('<UNK>', 'PUNCT'), ('<UNK>', 'PUNCT'), ('<UNK>', 'NOUN'), ('ir', 'CCONJ'), ('giliai', 'ADV'), ('<UNK>', 'NOUN'), (',', 'PUNCT'), ('kad', 'SCONJ'), ('<UNK>', 'NOUN'), ('įtampą', 'NOUN'), (';', 'PUNCT')], [('<UNK>', 'PUNCT'), ('<UNK>', 'PUNCT'), (',', 'PUNCT'), ('<UNK>', 'NOUN'), ('streso', 'NOUN'), ('valdymo', 'NOUN'), ('metodų', 'NOUN'), ('.', 'PUNCT')], [('<UNK>', 'PUNCT'), ('dienas', 'NOUN'), ('<UNK>', 'NOUN'), ('<UNK>', 'NOUN'), ('<UNK>', 'NOUN'), ('„', 'PUNCT'), ('<UNK>', 'PUNCT'), ('“', 'PUNCT'), ('vyko', 'VERB'), ('<UNK>', 'NOUN'), ('turizmo', 'NOUN'), ('<UNK>', 'NOUN'), ('skirta', 'VERB'), ('<UNK>', 'NOUN'), (',', 'PUNCT'), ('kurioje', 'DET'), ('dalyvavo', 'VERB'), ('250', 'NOUN'), ('valstybių', 'NOUN'), ('.', 'PUNCT')], [('Viena', 'PRON'), ('jų', 'PRON'), ('-', 'PUNCT'), ('Lietuva', 'PROPN'), ('<UNK>', 'NOUN'), ('<UNK>', 'NOUN'), ('spalvos', 'ADJ'), ('<UNK>', 'NOUN'), ('pristatė', 'VERB'), ('mūsų', 'PRON'), ('<UNK>', 'PUNCT'), ('galimybes', 'NOUN'), ('ir', 'CCONJ'), ('<UNK>', 'NOUN'), ('-', 'PUNCT'), ('<UNK>', 'NOUN'), ('Europos', 'PROPN'), ('kultūros', 'NOUN'), ('<UNK>', 'NOUN'), ('.', 'PUNCT')], [('Į', 'ADP'), ('<UNK>', 'PUNCT'), ('<UNK>', 'NOUN'), ('buvo', 'AUX'), ('pakviesti', 'VERB'), ('svarbūs', 'NOUN'), ('Lietuvai', 'PROPN'), ('žmonės', 'NOUN'), (':', 'PUNCT'), ('<UNK>', 'PUNCT'), ('<UNK>', 'NOUN'), ('<UNK>', 'NOUN'), ('su', 'ADP'), ('žmona', 'NOUN'), (',', 'PUNCT'), ('<UNK>', 'PUNCT'), ('ministerijos', 'NOUN'), ('sekretorius', 'NOUN'), ('<UNK>', 'NOUN'), ('<UNK>', 'NOUN'), (',', 'PUNCT'), ('įvairių', 'ADJ'), ('<UNK>', 'NOUN'), ('vadovai', 'NOUN'), ('.', 'PUNCT')], [('<UNK>', 'PUNCT'), ('pradėjome', 'VERB'), ('kartu', 'ADV'), ('su', 'ADP'), ('<UNK>', 'NOUN'), ('<UNK>', 'NOUN'), ('<UNK>', 'NOUN'), (',', 'PUNCT'), ('<UNK>', 'NOUN'), ('mano', 'PRON'), ('ir', 'CCONJ'), ('<UNK>', 'NOUN'), ('<UNK>', 'NOUN'), ('<UNK>', 'NOUN'), ('<UNK>', 'NOUN'), ('<UNK>', 'NOUN'), ('projektą', 'NOUN'), ('„', 'PUNCT'), ('Pasaulio', 'NOUN'), ('<UNK>', 'NOUN'), ('XXI', 'NOUN'), ('amžiaus', 'NOUN'), ('pradžiai', 'NOUN'), ('“', 'PUNCT'), ('pagal', 'ADP'), ('M', 'X'), ('.', 'PUNCT'), ('<UNK>', 'PUNCT'), ('.', 'PUNCT'), ('Čiurlionio', 'PROPN'), ('<UNK>', 'NOUN'), ('.', 'PUNCT')], [('<UNK>', 'PUNCT'), (',', 'PUNCT'), ('kad', 'SCONJ'), ('šiuo', 'DET'), ('<UNK>', 'NOUN'), ('bus', 'VERB'), ('<UNK>', 'NOUN'), ('ne', 'PART'), ('ką', 'PRON'), ('mažiau', 'ADV'), ('nei', 'SCONJ'), ('<UNK>', 'PUNCT'), ('<UNK>', 'NOUN'), ('ar', 'CCONJ'), ('<UNK>', 'NOUN'), ('.', 'PUNCT')], [('<UNK>', 'PUNCT'), ('dieną', 'NOUN'), ('vienas', 'PRON'), ('<UNK>', 'NOUN'), ('<UNK>', 'NOUN'), ('tą', 'DET'), ('<UNK>', 'PUNCT'), ('<UNK>', 'NOUN'), ('„', 'PUNCT'), ('Lietuva', 'PROPN'), ('ant', 'ADP'), ('<UNK>', 'NOUN'), ('“', 'PUNCT'), ('.', 'PUNCT')], [('<UNK>', 'PUNCT'), ('<UNK>', 'PUNCT'), ('Lietuvos', 'PROPN'), ('ambasadoje', 'NOUN'), ('buvo', 'AUX'), ('naudingas', 'ADJ'), ('ir', 'CCONJ'), ('net', 'PART'), ('<UNK>', 'NOUN'), ('.', 'PUNCT')], [('<UNK>', 'PUNCT'), ('<UNK>', 'PUNCT'), (',', 'PUNCT'), ('kad', 'SCONJ'), ('jie', 'PRON'), ('norėtų', 'VERB'), ('apie', 'ADP'), ('Lietuvą', 'PROPN'), ('sužinoti', 'VERB'), ('ne', 'PART'), ('iš', 'ADP'), ('<UNK>', 'NOUN'), ('<UNK>', 'NOUN'), (',', 'PUNCT'), ('bet', 'CCONJ'), ('iš', 'ADP'), ('kuo', 'PART'), ('<UNK>', 'PUNCT'), ('ir', 'CCONJ'), ('<UNK>', 'NOUN'), ('kultūrinės', 'ADJ'), ('informacijos', 'NOUN'), (',', 'PUNCT'), ('<UNK>', 'NOUN'), ('įvykių', 'NOUN'), ('<UNK>', 'NOUN'), ('.', 'PUNCT')], [('<UNK>', 'PUNCT'), ('mūsų', 'PRON'), ('žiniasklaidoje', 'NOUN'), ('atgarsių', 'VERB'), ('apie', 'ADP'), ('tą', 'DET'), ('<UNK>', 'PUNCT'), (',', 'PUNCT'), ('tačiau', 'CCONJ'), ('žinios', 'NOUN'), ('iš', 'ADP'), ('<UNK>', 'NOUN'), ('buvo', 'AUX'), ('kitokios', 'PRON'), ('-', 'PUNCT'), ('visi', 'DET'), ('laikraščiai', 'NOUN'), ('<UNK>', 'NOUN'), ('apie', 'ADP'), ('kažkokią', 'NOUN'), ('<UNK>', 'PUNCT'), ('<UNK>', 'NOUN'), ('<UNK>', 'NOUN'), ('.', 'PUNCT')], [('Lyg', 'VERB'), ('nieko', 'PRON'), ('kito', 'PRON'), ('<UNK>', 'PUNCT'), (',', 'PUNCT'), ('<UNK>', 'NOUN'), ('su', 'ADP'), ('Lietuva', 'PROPN'), (',', 'PUNCT'), ('<UNK>', 'NOUN'), ('.', 'PUNCT')], [('Dar', 'ADV'), ('labiau', 'ADV'), ('<UNK>', 'PUNCT'), (',', 'PUNCT'), ('kai', 'SCONJ'), ('į', 'ADP'), ('<UNK>', 'NOUN'), ('<UNK>', 'NOUN'), ('<UNK>', 'NOUN'), ('<UNK>', 'NOUN'), (',', 'PUNCT'), ('<UNK>', 'NOUN'), ('<UNK>', 'NOUN'), ('mano', 'PRON'), ('<UNK>', 'NOUN'), (',', 'PUNCT'), ('sukėlė', 'VERB'), ('<UNK>', 'NOUN'), ('<UNK>', 'NOUN'), ('<UNK>', 'NOUN'), ('manimi', 'NOUN'), ('.', 'PUNCT')], [('<UNK>', 'PUNCT'), ('vienas', 'PRON'), ('iš', 'ADP'), ('tų', 'DET'), ('<UNK>', 'PUNCT'), ('net', 'PART'), ('<UNK>', 'PUNCT'), (',', 'PUNCT'), ('ką', 'PRON'), ('aš', 'PRON'), ('<UNK>', 'NOUN'), ('<UNK>', 'NOUN'), ('.', 'PUNCT')], [('Taigi', 'PART'), (',', 'PUNCT'), ('žvelgiant', 'VERB'), ('iš', 'ADP'), ('<UNK>', 'NOUN'), ('visas', 'DET'), ('mūsų', 'PRON'), ('<UNK>', 'PUNCT'), ('yra', 'AUX'), ('tokia', 'DET'), ('<UNK>', 'PUNCT'), ('su', 'ADP'), ('kasdien', 'ADV'), ('<UNK>', 'NOUN'), ('tomis', 'VERB'), ('<UNK>', 'NOUN'), ('žiniomis', 'NOUN'), ('ir', 'CCONJ'), ('<UNK>', 'NOUN'), (',', 'PUNCT'), ('kad', 'SCONJ'), (',', 'PUNCT'), ('atvirai', 'ADV'), ('sakant', 'VERB'), (',', 'PUNCT'), ('pradedu', 'VERB'), ('visiškai', 'ADV'), ('<UNK>', 'PUNCT'), ('iš', 'ADP'), ('čia', 'ADV'), ('<UNK>', 'NOUN'), ('.', 'PUNCT')], [('Jie', 'PRON'), (',', 'PUNCT'), ('<UNK>', 'PUNCT'), ('<UNK>', 'NOUN'), ('<UNK>', 'NOUN'), (',', 'PUNCT'), ('bent', 'PART'), ('jau', 'PART'), ('turi', 'VERB'), ('šansų', 'NOUN'), ('eiti', 'VERB'), ('pirmyn', 'NOUN'), (',', 'PUNCT'), ('<UNK>', 'NOUN'), ('nuo', 'ADP'), ('<UNK>', 'PUNCT'), ('ir', 'CCONJ'), ('dažnai', 'ADV'), ('<UNK>', 'NOUN'), ('lietuviško', 'ADJ'), ('<UNK>', 'NOUN'), (',', 'PUNCT'), ('<UNK>', 'NOUN'), (',', 'PUNCT'), ('<UNK>', 'NOUN'), (',', 'PUNCT'), ('<UNK>', 'NOUN'), (',', 'PUNCT'), ('<UNK>', 'NOUN'), ('dydžių', 'NOUN'), ('korupcijos', 'NOUN'), ('ir', 'CCONJ'), ('<UNK>', 'NOUN'), ('<UNK>', 'NOUN'), ('.', 'PUNCT')], [('Apie', 'ADP'), ('kokį', 'NOUN'), ('<UNK>', 'PUNCT'), ('galime', 'VERB'), ('kalbėti', 'VERB'), (',', 'PUNCT'), ('kai', 'SCONJ'), ('net', 'PART'), ('<UNK>', 'PUNCT'), ('D', 'NOUN'), ('.', 'PUNCT'), ('<UNK>', 'PUNCT'), ('statyba', 'NOUN'), ('tampa', 'VERB'), ('<UNK>', 'NOUN'), ('sąskaitų', 'NOUN'), ('suvedinėjimu', 'NOUN'), ('tarp', 'ADP'), ('„', 'PUNCT'), ('labai', 'ADV'), ('“', 'PUNCT'), ('ir', 'CCONJ'), ('„', 'PUNCT'), ('<UNK>', 'PUNCT'), ('“', 'PUNCT'), ('<UNK>', 'PUNCT'), ('.', 'PUNCT')], [('<UNK>', 'PUNCT'), (',', 'PUNCT'), ('kuri', 'DET'), ('dominuoja', 'VERB'), ('<UNK>', 'NOUN'), ('<UNK>', 'NOUN'), (',', 'PUNCT'), ('pas', 'VERB'), ('mus', 'PRON'), ('tėra', 'VERB'), ('tik', 'PART'), ('reikalavimai', 'NOUN'), ('iš', 'ADP'), ('kitų', 'PRON'), ('sau', 'ADJ'), (',', 'PUNCT'), ('be', 'ADP'), ('atsakomybės', 'NOUN'), ('ir', 'CCONJ'), ('<UNK>', 'NOUN'), ('jausmo', 'NOUN'), ('kitiems', 'PRON'), ('.', 'PUNCT')], [('Beje', 'PART'), (',', 'PUNCT'), ('kai', 'SCONJ'), ('<UNK>', 'PUNCT'), ('<UNK>', 'NOUN'), (',', 'PUNCT'), ('<UNK>', 'NOUN'), (',', 'PUNCT'), ('kokią', 'DET'), ('<UNK>', 'NOUN'), ('<UNK>', 'NOUN'), ('ten', 'ADV'), ('<UNK>', 'NOUN'), ('radijo', 'NOUN'), ('<UNK>', 'NOUN'), ('.', 'PUNCT')], [('<UNK>', 'PUNCT'), ('dainų', 'NOUN'), (',', 'PUNCT'), ('kuriose', 'DET'), ('„', 'PUNCT'), ('diskutuojama', 'VERB'), ('“', 'PUNCT'), (',', 'PUNCT'), ('kokia', 'DET'), ('<UNK>', 'PUNCT'), ('<UNK>', 'NOUN'), (',', 'PUNCT'), ('-', 'PUNCT'), ('tokią', 'DET'), ('<UNK>', 'NOUN'), ('vienoje', 'DET'), ('Kauno', 'NOUN'), ('<UNK>', 'PUNCT'), ('<UNK>', 'NOUN'), ('metu', 'NOUN'), ('.', 'PUNCT')], [('<UNK>', 'PUNCT'), ('<UNK>', 'PUNCT'), ('<UNK>', 'NOUN'), ('ta', 'NOUN'), ('<UNK>', 'NOUN'), ('pasirodė', 'ADJ'), ('labai', 'ADV'), ('<UNK>', 'NOUN'), ('.', 'PUNCT')], [('<UNK>', 'PUNCT'), (',', 'PUNCT'), ('<UNK>', 'NOUN'), ('<UNK>', 'NOUN'), ('<UNK>', 'NOUN'), (',', 'PUNCT'), ('kokios', 'DET'), ('<UNK>', 'PUNCT'), ('<UNK>', 'NOUN'), ('sienos', 'NOUN'), ('ir', 'CCONJ'), ('kiek', 'ADV'), ('daug', 'ADV'), ('<UNK>', 'PUNCT'), ('meno', 'NOUN'), ('kūrinių', 'NOUN'), (',', 'PUNCT'), ('kurie', 'DET'), ('stovi', 'VERB'), ('<UNK>', 'NOUN'), (':', 'PUNCT'), ('<UNK>', 'NOUN'), ('žino', 'VERB'), (',', 'PUNCT'), ('kad', 'SCONJ'), ('bus', 'VERB'), ('tą', 'DET'), ('pačią', 'X'), ('<UNK>', 'PUNCT'), ('griežtai', 'VERB'), ('nubausti', 'VERB'), ('.', 'PUNCT')], [('Ir', 'CCONJ'), ('<UNK>', 'PUNCT'), ('juos', 'PRON'), ('pareigūnai', 'NOUN'), (',', 'PUNCT'), ('<UNK>', 'NOUN'), (',', 'PUNCT'), ('kad', 'SCONJ'), ('<UNK>', 'NOUN'), ('yra', 'AUX'), (',', 'PUNCT'), ('o', 'CCONJ'), ('kultūros', 'NOUN'), ('ir', 'CCONJ'), ('<UNK>', 'NOUN'), ('<UNK>', 'NOUN'), ('tvarkos', 'NOUN'), ('<UNK>', 'NOUN'), ('pasekmė', 'NOUN'), ('.', 'PUNCT')], [('<UNK>', 'PUNCT'), ('<UNK>', 'PUNCT'), ('išvyksta', 'VERB'), ('į', 'ADP'), ('<UNK>', 'NOUN'), ('<UNK>', 'NOUN'), ('<UNK>', 'NOUN'), ('ir', 'CCONJ'), ('JAV', 'X'), (',', 'PUNCT'), ('kur', 'ADV'), ('su', 'ADP'), ('<UNK>', 'NOUN'), ('<UNK>', 'NOUN'), ('<UNK>', 'NOUN'), ('<UNK>', 'NOUN'), ('<UNK>', 'NOUN'), ('<UNK>', 'NOUN'), ('specialiai', 'ADV'), ('jam', 'PRON'), ('<UNK>', 'NOUN'), ('<UNK>', 'NOUN'), ('M', 'X'), ('.', 'PUNCT'), ('<UNK>', 'PUNCT'), (',', 'PUNCT'), ('G', 'ADJ'), ('.', 'PUNCT'), ('<UNK>', 'PUNCT'), ('<UNK>', 'NOUN'), ('.', 'PUNCT')], [('Du', 'NUM'), ('klausimai', 'NOUN'), ('ta', 'NOUN'), ('proga', 'NOUN'), ('man', 'PRON'), ('neduoda', 'VERB'), ('<UNK>', 'NOUN'), (':', 'PUNCT'), ('ar', 'CCONJ'), ('bus', 'VERB'), ('apie', 'ADP'), ('tai', 'DET'), ('rašoma', 'VERB'), ('<UNK>', 'PUNCT'), ('lietuviškų', 'ADJ'), ('<UNK>', 'NOUN'), ('puslapiuose', 'ADJ'), (',', 'PUNCT'), ('kaip', 'SCONJ'), ('buvo', 'AUX'), ('rašoma', 'VERB'), ('<UNK>', 'NOUN'), ('po', 'ADP'), ('mūsų', 'PRON'), ('<UNK>', 'PUNCT'), ('<UNK>', 'NOUN'), ('<UNK>', 'NOUN'), (',', 'PUNCT'), ('ir', 'CCONJ'), ('ar', 'CCONJ'), ('tas', 'DET'), ('<UNK>', 'NOUN'), ('bus', 'VERB'), ('kada', 'ADV'), ('nors', 'X'), ('<UNK>', 'PUNCT'), ('bent', 'PART'), ('jau', 'PART'), ('Vilniuje', 'VERB'), ('?', 'PUNCT')], [('<UNK>', 'PUNCT'), (',', 'PUNCT'), ('<UNK>', 'NOUN'), ('mano', 'PRON'), ('klausimai', 'NOUN'), (',', 'PUNCT'), ('bet', 'CCONJ'), ('geresnių', 'ADJ'), ('šį', 'DET'), ('<UNK>', 'NOUN'), ('<UNK>', 'NOUN'), ('...', 'PUNCT')], [('<UNK>', 'PUNCT'), ('<UNK>', 'PUNCT'), ('gatvės', 'NOUN'), ('<UNK>', 'NOUN'), ('vakar', 'VERB'), ('trūko', 'VERB'), ('<UNK>', 'NOUN'), ('<UNK>', 'NOUN'), ('.', 'PUNCT')], [('<UNK>', 'PUNCT'), ('iš', 'ADP'), ('<UNK>', 'NOUN'), ('vanduo', 'NOUN'), ('<UNK>', 'NOUN'), ('<UNK>', 'NOUN'), (',', 'PUNCT'), ('todėl', 'ADV'), ('<UNK>', 'PUNCT'), ('gatvės', 'NOUN'), ('dalyje', 'NOUN'), ('<UNK>', 'NOUN'), ('<UNK>', 'NOUN'), ('<UNK>', 'NOUN'), ('.', 'PUNCT')], [('<UNK>', 'PUNCT'), ('pasakojo', 'VERB'), (',', 'PUNCT'), ('kad', 'SCONJ'), ('<UNK>', 'NOUN'), ('į', 'ADP'), ('duobę', 'NOUN'), ('buvo', 'AUX'), ('<UNK>', 'NOUN'), ('<UNK>', 'NOUN'), ('automobilis', 'NOUN'), ('.', 'PUNCT')], [('<UNK>', 'PUNCT'), ('<UNK>', 'PUNCT'), (',', 'PUNCT'), ('kad', 'SCONJ'), ('prie', 'ADP'), ('<UNK>', 'NOUN'), ('<UNK>', 'NOUN'), ('<UNK>', 'NOUN'), (',', 'PUNCT'), ('tačiau', 'CCONJ'), ('<UNK>', 'NOUN'), ('jos', 'PRON'), ('<UNK>', 'NOUN'), ('.', 'PUNCT')], [('„', 'PUNCT'), ('<UNK>', 'PUNCT'), ('<UNK>', 'NOUN'), ('trūko', 'VERB'), (',', 'PUNCT'), ('kai', 'SCONJ'), ('jį', 'PRON'), ('<UNK>', 'PUNCT'), ('<UNK>', 'NOUN'), ('<UNK>', 'NOUN'), ('<UNK>', 'NOUN'), ('bendrovės', 'NOUN'), ('<UNK>', 'NOUN'), ('“', 'PUNCT'), (',', 'PUNCT'), ('-', 'PUNCT'), ('<UNK>', 'NOUN'), ('įmonės', 'NOUN'), ('„', 'PUNCT'), ('Kauno', 'NOUN'), ('<UNK>', 'PUNCT'), ('“', 'PUNCT'), ('<UNK>', 'PUNCT'), ('tarnybos', 'NOUN'), ('<UNK>', 'NOUN'), ('<UNK>', 'NOUN'), ('<UNK>', 'NOUN'), ('.', 'PUNCT')], [('Visą', 'DET'), ('dieną', 'NOUN'), ('<UNK>', 'NOUN'), ('darbuotojai', 'NOUN'), ('<UNK>', 'NOUN'), ('<UNK>', 'NOUN'), ('<UNK>', 'NOUN'), (',', 'PUNCT'), ('dėl', 'ADP'), ('to', 'DET'), ('daliai', 'NOUN'), ('<UNK>', 'PUNCT'), ('gyventojų', 'NOUN'), ('vanduo', 'NOUN'), ('nebuvo', 'VERB'), ('<UNK>', 'NOUN'), ('.', 'PUNCT')], [('<UNK>', 'PUNCT'), ('bendruomenės', 'NOUN'), ('centro', 'NOUN'), ('<UNK>', 'NOUN'), ('narė', 'NOUN'), ('Rūta', 'VERB'), ('<UNK>', 'NOUN'), ('sakė', 'VERB'), (',', 'PUNCT'), ('kad', 'SCONJ'), ('<UNK>', 'NOUN'), ('seniai', 'ADV'), ('<UNK>', 'NOUN'), (',', 'PUNCT'), ('kada', 'VERB'), ('bus', 'VERB'), ('<UNK>', 'NOUN'), ('<UNK>', 'NOUN'), ('gatvės', 'NOUN'), ('<UNK>', 'NOUN'), ('.', 'PUNCT')], [('„', 'PUNCT'), ('<UNK>', 'PUNCT'), ('baugina', 'NOUN'), (',', 'PUNCT'), ('kad', 'SCONJ'), ('šioje', 'DET'), ('<UNK>', 'NOUN'), ('<UNK>', 'NOUN'), ('<UNK>', 'NOUN'), ('dar', 'PART'), ('daugiau', 'ADV'), ('<UNK>', 'NOUN'), ('.', 'PUNCT')], [('Kol', 'ADV'), ('vyksta', 'VERB'), ('<UNK>', 'PUNCT'), (',', 'PUNCT'), ('visko', 'PRON'), ('gali', 'VERB'), ('<UNK>', 'NOUN'), (',', 'PUNCT'), ('-', 'PUNCT'), ('kalbėjo', 'VERB'), ('ji', 'PRON'), ('.', 'PUNCT')], [('-', 'PUNCT'), ('<UNK>', 'PUNCT'), ('<UNK>', 'NOUN'), ('taip', 'ADV'), ('pat', 'X'), ('galėtų', 'VERB'), ('geriau', 'ADV'), ('rūpintis', 'VERB'), ('<UNK>', 'PUNCT'), ('<UNK>', 'NOUN'), ('.', 'PUNCT'), ('“', 'PUNCT')], [('<UNK>', 'PUNCT'), ('<UNK>', 'PUNCT'), (',', 'PUNCT'), ('kad', 'SCONJ'), ('iš', 'ADP'), ('<UNK>', 'NOUN'), ('<UNK>', 'NOUN'), ('ilgai', 'ADV'), ('<UNK>', 'NOUN'), ('vanduo', 'NOUN'), ('nebūtų', 'VERB'), ('<UNK>', 'NOUN'), ('daugiau', 'ADV'), ('<UNK>', 'PUNCT'), ('po', 'ADP'), ('visą', 'DET'), ('<UNK>', 'NOUN'), ('.', 'PUNCT')], [('<UNK>', 'PUNCT'), ('<UNK>', 'PUNCT'), ('ūkio', 'NOUN'), ('skyriaus', 'NOUN'), ('pavaduotojas', 'NOUN'), ('<UNK>', 'NOUN'), ('<UNK>', 'NOUN'), ('<UNK>', 'NOUN'), ('nuraminti', 'VERB'), ('<UNK>', 'NOUN'), ('.', 'PUNCT')], [('„', 'PUNCT'), ('Tokių', 'DET'), ('<UNK>', 'PUNCT'), ('miesto', 'NOUN'), ('<UNK>', 'NOUN'), ('<UNK>', 'NOUN'), ('įvyksta', 'VERB'), ('kasdien', 'ADV'), (',', 'PUNCT'), ('-', 'PUNCT'), ('sakė', 'VERB'), ('jis', 'PRON'), ('.', 'PUNCT')], [('-', 'PUNCT'), ('Tikrai', 'ADV'), ('nereikia', 'VERB'), ('<UNK>', 'NOUN'), ('važiuoti', 'VERB'), ('<UNK>', 'NOUN'), ('<UNK>', 'NOUN'), ('.', 'PUNCT'), ('“', 'PUNCT')], [('Kai', 'SCONJ'), ('kurie', 'X'), ('gyventojai', 'X'), ('<UNK>', 'PUNCT'), (',', 'PUNCT'), ('kad', 'SCONJ'), ('<UNK>', 'NOUN'), ('<UNK>', 'NOUN'), ('<UNK>', 'NOUN'), ('nuo', 'ADP'), ('vasaros', 'NOUN'), ('<UNK>', 'NOUN'), ('remonto', 'NOUN'), ('darbai', 'NOUN'), ('.', 'PUNCT')], [('„', 'PUNCT'), ('Iš', 'ADP'), ('pradžių', 'NOUN'), ('apie', 'ADP'), ('mėnesį', 'NOUN'), ('<UNK>', 'PUNCT'), ('<UNK>', 'NOUN'), ('<UNK>', 'NOUN'), ('<UNK>', 'NOUN'), (',', 'PUNCT'), ('dabar', 'ADV'), ('čia', 'ADV'), ('atsiveria', 'VERB'), ('<UNK>', 'NOUN'), ('“', 'PUNCT'), (',', 'PUNCT'), ('-', 'PUNCT'), ('<UNK>', 'NOUN'), ('žmonės', 'NOUN'), ('.', 'PUNCT')], [('Pasak', 'ADP'), ('<UNK>', 'NOUN'), ('.', 'PUNCT'), ('<UNK>', 'NOUN'), (',', 'PUNCT'), ('<UNK>', 'NOUN'), ('<UNK>', 'NOUN'), ('tinklus', 'NOUN'), ('<UNK>', 'NOUN'), ('<UNK>', 'NOUN'), ('„', 'PUNCT'), ('<UNK>', 'PUNCT'), ('“', 'PUNCT'), ('turi', 'VERB'), ('leidimą', 'NOUN'), ('iki', 'ADP'), ('kitų', 'PRON'), ('metų', 'NOUN'), ('pradžios', 'NOUN'), ('.', 'PUNCT')], [('<UNK>', 'PUNCT'), ('kiekvieną', 'X'), ('dieną', 'NOUN'), ('„', 'PUNCT'), ('Kauno', 'NOUN'), ('<UNK>', 'PUNCT'), ('“', 'PUNCT'), ('<UNK>', 'PUNCT'), ('tarnyba', 'NOUN'), ('<UNK>', 'NOUN'), ('iki', 'ADP'), ('40', 'NUM'), ('<UNK>', 'NOUN'), (',', 'PUNCT'), ('nes', 'SCONJ'), ('didžioji', 'ADJ'), ('<UNK>', 'NOUN'), ('dalis', 'NOUN'), ('yra', 'AUX'), ('<UNK>', 'NOUN'), ('.', 'PUNCT')], [('<UNK>', 'PUNCT'), ('.', 'PUNCT')], [('Kauno', 'ADV'), ('miesto', 'NOUN'), ('<UNK>', 'NOUN'), ('<UNK>', 'NOUN'), ('<UNK>', 'NOUN'), ('<UNK>', 'NOUN'), ('turės', 'ADJ'), ('<UNK>', 'NOUN'), ('visuomeninių', 'ADJ'), ('<UNK>', 'NOUN'), ('.', 'PUNCT')], [('Pasak', 'ADP'), ('A', 'X'), ('.', 'PUNCT'), ('<UNK>', 'PUNCT'), (',', 'PUNCT'), ('ant', 'ADP'), ('jo', 'PRON'), ('stalo', 'NOUN'), ('jau', 'ADV'), ('<UNK>', 'NOUN'), ('sąrašas', 'NOUN'), ('žmonių', 'NOUN'), (',', 'PUNCT'), ('kurie', 'DET'), ('jį', 'PRON'), ('<UNK>', 'PUNCT'), ('įvairiais', 'VERB'), ('klausimais', 'NOUN'), (',', 'PUNCT'), ('belieka', 'VERB'), ('tik', 'PART'), ('<UNK>', 'PUNCT'), ('<UNK>', 'NOUN'), ('.', 'PUNCT')], [('<UNK>', 'PUNCT'), ('klausimais', 'NOUN'), ('<UNK>', 'NOUN'), ('patarimus', 'NOUN'), ('dalys', 'NOUN'), ('Lietuvos', 'PROPN'), ('<UNK>', 'NOUN'), ('sąjungos', 'NOUN'), ('Kauno', 'NOUN'), ('skyriaus', 'NOUN'), ('vadovas', 'NOUN'), ('Gintaras', 'NOUN'), ('<UNK>', 'NOUN'), (',', 'PUNCT'), ('verslo', 'NOUN'), ('plėtros', 'NOUN'), ('-', 'PUNCT'), ('Kauno', 'NOUN'), ('<UNK>', 'PUNCT'), (',', 'PUNCT'), ('prekybos', 'NOUN'), ('ir', 'CCONJ'), ('<UNK>', 'NOUN'), ('<UNK>', 'NOUN'), ('<UNK>', 'NOUN'), ('<UNK>', 'NOUN'), ('<UNK>', 'NOUN'), ('bei', 'CCONJ'), ('Kauno', 'NOUN'), ('krašto', 'NOUN'), ('<UNK>', 'NOUN'), ('<UNK>', 'NOUN'), ('<UNK>', 'NOUN'), ('<UNK>', 'NOUN'), ('<UNK>', 'NOUN'), (',', 'PUNCT'), ('akademinės', 'ADJ'), ('bendruomenės', 'NOUN'), ('-', 'PUNCT'), ('Kauno', 'NOUN'), ('<UNK>', 'PUNCT'), ('universiteto', 'NOUN'), ('<UNK>', 'NOUN'), ('pirmininkas', 'NOUN'), ('<UNK>', 'NOUN'), ('<UNK>', 'NOUN'), (',', 'PUNCT'), ('Kauno', 'ADV'), ('<UNK>', 'NOUN'), ('universiteto', 'NOUN'), ('<UNK>', 'NOUN'), ('pirmininkas', 'NOUN'), ('Vilius', 'ADV'), ('<UNK>', 'PUNCT'), (',', 'PUNCT'), ('kultūros', 'NOUN'), ('-', 'PUNCT'), ('<UNK>', 'NOUN'), ('<UNK>', 'NOUN'), ('.', 'PUNCT')], [('<UNK>', 'PUNCT'), ('.', 'PUNCT')], [('<UNK>', 'PUNCT'), ('<UNK>', 'PUNCT'), ('<UNK>', 'NOUN'), ('parengtas', 'VERB'), ('Kauno', 'NOUN'), ('sporto', 'NOUN'), ('<UNK>', 'NOUN'), ('projekto', 'NOUN'), ('<UNK>', 'NOUN'), ('<UNK>', 'NOUN'), ('vakar', 'VERB'), ('pristatytas', 'VERB'), ('<UNK>', 'NOUN'), (',', 'PUNCT'), ('<UNK>', 'NOUN'), ('ministerijoje', 'NOUN'), ('ir', 'CCONJ'), ('Kūno', 'NOUN'), ('kultūros', 'NOUN'), ('bei', 'CCONJ'), ('sporto', 'NOUN'), ('departamente', 'NOUN'), ('.', 'PUNCT')], [('Kauno', 'ADV'), ('miesto', 'NOUN'), ('<UNK>', 'NOUN'), ('<UNK>', 'NOUN'), ('<UNK>', 'NOUN'), ('<UNK>', 'NOUN'), (',', 'PUNCT'), ('kad', 'SCONJ'), ('šalies', 'NOUN'), ('<UNK>', 'NOUN'), ('<UNK>', 'NOUN'), (',', 'PUNCT'), ('jog', 'SCONJ'), ('<UNK>', 'NOUN'), ('vyksta', 'VERB'), ('<UNK>', 'NOUN'), ('darbai', 'NOUN'), ('.', 'PUNCT')], [('<UNK>', 'PUNCT'), ('vadovas', 'NOUN'), ('tikisi', 'PROPN'), (',', 'PUNCT'), ('kad', 'SCONJ'), ('valstybės', 'NOUN'), ('<UNK>', 'NOUN'), ('numatyta', 'VERB'), ('40', 'NUM'), ('milijonų', 'NOUN'), ('litų', 'NOUN'), ('parama', 'NOUN'), ('<UNK>', 'NOUN'), ('.', 'PUNCT')], [('<UNK>', 'PUNCT'), (',', 'PUNCT'), ('kad', 'SCONJ'), ('vien', 'PART'), ('<UNK>', 'NOUN'), ('statyba', 'NOUN'), ('<UNK>', 'PUNCT'), ('<UNK>', 'NOUN'), ('<UNK>', 'NOUN'), ('litų', 'NOUN'), (',', 'PUNCT'), ('o', 'CCONJ'), ('į', 'ADP'), ('infrastruktūrą', 'NOUN'), ('bus', 'AUX'), ('investuoti', 'VERB'), ('dar', 'PART'), ('63', 'VERB'), ('milijonai', 'NUM'), ('litų', 'NOUN'), ('.', 'PUNCT')], [('<UNK>', 'PUNCT'), ('.', 'PUNCT')], [('Kauno', 'ADV'), ('savivaldybės', 'NOUN'), ('<UNK>', 'NOUN'), ('siūlo', 'VERB'), ('efektyviau', 'ADV'), ('panaudoti', 'VERB'), ('patalpas', 'NOUN'), (',', 'PUNCT'), ('kurios', 'DET'), ('skirtos', 'VERB'), ('<UNK>', 'NOUN'), ('„', 'PUNCT'), ('<UNK>', 'PUNCT'), ('“', 'PUNCT'), ('.', 'PUNCT')], [('<UNK>', 'PUNCT'), ('<UNK>', 'PUNCT'), ('visų', 'DET'), ('jiems', 'PRON'), ('skirtų', 'VERB'), ('dviejų', 'PUNCT'), ('tūkstančių', 'NUM'), ('<UNK>', 'NOUN'), ('<UNK>', 'NOUN'), ('ploto', 'NOUN'), ('patalpų', 'NOUN'), ('<UNK>', 'NOUN'), ('<UNK>', 'NOUN'), ('34', 'NOUN'), ('.', 'PUNCT')], [('Čia', 'ADV'), ('kasdien', 'ADV'), ('<UNK>', 'PUNCT'), ('tik', 'PART'), ('apie', 'ADP'), ('13', 'NUM'), ('vaikų', 'NOUN'), ('.', 'PUNCT')], [('„', 'PUNCT'), ('Todėl', 'ADV'), ('dalį', 'NOUN'), ('jiems', 'PRON'), ('skirtų', 'VERB'), ('patalpų', 'NOUN'), ('būtų', 'AUX'), ('galima', 'VERB'), ('skirti', 'VERB'), ('kitoms', 'PRON'), ('<UNK>', 'NOUN'), ('<UNK>', 'NOUN'), (',', 'PUNCT'), ('<UNK>', 'NOUN'), ('žmonių', 'NOUN'), (',', 'PUNCT'), ('vaikų', 'NOUN'), ('iš', 'ADP'), ('rizikos', 'NOUN'), ('grupės', 'NOUN'), ('šeimų', 'NOUN'), ('dienos', 'NOUN'), ('<UNK>', 'NOUN'), ('“', 'PUNCT'), (',', 'PUNCT'), ('-', 'PUNCT'), ('įsitikinęs', 'NOUN'), ('<UNK>', 'NOUN'), ('reikalų', 'NOUN'), ('departamento', 'NOUN'), ('<UNK>', 'NOUN'), ('<UNK>', 'NOUN'), ('<UNK>', 'NOUN'), ('.', 'PUNCT')], [('<UNK>', 'PUNCT'), ('<UNK>', 'PUNCT'), ('ir', 'CCONJ'), ('<UNK>', 'NOUN'), (',', 'PUNCT'), ('jog', 'SCONJ'), ('Kauno', 'NOUN'), ('<UNK>', 'PUNCT'), ('poeto', 'NOUN'), ('<UNK>', 'NOUN'), ('<UNK>', 'NOUN'), ('<UNK>', 'NOUN'), ('išleisti', 'VERB'), ('Europos', 'PROPN'), ('Sąjungos', 'NOUN'), ('<UNK>', 'NOUN'), ('<UNK>', 'NOUN'), ('dešimt', 'NOUN'), ('<UNK>', 'NOUN'), ('litų', 'NOUN'), ('.', 'PUNCT')], [('<UNK>', 'PUNCT'), ('ilgai', 'ADV'), ('<UNK>', 'PUNCT'), (',', 'PUNCT'), ('kokio', 'DET'), ('<UNK>', 'PUNCT'), ('tai', 'DET'), ('turėtų', 'VERB'), ('būti', 'VERB'), ('knyga', 'NOUN'), ('ir', 'CCONJ'), ('iš', 'ADP'), ('kokios', 'DET'), ('<UNK>', 'PUNCT'), ('medžiagos', 'NOUN'), ('bus', 'AUX'), ('jos', 'PRON'), ('viršelis', 'NOUN'), ('.', 'PUNCT')], [('Ir', 'CCONJ'), ('tik', 'PART'), ('tada', 'ADV'), ('sapnas', 'NOUN'), ('<UNK>', 'PUNCT'), (',', 'PUNCT'), ('ir', 'CCONJ'), ('liko', 'VERB'), ('<UNK>', 'NOUN'), ('realybė', 'NOUN'), ('.', 'PUNCT')], [('Knyga', 'NOUN'), ('juk', 'PART'), ('<UNK>', 'PUNCT'), ('<UNK>', 'NOUN'), (',', 'PUNCT'), ('ją', 'PRON'), ('<UNK>', 'NOUN'), ('<UNK>', 'NOUN'), ('<UNK>', 'NOUN'), (',', 'PUNCT'), ('dėl', 'ADP'), ('kurios', 'DET'), ('jau', 'ADV'), ('<UNK>', 'PUNCT'), ('verslo', 'NOUN'), ('<UNK>', 'NOUN'), ('ginklų', 'NOUN'), ('<UNK>', 'NOUN'), ('.', 'PUNCT')], [('<UNK>', 'PUNCT'), ('<UNK>', 'PUNCT'), ('pusės', 'NOUN'), ('kuria', 'VERB'), ('<UNK>', 'NOUN'), ('įtampą', 'NOUN'), (',', 'PUNCT'), ('tad', 'ADV'), ('jei', 'SCONJ'), ('prie', 'ADP'), ('šių', 'DET'), ('<UNK>', 'PUNCT'), ('<UNK>', 'NOUN'), ('būtų', 'AUX'), ('įmanoma', 'VERB'), ('<UNK>', 'NOUN'), ('<UNK>', 'NOUN'), (',', 'PUNCT'), ('<UNK>', 'NOUN'), ('jais', 'ADJ'), ('<UNK>', 'NOUN'), ('jau', 'ADV'), ('dabar', 'ADV'), ('.', 'PUNCT')], [('Kita', 'ADV'), ('vertus', 'X'), (',', 'PUNCT'), ('vėl', 'ADV'), ('atsirado', 'ADV'), ('<UNK>', 'PUNCT'), ('.', 'PUNCT')], [('<UNK>', 'PUNCT'), ('amžinai', 'ADV'), ('Lietuvai', 'ADV'), ('<UNK>', 'NOUN'), ('ir', 'CCONJ'), ('<UNK>', 'NOUN'), ('.', 'PUNCT')], [('O', 'CCONJ'), ('turėtų', 'VERB'), (',', 'PUNCT'), ('nes', 'SCONJ'), ('būtent', 'VERB'), ('lietuviai', 'NOUN'), ('tais', 'NOUN'), ('metais', 'NOUN'), ('<UNK>', 'NOUN'), ('<UNK>', 'NOUN'), ('ir', 'CCONJ'), ('dar', 'PART'), ('<UNK>', 'PUNCT'), ('ką', 'PRON'), ('ten', 'ADV'), ('veikė', 'VERB'), ('.', 'PUNCT')], [('Jei', 'SCONJ'), ('būtų', 'AUX'), ('<UNK>', 'PUNCT'), ('ligi', 'ADJ'), ('šiol', 'X'), (',', 'PUNCT'), ('ten', 'PART'), (',', 'PUNCT'), ('manau', 'VERB'), (',', 'PUNCT'), ('ir', 'CCONJ'), ('būtų', 'AUX'), ('<UNK>', 'NOUN'), ('<UNK>', 'NOUN'), ('<UNK>', 'NOUN'), ('<UNK>', 'NOUN'), ('<UNK>', 'NOUN'), ('.', 'PUNCT')], [('<UNK>', 'PUNCT'), ('jam', 'PRON'), ('ir', 'CCONJ'), ('vieta', 'NOUN'), (',', 'PUNCT'), ('nors', 'SCONJ'), ('kai', 'SCONJ'), ('kas', 'PRON'), ('gal', 'PART'), ('mano', 'PRON'), (',', 'PUNCT'), ('jog', 'SCONJ'), ('<UNK>', 'PUNCT'), ('nors', 'X'), ('„', 'PUNCT'), ('<UNK>', 'PUNCT'), ('“', 'PUNCT'), ('.', 'PUNCT')], [('Tiek', 'VERB'), ('to', 'DET'), (',', 'PUNCT'), ('<UNK>', 'PUNCT'), ('<UNK>', 'NOUN'), (',', 'PUNCT'), ('kuris', 'DET'), ('prie', 'ADP'), ('<UNK>', 'PUNCT'), ('<UNK>', 'NOUN'), (',', 'PUNCT'), ('<UNK>', 'NOUN'), ('P', 'ADV'), ('.', 'PUNCT'), ('<UNK>', 'PUNCT'), ('knyga', 'NOUN'), ('taip', 'ADV'), ('ir', 'PART'), ('nebus', 'VERB'), ('išleista', 'VERB'), (',', 'PUNCT'), ('nors', 'SCONJ'), ('labai', 'ADV'), ('norėtųsi', 'VERB'), (',', 'PUNCT'), ('o', 'CCONJ'), ('mes', 'PRON'), ('už', 'ADP'), ('<UNK>', 'NOUN'), ('ir', 'CCONJ'), ('toliau', 'ADV'), ('<UNK>', 'PUNCT'), ('vis', 'ADV'), ('daugiau', 'ADV'), (',', 'PUNCT'), ('nes', 'SCONJ'), ('vis', 'ADV'), ('<UNK>', 'NOUN'), ('mūsų', 'PRON'), ('<UNK>', 'NOUN'), ('ji', 'PRON'), ('<UNK>', 'NOUN'), ('.', 'PUNCT')], [('Yra', 'VERB'), ('ir', 'PART'), ('<UNK>', 'NOUN'), ('dalykų', 'NOUN'), ('.', 'PUNCT')], [('Kauno', 'ADV'), ('<UNK>', 'PUNCT'), (',', 'PUNCT'), ('visus', 'DET'), ('<UNK>', 'NOUN'), ('<UNK>', 'NOUN'), ('<UNK>', 'NOUN'), ('Nemuno', 'PROPN'), ('<UNK>', 'NOUN'), ('<UNK>', 'NOUN'), (',', 'PUNCT'), ('staiga', 'VERB'), ('<UNK>', 'NOUN'), ('visą', 'DET'), ('<UNK>', 'NOUN'), ('<UNK>', 'NOUN'), ('-', 'PUNCT'), ('gal', 'PART'), ('ką', 'PRON'), ('gero', 'VERB'), ('<UNK>', 'PUNCT'), ('.', 'PUNCT')], [('Net', 'VERB'), ('<UNK>', 'PUNCT'), ('ankstesnių', 'ADJ'), ('Kauno', 'NOUN'), ('<UNK>', 'PUNCT'), ('planų', 'NOUN'), ('<UNK>', 'NOUN'), ('A', 'X'), ('.', 'PUNCT'), ('<UNK>', 'PUNCT'), ('buvo', 'AUX'), ('<UNK>', 'NOUN'), ('.', 'PUNCT')], [('<UNK>', 'PUNCT'), ('.', 'PUNCT')], [('<UNK>', 'PUNCT'), ('.', 'PUNCT')], [('<UNK>', 'PUNCT'), ('.', 'PUNCT')], [('Tačiau', 'CCONJ'), ('<UNK>', 'PUNCT'), ('<UNK>', 'NOUN'), ('irgi', 'ADV'), (',', 'PUNCT'), ('<UNK>', 'NOUN'), (',', 'PUNCT'), ('„', 'PUNCT'), ('<UNK>', 'PUNCT'), ('“', 'PUNCT'), ('su', 'ADP'), ('<UNK>', 'PUNCT'), ('.', 'PUNCT')], [('Tik', 'PART'), ('po', 'ADP'), ('to', 'DET'), ('būdavo', 'PART'), ('kaip', 'SCONJ'), ('buvę', 'VERB'), ('.', 'PUNCT')], [('<UNK>', 'PUNCT'), (',', 'PUNCT'), ('tiesą', 'NOUN'), ('sakant', 'VERB'), ('.', 'PUNCT')], [('Jei', 'SCONJ'), ('<UNK>', 'PUNCT'), ('<UNK>', 'NOUN'), ('<UNK>', 'NOUN'), ('kitaip', 'ADV'), (',', 'PUNCT'), ('pirmas', 'NUM'), ('<UNK>', 'NOUN'), ('<UNK>', 'NOUN'), ('jam', 'PRON'), ('ranką', 'NOUN'), ('.', 'PUNCT')], [('<UNK>', 'PUNCT'), ('<UNK>', 'PUNCT'), ('ir', 'CCONJ'), ('<UNK>', 'NOUN'), ('jo', 'PRON'), ('<UNK>', 'NOUN'), ('į', 'ADP'), ('Nemuno', 'PROPN'), ('<UNK>', 'NOUN'), (',', 'PUNCT'), ('tačiau', 'CCONJ'), ('esu', 'PRON'), ('ten', 'ADV'), ('<UNK>', 'NOUN'), ('ir', 'CCONJ'), ('negaliu', 'VERB'), ('<UNK>', 'NOUN'), ('<UNK>', 'NOUN'), ('<UNK>', 'NOUN'), ('.', 'PUNCT')], [('<UNK>', 'PUNCT'), ('atsigauti', 'NOUN'), ('<UNK>', 'NOUN'), ('ši', 'DET'), ('vieta', 'NOUN'), (',', 'PUNCT'), ('regis', 'VERB'), (',', 'PUNCT'), ('turėtų', 'VERB'), ('<UNK>', 'NOUN'), ('<UNK>', 'NOUN'), (',', 'PUNCT'), ('ne', 'PART'), ('<UNK>', 'NOUN'), ('.', 'PUNCT')], [('Ir', 'CCONJ'), ('tai', 'DET'), ('visai', 'ADV'), ('nereiškia', 'VERB'), (',', 'PUNCT'), ('jog', 'SCONJ'), ('<UNK>', 'NOUN'), ('<UNK>', 'NOUN'), ('prie', 'ADP'), ('to', 'DET'), ('<UNK>', 'PUNCT'), ('<UNK>', 'NOUN'), ('.', 'PUNCT')], [('Ne', 'PART'), (',', 'PUNCT'), ('<UNK>', 'PUNCT'), ('savo', 'PRON'), ('<UNK>', 'NOUN'), ('kitur', 'NOUN'), (',', 'PUNCT'), ('vietos', 'NOUN'), ('dar', 'ADV'), ('yra', 'AUX'), ('.', 'PUNCT')], [('O', 'CCONJ'), ('štai', 'PART'), ('<UNK>', 'PUNCT'), ('<UNK>', 'NOUN'), ('<UNK>', 'NOUN'), ('atsirado', 'VERB'), ('<UNK>', 'NOUN'), ('.', 'PUNCT')], [('<UNK>', 'PUNCT'), (',', 'PUNCT'), ('saldus', 'NUM'), (',', 'PUNCT'), ('<UNK>', 'NOUN'), ('.', 'PUNCT')], [('Man', 'PRON'), ('<UNK>', 'PUNCT'), (',', 'PUNCT'), ('nes', 'SCONJ'), ('toks', 'DET'), ('ir', 'PART'), ('<UNK>', 'NOUN'), ('<UNK>', 'NOUN'), ('.', 'PUNCT')], [('Tiesa', 'NOUN'), (',', 'PUNCT'), ('vieta', 'NOUN'), ('ne', 'PART'), ('itin', 'ADV'), ('<UNK>', 'NOUN'), ('.', 'PUNCT')], [('<UNK>', 'PUNCT'), ('šiek', 'ADV'), ('tiek', 'ADV'), ('iš', 'ADP'), ('mėnulio', 'NOUN'), ('<UNK>', 'NOUN'), ('.', 'PUNCT')], [('Bet', 'CCONJ'), ('-', 'PUNCT'), ('ką', 'PRON'), ('jau', 'ADV'), ('čia', 'ADV'), ('.', 'PUNCT')], [('Daug', 'ADV'), ('geriau', 'ADV'), ('už', 'ADP'), ('<UNK>', 'NOUN'), ('<UNK>', 'NOUN'), ('lyg', 'ADJ'), ('<UNK>', 'NOUN'), ('<UNK>', 'NOUN'), ('M', 'X'), ('.', 'PUNCT'), ('<UNK>', 'PUNCT'), ('.', 'PUNCT')], [('<UNK>', 'PUNCT'), (',', 'PUNCT'), ('nors', 'SCONJ'), ('<UNK>', 'PUNCT'), (',', 'PUNCT'), ('manau', 'VERB'), (',', 'PUNCT'), ('<UNK>', 'NOUN'), (',', 'PUNCT'), ('kur', 'ADV'), ('stovi', 'VERB'), ('ir', 'CCONJ'), ('kaip', 'SCONJ'), ('atrodo', 'VERB'), (',', 'PUNCT'), ('<UNK>', 'NOUN'), ('ligi', 'VERB'), ('žemės', 'NOUN'), ('<UNK>', 'NOUN'), ('.', 'PUNCT')], [('<UNK>', 'PUNCT'), ('<UNK>', 'PUNCT'), ('bent', 'PART'), ('<UNK>', 'PUNCT'), ('metu', 'NOUN'), ('turėtų', 'VERB'), ('<UNK>', 'NOUN'), ('-', 'PUNCT'), ('<UNK>', 'NOUN'), ('ir', 'CCONJ'), ('<UNK>', 'NOUN'), ('derybos', 'NOUN'), ('<UNK>', 'NOUN'), ('.', 'PUNCT')], [('<UNK>', 'PUNCT'), ('didelių', 'ADJ'), ('<UNK>', 'NOUN'), ('<UNK>', 'NOUN'), (',', 'PUNCT'), ('todėl', 'ADV'), ('<UNK>', 'NOUN'), ('<UNK>', 'NOUN'), ('<UNK>', 'NOUN'), ('.', 'PUNCT')], [('Po', 'ADP'), ('<UNK>', 'PUNCT'), ('trečiadienį', 'NOUN'), ('<UNK>', 'NOUN'), ('Prancūzijos', 'PROPN'), ('<UNK>', 'NOUN'), ('ir', 'CCONJ'), ('<UNK>', 'NOUN'), ('<UNK>', 'NOUN'), (',', 'PUNCT'), ('valdžios', 'NOUN'), ('atstovai', 'NOUN'), ('<UNK>', 'NOUN'), (',', 'PUNCT'), ('kad', 'SCONJ'), ('<UNK>', 'NOUN'), ('daryti', 'VERB'), ('<UNK>', 'NOUN'), ('dėl', 'ADP'), ('pensijų', 'NOUN'), ('reformos', 'NOUN'), ('.', 'PUNCT')], [('Pagal', 'ADP'), ('<UNK>', 'PUNCT'), ('tvarką', 'NOUN'), ('<UNK>', 'NOUN'), ('į', 'ADP'), ('<UNK>', 'NOUN'), ('turės', 'VERB'), ('<UNK>', 'NOUN'), ('<UNK>', 'NOUN'), ('metų', 'NOUN'), ('vėliau', 'ADV'), ('nei', 'SCONJ'), ('<UNK>', 'NOUN'), ('iki', 'ADP'), ('šiol', 'X'), (',', 'PUNCT'), ('ir', 'CCONJ'), ('<UNK>', 'NOUN'), ('dėl', 'ADP'), ('to', 'DET'), ('sako', 'VERB'), ('<UNK>', 'NOUN'), ('.', 'PUNCT')], [('Tiesa', 'NOUN'), (',', 'PUNCT'), ('vyriausybė', 'NOUN'), ('<UNK>', 'NOUN'), (',', 'PUNCT'), ('kad', 'SCONJ'), ('<UNK>', 'NOUN'), ('<UNK>', 'NOUN'), ('numatoma', 'VERB'), ('šiek', 'ADV'), ('tiek', 'ADV'), ('<UNK>', 'PUNCT'), ('.', 'PUNCT')], [('Į', 'ADP'), ('<UNK>', 'PUNCT'), ('<UNK>', 'NOUN'), ('<UNK>', 'NOUN'), ('trečiadienį', 'NOUN'), ('<UNK>', 'NOUN'), ('ir', 'CCONJ'), ('kavinių', 'NOUN'), (',', 'PUNCT'), ('<UNK>', 'NOUN'), (',', 'PUNCT'), ('<UNK>', 'NOUN'), ('<UNK>', 'NOUN'), ('bei', 'CCONJ'), ('darbuotojai', 'NOUN'), ('.', 'PUNCT')], [('<UNK>', 'PUNCT'), ('<UNK>', 'PUNCT'), ('iš', 'ADP'), ('<UNK>', 'NOUN'), ('<UNK>', 'NOUN'), ('<UNK>', 'NOUN'), ('<UNK>', 'NOUN'), ('Prancūzijos', 'PROPN'), ('parlamento', 'NOUN'), ('link', 'ADP'), ('.', 'PUNCT')], [('Jie', 'PRON'), ('<UNK>', 'PUNCT'), (',', 'PUNCT'), ('kad', 'SCONJ'), ('būtų', 'AUX'), ('<UNK>', 'PUNCT'), ('nuo', 'ADP'), ('kitų', 'PRON'), ('metų', 'NOUN'), ('pradžios', 'NOUN'), ('<UNK>', 'PUNCT'), ('draudimo', 'ADJ'), ('<UNK>', 'NOUN'), ('<UNK>', 'NOUN'), ('ir', 'CCONJ'), ('<UNK>', 'NOUN'), ('sąlygos', 'NOUN'), ('.', 'PUNCT')], [('<UNK>', 'PUNCT'), ('ir', 'CCONJ'), ('studentai', 'NOUN'), (',', 'PUNCT'), ('<UNK>', 'NOUN'), ('prieš', 'ADP'), ('didesnę', 'ADJ'), ('universitetų', 'NOUN'), ('<UNK>', 'NOUN'), ('.', 'PUNCT')], [('<UNK>', 'PUNCT'), ('<UNK>', 'PUNCT'), ('<UNK>', 'NOUN'), ('ar', 'CCONJ'), ('<UNK>', 'NOUN'), ('mastu', 'NOUN'), ('buvo', 'AUX'), ('<UNK>', 'NOUN'), ('35', 'NOUN'), ('universitetų', 'NOUN'), ('darbas', 'NOUN'), (',', 'PUNCT'), ('<UNK>', 'NOUN'), ('buvo', 'AUX'), ('visai', 'ADV'), ('<UNK>', 'PUNCT'), ('.', 'PUNCT')], [('Trečiadienį', 'NOUN'), ('<UNK>', 'PUNCT'), ('vyko', 'VERB'), ('dar', 'PART'), ('viena', 'PRON'), ('<UNK>', 'NOUN'), ('-', 'PUNCT'), ('jos', 'PRON'), ('dalyviai', 'NOUN'), ('<UNK>', 'NOUN'), ('prieš', 'ADP'), ('kai', 'PRON'), ('kurių', 'X'), ('<UNK>', 'PUNCT'), ('teismų', 'NOUN'), ('Prancūzijos', 'PROPN'), ('regionuose', 'NOUN'), ('<UNK>', 'NOUN'), ('.', 'PUNCT')], [('Kiek', 'ADV'), ('anksčiau', 'ADV'), ('į', 'ADP'), ('<UNK>', 'NOUN'), ('<UNK>', 'NOUN'), ('buvo', 'AUX'), ('<UNK>', 'NOUN'), ('pašto', 'NOUN'), ('darbuotojai', 'NOUN'), (',', 'PUNCT'), ('<UNK>', 'NOUN'), (',', 'PUNCT'), ('<UNK>', 'NOUN'), ('<UNK>', 'NOUN'), ('ir', 'CCONJ'), ('<UNK>', 'NOUN'), ('<UNK>', 'NOUN'), ('.', 'PUNCT')], [('Su', 'ADP'), ('<UNK>', 'PUNCT'), ('drauge', 'ADV'), ('<UNK>', 'NOUN'), ('<UNK>', 'NOUN'), ('<UNK>', 'NOUN'), ('<UNK>', 'NOUN'), ('E', 'VERB'), ('.', 'PUNCT'), ('<UNK>', 'NOUN'), ('išgyvena', 'NOUN'), ('sunkų', 'ADJ'), ('laikotarpį', 'NOUN'), ('-', 'PUNCT'), ('jį', 'PRON'), ('kankina', 'ADJ'), ('<UNK>', 'NOUN'), ('ir', 'CCONJ'), ('įvairūs', 'ADJ'), ('<UNK>', 'NOUN'), ('.', 'PUNCT')], [('Tačiau', 'CCONJ'), ('<UNK>', 'PUNCT'), ('<UNK>', 'NOUN'), ('<UNK>', 'NOUN'), (':', 'PUNCT'), ('<UNK>', 'NOUN'), ('į', 'ADP'), ('<UNK>', 'NOUN'), ('Lietuvoje', 'PROPN'), ('<UNK>', 'NOUN'), ('per', 'ADP'), ('penkias', 'NOUN'), ('dienas', 'NOUN'), ('.', 'PUNCT')], [('<UNK>', 'PUNCT'), ('<UNK>', 'PUNCT'), ('E', 'VERB'), ('.', 'PUNCT'), ('<UNK>', 'PUNCT'), ('<UNK>', 'NOUN'), ('<UNK>', 'NOUN'), ('<UNK>', 'NOUN'), ('<UNK>', 'NOUN'), ('.', 'PUNCT')], [('„', 'PUNCT'), ('<UNK>', 'PUNCT'), ('“', 'PUNCT'), ('<UNK>', 'PUNCT'), ('<UNK>', 'NOUN'), ('ne', 'PART'), ('tik', 'PART'), ('<UNK>', 'PUNCT'), ('<UNK>', 'NOUN'), ('„', 'PUNCT'), ('<UNK>', 'PUNCT'), ('“', 'PUNCT'), ('<UNK>', 'PUNCT'), (',', 'PUNCT'), ('bet', 'CCONJ'), ('ir', 'PART'), ('seni', 'ADJ'), (',', 'PUNCT'), ('laiko', 'NOUN'), ('patikrinti', 'VERB'), ('<UNK>', 'NOUN'), ('.', 'PUNCT')], [('<UNK>', 'PUNCT'), ('<UNK>', 'PUNCT'), (':', 'PUNCT'), ('tai', 'DET'), ('<UNK>', 'NOUN'), ('metų', 'NOUN'), ('<UNK>', 'NOUN'), ('Lietuvoje', 'PROPN'), ('.', 'PUNCT')], [('<UNK>', 'PUNCT'), ('<UNK>', 'PUNCT'), (',', 'PUNCT'), ('<UNK>', 'NOUN'), ('pasaulyje', 'NOUN'), ('<UNK>', 'NOUN'), ('ir', 'CCONJ'), ('garso', 'NOUN'), ('sistema', 'NOUN'), ('geriausiai', 'VERB'), ('kalba', 'NOUN'), ('apie', 'ADP'), ('<UNK>', 'PUNCT'), ('mastą', 'NOUN'), ('.', 'PUNCT')], [('<UNK>', 'PUNCT'), ('<UNK>', 'PUNCT'), (',', 'PUNCT'), ('<UNK>', 'NOUN'), ('<UNK>', 'NOUN'), ('<UNK>', 'NOUN'), (',', 'PUNCT'), ('40', 'NUM'), ('milijonų', 'NOUN'), ('<UNK>', 'NOUN'), ('<UNK>', 'NOUN'), ('<UNK>', 'NOUN'), ('ir', 'CCONJ'), ('26', 'ADJ'), ('<UNK>', 'NOUN'), ('<UNK>', 'NOUN'), ('-', 'PUNCT'), ('<UNK>', 'NOUN'), ('ne', 'PART'), ('mažiau', 'ADV'), ('<UNK>', 'PUNCT'), ('ir', 'CCONJ'), ('visame', 'VERB'), ('pasaulyje', 'NOUN'), ('.', 'PUNCT')], [('<UNK>', 'PUNCT'), ('darbo', 'NOUN'), ('<UNK>', 'NOUN'), ('Irena', 'VERB'), ('ir', 'CCONJ'), ('<UNK>', 'NOUN'), ('<UNK>', 'NOUN'), ('<UNK>', 'NOUN'), ('<UNK>', 'NOUN'), ('<UNK>', 'NOUN'), ('.', 'PUNCT')], [('Ant', 'ADP'), ('<UNK>', 'PUNCT'), ('stalo', 'NOUN'), ('<UNK>', 'NOUN'), ('<UNK>', 'NOUN'), ('<UNK>', 'NOUN'), (',', 'PUNCT'), ('ant', 'ADP'), ('jų', 'PRON'), ('<UNK>', 'NOUN'), ('naujus', 'ADJ'), ('<UNK>', 'NOUN'), ('.', 'PUNCT')], [('<UNK>', 'PUNCT'), ('rytą', 'NOUN'), ('<UNK>', 'NOUN'), ('<UNK>', 'NOUN'), ('į', 'ADP'), ('<UNK>', 'NOUN'), ('ir', 'CCONJ'), ('išvyksta', 'VERB'), ('į', 'ADP'), ('kelionę', 'NOUN'), ('po', 'ADP'), ('<UNK>', 'NOUN'), ('Lietuvos', 'PROPN'), ('vietas', 'NOUN'), ('.', 'PUNCT')], [('„', 'PUNCT'), ('Ir', 'CCONJ'), ('taip', 'ADV'), ('jau', 'ADV'), ('<UNK>', 'PUNCT'), ('metus', 'NOUN'), (',', 'PUNCT'), ('-', 'PUNCT'), ('<UNK>', 'NOUN'), ('<UNK>', 'NOUN'), ('.', 'PUNCT')], [('-', 'PUNCT'), ('Tačiau', 'CCONJ'), ('prie', 'ADP'), ('<UNK>', 'PUNCT'), ('<UNK>', 'NOUN'), ('ir', 'CCONJ'), ('<UNK>', 'NOUN'), ('kasmet', 'VERB'), ('<UNK>', 'NOUN'), ('vis', 'ADV'), ('daugiau', 'ADV'), ('bendraminčių', 'NOUN'), ('.', 'PUNCT'), ('“', 'PUNCT')], [('<UNK>', 'PUNCT'), ('gerai', 'ADV'), ('<UNK>', 'NOUN'), ('Lietuvą', 'VERB'), ('-', 'PUNCT'), ('beveik', 'ADV'), ('kiekvieną', 'X'), ('<UNK>', 'PUNCT'), ('ieško', 'VERB'), ('<UNK>', 'NOUN'), ('<UNK>', 'NOUN'), (',', 'PUNCT'), ('istorinių', 'ADJ'), ('<UNK>', 'NOUN'), ('<UNK>', 'NOUN'), ('bei', 'CCONJ'), ('<UNK>', 'NOUN'), ('<UNK>', 'NOUN'), ('.', 'PUNCT')], [('<UNK>', 'PUNCT'), ('pateikiama', 'VERB'), ('daug', 'ADV'), ('informacijos', 'NOUN'), ('apie', 'ADP'), ('<UNK>', 'PUNCT'), ('<UNK>', 'NOUN'), (',', 'PUNCT'), ('tačiau', 'CCONJ'), ('<UNK>', 'NOUN'), ('retai', 'ADV'), ('juos', 'PRON'), ('<UNK>', 'NOUN'), ('.', 'PUNCT')], [('„', 'PUNCT'), ('Iš', 'ADP'), ('pradžių', 'NOUN'), ('<UNK>', 'PUNCT'), (',', 'PUNCT'), ('į', 'ADP'), ('kurį', 'DET'), ('Lietuvos', 'PROPN'), ('<UNK>', 'NOUN'), ('<UNK>', 'NOUN'), ('.', 'PUNCT')], [('<UNK>', 'PUNCT'), ('ir', 'CCONJ'), ('<UNK>', 'NOUN'), ('ieškome', 'ADJ'), ('<UNK>', 'NOUN'), ('vietų', 'NOUN'), (',', 'PUNCT'), ('-', 'PUNCT'), ('kaip', 'SCONJ'), ('<UNK>', 'NOUN'), ('<UNK>', 'NOUN'), ('pasakojo', 'NOUN'), ('<UNK>', 'NOUN'), ('.', 'PUNCT')], [('-', 'PUNCT'), ('<UNK>', 'PUNCT'), ('<UNK>', 'NOUN'), ('<UNK>', 'NOUN'), ('žemėlapių', 'NOUN'), ('<UNK>', 'NOUN'), ('.', 'PUNCT')], [('<UNK>', 'PUNCT'), ('<UNK>', 'PUNCT'), ('anksčiau', 'ADV'), ('<UNK>', 'NOUN'), ('<UNK>', 'NOUN'), ('ir', 'CCONJ'), ('<UNK>', 'NOUN'), ('.', 'PUNCT')], [('<UNK>', 'PUNCT'), ('<UNK>', 'PUNCT'), ('reikia', 'VERB'), ('suprasti', 'VERB'), (',', 'PUNCT'), ('<UNK>', 'NOUN'), ('<UNK>', 'NOUN'), ('<UNK>', 'NOUN'), ('.', 'PUNCT')], [('Kai', 'SCONJ'), ('<UNK>', 'PUNCT'), ('<UNK>', 'NOUN'), (',', 'PUNCT'), ('<UNK>', 'NOUN'), ('dabartinį', 'ADJ'), ('<UNK>', 'NOUN'), ('ir', 'CCONJ'), ('<UNK>', 'NOUN'), ('ieškoti', 'VERB'), ('<UNK>', 'NOUN'), ('.', 'PUNCT'), ('“', 'PUNCT')], [('Kartais', 'PROPN'), ('jie', 'PRON'), ('<UNK>', 'PUNCT'), ('vien', 'PART'), ('<UNK>', 'NOUN'), ('ir', 'CCONJ'), ('<UNK>', 'NOUN'), ('.', 'PUNCT')], [('<UNK>', 'PUNCT'), ('<UNK>', 'PUNCT'), ('<UNK>', 'NOUN'), ('B', 'VERB'), ('grupės', 'NOUN'), ('<UNK>', 'NOUN'), ('<UNK>', 'NOUN'), ('savo', 'PRON'), ('<UNK>', 'NOUN'), ('<UNK>', 'NOUN'), ('<UNK>', 'NOUN'), ('iš', 'ADP'), ('<UNK>', 'NOUN'), ('70', 'NOUN'), (':', 'PUNCT'), ('77', 'NUM'), ('.', 'PUNCT')], [('Pasak', 'ADP'), ('A', 'X'), ('.', 'PUNCT'), ('<UNK>', 'PUNCT'), (',', 'PUNCT'), ('viena', 'PRON'), ('pralaimėjimų', 'NOUN'), ('priežasčių', 'NOUN'), ('-', 'PUNCT'), ('<UNK>', 'PUNCT'), ('<UNK>', 'NOUN'), ('<UNK>', 'NOUN'), ('<UNK>', 'NOUN'), ('<UNK>', 'NOUN'), ('<UNK>', 'NOUN'), ('dalyje', 'NOUN'), (',', 'PUNCT'), ('neišvengta', 'VERB'), ('klaidų', 'NOUN'), ('<UNK>', 'NOUN'), ('.', 'PUNCT')], [('Jis', 'PRON'), ('<UNK>', 'PUNCT'), (',', 'PUNCT'), ('kad', 'SCONJ'), ('dėl', 'ADP'), ('traumos', 'NOUN'), ('negalėjo', 'VERB'), ('<UNK>', 'PUNCT'), ('<UNK>', 'NOUN'), ('<UNK>', 'NOUN'), (',', 'PUNCT'), ('o', 'CCONJ'), ('kai', 'PRON'), ('kurie', 'X'), ('<UNK>', 'PUNCT'), ('„', 'PUNCT'), ('<UNK>', 'PUNCT'), ('net', 'PART'), ('60', 'NUM'), ('procentų', 'NOUN'), ('savo', 'PRON'), ('galimybių', 'NOUN'), ('“', 'PUNCT'), ('.', 'PUNCT')], [('„', 'PUNCT'), ('<UNK>', 'PUNCT'), ('buvo', 'AUX'), ('sunku', 'ADJ'), ('<UNK>', 'NOUN'), ('grumtis', 'VERB'), ('su', 'ADP'), ('<UNK>', 'NOUN'), ('<UNK>', 'NOUN'), ('<UNK>', 'NOUN'), ('.', 'PUNCT')], [('<UNK>', 'PUNCT'), ('bei', 'CCONJ'), ('<UNK>', 'NOUN'), ('ką', 'PRON'), ('tik', 'PART'), ('<UNK>', 'PUNCT'), ('po', 'ADP'), ('<UNK>', 'PUNCT'), (',', 'PUNCT'), ('todėl', 'ADV'), ('kol', 'ADV'), ('kas', 'PRON'), ('iš', 'ADP'), ('jų', 'PRON'), ('nereikėtų', 'VERB'), ('tikėtis', 'VERB'), ('kažko', 'VERB'), ('<UNK>', 'NOUN'), ('“', 'PUNCT'), (',', 'PUNCT'), ('-', 'PUNCT'), ('<UNK>', 'NOUN'), ('<UNK>', 'NOUN'), ('.', 'PUNCT')], [('„', 'PUNCT'), ('<UNK>', 'PUNCT'), ('<UNK>', 'NOUN'), ('“', 'PUNCT'), ('<UNK>', 'PUNCT'), ('<UNK>', 'NOUN'), ('<UNK>', 'NOUN'), ('spaudos', 'NOUN'), ('konferenciją', 'NOUN'), ('<UNK>', 'NOUN'), ('<UNK>', 'NOUN'), ('-', 'PUNCT'), ('„', 'PUNCT'), ('<UNK>', 'PUNCT'), (',', 'PUNCT'), ('kaip', 'SCONJ'), ('<UNK>', 'NOUN'), ('?', 'PUNCT'), ('“', 'PUNCT'), ('-', 'PUNCT'), ('ir', 'CCONJ'), ('<UNK>', 'NOUN'), (',', 'PUNCT'), ('anot', 'ADP'), ('jo', 'PRON'), (',', 'PUNCT'), ('„', 'PUNCT'), ('<UNK>', 'PUNCT'), ('<UNK>', 'NOUN'), ('“', 'PUNCT'), ('.', 'PUNCT')], [('Prie', 'ADP'), ('„', 'PUNCT'), ('<UNK>', 'PUNCT'), ('2008', 'NUM'), ('“', 'PUNCT'), ('<UNK>', 'PUNCT'), ('<UNK>', 'NOUN'), ('ir', 'CCONJ'), ('<UNK>', 'NOUN'), ('<UNK>', 'NOUN'), ('<UNK>', 'NOUN'), ('dar', 'PART'), ('<UNK>', 'PUNCT'), ('<UNK>', 'NOUN'), ('-', 'PUNCT'), ('po', 'ADP'), ('dvi', 'NUM'), ('<UNK>', 'PUNCT'), ('iš', 'ADP'), ('septynių', 'NOUN'), ('atrankos', 'NOUN'), ('grupių', 'NOUN'), ('.', 'PUNCT')], [('<UNK>', 'PUNCT'), ('<UNK>', 'PUNCT'), ('-', 'PUNCT'), ('už', 'ADP'), ('<UNK>', 'PUNCT'), ('<UNK>', 'NOUN'), ('<UNK>', 'NOUN'), ('<UNK>', 'NOUN'), ('.', 'PUNCT')], [('<UNK>', 'PUNCT'), ('E', 'VERB'), ('grupės', 'NOUN'), ('<UNK>', 'NOUN'), ('<UNK>', 'NOUN'), ('<UNK>', 'NOUN'), ('<UNK>', 'NOUN'), ('<UNK>', 'NOUN'), ('su', 'ADP'), ('<UNK>', 'NOUN'), ('ir', 'CCONJ'), ('jie', 'PRON'), ('buvo', 'AUX'), ('netoli', 'ADV'), ('tikslo', 'VERB'), (',', 'PUNCT'), ('tačiau', 'CCONJ'), ('<UNK>', 'NOUN'), ('<UNK>', 'NOUN'), ('<UNK>', 'NOUN'), ('<UNK>', 'NOUN'), ('<UNK>', 'NOUN'), ('(', 'PUNCT'), ('2', 'NUM'), (':', 'PUNCT'), ('2', 'NUM'), (')', 'PUNCT'), ('<UNK>', 'PUNCT'), ('<UNK>', 'NOUN'), ('<UNK>', 'NOUN'), (',', 'PUNCT'), ('<UNK>', 'NOUN'), ('<UNK>', 'NOUN'), ('<UNK>', 'NOUN'), ('<UNK>', 'NOUN'), ('.', 'PUNCT')], [('<UNK>', 'PUNCT'), ('<UNK>', 'PUNCT'), ('<UNK>', 'NOUN'), ('<UNK>', 'NOUN'), ('<UNK>', 'NOUN'), ('ir', 'CCONJ'), ('<UNK>', 'NOUN'), ('<UNK>', 'NOUN'), ('<UNK>', 'NOUN'), ('A', 'X'), ('grupėje', 'NOUN'), (',', 'PUNCT'), ('kurioje', 'DET'), ('dėl', 'ADP'), ('politinių', 'ADJ'), ('<UNK>', 'NOUN'), ('<UNK>', 'NOUN'), ('<UNK>', 'NOUN'), ('<UNK>', 'NOUN'), ('ir', 'CCONJ'), ('<UNK>', 'NOUN'), ('<UNK>', 'NOUN'), ('.', 'PUNCT')], [('<UNK>', 'PUNCT'), ('nuo', 'ADP'), ('<UNK>', 'PUNCT'), ('<UNK>', 'NOUN'), ('ir', 'CCONJ'), ('<UNK>', 'NOUN'), ('<UNK>', 'NOUN'), ('nukentėjo', 'VERB'), ('dar', 'ADV'), ('viena', 'PRON'), ('<UNK>', 'NOUN'), ('.', 'PUNCT')], [('Tiesa', 'NOUN'), (',', 'PUNCT'), ('<UNK>', 'NOUN'), ('<UNK>', 'NOUN'), ('<UNK>', 'NOUN'), ('tapo', 'VERB'), ('vos', 'ADV'), ('40', 'NUM'), ('litų', 'NOUN'), (',', 'PUNCT'), ('mat', 'VERB'), ('<UNK>', 'PUNCT'), ('iš', 'ADP'), ('jų', 'PRON'), ('<UNK>', 'NOUN'), ('<UNK>', 'NOUN'), ('<UNK>', 'NOUN'), ('<UNK>', 'NOUN'), ('<UNK>', 'NOUN'), ('.', 'PUNCT')], [('Į', 'ADP'), ('<UNK>', 'PUNCT'), ('gatvės', 'NOUN'), ('22', 'NUM'), ('name', 'NOUN'), ('<UNK>', 'NOUN'), ('„', 'PUNCT'), ('<UNK>', 'PUNCT'), ('<UNK>', 'NOUN'), ('“', 'PUNCT'), ('<UNK>', 'NOUN'), ('<UNK>', 'NOUN'), ('trečiadienį', 'NOUN'), (',', 'PUNCT'), ('apie', 'ADP'), ('17', 'NUM'), ('<UNK>', 'NOUN'), ('.', 'PUNCT'), ('15', 'NUM'), ('<UNK>', 'NOUN'), ('.', 'PUNCT')], [('Pasak', 'ADP'), ('ten', 'ADV'), ('<UNK>', 'NOUN'), ('<UNK>', 'NOUN'), (',', 'PUNCT'), ('tai', 'DET'), ('buvo', 'AUX'), ('du', 'NUM'), ('jaunuoliai', 'NOUN'), (',', 'PUNCT'), ('kurių', 'DET'), ('vienas', 'PRON'), ('veidą', 'NOUN'), ('<UNK>', 'NOUN'), ('po', 'ADP'), ('<UNK>', 'NOUN'), (',', 'PUNCT'), ('o', 'CCONJ'), ('kitas', 'PRON'), ('buvo', 'AUX'), ('<UNK>', 'PUNCT'), ('<UNK>', 'NOUN'), ('ir', 'CCONJ'), ('<UNK>', 'NOUN'), ('veidą', 'NOUN'), ('<UNK>', 'NOUN'), ('.', 'PUNCT')], [('<UNK>', 'PUNCT'), ('norėjo', 'VERB'), ('likti', 'VERB'), ('<UNK>', 'NOUN'), ('.', 'PUNCT')], [('<UNK>', 'PUNCT'), ('<UNK>', 'PUNCT'), ('veiksmų', 'NOUN'), ('<UNK>', 'NOUN'), ('buvo', 'AUX'), ('kone', 'ADV'), ('<UNK>', 'PUNCT'), ('prieš', 'ADP'), ('dieną', 'NOUN'), ('<UNK>', 'NOUN'), ('<UNK>', 'NOUN'), ('.', 'PUNCT')], [('<UNK>', 'PUNCT'), ('<UNK>', 'PUNCT'), ('į', 'ADP'), ('<UNK>', 'NOUN'), ('tuo', 'DET'), ('metu', 'NOUN'), (',', 'PUNCT'), ('kai', 'SCONJ'), ('joje', 'PRON'), ('<UNK>', 'PUNCT'), ('<UNK>', 'NOUN'), ('ir', 'CCONJ'), ('nė', 'ADV'), ('vieno', 'NOUN'), ('<UNK>', 'PUNCT'), ('.', 'PUNCT')], [('Vienas', 'PRON'), ('jų', 'PRON'), ('<UNK>', 'PUNCT'), ('<UNK>', 'NOUN'), ('ir', 'CCONJ'), ('<UNK>', 'NOUN'), ('atiduoti', 'VERB'), ('pinigus', 'NOUN'), ('.', 'PUNCT')], [('Po', 'ADP'), ('to', 'DET'), ('jis', 'PRON'), ('<UNK>', 'PUNCT'), ('iš', 'ADP'), ('<UNK>', 'NOUN'), ('<UNK>', 'NOUN'), ('<UNK>', 'NOUN'), ('litų', 'NOUN'), ('.', 'PUNCT')], [('Pačių', 'PART'), ('<UNK>', 'PUNCT'), ('<UNK>', 'NOUN'), (',', 'PUNCT'), ('<UNK>', 'NOUN'), ('<UNK>', 'NOUN'), ('jų', 'PRON'), ('<UNK>', 'NOUN'), ('ir', 'CCONJ'), ('<UNK>', 'NOUN'), ('.', 'PUNCT')], [('Moterys', 'NOUN'), ('<UNK>', 'PUNCT'), ('<UNK>', 'NOUN'), ('<UNK>', 'NOUN'), ('.', 'PUNCT')], [('Tuo', 'PART'), ('metu', 'NOUN'), ('vienas', 'PRON'), ('iš', 'ADP'), ('jų', 'PRON'), ('spėjo', 'VERB'), ('<UNK>', 'PUNCT'), ('<UNK>', 'NOUN'), (',', 'PUNCT'), ('o', 'CCONJ'), ('kitam', 'ADJ'), ('viena', 'PRON'), ('<UNK>', 'NOUN'), ('<UNK>', 'NOUN'), ('už', 'ADP'), ('<UNK>', 'NOUN'), ('ir', 'CCONJ'), ('<UNK>', 'NOUN'), ('<UNK>', 'NOUN'), ('dalį', 'NOUN'), ('<UNK>', 'NOUN'), ('-', 'PUNCT'), ('<UNK>', 'NOUN'), ('litų', 'NOUN'), ('.', 'PUNCT')], [('Tad', 'ADV'), ('<UNK>', 'PUNCT'), ('<UNK>', 'NOUN'), ('40', 'NUM'), ('litų', 'NOUN'), ('.', 'PUNCT')], [('Vis', 'CCONJ'), ('dėlto', 'X'), ('<UNK>', 'PUNCT'), ('ir', 'CCONJ'), ('<UNK>', 'NOUN'), ('<UNK>', 'NOUN'), ('<UNK>', 'NOUN'), ('nebuvo', 'VERB'), ('<UNK>', 'NOUN'), ('-', 'PUNCT'), ('nepaisant', 'CCONJ'), ('moterų', 'NOUN'), ('pastangų', 'NOUN'), (',', 'PUNCT'), ('<UNK>', 'NOUN'), ('pavyko', 'VERB'), ('<UNK>', 'NOUN'), ('.', 'PUNCT')], [('„', 'PUNCT'), ('Tad', 'ADV'), ('kilus', 'VERB'), ('<UNK>', 'NOUN'), ('iš', 'ADP'), ('karto', 'ADJ'), ('reikia', 'VERB'), ('<UNK>', 'NOUN'), ('pagalbos', 'NOUN'), ('.', 'PUNCT')], [('<UNK>', 'PUNCT'), ('turėtų', 'VERB'), ('visuomet', 'ADV'), ('<UNK>', 'NOUN'), ('šį', 'DET'), ('<UNK>', 'PUNCT'), ('<UNK>', 'NOUN'), (',', 'PUNCT'), ('kad', 'SCONJ'), ('bet', 'VERB'), ('kurią', 'DET'), ('akimirką', 'NOUN'), (',', 'PUNCT'), ('vos', 'ADV'), ('tik', 'PART'), ('prireikus', 'VERB'), (',', 'PUNCT'), ('apie', 'ADP'), ('pavojų', 'NOUN'), ('galėtų', 'VERB'), ('pranešti', 'VERB'), ('<UNK>', 'NOUN'), ('“', 'PUNCT'), (',', 'PUNCT'), ('-', 'PUNCT'), ('sakė', 'VERB'), ('Kauno', 'PART'), ('policijos', 'NOUN'), ('<UNK>', 'NOUN'), ('<UNK>', 'NOUN'), ('<UNK>', 'NOUN'), ('<UNK>', 'NOUN'), ('.', 'PUNCT')], [('<UNK>', 'PUNCT'), ('policijos', 'NOUN'), ('<UNK>', 'NOUN'), ('<UNK>', 'NOUN'), ('vėl', 'ADV'), ('<UNK>', 'NOUN'), ('<UNK>', 'NOUN'), ('tyrimas', 'NOUN'), ('dėl', 'ADP'), ('<UNK>', 'NOUN'), ('.', 'PUNCT')], [('Toks', 'DET'), ('pat', 'X'), ('tyrimas', 'NOUN'), ('čia', 'ADV'), ('<UNK>', 'NOUN'), ('ir', 'CCONJ'), ('dėl', 'ADP'), ('<UNK>', 'NOUN'), ('<UNK>', 'NOUN'), ('<UNK>', 'NOUN'), ('<UNK>', 'NOUN'), ('esančioje', 'VERB'), ('kitoje', 'PRON'), ('<UNK>', 'NOUN'), ('.', 'PUNCT')], [('„', 'PUNCT'), ('Kauno', 'SCONJ'), ('diena', 'VERB'), ('“', 'PUNCT'), ('jau', 'ADV'), ('<UNK>', 'PUNCT'), (',', 'PUNCT'), ('kad', 'SCONJ'), ('<UNK>', 'NOUN'), ('<UNK>', 'NOUN'), ('ir', 'CCONJ'), ('taip', 'ADV'), ('pat', 'X'), ('<UNK>', 'PUNCT'), ('<UNK>', 'NOUN'), ('prieš', 'ADP'), ('pat', 'X'), ('<UNK>', 'PUNCT'), ('<UNK>', 'NOUN'), ('<UNK>', 'NOUN'), ('į', 'ADP'), ('<UNK>', 'NOUN'), ('<UNK>', 'NOUN'), ('<UNK>', 'NOUN'), ('<UNK>', 'NOUN'), ('ir', 'CCONJ'), (',', 'PUNCT'), ('<UNK>', 'NOUN'), ('<UNK>', 'NOUN'), (',', 'PUNCT'), ('iš', 'ADP'), ('<UNK>', 'NOUN'), ('<UNK>', 'NOUN'), ('<UNK>', 'NOUN'), ('tūkstantį', 'NOUN'), ('litų', 'NOUN'), ('bei', 'CCONJ'), ('<UNK>', 'NOUN'), ('<UNK>', 'NOUN'), ('.', 'PUNCT')], [('<UNK>', 'PUNCT'), ('<UNK>', 'PUNCT'), ('<UNK>', 'NOUN'), ('<UNK>', 'NOUN'), ('IR', 'CCONJ'), ('<UNK>', 'NOUN'), ('<UNK>', 'NOUN'), ('.', 'PUNCT')], [('Iki', 'ADP'), ('pat', 'X'), ('<UNK>', 'PUNCT'), ('<UNK>', 'NOUN'), ('mus', 'PRON'), (',', 'PUNCT'), ('<UNK>', 'NOUN'), (',', 'PUNCT'), ('<UNK>', 'NOUN'), ('<UNK>', 'NOUN'), ('.', 'PUNCT')], [('Toks', 'DET'), ('buvo', 'AUX'), ('paties', 'VERB'), ('Švietimo', 'NOUN'), ('ministro', 'NOUN'), ('<UNK>', 'PUNCT'), ('<UNK>', 'NOUN'), (',', 'PUNCT'), ('o', 'CCONJ'), ('ir', 'CCONJ'), ('šiaip', 'VERB'), ('įprastas', 'ADJ'), ('dalykas', 'NOUN'), ('<UNK>', 'NOUN'), ('<UNK>', 'NOUN'), ('.', 'PUNCT')], [('Niekas', 'PRON'), ('labai', 'ADV'), ('dėl', 'ADP'), ('šito', 'DET'), ('ir', 'CCONJ'), ('<UNK>', 'NOUN'), (':', 'PUNCT'), ('nors', 'X'), ('<UNK>', 'PUNCT'), ('<UNK>', 'PUNCT'), ('jau', 'ADV'), ('buvo', 'AUX'), ('<UNK>', 'NOUN'), ('<UNK>', 'NOUN'), (',', 'PUNCT'), ('bet', 'CCONJ'), ('<UNK>', 'NOUN'), ('!', 'PUNCT')], [('Tiesa', 'NOUN'), (',', 'PUNCT'), ('per', 'ADP'), ('ilgas', 'ADJ'), ('<UNK>', 'NOUN'), ('tie', 'DET'), ('mūsų', 'PRON'), ('<UNK>', 'PUNCT'), ('<UNK>', 'NOUN'), ('kiek', 'ADV'), ('<UNK>', 'PUNCT'), (',', 'PUNCT'), ('kiti', 'PRON'), ('<UNK>', 'NOUN'), ('<UNK>', 'NOUN'), ('netgi', 'PART'), ('visai', 'ADV'), ('<UNK>', 'PUNCT'), ('<UNK>', 'NOUN'), ('!', 'PUNCT')], [('Bet', 'CCONJ'), ('prieš', 'ADP'), ('pat', 'X'), ('mokslo', 'NOUN'), ('metų', 'NOUN'), ('pradžią', 'NOUN'), ('visi', 'DET'), ('<UNK>', 'NOUN'), ('<UNK>', 'NOUN'), ('į', 'ADP'), ('vienintelę', 'NOUN'), ('mūsų', 'PRON'), ('miesto', 'NOUN'), ('<UNK>', 'PUNCT'), ('palikti', 'NOUN'), ('<UNK>', 'NOUN'), ('<UNK>', 'NOUN'), ('.', 'PUNCT')], [('<UNK>', 'PUNCT'), ('<UNK>', 'PUNCT'), ('–', 'PUNCT'), ('<UNK>', 'NOUN'), ('į', 'ADP'), ('<UNK>', 'NOUN'), (',', 'PUNCT'), ('<UNK>', 'NOUN'), ('<UNK>', 'NOUN'), ('<UNK>', 'NOUN'), ('niekas', 'NOUN'), ('<UNK>', 'NOUN'), ('!', 'PUNCT')], [('Todėl', 'ADV'), ('rugsėjo', 'ADJ'), ('pradžioje', 'NOUN'), ('gatvės', 'NOUN'), ('<UNK>', 'PUNCT'), ('<UNK>', 'NOUN'), ('<UNK>', 'NOUN'), ('–', 'PUNCT'), ('jie', 'PRON'), ('labai', 'ADV'), ('<UNK>', 'NOUN'), ('nuo', 'ADP'), ('<UNK>', 'PUNCT'), ('<UNK>', 'NOUN'), ('<UNK>', 'NOUN'), ('ir', 'CCONJ'), ('bent', 'PART'), ('man', 'PRON'), ('<UNK>', 'PUNCT'), ('<UNK>', 'NOUN'), ('<UNK>', 'NOUN'), ('.', 'PUNCT')], [('Nors', 'SCONJ'), ('<UNK>', 'PUNCT'), ('<UNK>', 'NOUN'), ('ir', 'CCONJ'), ('<UNK>', 'NOUN'), ('<UNK>', 'NOUN'), (',', 'PUNCT'), ('<UNK>', 'NOUN'), ('<UNK>', 'NOUN'), (',', 'PUNCT'), ('<UNK>', 'NOUN'), ('„', 'PUNCT'), ('<UNK>', 'NOUN'), ('“', 'PUNCT'), ('bei', 'CCONJ'), ('„', 'PUNCT'), ('<UNK>', 'PUNCT'), ('<UNK>', 'NOUN'), ('“', 'PUNCT'), (',', 'PUNCT'), ('eiti', 'VERB'), ('į', 'ADP'), ('ją', 'PRON'), ('nebuvo', 'VERB'), ('jokio', 'DET'), ('<UNK>', 'NOUN'), ('–', 'PUNCT'), ('gaila', 'VERB'), ('buvo', 'AUX'), ('ir', 'PART'), ('laiką', 'NOUN'), ('gaišti', 'VERB'), ('<UNK>', 'NOUN'), ('<UNK>', 'NOUN'), (',', 'PUNCT'), ('o', 'CCONJ'), ('dar', 'PART'), ('labiau', 'ADV'), ('–', 'PUNCT'), ('taip', 'PART'), ('sunkiai', 'ADV'), ('<UNK>', 'PUNCT'), ('<UNK>', 'NOUN'), ('.', 'PUNCT')], [('Tad', 'ADV'), ('mūsų', 'PRON'), ('tėvas', 'NOUN'), (',', 'PUNCT'), ('<UNK>', 'NOUN'), ('<UNK>', 'NOUN'), ('<UNK>', 'NOUN'), ('<UNK>', 'NOUN'), ('<UNK>', 'NOUN'), (',', 'PUNCT'), ('iš', 'ADP'), ('savo', 'PRON'), ('<UNK>', 'NOUN'), ('pinigų', 'NOUN'), ('<UNK>', 'NOUN'), ('net', 'PART'), ('sau', 'ADJ'), ('pačiam', 'DET'), ('ėmė', 'VERB'), ('ir', 'CCONJ'), ('nupirko', 'ADJ'), ('<UNK>', 'NOUN'), ('<UNK>', 'NOUN'), ('<UNK>', 'NOUN'), ('<UNK>', 'NOUN'), (',', 'PUNCT'), ('kurių', 'DET'), ('<UNK>', 'NOUN'), ('į', 'ADP'), ('naują', 'ADJ'), ('ūkinių', 'ADJ'), ('prekių', 'NOUN'), ('<UNK>', 'NOUN'), ('prie', 'ADP'), ('pašto', 'NOUN'), ('.', 'PUNCT')], [('Tėvas', 'ADJ'), (',', 'PUNCT'), ('matyt', 'PART'), (',', 'PUNCT'), ('jau', 'ADV'), ('buvo', 'AUX'), ('<UNK>', 'PUNCT'), (',', 'PUNCT'), ('per', 'ADP'), ('kiek', 'ADV'), ('laiko', 'NOUN'), ('ta', 'NOUN'), ('<UNK>', 'NOUN'), ('<UNK>', 'NOUN'), ('–', 'PUNCT'), ('už', 'ADP'), ('<UNK>', 'NOUN'), ('<UNK>', 'NOUN'), ('<UNK>', 'NOUN'), ('<UNK>', 'NOUN'), ('visą', 'DET'), ('<UNK>', 'NOUN'), ('<UNK>', 'NOUN'), (',', 'PUNCT'), ('o', 'CCONJ'), ('<UNK>', 'NOUN'), ('–', 'PUNCT'), ('<UNK>', 'NOUN'), (',', 'PUNCT'), ('su', 'ADP'), ('<UNK>', 'NOUN'), ('<UNK>', 'NOUN'), (',', 'PUNCT'), ('<UNK>', 'NOUN'), ('<UNK>', 'NOUN'), ('(', 'PUNCT'), ('ar', 'CCONJ'), ('<UNK>', 'NOUN'), (')', 'PUNCT'), ('–', 'PUNCT'), ('<UNK>', 'NOUN'), ('apie', 'ADP'), ('<UNK>', 'PUNCT'), ('<UNK>', 'NOUN'), (',', 'PUNCT'), ('irgi', 'ADV'), ('<UNK>', 'NOUN'), ('<UNK>', 'NOUN'), ('.', 'PUNCT')], [('<UNK>', 'PUNCT'), ('tėvas', 'NOUN'), (',', 'PUNCT'), ('aišku', 'NOUN'), (',', 'PUNCT'), ('visai', 'ADV'), ('<UNK>', 'NOUN'), (',', 'PUNCT'), ('bet', 'CCONJ'), ('<UNK>', 'NOUN'), ('<UNK>', 'NOUN'), ('<UNK>', 'NOUN'), ('.', 'PUNCT')], [('Kiekvienas', 'X'), ('toks', 'DET'), ('<UNK>', 'PUNCT'), ('mums', 'PRON'), ('<UNK>', 'PUNCT'), ('tikra', 'X'), ('<UNK>', 'PUNCT'), ('!', 'PUNCT')], [('Vargu', 'PART'), ('ar', 'CCONJ'), ('ir', 'PART'), ('pats', 'DET'), ('<UNK>', 'PUNCT'), ('<UNK>', 'NOUN'), ('kokį', 'NOUN'), ('<UNK>', 'NOUN'), (',', 'PUNCT'), ('<UNK>', 'NOUN'), ('<UNK>', 'NOUN'), ('<UNK>', 'NOUN'), ('per', 'ADP'), ('mūsų', 'PRON'), ('trijų', 'NUM'), ('<UNK>', 'NOUN'), ('.', 'PUNCT')], [('Gal', 'PART'), ('tėvas', 'ADJ'), ('<UNK>', 'NOUN'), (',', 'PUNCT'), ('kad', 'SCONJ'), ('mums', 'PRON'), ('reikia', 'VERB'), ('<UNK>', 'PUNCT'), ('<UNK>', 'NOUN'), ('<UNK>', 'NOUN'), ('?', 'PUNCT')], [('<UNK>', 'PUNCT'), ('tikėti', 'VERB'), ('...', 'PUNCT')], [('<UNK>', 'PUNCT'), ('kad', 'SCONJ'), ('<UNK>', 'NOUN'), ('<UNK>', 'NOUN'), ('ir', 'CCONJ'), ('prie', 'ADP'), ('<UNK>', 'NOUN'), (',', 'PUNCT'), ('<UNK>', 'NOUN'), ('<UNK>', 'NOUN'), ('<UNK>', 'NOUN'), (',', 'PUNCT'), ('o', 'CCONJ'), ('<UNK>', 'NOUN'), ('–', 'PUNCT'), ('ir', 'CCONJ'), ('<UNK>', 'NOUN'), ('.', 'PUNCT')], [('<UNK>', 'PUNCT'), ('buvo', 'AUX'), ('<UNK>', 'NOUN'), ('dalykas', 'NOUN'), (',', 'PUNCT'), ('ir', 'CCONJ'), ('kiekvienas', 'DET'), ('galėjo', 'VERB'), ('pasirinkti', 'VERB'), ('pagal', 'ADP'), ('savo', 'PRON'), ('skonį', 'VERB'), ('!', 'PUNCT')], [('Štai', 'PART'), ('man', 'PRON'), ('beveik', 'ADV'), ('<UNK>', 'PUNCT'), ('<UNK>', 'NOUN'), ('<UNK>', 'NOUN'), ('–', 'PUNCT'), ('per', 'ADP'), ('visą', 'DET'), ('<UNK>', 'NOUN'), ('<UNK>', 'NOUN'), ('<UNK>', 'NOUN'), (',', 'PUNCT'), ('švelnus', 'ADJ'), ('<UNK>', 'NOUN'), ('<UNK>', 'NOUN'), (',', 'PUNCT'), ('žmonės', 'NOUN'), ('<UNK>', 'NOUN'), ('<UNK>', 'NOUN'), ('<UNK>', 'NOUN'), (',', 'PUNCT'), ('greta', 'ADV'), ('<UNK>', 'NOUN'), ('<UNK>', 'NOUN'), ('<UNK>', 'NOUN'), ('bei', 'CCONJ'), ('<UNK>', 'NOUN'), (',', 'PUNCT'), ('o', 'CCONJ'), ('<UNK>', 'NOUN'), ('<UNK>', 'NOUN'), ('<UNK>', 'NOUN'), ('<UNK>', 'NOUN'), ('<UNK>', 'NOUN'), ('<UNK>', 'NOUN'), ('ir', 'CCONJ'), ('<UNK>', 'NOUN'), ('„', 'PUNCT'), ('<UNK>', 'PUNCT'), ('“', 'PUNCT'), ('<UNK>', 'PUNCT'), ('„', 'PUNCT'), ('šviesą', 'NOUN'), ('ir', 'CCONJ'), ('<UNK>', 'NOUN'), ('<UNK>', 'NOUN'), ('<UNK>', 'NOUN'), ('“', 'PUNCT'), (',', 'PUNCT'), ('kaip', 'SCONJ'), ('jis', 'PRON'), ('<UNK>', 'PUNCT'), ('sakyti', 'VERB'), ('.', 'PUNCT')], [('Taigi', 'PART'), ('tėvas', 'NOUN'), ('nupirko', 'ADJ'), ('<UNK>', 'PUNCT'), (',', 'PUNCT'), ('ir', 'CCONJ'), ('mums', 'PRON'), ('<UNK>', 'PUNCT'), ('<UNK>', 'NOUN'), ('<UNK>', 'NOUN'), ('eilėje', 'NOUN'), ('.', 'PUNCT')], [('Deja', 'PART'), (',', 'PUNCT'), ('<UNK>', 'PUNCT'), ('<UNK>', 'NOUN'), ('su', 'ADP'), ('<UNK>', 'NOUN'), ('<UNK>', 'NOUN'), ('<UNK>', 'NOUN'), ('tokį', 'DET'), ('siaubą', 'NOUN'), (',', 'PUNCT'), ('jog', 'SCONJ'), ('<UNK>', 'NOUN'), ('artėjant', 'VERB'), ('<UNK>', 'NOUN'), (',', 'PUNCT'), ('kai', 'SCONJ'), ('iš', 'ADP'), ('<UNK>', 'NOUN'), ('<UNK>', 'NOUN'), ('bus', 'AUX'), ('<UNK>', 'NOUN'), ('tas', 'DET'), ('<UNK>', 'NOUN'), ('<UNK>', 'NOUN'), ('ir', 'CCONJ'), ('ištarti', 'VERB'), ('<UNK>', 'NOUN'), ('žodžiai', 'NOUN'), (':', 'PUNCT')], [('–', 'PUNCT'), ('Na', 'PART'), (',', 'PUNCT'), ('tai', 'PART'), ('kuris', 'DET'), ('pirmas', 'PUNCT'), ('?', 'PUNCT')], [('<UNK>', 'PUNCT'), (',', 'PUNCT'), ('nepaisant', 'CCONJ'), ('<UNK>', 'NOUN'), ('<UNK>', 'NOUN'), (',', 'PUNCT'), ('tėvas', 'NOUN'), ('<UNK>', 'NOUN'), ('mus', 'PRON'), ('visus', 'DET'), ('tris', 'NUM'), ('<UNK>', 'NOUN'), (',', 'PUNCT'), ('tarsi', 'PART'), ('kokius', 'DET'), ('<UNK>', 'PUNCT'), ('.', 'PUNCT')], [('Ir', 'CCONJ'), ('dar', 'PART'), ('sakydavo', 'VERB'), (',', 'PUNCT'), ('kad', 'SCONJ'), ('<UNK>', 'NOUN'), ('tam', 'PRON'), ('savo', 'PRON'), ('<UNK>', 'NOUN'), ('laiką', 'NOUN'), ('!', 'PUNCT')], [('<UNK>', 'PUNCT'), ('<UNK>', 'PUNCT'), ('atrodyti', 'VERB'), ('mums', 'PRON'), ('<UNK>', 'NOUN'), ('arba', 'CCONJ'), ('bent', 'PART'), ('jau', 'ADV'), ('<UNK>', 'NOUN'), ('<UNK>', 'NOUN'), ('.', 'PUNCT')], [('Tik', 'PART'), ('vieną', 'VERB'), ('žiemą', 'NOUN'), ('visai', 'ADV'), ('<UNK>', 'PUNCT'), ('<UNK>', 'NOUN'), ('kelių', 'PRON'), ('<UNK>', 'NOUN'), ('<UNK>', 'NOUN'), ('–', 'PUNCT'), ('reikėjo', 'VERB'), ('<UNK>', 'NOUN'), ('<UNK>', 'NOUN'), ('<UNK>', 'NOUN'), ('į', 'ADP'), ('<UNK>', 'NOUN'), (',', 'PUNCT'), ('tad', 'ADV'), ('<UNK>', 'NOUN'), ('retos', 'NUM'), ('<UNK>', 'NOUN'), ('tvarka', 'NOUN'), ('leido', 'VERB'), ('kiek', 'ADV'), ('<UNK>', 'NOUN'), ('<UNK>', 'NOUN'), (',', 'PUNCT'), ('kad', 'SCONJ'), ('mūsų', 'PRON'), ('<UNK>', 'NOUN'), ('<UNK>', 'NOUN'), (',', 'PUNCT'), ('jog', 'SCONJ'), ('Tarybų', 'NOUN'), ('Lietuvos', 'PROPN'), ('<UNK>', 'NOUN'), ('laikomi', 'NOUN'), ('<UNK>', 'NOUN'), ('ar', 'CCONJ'), ('dar', 'PART'), ('kur', 'ADV'), ('.', 'PUNCT')], [('Bet', 'CCONJ'), ('štai', 'PART'), ('<UNK>', 'PUNCT'), ('buvo', 'AUX'), ('<UNK>', 'NOUN'), ('padarytos', 'VERB'), (',', 'PUNCT'), ('<UNK>', 'NOUN'), (',', 'PUNCT'), ('spėjo', 'VERB'), ('netgi', 'PART'), ('ateiti', 'VERB'), ('<UNK>', 'NOUN'), ('su', 'ADP'), ('<UNK>', 'NOUN'), ('ir', 'CCONJ'), ('<UNK>', 'NOUN'), ('.', 'PUNCT')], [('Taigi', 'PART'), ('<UNK>', 'PUNCT'), ('<UNK>', 'NOUN'), ('diena', 'NOUN'), ('vėl', 'ADV'), ('artėjo', 'VERB'), ('!', 'PUNCT')], [('<UNK>', 'PUNCT'), ('tais', 'VERB'), ('laikais', 'NOUN'), ('<UNK>', 'NOUN'), ('„', 'PUNCT'), ('nuo', 'ADP'), ('rinkimų', 'NUM'), ('iki', 'ADP'), ('rinkimų', 'NUM'), ('“', 'PUNCT'), (',', 'PUNCT'), ('o', 'CCONJ'), ('mes', 'PRON'), (',', 'PUNCT'), ('vaikai', 'NOUN'), (',', 'PUNCT'), ('<UNK>', 'NOUN'), ('nuo', 'ADP'), ('vieno', 'NUM'), ('<UNK>', 'PUNCT'), ('iki', 'ADP'), ('kito', 'PRON'), ('...', 'PUNCT')], [('Buvo', 'AUX'), ('dar', 'PART'), ('<UNK>', 'PUNCT'), ('spalio', 'NOUN'), ('<UNK>', 'NOUN'), (',', 'PUNCT'), ('kai', 'SCONJ'), ('tėvas', 'NOUN'), (',', 'PUNCT'), ('<UNK>', 'NOUN'), ('<UNK>', 'NOUN'), ('<UNK>', 'NOUN'), ('svarbų', 'ADJ'), ('straipsnį', 'NOUN'), (',', 'PUNCT'), ('<UNK>', 'NOUN'), ('<UNK>', 'NOUN'), ('ir', 'CCONJ'), ('<UNK>', 'NOUN'), ('<UNK>', 'NOUN'), ('<UNK>', 'NOUN'), ('žodžius', 'NOUN'), (':', 'PUNCT')], [('–', 'PUNCT'), ('Na', 'PART'), (',', 'PUNCT'), ('tai', 'PART'), ('kuris', 'DET'), ('pirmas', 'PUNCT'), ('?', 'PUNCT')], [('Man', 'PRON'), ('pavyko', 'VERB'), ('<UNK>', 'PUNCT'), ('į', 'ADP'), ('<UNK>', 'NOUN'), (',', 'PUNCT'), ('kur', 'ADV'), ('<UNK>', 'PUNCT'), ('<UNK>', 'NOUN'), ('<UNK>', 'NOUN'), ('<UNK>', 'NOUN'), ('savo', 'PRON'), ('<UNK>', 'NOUN'), ('ir', 'CCONJ'), ('„', 'PUNCT'), ('<UNK>', 'NOUN'), ('“', 'PUNCT'), ('(', 'PUNCT'), ('nuo', 'ADP'), ('<UNK>', 'PUNCT'), ('žodžio', 'NOUN'), ('„', 'PUNCT'), ('<UNK>', 'PUNCT'), ('“', 'PUNCT'), (')', 'PUNCT'), ('.', 'PUNCT')], [('<UNK>', 'PUNCT'), ('<UNK>', 'PUNCT'), ('<UNK>', 'NOUN'), ('ir', 'CCONJ'), ('jau', 'ADV'), ('buvau', 'NOUN'), ('<UNK>', 'PUNCT'), (',', 'PUNCT'), ('kas', 'PRON'), ('manęs', 'NOUN'), ('<UNK>', 'PUNCT'), ('.', 'PUNCT')], [('Bet', 'CCONJ'), ('štai', 'PART'), ('<UNK>', 'PUNCT'), ('<UNK>', 'NOUN'), ('balsas', 'NOUN'), (',', 'PUNCT'), ('ir', 'CCONJ'), ('aš', 'PRON'), (',', 'PUNCT'), ('<UNK>', 'NOUN'), ('<UNK>', 'NOUN'), (',', 'PUNCT'), ('<UNK>', 'NOUN'), ('<UNK>', 'NOUN'), (',', 'PUNCT'), ('<UNK>', 'NOUN'), ('į', 'ADP'), ('kambarį', 'NOUN'), (',', 'PUNCT'), ('kurio', 'DET'), ('<UNK>', 'NOUN'), ('jau', 'ADV'), ('buvo', 'AUX'), ('<UNK>', 'NOUN'), ('<UNK>', 'NOUN'), ('<UNK>', 'NOUN'), ('.', 'PUNCT')], [('Jie', 'PRON'), ('abu', 'NUM'), ('<UNK>', 'PUNCT'), ('<UNK>', 'NOUN'), ('<UNK>', 'NOUN'), ('<UNK>', 'NOUN'), ('vaikų', 'NOUN'), ('radijo', 'NOUN'), ('teatro', 'NOUN'), (',', 'PUNCT'), ('kuris', 'DET'), ('<UNK>', 'NOUN'), ('iš', 'ADP'), ('<UNK>', 'NOUN'), ('<UNK>', 'NOUN'), ('„', 'PUNCT'), ('<UNK>', 'PUNCT'), ('“', 'PUNCT'), ('.', 'PUNCT')], [('<UNK>', 'PUNCT'), ('jau', 'ADV'), ('buvo', 'AUX'), ('nė', 'ADV'), ('iš', 'ADP'), ('<UNK>', 'NOUN'), ('nepanašūs', 'ADJ'), ('į', 'ADP'), ('tuos', 'DET'), ('<UNK>', 'PUNCT'), ('<UNK>', 'NOUN'), ('<UNK>', 'NOUN'), (',', 'PUNCT'), ('kurių', 'DET'), ('<UNK>', 'NOUN'), ('–', 'PUNCT'), ('<UNK>', 'NOUN'), (',', 'PUNCT'), ('dar', 'PART'), ('taip', 'ADV'), ('neseniai', 'ADV'), ('!', 'PUNCT'), ('–', 'PUNCT'), ('<UNK>', 'PUNCT'), ('į', 'ADP'), ('<UNK>', 'NOUN'), ('!', 'PUNCT')], [('<UNK>', 'PUNCT'), (',', 'PUNCT'), ('kad', 'SCONJ'), ('po', 'ADP'), ('gero', 'NOUN'), ('<UNK>', 'PUNCT'), ('ir', 'CCONJ'), ('aš', 'PRON'), ('pats', 'DET'), ('<UNK>', 'PUNCT'), ('lygiai', 'ADV'), ('toks', 'DET'), (',', 'PUNCT'), ('o', 'CCONJ'), ('paskui', 'ADV'), ('dar', 'ADV'), ('<UNK>', 'PUNCT'), ('<UNK>', 'NOUN'), ('visus', 'DET'), ('<UNK>', 'NOUN'), ('ir', 'CCONJ'), ('<UNK>', 'NOUN'), ('<UNK>', 'NOUN'), ('.', 'PUNCT')], [('<UNK>', 'PUNCT'), ('tėvas', 'NOUN'), ('itin', 'ADV'), ('sunkiai', 'ADV'), ('<UNK>', 'NOUN'), ('<UNK>', 'NOUN'), ('mūsų', 'PRON'), ('<UNK>', 'NOUN'), (',', 'PUNCT'), ('o', 'CCONJ'), ('aš', 'PRON'), ('jų', 'PRON'), ('<UNK>', 'NOUN'), ('net', 'PART'), ('du', 'NUM'), ('.', 'PUNCT')], [('<UNK>', 'PUNCT'), ('<UNK>', 'PUNCT'), ('ant', 'ADP'), ('<UNK>', 'NOUN'), (',', 'PUNCT'), ('pats', 'DET'), ('<UNK>', 'NOUN'), ('paklodės', 'NOUN'), ('<UNK>', 'NOUN'), (',', 'PUNCT'), ('ir', 'CCONJ'), ('tėvas', 'ADJ'), (',', 'PUNCT'), ('jau', 'ADV'), ('atsipūtęs', 'VERB'), (',', 'PUNCT'), ('per', 'PART'), ('mano', 'PRON'), ('<UNK>', 'NOUN'), ('gražiai', 'VERB'), ('<UNK>', 'NOUN'), ('pirmąją', 'ADJ'), ('<UNK>', 'NOUN'), ('.', 'PUNCT')], [('Ar', 'PART'), ('jis', 'PRON'), ('jau', 'ADV'), ('buvo', 'AUX'), ('tiek', 'ADV'), ('<UNK>', 'PUNCT'), (',', 'PUNCT'), ('ar', 'SCONJ'), ('<UNK>', 'NOUN'), ('su', 'ADP'), ('<UNK>', 'NOUN'), (',', 'PUNCT'), ('bet', 'CCONJ'), ('<UNK>', 'NOUN'), ('<UNK>', 'NOUN'), ('beveik', 'ADV'), ('visai', 'ADV'), ('<UNK>', 'PUNCT'), ('.', 'PUNCT')], [('<UNK>', 'PUNCT'), ('man', 'PRON'), ('pasirodė', 'ADJ'), ('kone', 'ADV'), ('<UNK>', 'PUNCT'), ('!', 'PUNCT')], [('Net', 'VERB'), ('pirmąjį', 'NOUN'), ('mano', 'PRON'), ('<UNK>', 'NOUN'), ('<UNK>', 'NOUN'), ('<UNK>', 'NOUN'), ('palyginti', 'VERB'), ('nesunkiai', 'PRON'), ('.', 'PUNCT')], [('<UNK>', 'PUNCT'), ('antrasis', 'NOUN'), ('–', 'PUNCT'), ('<UNK>', 'PUNCT'), ('<UNK>', 'NOUN'), (',', 'PUNCT'), ('bet', 'CCONJ'), ('tuo', 'DET'), ('metu', 'NOUN'), ('į', 'ADP'), ('duris', 'NOUN'), ('kažkas', 'PRON'), ('<UNK>', 'PUNCT'), ('<UNK>', 'NOUN'), (',', 'PUNCT'), ('ir', 'CCONJ'), ('į', 'ADP'), ('kambarį', 'NOUN'), ('<UNK>', 'NOUN'), ('visai', 'ADV'), ('<UNK>', 'NOUN'), ('mūsų', 'PRON'), ('kaimynas', 'NOUN'), ('<UNK>', 'NOUN'), ('<UNK>', 'NOUN'), ('–', 'PUNCT'), ('aukštas', 'ADJ'), (',', 'PUNCT'), ('<UNK>', 'NOUN'), ('vyriškis', 'NOUN'), (',', 'PUNCT'), ('<UNK>', 'NOUN'), ('kaip', 'SCONJ'), ('ir', 'PART'), ('tėvas', 'ADJ'), ('–', 'PUNCT'), ('jokių', 'NOUN'), ('<UNK>', 'NOUN'), ('ir', 'CCONJ'), ('<UNK>', 'NOUN'), ('!', 'PUNCT')], [('<UNK>', 'PUNCT'), ('<UNK>', 'PUNCT'), ('<UNK>', 'NOUN'), ('esąs', 'NOUN'), ('labai', 'ADV'), ('<UNK>', 'PUNCT'), (',', 'PUNCT'), ('<UNK>', 'NOUN'), ('žmogus', 'NOUN'), ('.', 'PUNCT')], [('Jis', 'PRON'), ('<UNK>', 'PUNCT'), ('dėl', 'ADP'), ('mano', 'PRON'), ('<UNK>', 'NOUN'), (':', 'PUNCT')], [('–', 'PUNCT'), ('Kuo', 'PRON'), ('dažniau', 'ADV'), ('<UNK>', 'NOUN'), (',', 'PUNCT'), ('tuo', 'SCONJ'), ('greičiau', 'ADP'), ('auga', 'VERB'), ('!', 'PUNCT')], [('Ir', 'CCONJ'), ('<UNK>', 'PUNCT'), ('pat', 'X'), ('šoko', 'NOUN'), ('prie', 'ADP'), ('<UNK>', 'PUNCT'), (':', 'PUNCT')], [('–', 'PUNCT'), ('<UNK>', 'PUNCT'), (',', 'PUNCT'), ('ar', 'SCONJ'), ('<UNK>', 'NOUN'), ('<UNK>', 'NOUN'), ('gauti', 'VERB'), ('to', 'DET'), ('laikraščio', 'NOUN'), (',', 'PUNCT'), ('kuriame', 'DET'), ('<UNK>', 'NOUN'), ('<UNK>', 'NOUN'), ('<UNK>', 'NOUN'), ('<UNK>', 'NOUN'), ('?', 'PUNCT')], [('Tėvas', 'ADJ'), ('<UNK>', 'NOUN'), ('<UNK>', 'NOUN'), (',', 'PUNCT'), ('<UNK>', 'NOUN'), ('<UNK>', 'NOUN'), ('akinius', 'NOUN'), (',', 'PUNCT'), ('<UNK>', 'NOUN'), ('<UNK>', 'NOUN'), ('<UNK>', 'NOUN'), (',', 'PUNCT'), ('o', 'CCONJ'), ('tada', 'ADV'), ('jau', 'ADV'), ('atsakė', 'VERB'), (',', 'PUNCT'), ('kad', 'SCONJ'), ('tas', 'DET'), ('laikraštis', 'NOUN'), ('tikrai', 'ADV'), ('kažkur', 'ADV'), ('esąs', 'VERB'), ('.', 'PUNCT')], [('<UNK>', 'PUNCT'), ('<UNK>', 'PUNCT'), ('<UNK>', 'NOUN'), (',', 'PUNCT'), ('jis', 'PRON'), ('<UNK>', 'PUNCT'), ('<UNK>', 'NOUN'), ('.', 'PUNCT')], [('Tėvas', 'ADJ'), ('<UNK>', 'NOUN'), (',', 'PUNCT'), ('o', 'CCONJ'), ('<UNK>', 'NOUN'), ('<UNK>', 'NOUN'), ('<UNK>', 'NOUN'), ('man', 'PRON'), ('<UNK>', 'NOUN'), (',', 'PUNCT'), ('kaip', 'SCONJ'), ('jį', 'PRON'), (',', 'PUNCT'), ('<UNK>', 'PUNCT'), (',', 'PUNCT'), ('<UNK>', 'NOUN'), ('irgi', 'ADV'), ('<UNK>', 'NOUN'), ('<UNK>', 'NOUN'), ('<UNK>', 'NOUN'), (',', 'PUNCT'), ('ant', 'ADP'), ('galvos', 'NOUN'), ('dar', 'PART'), ('<UNK>', 'PUNCT'), ('<UNK>', 'NOUN'), (',', 'PUNCT'), ('kad', 'SCONJ'), ('būtų', 'AUX'), ('aišku', 'ADJ'), (',', 'PUNCT'), ('iki', 'ADP'), ('kurios', 'X'), ('vietos', 'NOUN'), ('<UNK>', 'NOUN'), ('.', 'PUNCT')], [('Na', 'PART'), ('ir', 'PART'), ('<UNK>', 'PUNCT'), ('!', 'PUNCT')], [('<UNK>', 'PUNCT'), ('tokį', 'DET'), ('<UNK>', 'PUNCT'), (',', 'PUNCT'), ('mes', 'PRON'), ('jį', 'PRON'), ('<UNK>', 'PUNCT'), ('„', 'PUNCT'), ('<UNK>', 'PUNCT'), ('“', 'PUNCT'), (',', 'PUNCT'), ('šitaip', 'VERB'), ('<UNK>', 'PUNCT'), ('visi', 'DET'), ('<UNK>', 'NOUN'), ('.', 'PUNCT')], [('<UNK>', 'PUNCT'), ('tarsi', 'PART'), ('<UNK>', 'PUNCT'), ('mane', 'PRON'), (',', 'PUNCT'), ('bet', 'CCONJ'), ('jo', 'PRON'), ('akyse', 'NOUN'), ('<UNK>', 'NOUN'), ('<UNK>', 'NOUN'), ('<UNK>', 'NOUN'), ('.', 'PUNCT')], [('Pagaliau', 'ADV'), (',', 'PUNCT'), ('<UNK>', 'PUNCT'), ('jau', 'ADV'), ('<UNK>', 'NOUN'), ('<UNK>', 'NOUN'), (',', 'PUNCT'), ('grįžo', 'VERB'), ('tėvas', 'NOUN'), (',', 'PUNCT'), ('atsargiai', 'VERB'), ('padavė', 'VERB'), ('jį', 'PRON'), ('<UNK>', 'PUNCT'), (',', 'PUNCT'), ('ir', 'CCONJ'), ('aš', 'PRON'), ('jau', 'ADV'), ('<UNK>', 'NOUN'), (',', 'PUNCT'), ('kad', 'SCONJ'), ('šis', 'DET'), ('eis', 'VERB'), ('savo', 'PRON'), ('<UNK>', 'NOUN'), ('.', 'PUNCT')], [('Kur', 'PART'), ('tau', 'PRON'), ('!', 'PUNCT')], [('<UNK>', 'PUNCT'), ('nė', 'ADV'), ('<UNK>', 'PUNCT'), ('niekur', 'PROPN'), ('eiti', 'VERB'), (',', 'PUNCT'), ('jis', 'PRON'), ('<UNK>', 'PUNCT'), ('<UNK>', 'NOUN'), (',', 'PUNCT'), ('<UNK>', 'NOUN'), ('<UNK>', 'NOUN'), ('ir', 'CCONJ'), ('<UNK>', 'NOUN'), ('į', 'ADP'), ('tekstą', 'NOUN'), ('.', 'PUNCT')], [('Per', 'ADP'), ('jo', 'PRON'), ('<UNK>', 'NOUN'), ('aš', 'PRON'), ('<UNK>', 'NOUN'), ('<UNK>', 'NOUN'), ('<UNK>', 'NOUN'), ('<UNK>', 'NOUN'), ('<UNK>', 'NOUN'), ('<UNK>', 'NOUN'), (':', 'PUNCT'), ('„', 'PUNCT'), ('<UNK>', 'PUNCT'), ('METŲ', 'NOUN'), ('<UNK>', 'NOUN'), ('<UNK>', 'NOUN'), ('“', 'PUNCT'), ('.', 'PUNCT')], [('O', 'CCONJ'), ('gal', 'PART'), ('„', 'PUNCT'), ('<UNK>', 'PUNCT'), ('“', 'PUNCT'), (',', 'PUNCT'), ('<UNK>', 'NOUN'), (',', 'PUNCT'), ('<UNK>', 'NOUN'), ('tik', 'PART'), ('„', 'PUNCT'), ('<UNK>', 'NOUN'), ('“', 'PUNCT'), ('–', 'PUNCT'), ('toks', 'DET'), ('<UNK>', 'PUNCT'), (',', 'PUNCT'), ('<UNK>', 'NOUN'), ('<UNK>', 'NOUN'), (',', 'PUNCT'), ('bet', 'CCONJ'), ('jis', 'PRON'), ('man', 'PRON'), ('dar', 'PART'), ('nieko', 'PRON'), ('nereiškė', 'VERB'), ('.', 'PUNCT')], [('O', 'CCONJ'), ('tėvas', 'VERB'), ('jau', 'ADV'), ('<UNK>', 'NOUN'), ('<UNK>', 'NOUN'), (',', 'PUNCT'), ('<UNK>', 'NOUN'), ('toliau', 'ADV'), ('<UNK>', 'NOUN'), ('.', 'PUNCT')], [('Matyt', 'VERB'), (',', 'PUNCT'), ('jis', 'PRON'), ('irgi', 'ADV'), ('būtų', 'AUX'), ('buvęs', 'VERB'), ('nieko', 'PRON'), ('prieš', 'VERB'), (',', 'PUNCT'), ('kad', 'SCONJ'), ('<UNK>', 'NOUN'), ('<UNK>', 'NOUN'), (',', 'PUNCT'), ('bet', 'CCONJ'), ('<UNK>', 'NOUN'), ('ir', 'CCONJ'), ('<UNK>', 'NOUN'), ('<UNK>', 'NOUN'), ('neleido', 'VERB'), ('jam', 'PRON'), ('<UNK>', 'NOUN'), ('<UNK>', 'NOUN'), ('skaitytojo', 'NOUN'), ('pro', 'X'), ('duris', 'NOUN'), ('.', 'PUNCT')], [('Nors', 'SCONJ'), ('šis', 'DET'), ('ir', 'CCONJ'), ('buvo', 'AUX'), ('<UNK>', 'NOUN'), ('<UNK>', 'NOUN'), (',', 'PUNCT'), ('tėvas', 'NOUN'), (',', 'PUNCT'), ('norėdamas', 'VERB'), ('pasirodyti', 'VERB'), ('esąs', 'NOUN'), ('tikras', 'X'), ('<UNK>', 'PUNCT'), (',', 'PUNCT'), ('taip', 'PART'), ('<UNK>', 'PUNCT'), ('<UNK>', 'NOUN'), ('į', 'ADP'), ('mano', 'PRON'), ('antrąjį', 'VERB'), ('<UNK>', 'NOUN'), (',', 'PUNCT'), ('jog', 'SCONJ'), ('<UNK>', 'PUNCT'), ('mašinėlės', 'NOUN'), ('<UNK>', 'NOUN'), ('(', 'PUNCT'), ('ar', 'CCONJ'), ('<UNK>', 'NOUN'), ('?', 'PUNCT'), (')', 'PUNCT'), ('<UNK>', 'NOUN'), ('ir', 'CCONJ'), ('<UNK>', 'NOUN'), ('.', 'PUNCT')], [('<UNK>', 'PUNCT'), ('ji', 'PRON'), ('ne', 'PART'), ('<UNK>', 'PUNCT'), (',', 'PUNCT'), ('o', 'CCONJ'), ('<UNK>', 'NOUN'), ('ar', 'CCONJ'), ('<UNK>', 'NOUN'), (',', 'PUNCT'), ('bet', 'CCONJ'), ('tėvas', 'NOUN'), ('vis', 'ADV'), ('tiek', 'ADV'), ('<UNK>', 'PUNCT'), ('abi', 'NOUN'), ('rankas', 'NOUN'), ('ir', 'CCONJ'), ('<UNK>', 'NOUN'), ('balsu', 'NOUN'), ('<UNK>', 'NOUN'), (':', 'PUNCT')], [('–', 'PUNCT'), ('<UNK>', 'PUNCT'), (',', 'PUNCT'), ('<UNK>', 'NOUN'), (',', 'PUNCT'), ('<UNK>', 'NOUN'), ('...', 'PUNCT')], [('<UNK>', 'PUNCT'), ('<UNK>', 'PUNCT'), ('<UNK>', 'NOUN'), ('akis', 'NOUN'), ('nuo', 'ADP'), ('laikraščio', 'NOUN'), (',', 'PUNCT'), ('linksmai', 'ADV'), ('<UNK>', 'NOUN'), ('į', 'ADP'), ('mane', 'PRON'), (',', 'PUNCT'), ('<UNK>', 'NOUN'), ('<UNK>', 'NOUN'), ('ir', 'CCONJ'), ('<UNK>', 'NOUN'), (':', 'PUNCT')], [('–', 'PUNCT'), ('Tai', 'DET'), ('aš', 'PRON'), ('ir', 'CCONJ'), ('<UNK>', 'NOUN'), ('!', 'PUNCT')], [('<UNK>', 'PUNCT'), ('dar', 'PART'), ('šiandien', 'ADV'), ('<UNK>', 'NOUN'), ('.', 'PUNCT')], [('<UNK>', 'PUNCT'), (',', 'PUNCT'), ('<UNK>', 'NOUN'), ('!', 'PUNCT')], [('Už', 'ADP'), ('vieną', 'NUM'), ('<UNK>', 'PUNCT'), ('...', 'PUNCT')], [('Jis', 'PRON'), (',', 'PUNCT'), ('matyt', 'PART'), (',', 'PUNCT'), ('norėjo', 'VERB'), ('pasakyti', 'VERB'), ('„', 'PUNCT'), ('už', 'ADP'), ('vieną', 'NUM'), ('pusiau', 'ADV'), ('<UNK>', 'NOUN'), (',', 'PUNCT'), ('pusiau', 'ADV'), ('<UNK>', 'NOUN'), ('“', 'PUNCT'), (',', 'PUNCT'), ('bet', 'CCONJ'), ('ką', 'PRON'), ('čia', 'ADV'), ('!', 'PUNCT')], [('<UNK>', 'PUNCT'), ('mane', 'PRON'), ('<UNK>', 'NOUN'), ('<UNK>', 'NOUN'), ('<UNK>', 'NOUN'), ('.', 'PUNCT')], [('Net', 'VERB'), ('<UNK>', 'PUNCT'), ('iš', 'ADP'), ('<UNK>', 'NOUN'), (',', 'PUNCT'), ('<UNK>', 'NOUN'), ('kaip', 'SCONJ'), ('lietus', 'NOUN'), ('<UNK>', 'NOUN'), ('<UNK>', 'NOUN'), ('–', 'PUNCT'), ('<UNK>', 'NOUN'), (',', 'PUNCT'), ('kas', 'PRON'), ('manęs', 'NOUN'), ('dabar', 'ADV'), ('<UNK>', 'NOUN'), ('!', 'PUNCT')], [('Taip', 'PART'), ('ir', 'PART'), ('buvo', 'AUX'), ('.', 'PUNCT')], [('–', 'PUNCT'), ('<UNK>', 'PUNCT'), ('eiti', 'VERB'), ('<UNK>', 'NOUN'), (',', 'PUNCT'), ('–', 'PUNCT'), ('<UNK>', 'NOUN'), ('tėvas', 'NOUN'), (',', 'PUNCT'), ('tarsi', 'PART'), ('būtų', 'AUX'), ('visai', 'ADV'), ('<UNK>', 'PUNCT'), ('dėl', 'ADP'), ('mano', 'PRON'), ('<UNK>', 'NOUN'), ('.', 'PUNCT')], [('<UNK>', 'PUNCT'), (',', 'PUNCT'), ('<UNK>', 'NOUN'), ('<UNK>', 'NOUN'), (',', 'PUNCT'), ('kas', 'PRON'), ('čia', 'ADV'), ('atsitiko', 'VERB'), (',', 'PUNCT'), ('<UNK>', 'NOUN'), ('<UNK>', 'NOUN'), ('<UNK>', 'NOUN'), (',', 'PUNCT'), ('skubėdami', 'VERB'), ('<UNK>', 'NOUN'), ('<UNK>', 'NOUN'), ('kitiems', 'PRON'), ('vaikams', 'NOUN'), (',', 'PUNCT'), ('kurių', 'DET'), ('<UNK>', 'NOUN'), ('dabar', 'ADV'), ('<UNK>', 'NOUN'), ('visas', 'DET'), ('<UNK>', 'NOUN'), ('.', 'PUNCT')], [('–', 'PUNCT'), ('<UNK>', 'PUNCT'), ('aš', 'PRON'), ('<UNK>', 'NOUN'), ('!', 'PUNCT'), ('–', 'PUNCT'), ('<UNK>', 'NOUN'), ('.', 'PUNCT')], [('–', 'PUNCT'), ('<UNK>', 'PUNCT'), (',', 'PUNCT'), ('ką', 'PRON'), ('norit', 'VERB'), (',', 'PUNCT'), ('<UNK>', 'NOUN'), ('!', 'PUNCT')], [('Tada', 'ADV'), ('mama', 'VERB'), ('<UNK>', 'PUNCT'), ('kaimynų', 'NOUN'), ('<UNK>', 'NOUN'), (',', 'PUNCT'), ('<UNK>', 'NOUN'), ('už', 'ADP'), ('mane', 'PRON'), (',', 'PUNCT'), ('kad', 'SCONJ'), ('ši', 'DET'), ('mane', 'NOUN'), ('<UNK>', 'NOUN'), (',', 'PUNCT'), ('<UNK>', 'NOUN'), (',', 'PUNCT'), ('sakytų', 'VERB'), (',', 'PUNCT'), ('jog', 'SCONJ'), ('kiekvienam', 'NOUN'), ('taip', 'ADV'), ('gali', 'VERB'), ('atsitikti', 'VERB'), ('ir', 'CCONJ'), ('panašiai', 'ADV'), ('.', 'PUNCT')], [('Bet', 'CCONJ'), ('ir', 'PART'), ('ji', 'PRON'), ('<UNK>', 'NOUN'), ('vos', 'ADV'), ('<UNK>', 'NOUN'), ('<UNK>', 'NOUN'), ('–', 'PUNCT'), ('taip', 'ADV'), ('<UNK>', 'PUNCT'), ('aš', 'PRON'), ('<UNK>', 'PUNCT'), ('!', 'PUNCT')], [('Visai', 'PART'), ('<UNK>', 'PUNCT'), ('<UNK>', 'NOUN'), (',', 'PUNCT'), ('kad', 'SCONJ'), ('ir', 'PART'), ('tėvas', 'ADJ'), (',', 'PUNCT'), ('<UNK>', 'NOUN'), ('į', 'ADP'), ('mane', 'PRON'), (',', 'PUNCT'), ('<UNK>', 'NOUN'), ('ir', 'CCONJ'), ('<UNK>', 'NOUN'), ('<UNK>', 'NOUN'), ('.', 'PUNCT')], [('To', 'ADV'), ('jau', 'ADV'), ('buvo', 'AUX'), ('per', 'ADP'), ('daug', 'ADV'), ('!', 'PUNCT')], [('Iki', 'ADP'), ('<UNK>', 'PUNCT'), ('<UNK>', 'NOUN'), ('buvo', 'AUX'), ('<UNK>', 'NOUN'), ('daugiau', 'ADV'), ('kaip', 'SCONJ'), ('<UNK>', 'NOUN'), ('amžiaus', 'NOUN'), ('.', 'PUNCT')], [('Iš', 'ADV'), ('kur', 'ADV'), ('aš', 'PRON'), ('galėjau', 'VERB'), ('žinoti', 'VERB'), (',', 'PUNCT'), ('kad', 'SCONJ'), ('<UNK>', 'NOUN'), ('laikas', 'NOUN'), (',', 'PUNCT'), ('kai', 'SCONJ'), ('mano', 'PRON'), ('<UNK>', 'NOUN'), ('būtų', 'AUX'), ('<UNK>', 'NOUN'), ('<UNK>', 'NOUN'), ('?', 'PUNCT')], [('<UNK>', 'PUNCT'), ('save', 'PRON'), ('veidrodyje', 'NOUN'), (',', 'PUNCT'), ('aš', 'PRON'), ('pats', 'DET'), ('taip', 'PART'), ('<UNK>', 'PUNCT'), (',', 'PUNCT'), ('jog', 'SCONJ'), ('<UNK>', 'PUNCT'), ('<UNK>', 'NOUN'), ('raitytis', 'VERB'), ('iš', 'ADP'), ('<UNK>', 'NOUN'), (',', 'PUNCT'), ('<UNK>', 'NOUN'), (',', 'PUNCT'), ('<UNK>', 'NOUN'), ('.', 'PUNCT')], [('Tikrai', 'ADV'), ('<UNK>', 'PUNCT'), ('<UNK>', 'NOUN'), ('!', 'PUNCT')], [('Tai', 'DET'), ('mane', 'PRON'), ('ir', 'CCONJ'), ('<UNK>', 'NOUN'), (':', 'PUNCT'), ('vaikai', 'NOUN'), (',', 'PUNCT'), ('<UNK>', 'NOUN'), ('langą', 'NOUN'), ('ir', 'CCONJ'), ('<UNK>', 'NOUN'), ('į', 'ADP'), ('mane', 'PRON'), (',', 'PUNCT'), ('<UNK>', 'NOUN'), ('nustojo', 'VERB'), ('<UNK>', 'NOUN'), (',', 'PUNCT'), ('netgi', 'PART'), ('<UNK>', 'NOUN'), ('ir', 'CCONJ'), ('<UNK>', 'NOUN'), ('<UNK>', 'NOUN'), ('.', 'PUNCT')], [('O', 'CCONJ'), ('tie', 'DET'), (',', 'PUNCT'), ('kurie', 'DET'), ('liko', 'VERB'), (',', 'PUNCT'), ('<UNK>', 'NOUN'), ('<UNK>', 'NOUN'), ('į', 'ADP'), ('mano', 'PRON'), ('<UNK>', 'PUNCT'), ('galvą', 'NOUN'), ('.', 'PUNCT')], [('–', 'PUNCT'), ('<UNK>', 'PUNCT'), ('pinigų', 'NOUN'), ('!', 'PUNCT')], [('Einu', 'NUM'), ('!', 'PUNCT'), ('–', 'PUNCT'), ('<UNK>', 'PUNCT'), ('<UNK>', 'NOUN'), ('.', 'PUNCT')], [('<UNK>', 'PUNCT'), ('tuoj', 'VERB'), ('<UNK>', 'PUNCT'), ('man', 'PRON'), ('<UNK>', 'NOUN'), ('<UNK>', 'NOUN'), ('<UNK>', 'NOUN'), ('ir', 'CCONJ'), ('<UNK>', 'NOUN'), ('<UNK>', 'NOUN'), (',', 'PUNCT'), ('kad', 'SCONJ'), ('<UNK>', 'NOUN'), ('du', 'NUM'), ('<UNK>', 'PUNCT'), ('galiu', 'VERB'), ('išleisti', 'VERB'), ('kaip', 'SCONJ'), ('tinkamas', 'ADJ'), ('.', 'PUNCT')], [('Tėvas', 'ADJ'), (',', 'PUNCT'), ('žinoma', 'VERB'), (',', 'PUNCT'), ('<UNK>', 'NOUN'), (',', 'PUNCT'), ('bet', 'CCONJ'), ('šito', 'DET'), ('sprendimo', 'NOUN'), ('negalėjo', 'VERB'), ('atšaukti', 'VERB'), (',', 'PUNCT'), ('<UNK>', 'NOUN'), ('broliai', 'NOUN'), ('<UNK>', 'NOUN'), ('kaip', 'SCONJ'), ('rudens', 'NOUN'), ('<UNK>', 'NOUN'), ('.', 'PUNCT')], [('...', 'PUNCT'), ('Iki', 'ADP'), ('tos', 'DET'), ('<UNK>', 'NOUN'), ('buvo', 'AUX'), ('<UNK>', 'NOUN'), ('kelio', 'NOUN'), (',', 'PUNCT'), ('bet', 'CCONJ'), ('mane', 'PRON'), ('<UNK>', 'NOUN'), ('<UNK>', 'NOUN'), ('<UNK>', 'NOUN'), ('<UNK>', 'NOUN'), ('ir', 'CCONJ'), ('<UNK>', 'NOUN'), ('<UNK>', 'NOUN'), ('.', 'PUNCT')], [('<UNK>', 'PUNCT'), ('<UNK>', 'PUNCT'), ('<UNK>', 'NOUN'), ('į', 'ADP'), ('mūsų', 'PRON'), ('<UNK>', 'PUNCT'), ('ir', 'CCONJ'), ('<UNK>', 'NOUN'), ('<UNK>', 'NOUN'), ('.', 'PUNCT')], [('<UNK>', 'PUNCT'), ('mane', 'PRON'), (',', 'PUNCT'), ('<UNK>', 'NOUN'), ('ir', 'CCONJ'), ('<UNK>', 'NOUN'), ('<UNK>', 'NOUN'), ('<UNK>', 'NOUN'), ('vyrai', 'NOUN'), ('iš', 'ADP'), ('<UNK>', 'NOUN'), ('eilės', 'NOUN'), (',', 'PUNCT'), ('nė', 'ADV'), ('žodžio', 'VERB'), ('<UNK>', 'NOUN'), (',', 'PUNCT'), ('<UNK>', 'NOUN'), (',', 'PUNCT'), ('<UNK>', 'NOUN'), ('į', 'ADP'), ('<UNK>', 'NOUN'), ('<UNK>', 'NOUN'), ('<UNK>', 'NOUN'), (',', 'PUNCT'), ('ir', 'CCONJ'), ('po', 'ADP'), ('kelių', 'PRON'), ('minučių', 'NOUN'), ('aš', 'PRON'), ('jau', 'ADV'), ('niekuo', 'VERB'), ('<UNK>', 'NOUN'), ('nuo', 'ADP'), ('savo', 'PRON'), ('kaimynų', 'NOUN'), (',', 'PUNCT'), ('<UNK>', 'NOUN'), ('ir', 'CCONJ'), ('priešų', 'NOUN'), ('.', 'PUNCT')], [('Net', 'VERB'), ('šiek', 'ADV'), ('tiek', 'ADV'), ('<UNK>', 'PUNCT'), (',', 'PUNCT'), ('kad', 'SCONJ'), ('vėl', 'ADV'), ('esu', 'VERB'), ('toks', 'DET'), ('kaip', 'SCONJ'), ('visi', 'DET'), ('–', 'PUNCT'), ('<UNK>', 'PUNCT'), ('ir', 'CCONJ'), ('<UNK>', 'NOUN'), ('<UNK>', 'NOUN'), ('<UNK>', 'NOUN'), ('su', 'ADP'), ('<UNK>', 'NOUN'), ('<UNK>', 'NOUN'), ('<UNK>', 'NOUN'), ('...', 'PUNCT')], [('ir', 'PART'), ('<UNK>', 'PUNCT'), ('savo', 'PRON'), ('<UNK>', 'NOUN'), ('.', 'PUNCT')], [('Bent', 'PART'), ('taip', 'PART'), ('<UNK>', 'PUNCT'), ('už', 'ADP'), ('<UNK>', 'NOUN'), ('ir', 'CCONJ'), ('<UNK>', 'NOUN'), ('!', 'PUNCT')], [('Dabar', 'ADV'), (',', 'PUNCT'), ('<UNK>', 'PUNCT'), ('<UNK>', 'NOUN'), (',', 'PUNCT'), ('<UNK>', 'NOUN'), ('<UNK>', 'NOUN'), (',', 'PUNCT'), ('kad', 'SCONJ'), ('mes', 'PRON'), (',', 'PUNCT'), ('kaip', 'SCONJ'), ('ir', 'PART'), ('visi', 'DET'), ('<UNK>', 'NOUN'), ('žmonės', 'NOUN'), (',', 'PUNCT'), ('vėl', 'ADV'), ('<UNK>', 'PUNCT'), ('<UNK>', 'NOUN'), ('<UNK>', 'NOUN'), ('<UNK>', 'NOUN'), ('.', 'PUNCT')], [('<UNK>', 'PUNCT'), ('tokią', 'DET'), ('teisę', 'NOUN'), (',', 'PUNCT'), ('gal', 'PART'), ('net', 'PART'), ('tarptautinę', 'ADJ'), ('!', 'PUNCT')], [('Tik', 'PART'), ('<UNK>', 'PUNCT'), ('<UNK>', 'NOUN'), (',', 'PUNCT'), ('<UNK>', 'NOUN'), ('<UNK>', 'NOUN'), ('<UNK>', 'NOUN'), (',', 'PUNCT'), ('vėl', 'ADV'), ('pasirodė', 'ADJ'), ('<UNK>', 'NOUN'), ('<UNK>', 'NOUN'), ('.', 'PUNCT')], [('Jis', 'PRON'), ('kažkodėl', 'ADV'), ('visiems', 'DET'), ('pareiškė', 'VERB'), (',', 'PUNCT'), ('kad', 'SCONJ'), ('tais', 'DET'), ('<UNK>', 'PUNCT'), ('<UNK>', 'NOUN'), ('visiškai', 'ADV'), ('<UNK>', 'PUNCT'), (',', 'PUNCT'), ('kad', 'SCONJ'), ('visa', 'PRON'), ('tai', 'DET'), ('tik', 'PART'), ('muilo', 'NOUN'), ('<UNK>', 'NOUN'), (',', 'PUNCT'), ('<UNK>', 'NOUN'), ('<UNK>', 'NOUN'), ('ir', 'CCONJ'), ('taip', 'ADV'), ('toliau', 'ADV'), ('.', 'PUNCT')], [('<UNK>', 'PUNCT'), ('<UNK>', 'PUNCT'), ('<UNK>', 'NOUN'), ('<UNK>', 'NOUN'), ('<UNK>', 'NOUN'), ('vyras', 'NOUN'), (',', 'PUNCT'), ('o', 'CCONJ'), ('gal', 'PART'), ('<UNK>', 'NOUN'), ('ir', 'CCONJ'), ('buvo', 'AUX'), (',', 'PUNCT'), ('kas', 'PRON'), ('čia', 'ADV'), ('žino', 'VERB'), ('.', 'PUNCT')], [('Tėvas', 'ADJ'), ('labai', 'ADV'), ('keistai', 'X'), ('<UNK>', 'PUNCT'), ('į', 'ADP'), ('jį', 'PRON'), (',', 'PUNCT'), ('bet', 'CCONJ'), ('nieko', 'PRON'), ('<UNK>', 'PUNCT'), (':', 'PUNCT'), ('viskas', 'PRON'), (',', 'PUNCT'), ('kas', 'PRON'), ('parašyta', 'VERB'), ('laikraščiuose', 'NOUN'), (',', 'PUNCT'), ('jam', 'PRON'), ('buvo', 'AUX'), ('<UNK>', 'PUNCT'), ('.', 'PUNCT')], [('Bent', 'PART'), ('jau', 'PART'), ('mums', 'PRON'), (',', 'PUNCT'), ('vaikams', 'NOUN'), (',', 'PUNCT'), ('taip', 'PART'), ('atrodė', 'VERB'), ('.', 'PUNCT')], [('<UNK>', 'PUNCT'), ('savo', 'PRON'), ('politinę', 'ADJ'), ('informaciją', 'NOUN'), (',', 'PUNCT'), ('<UNK>', 'NOUN'), ('<UNK>', 'NOUN'), ('<UNK>', 'NOUN'), (',', 'PUNCT'), ('netgi', 'PART'), ('atsiprašė', 'VERB'), ('už', 'ADP'), ('<UNK>', 'NOUN'), ('toną', 'NOUN'), ('ir', 'CCONJ'), ('jau', 'ADV'), ('tikrai', 'ADV'), ('<UNK>', 'NOUN'), ('eiti', 'VERB'), (',', 'PUNCT'), ('bet', 'CCONJ'), ('<UNK>', 'NOUN'), ('<UNK>', 'NOUN'), (':', 'PUNCT')], [('–', 'PUNCT'), ('A', 'X'), ('!', 'PUNCT')], [('<UNK>', 'PUNCT'), ('<UNK>', 'PUNCT'), ('!', 'PUNCT')], [('<UNK>', 'PUNCT'), ('man', 'PRON'), ('tą', 'DET'), ('<UNK>', 'PUNCT'), ('.', 'PUNCT')], [('<UNK>', 'PUNCT'), ('<UNK>', 'PUNCT'), ('žmogui', 'NOUN'), (',', 'PUNCT'), ('jis', 'PRON'), ('puikus', 'VERB'), ('<UNK>', 'NOUN'), (',', 'PUNCT'), ('<UNK>', 'NOUN'), ('<UNK>', 'NOUN'), ('ir', 'CCONJ'), ('<UNK>', 'NOUN'), ('!', 'PUNCT')], [('Labai', 'ADV'), ('čia', 'ADV'), ('kas', 'PRON'), ('jo', 'PRON'), ('prašė', 'VERB'), ('<UNK>', 'NOUN'), ('!', 'PUNCT')], [('Mūsų', 'PRON'), ('<UNK>', 'PUNCT'), (',', 'PUNCT'), ('tėvas', 'NOUN'), ('<UNK>', 'NOUN'), ('<UNK>', 'NOUN'), ('<UNK>', 'NOUN'), ('ir', 'CCONJ'), ('<UNK>', 'NOUN'), (',', 'PUNCT'), ('ir', 'CCONJ'), ('<UNK>', 'NOUN'), ('<UNK>', 'NOUN'), (',', 'PUNCT'), ('ir', 'CCONJ'), ('dar', 'PART'), ('<UNK>', 'PUNCT'), (',', 'PUNCT'), ('kad', 'SCONJ'), ('jeigu', 'NUM'), ('jam', 'PRON'), ('dar', 'ADV'), ('<UNK>', 'PUNCT'), ('kokio', 'X'), ('laikraščio', 'NOUN'), ('ar', 'CCONJ'), ('<UNK>', 'PUNCT'), (',', 'PUNCT'), ('<UNK>', 'NOUN'), ('visuomet', 'ADV'), ('<UNK>', 'NOUN'), ('kreipiasi', 'VERB'), ('ar', 'CCONJ'), ('<UNK>', 'PUNCT'), ('.', 'PUNCT')], [('Taigi', 'PART'), ('perspektyva', 'VERB'), ('„', 'PUNCT'), ('<UNK>', 'PUNCT'), ('kaip', 'SCONJ'), ('žmonėms', 'NOUN'), ('“', 'PUNCT'), ('<UNK>', 'PUNCT'), ('kaip', 'SCONJ'), ('<UNK>', 'NOUN'), ('.', 'PUNCT')], [('Bet', 'CCONJ'), ('jau', 'PART'), ('po', 'ADP'), ('<UNK>', 'NOUN'), ('ar', 'CCONJ'), ('dviejų', 'ADJ'), ('<UNK>', 'NOUN'), ('<UNK>', 'NOUN'), ('<UNK>', 'NOUN'), ('<UNK>', 'NOUN'), ('<UNK>', 'NOUN'), ('<UNK>', 'NOUN'), (':', 'PUNCT')], [('–', 'PUNCT'), ('<UNK>', 'PUNCT'), ('į', 'ADP'), ('visus', 'DET'), ('<UNK>', 'PUNCT'), ('!', 'PUNCT')], [('<UNK>', 'PUNCT'), ('<UNK>', 'PUNCT'), ('gautas', 'VERB'), ('Ministro', 'NOUN'), ('<UNK>', 'NOUN'), ('...', 'PUNCT'), ('–', 'PUNCT'), ('ji', 'PRON'), ('<UNK>', 'NOUN'), ('<UNK>', 'NOUN'), (',', 'PUNCT'), ('–', 'PUNCT'), ('kad', 'SCONJ'), ('nuo', 'ADP'), ('lapkričio', 'NOUN'), ('pradžios', 'NOUN'), ('jums', 'VERB'), ('bus', 'AUX'), ('<UNK>', 'NOUN'), ('auginti', 'NOUN'), ('trijų', 'NUM'), ('keturių', 'NOUN'), ('centimetrų', 'NOUN'), ('<UNK>', 'NOUN'), ('!', 'PUNCT')], [('Ar', 'PART'), ('<UNK>', 'PUNCT'), (',', 'PUNCT'), ('vyrai', 'NOUN'), ('?', 'PUNCT')], [('Kur', 'PART'), ('čia', 'ADV'), ('<UNK>', 'PUNCT'), ('!', 'PUNCT')], [('Kaip', 'SCONJ'), ('ir', 'PART'), ('visi', 'DET'), ('<UNK>', 'NOUN'), (',', 'PUNCT'), ('šią', 'DET'), ('<UNK>', 'NOUN'), ('<UNK>', 'NOUN'), ('<UNK>', 'NOUN'), ('ir', 'CCONJ'), ('<UNK>', 'NOUN'), ('.', 'PUNCT')], [('Aš', 'PRON'), ('<UNK>', 'PUNCT'), ('ypatingą', 'ADJ'), ('pagrindą', 'NOUN'), ('taip', 'ADV'), ('<UNK>', 'PUNCT'), (':', 'PUNCT'), ('<UNK>', 'NOUN'), ('<UNK>', 'NOUN'), ('tėvas', 'NOUN'), ('dar', 'ADV'), ('nebuvo', 'VERB'), ('<UNK>', 'NOUN'), (',', 'PUNCT'), ('tad', 'ADV'), ('<UNK>', 'NOUN'), ('<UNK>', 'NOUN'), ('turėjo', 'VERB'), ('jau', 'ADV'), ('<UNK>', 'NOUN'), ('ir', 'CCONJ'), ('man', 'PRON'), ('.', 'PUNCT')], [('O', 'CCONJ'), ('<UNK>', 'PUNCT'), ('<UNK>', 'NOUN'), ('ir', 'CCONJ'), ('kas', 'PRON'), ('<UNK>', 'NOUN'), ('<UNK>', 'NOUN'), (',', 'PUNCT'), ('ir', 'CCONJ'), ('kur', 'ADV'), ('ji', 'PRON'), ('yra', 'VERB'), ('.', 'PUNCT')], [('<UNK>', 'PUNCT'), ('<UNK>', 'PUNCT'), (',', 'PUNCT'), ('tai', 'DET'), ('labai', 'ADV'), ('<UNK>', 'NOUN'), ('ir', 'CCONJ'), ('svarbus', 'ADJ'), ('<UNK>', 'NOUN'), ('<UNK>', 'NOUN'), (',', 'PUNCT'), ('nuo', 'ADP'), ('jo', 'PRON'), ('nemažai', 'ADV'), ('priklauso', 'VERB'), ('.', 'PUNCT')], [('<UNK>', 'PUNCT'), ('šį', 'DET'), ('vardą', 'NOUN'), ('laikraščiuose', 'NOUN'), (',', 'PUNCT'), ('aš', 'PRON'), ('ir', 'CCONJ'), ('dabar', 'ADV'), ('beveik', 'ADV'), ('visuomet', 'ADV'), ('<UNK>', 'NOUN'), ('<UNK>', 'NOUN'), ('istoriją', 'NOUN'), ('ir', 'CCONJ'), ('<UNK>', 'NOUN'), ('mašinėlės', 'NOUN'), ('<UNK>', 'NOUN'), ('.', 'PUNCT')], [('Tokie', 'DET'), ('dalykai', 'ADJ'), ('<UNK>', 'NOUN'), ('.', 'PUNCT')], [('Iki', 'ADP'), ('šiol', 'X'), ('<UNK>', 'PUNCT'), ('ir', 'CCONJ'), ('<UNK>', 'NOUN'), ('mano', 'PRON'), ('galvoje', 'NOUN'), ('tam', 'PRON'), ('tikra', 'X'), ('prasme', 'NOUN'), ('yra', 'AUX'), ('<UNK>', 'NOUN'), ('dalykai', 'ADJ'), (',', 'PUNCT'), ('nes', 'SCONJ'), ('politika', 'NOUN'), (',', 'PUNCT'), ('kaip', 'SCONJ'), ('žinoma', 'VERB'), (',', 'PUNCT'), ('visuomet', 'ADV'), ('prasideda', 'VERB'), ('nuo', 'ADP'), ('<UNK>', 'PUNCT'), (',', 'PUNCT'), ('o', 'CCONJ'), ('tik', 'PART'), ('paskui', 'ADV'), (',', 'PUNCT'), ('pamažu', 'ADV'), ('<UNK>', 'PUNCT'), ('aukštyn', 'VERB'), (',', 'PUNCT'), ('patenka', 'ADV'), ('į', 'ADP'), ('<UNK>', 'NOUN'), ('sluoksnius', 'NOUN'), (',', 'PUNCT'), ('ir', 'CCONJ'), ('galiausiai', 'ADV'), ('–', 'PUNCT'), ('į', 'ADP'), ('pačią', 'X'), ('<UNK>', 'PUNCT'), ('...', 'PUNCT')], [('<UNK>', 'PUNCT'), ('<UNK>', 'PUNCT'), ('<UNK>', 'NOUN'), ('<UNK>', 'NOUN'), ('<UNK>', 'NOUN'), ('liga', 'NOUN')], [('<UNK>', 'PUNCT'), ('ir', 'CCONJ'), ('pačių', 'DET'), ('<UNK>', 'NOUN'), ('<UNK>', 'NOUN'), ('<UNK>', 'NOUN'), ('liga', 'NOUN'), ('<UNK>', 'NOUN'), (',', 'PUNCT'), ('ir', 'CCONJ'), ('<UNK>', 'NOUN'), ('<UNK>', 'NOUN'), (',', 'PUNCT'), ('<UNK>', 'NOUN'), ('<UNK>', 'NOUN'), ('jos', 'PRON'), ('forma', 'NOUN'), ('.', 'PUNCT')], [('<UNK>', 'PUNCT'), ('-', 'PUNCT'), ('sunki', 'ADJ'), ('<UNK>', 'NOUN'), ('liga', 'NOUN'), (',', 'PUNCT'), ('kurią', 'DET'), ('sukelia', 'VERB'), ('į', 'ADP'), ('žmogaus', 'NOUN'), ('<UNK>', 'NOUN'), ('<UNK>', 'NOUN'), ('<UNK>', 'NOUN'), ('<UNK>', 'NOUN'), ('.', 'PUNCT')], [('Iki', 'ADP'), ('80', 'NUM'), ('proc', 'X'), ('.', 'PUNCT'), ('šia', 'DET'), ('liga', 'NOUN'), ('<UNK>', 'PUNCT'), ('ir', 'CCONJ'), ('<UNK>', 'NOUN'), ('<UNK>', 'NOUN'), ('miršta', 'VERB'), ('per', 'ADP'), ('15', 'NUM'), ('metų', 'NOUN'), ('.', 'PUNCT')], [('Lietuvoje', 'PROPN'), ('yra', 'AUX'), ('<UNK>', 'PUNCT'), ('E', 'VERB'), ('.', 'PUNCT'), ('<UNK>', 'PUNCT'), (',', 'PUNCT'), ('<UNK>', 'NOUN'), ('<UNK>', 'NOUN'), ('<UNK>', 'NOUN'), (',', 'PUNCT'), ('ir', 'CCONJ'), ('E', 'ADV'), ('.', 'PUNCT'), ('<UNK>', 'NOUN'), (',', 'PUNCT'), ('<UNK>', 'NOUN'), ('<UNK>', 'NOUN'), ('<UNK>', 'NOUN'), ('.', 'PUNCT')], [('Dažniausiai', 'ADV'), ('<UNK>', 'PUNCT'), ('<UNK>', 'NOUN'), ('-', 'PUNCT'), ('<UNK>', 'NOUN'), ('-', 'PUNCT'), ('<UNK>', 'NOUN'), ('<UNK>', 'NOUN'), (',', 'PUNCT'), ('<UNK>', 'NOUN'), ('-', 'PUNCT'), ('<UNK>', 'NOUN'), ('ar', 'CCONJ'), ('kituose', 'PRON'), ('<UNK>', 'NOUN'), ('.', 'PUNCT')], [('Kaip', 'SCONJ'), ('yra', 'AUX'), ('<UNK>', 'PUNCT'), ('<UNK>', 'NOUN'), ('ligų', 'NOUN'), ('<UNK>', 'NOUN'), ('ir', 'CCONJ'), ('kontrolės', 'NOUN'), ('centro', 'NOUN'), ('(', 'PUNCT'), ('<UNK>', 'NOUN'), (')', 'PUNCT'), ('<UNK>', 'NOUN'), ('<UNK>', 'NOUN'), ('<UNK>', 'NOUN'), ('<UNK>', 'NOUN'), (',', 'PUNCT'), ('<UNK>', 'NOUN'), ('<UNK>', 'NOUN'), ('yra', 'AUX'), ('lengviau', 'VERB'), ('<UNK>', 'PUNCT'), (',', 'PUNCT'), ('ją', 'PRON'), ('galima', 'VERB'), ('įveikti', 'VERB'), ('<UNK>', 'NOUN'), (',', 'PUNCT'), ('<UNK>', 'NOUN'), (',', 'PUNCT'), ('<UNK>', 'NOUN'), ('.', 'PUNCT')], [('Tuo', 'PART'), ('tarpu', 'X'), ('<UNK>', 'PUNCT'), (',', 'PUNCT'), ('kaip', 'SCONJ'), ('ir', 'PART'), ('<UNK>', 'NOUN'), (',', 'PUNCT'), ('gali', 'VERB'), ('<UNK>', 'NOUN'), ('į', 'ADP'), ('kitus', 'PRON'), ('<UNK>', 'NOUN'), ('.', 'PUNCT')], [('<UNK>', 'PUNCT'), ('duomenimis', 'NOUN'), (',', 'PUNCT'), ('2008', 'NUM'), ('metais', 'NOUN'), ('<UNK>', 'NOUN'), ('<UNK>', 'NOUN'), ('<UNK>', 'NOUN'), ('atvejai', 'NOUN'), (':', 'PUNCT'), ('11', 'NUM'), ('<UNK>', 'PUNCT'), ('<UNK>', 'NOUN'), ('ir', 'CCONJ'), ('21', 'ADJ'), ('-', 'PUNCT'), ('<UNK>', 'PUNCT'), ('<UNK>', 'NOUN'), ('atvejai', 'NOUN'), ('.', 'PUNCT')], [('Tuo', 'PART'), ('tarpu', 'X'), ('2007', 'VERB'), ('metais', 'NOUN'), ('ši', 'DET'), ('liga', 'NOUN'), ('buvo', 'AUX'), ('nustatyta', 'VERB'), ('12', 'NUM'), ('asmenų', 'NOUN'), (',', 'PUNCT'), ('o', 'CCONJ'), ('prieš', 'ADP'), ('dešimtmetį', 'NOUN'), ('ji', 'PRON'), ('būdavo', 'PART'), ('<UNK>', 'PUNCT'), ('tik', 'PART'), ('<UNK>', 'PUNCT'), ('asmenims', 'NOUN'), ('.', 'PUNCT')], [('2004', 'NUM'), ('-', 'PUNCT'), ('2008', 'NUM'), ('metų', 'NOUN'), ('duomenys', 'NOUN'), ('rodo', 'VERB'), (',', 'PUNCT'), ('kad', 'SCONJ'), ('<UNK>', 'NOUN'), ('<UNK>', 'NOUN'), ('dalį', 'NOUN'), ('sudaro', 'VERB'), ('<UNK>', 'NOUN'), ('<UNK>', 'NOUN'), (',', 'PUNCT'), ('tačiau', 'CCONJ'), ('per', 'ADP'), ('šiuos', 'DET'), ('metus', 'NOUN'), ('labai', 'ADV'), ('išaugo', 'VERB'), ('<UNK>', 'NOUN'), ('<UNK>', 'NOUN'), ('šios', 'DET'), ('<UNK>', 'NOUN'), ('forma', 'NOUN'), ('-', 'PUNCT'), ('<UNK>', 'NOUN'), ('<UNK>', 'NOUN'), ('rodiklis', 'NOUN'), (':', 'PUNCT'), ('nuo', 'ADP'), ('<UNK>', 'PUNCT'), ('iki', 'ADP'), ('<UNK>', 'PUNCT'), ('atvejo', 'NOUN'), (',', 'PUNCT'), ('<UNK>', 'NOUN'), ('100', 'NOUN'), ('tūkst', 'X'), ('.', 'PUNCT'), ('gyventojų', 'NOUN'), ('.', 'PUNCT')], [('2005', 'NUM'), ('-', 'PUNCT'), ('2007', 'NUM'), ('metais', 'NOUN'), ('<UNK>', 'NOUN'), ('<UNK>', 'NOUN'), ('sudarė', 'VERB'), ('trečdalį', 'NOUN'), ('visų', 'DET'), ('<UNK>', 'PUNCT'), ('atvejų', 'NOUN'), (',', 'PUNCT'), ('o', 'CCONJ'), ('2008', 'NUM'), ('metais', 'NOUN'), ('-', 'PUNCT'), ('jau', 'ADV'), ('daugiau', 'ADV'), ('nei', 'SCONJ'), ('pusę', 'NOUN'), (',', 'PUNCT'), ('teigiama', 'VERB'), ('<UNK>', 'NOUN'), ('.', 'PUNCT')], [('Anot', 'ADP'), ('<UNK>', 'PUNCT'), ('specialistų', 'NOUN'), (',', 'PUNCT'), ('ši', 'DET'), ('<UNK>', 'NOUN'), ('liga', 'NOUN'), ('dažniau', 'ADV'), ('nustatoma', 'PRON'), ('<UNK>', 'NOUN'), ('amžiuje', 'NOUN'), (',', 'PUNCT'), ('tai', 'PART'), ('yra', 'AUX'), ('<UNK>', 'PUNCT'), ('-', 'PUNCT'), ('64', 'ADJ'), ('ir', 'CCONJ'), ('per', 'ADP'), ('<UNK>', 'NOUN'), ('metų', 'NOUN'), ('amžiaus', 'NOUN'), ('žmonėms', 'NOUN'), ('.', 'PUNCT')], [('Tai', 'DET'), ('yra', 'AUX'), ('<UNK>', 'PUNCT'), ('<UNK>', 'NOUN'), (',', 'PUNCT'), ('kurių', 'DET'), ('<UNK>', 'NOUN'), ('<UNK>', 'NOUN'), ('gali', 'VERB'), ('<UNK>', 'NOUN'), ('nuo', 'ADP'), ('kelių', 'PRON'), ('<UNK>', 'NOUN'), ('iki', 'ADP'), ('5', 'NUM'), ('-', 'PUNCT'), ('15', 'NUM'), ('metų', 'NOUN'), ('.', 'PUNCT')], [('<UNK>', 'PUNCT'), ('duomenimis', 'NOUN'), (',', 'PUNCT'), ('tarp', 'ADP'), ('<UNK>', 'NOUN'), ('<UNK>', 'NOUN'), ('daugiau', 'ADV'), ('yra', 'AUX'), ('kaimo', 'ADJ'), ('nei', 'SCONJ'), ('miesto', 'NOUN'), ('gyventojų', 'NOUN'), ('.', 'PUNCT')], [('Specialistai', 'NOUN'), ('tai', 'DET'), ('aiškina', 'VERB'), ('tuo', 'DET'), (',', 'PUNCT'), ('kad', 'SCONJ'), ('pagrindiniai', 'ADJ'), ('šios', 'DET'), ('<UNK>', 'NOUN'), ('<UNK>', 'NOUN'), ('yra', 'AUX'), ('<UNK>', 'NOUN'), ('<UNK>', 'NOUN'), (',', 'PUNCT'), ('<UNK>', 'NOUN'), (',', 'PUNCT'), ('<UNK>', 'NOUN'), ('.', 'PUNCT')], [('<UNK>', 'PUNCT'), ('atvejai', 'NOUN'), ('per', 'ADP'), ('1996', 'ADJ'), ('-', 'PUNCT'), ('2008', 'NUM'), ('metus', 'NOUN'), ('<UNK>', 'NOUN'), ('29', 'NUM'), ('Lietuvos', 'PROPN'), ('<UNK>', 'NOUN'), ('.', 'PUNCT')], [('Daug', 'ADV'), ('<UNK>', 'PUNCT'), ('atvejų', 'NOUN'), ('<UNK>', 'NOUN'), ('Lietuvos', 'PROPN'), ('<UNK>', 'NOUN'), ('<UNK>', 'NOUN'), ('ir', 'CCONJ'), ('<UNK>', 'NOUN'), ('<UNK>', 'NOUN'), ('<UNK>', 'NOUN'), (',', 'PUNCT'), ('kur', 'ADV'), ('nustatyta', 'VERB'), ('<UNK>', 'NOUN'), ('<UNK>', 'NOUN'), ('<UNK>', 'NOUN'), ('<UNK>', 'NOUN'), ('.', 'PUNCT')], [('Tačiau', 'CCONJ'), ('per', 'ADP'), ('visus', 'DET'), ('šiuos', 'DET'), ('metus', 'NOUN'), ('<UNK>', 'NOUN'), ('<UNK>', 'NOUN'), ('atvejų', 'NOUN'), ('<UNK>', 'NOUN'), ('Vilniaus', 'PROPN'), ('rajone', 'NOUN'), ('-', 'PUNCT'), ('tai', 'DET'), ('yra', 'AUX'), ('46', 'ADJ'), ('atvejai', 'NOUN'), (',', 'PUNCT'), ('arba', 'CCONJ'), ('39', 'NUM'), ('proc', 'X'), ('.', 'PUNCT'), (',', 'PUNCT'), ('visų', 'DET'), ('atvejų', 'NOUN'), ('Lietuvoje', 'PROPN'), ('.', 'PUNCT')], [('Specialistai', 'NOUN'), ('<UNK>', 'PUNCT'), ('tokius', 'DET'), ('pagrindinius', 'ADJ'), ('veiksnius', 'NOUN'), (',', 'PUNCT'), ('kurie', 'DET'), ('lemia', 'VERB'), ('žmonių', 'NOUN'), ('<UNK>', 'NOUN'), ('<UNK>', 'NOUN'), ('<UNK>', 'NOUN'), (':', 'PUNCT'), ('<UNK>', 'NOUN'), (',', 'PUNCT'), ('<UNK>', 'NOUN'), ('<UNK>', 'NOUN'), ('augimas', 'NOUN'), ('bei', 'CCONJ'), ('jų', 'PRON'), ('<UNK>', 'NOUN'), ('<UNK>', 'NOUN'), (',', 'PUNCT'), ('netinkamas', 'ADJ'), ('<UNK>', 'NOUN'), ('<UNK>', 'NOUN'), ('bei', 'CCONJ'), ('<UNK>', 'NOUN'), (',', 'PUNCT'), ('aplinkos', 'NOUN'), ('<UNK>', 'NOUN'), ('<UNK>', 'NOUN'), ('<UNK>', 'NOUN'), (',', 'PUNCT'), ('didelis', 'ADJ'), ('<UNK>', 'NOUN'), ('<UNK>', 'NOUN'), ('<UNK>', 'NOUN'), ('aplinkoje', 'NOUN'), (',', 'PUNCT'), ('<UNK>', 'NOUN'), ('visuomenės', 'NOUN'), (',', 'PUNCT'), ('<UNK>', 'NOUN'), ('<UNK>', 'NOUN'), ('<UNK>', 'NOUN'), ('švietimas', 'NOUN'), (',', 'PUNCT'), ('<UNK>', 'NOUN'), (',', 'PUNCT'), ('taip', 'PART'), ('pat', 'X'), ('<UNK>', 'PUNCT'), ('<UNK>', 'NOUN'), ('įtakos', 'NOUN'), ('turėjo', 'VERB'), ('ir', 'CCONJ'), ('<UNK>', 'NOUN'), ('<UNK>', 'NOUN'), ('<UNK>', 'NOUN'), ('bei', 'CCONJ'), ('<UNK>', 'NOUN'), ('registracija', 'NOUN'), ('.', 'PUNCT')], [('<UNK>', 'PUNCT'), ('<UNK>', 'PUNCT'), ('galima', 'VERB'), ('visus', 'DET'), ('metus', 'NOUN'), (',', 'PUNCT'), ('kadangi', 'PART'), ('<UNK>', 'NOUN'), ('<UNK>', 'NOUN'), ('yra', 'AUX'), ('<UNK>', 'NOUN'), ('ir', 'CCONJ'), ('ilgai', 'ADV'), ('<UNK>', 'NOUN'), ('<UNK>', 'NOUN'), ('aplinkoje', 'NOUN'), (',', 'PUNCT'), ('tačiau', 'CCONJ'), ('yra', 'AUX'), ('<UNK>', 'NOUN'), (',', 'PUNCT'), ('kurių', 'DET'), ('metu', 'NOUN'), ('<UNK>', 'NOUN'), ('rizika', 'NOUN'), ('<UNK>', 'NOUN'), ('.', 'PUNCT')], [('Tai', 'DET'), ('yra', 'AUX'), ('<UNK>', 'PUNCT'), ('uogų', 'NOUN'), ('ir', 'CCONJ'), ('augalų', 'NOUN'), ('rinkimo', 'NOUN'), (',', 'PUNCT'), ('<UNK>', 'NOUN'), (',', 'PUNCT'), ('<UNK>', 'NOUN'), ('<UNK>', 'NOUN'), ('.', 'PUNCT')], [('<UNK>', 'PUNCT'), ('šia', 'DET'), ('liga', 'NOUN'), ('<UNK>', 'PUNCT'), ('<UNK>', 'NOUN'), ('<UNK>', 'NOUN'), ('<UNK>', 'NOUN'), ('uogų', 'NOUN'), ('arba', 'CCONJ'), ('<UNK>', 'NOUN'), ('<UNK>', 'NOUN'), ('<UNK>', 'NOUN'), ('vaisių', 'NOUN'), (',', 'PUNCT'), ('<UNK>', 'NOUN'), ('<UNK>', 'NOUN'), ('vandens', 'NOUN'), (',', 'PUNCT'), ('<UNK>', 'NOUN'), ('<UNK>', 'NOUN'), ('<UNK>', 'NOUN'), (',', 'PUNCT'), ('kuri', 'DET'), ('buvo', 'AUX'), ('<UNK>', 'PUNCT'), ('<UNK>', 'NOUN'), ('<UNK>', 'NOUN'), (',', 'PUNCT'), ('ir', 'CCONJ'), ('pan', 'X'), ('.', 'PUNCT')], [('<UNK>', 'PUNCT'), ('galima', 'VERB'), ('<UNK>', 'NOUN'), (',', 'PUNCT'), ('<UNK>', 'NOUN'), ('su', 'ADP'), ('<UNK>', 'NOUN'), ('<UNK>', 'NOUN'), ('ar', 'CCONJ'), ('kitu', 'PRON'), ('<UNK>', 'NOUN'), (',', 'PUNCT'), ('ant', 'ADP'), ('kurio', 'DET'), ('<UNK>', 'PUNCT'), ('ar', 'CCONJ'), ('<UNK>', 'NOUN'), ('gali', 'VERB'), ('būti', 'AUX'), ('<UNK>', 'PUNCT'), ('<UNK>', 'NOUN'), ('.', 'PUNCT')], [('Net', 'VERB'), ('ir', 'PART'), ('sveikas', 'ADJ'), ('<UNK>', 'NOUN'), ('gali', 'VERB'), ('būti', 'AUX'), ('<UNK>', 'PUNCT'), ('šaltinis', 'NOUN'), (',', 'PUNCT'), ('kai', 'SCONJ'), ('ant', 'ADP'), ('jo', 'PRON'), ('<UNK>', 'NOUN'), ('ar', 'CCONJ'), ('<UNK>', 'NOUN'), ('<UNK>', 'NOUN'), ('<UNK>', 'NOUN'), ('patenka', 'VERB'), ('per', 'ADP'), ('<UNK>', 'NOUN'), ('aplinką', 'NOUN'), ('ar', 'CCONJ'), ('<UNK>', 'PUNCT'), ('<UNK>', 'NOUN'), ('.', 'PUNCT')], [('<UNK>', 'PUNCT'), ('<UNK>', 'PUNCT'), ('ant', 'ADP'), ('maisto', 'NOUN'), (',', 'PUNCT'), ('namų', 'NOUN'), ('<UNK>', 'NOUN'), ('daiktų', 'NOUN'), ('gali', 'VERB'), ('<UNK>', 'NOUN'), ('per', 'ADP'), ('<UNK>', 'NOUN'), ('rankas', 'NOUN'), (',', 'PUNCT'), ('su', 'ADP'), ('<UNK>', 'NOUN'), (',', 'PUNCT'), ('juos', 'PRON'), ('gali', 'VERB'), ('pernešti', 'VERB'), ('<UNK>', 'NOUN'), (',', 'PUNCT'), ('<UNK>', 'NOUN'), (',', 'PUNCT'), ('<UNK>', 'NOUN'), (',', 'PUNCT'), ('<UNK>', 'NOUN'), ('.', 'PUNCT')], [('<UNK>', 'PUNCT'), ('nuo', 'ADP'), ('šios', 'DET'), ('<UNK>', 'PUNCT'), ('<UNK>', 'NOUN'), ('<UNK>', 'NOUN'), (',', 'PUNCT'), ('<UNK>', 'NOUN'), ('laikytis', 'NOUN'), ('asmens', 'NOUN'), ('<UNK>', 'NOUN'), ('-', 'PUNCT'), ('<UNK>', 'NOUN'), ('rankas', 'NOUN'), (',', 'PUNCT'), ('<UNK>', 'NOUN'), (',', 'PUNCT'), ('<UNK>', 'NOUN'), (',', 'PUNCT'), ('<UNK>', 'NOUN'), (',', 'PUNCT'), ('taip', 'PART'), ('pat', 'X'), ('<UNK>', 'PUNCT'), ('<UNK>', 'NOUN'), ('<UNK>', 'NOUN'), ('<UNK>', 'NOUN'), (',', 'PUNCT'), ('veido', 'NOUN'), ('.', 'PUNCT')], [('II', 'NUM'), ('.', 'PUNCT'), ('APIE', 'NUM'), ('<UNK>', 'NOUN'), ('<UNK>', 'NOUN'), ('.', 'PUNCT')], [('<UNK>', 'PUNCT'), ('saulės', 'NOUN'), ('šviesa', 'NOUN'), ('lapkričio', 'NOUN'), ('<UNK>', 'NOUN'), ('.', 'PUNCT')], [('Tokia', 'DET'), ('<UNK>', 'PUNCT'), (',', 'PUNCT'), ('kad', 'SCONJ'), ('<UNK>', 'NOUN'), ('<UNK>', 'NOUN'), ('<UNK>', 'NOUN'), ('kaip', 'SCONJ'), ('<UNK>', 'NOUN'), ('.', 'PUNCT')], [('Kaip', 'SCONJ'), ('<UNK>', 'PUNCT'), ('<UNK>', 'NOUN'), (',', 'PUNCT'), ('<UNK>', 'NOUN'), ('ką', 'PRON'), ('tik', 'PART'), ('<UNK>', 'PUNCT'), (',', 'PUNCT'), ('<UNK>', 'NOUN'), ('<UNK>', 'NOUN'), ('dar', 'PART'), ('<UNK>', 'PUNCT'), ('<UNK>', 'NOUN'), ('galvą', 'NOUN'), ('.', 'PUNCT')], [('Bet', 'CCONJ'), ('ne', 'PART'), ('galvos', 'NOUN'), ('<UNK>', 'NOUN'), ('po', 'ADP'), ('<UNK>', 'NOUN'), ('saulės', 'NOUN'), ('<UNK>', 'NOUN'), (',', 'PUNCT'), ('o', 'CCONJ'), ('<UNK>', 'NOUN'), ('<UNK>', 'NOUN'), (',', 'PUNCT'), ('ir', 'CCONJ'), ('tik', 'PART'), ('apie', 'ADP'), ('kai', 'PRON'), ('kurių', 'X'), ('<UNK>', 'PUNCT'), ('mes', 'PRON'), ('turime', 'VERB'), ('<UNK>', 'NOUN'), ('ir', 'CCONJ'), ('<UNK>', 'NOUN'), ('žinių', 'NOUN'), ('.', 'PUNCT')], [('Patys', 'DET'), ('<UNK>', 'PUNCT'), (',', 'PUNCT'), ('<UNK>', 'NOUN'), ('<UNK>', 'NOUN'), (',', 'PUNCT'), ('lyg', 'SCONJ'), ('<UNK>', 'NOUN'), ('kūno', 'NOUN'), ('<UNK>', 'NOUN'), ('ar', 'CCONJ'), ('<UNK>', 'NOUN'), ('<UNK>', 'NOUN'), (',', 'PUNCT'), ('yra', 'AUX'), ('muilo', 'NOUN'), ('<UNK>', 'NOUN'), ('.', 'PUNCT')], [('Lyg', 'VERB'), ('kokie', 'DET'), ('<UNK>', 'NOUN'), ('<UNK>', 'NOUN'), ('jos', 'PRON'), ('<UNK>', 'NOUN'), ('šalia', 'ADP'), ('<UNK>', 'NOUN'), ('gyvenimo', 'NOUN'), ('<UNK>', 'NOUN'), (',', 'PUNCT'), ('tik', 'PART'), ('niekas', 'NOUN'), ('dar', 'PART'), ('<UNK>', 'PUNCT'), ('jais', 'ADJ'), ('<UNK>', 'NOUN'), ('traukinio', 'NOUN'), (',', 'PUNCT'), ('niekas', 'NOUN'), ('<UNK>', 'NOUN'), ('tarp', 'ADP'), ('<UNK>', 'NOUN'), ('<UNK>', 'NOUN'), ('<UNK>', 'NOUN'), ('ir', 'CCONJ'), ('<UNK>', 'NOUN'), ('iš', 'ADP'), ('<UNK>', 'NOUN'), ('<UNK>', 'NOUN'), ('ar', 'CCONJ'), ('<UNK>', 'NOUN'), ('.', 'PUNCT')], [('<UNK>', 'PUNCT'), ('prie', 'ADP'), ('<UNK>', 'PUNCT'), ('<UNK>', 'NOUN'), ('<UNK>', 'NOUN'), ('<UNK>', 'NOUN'), ('<UNK>', 'NOUN'), ('<UNK>', 'NOUN'), (',', 'PUNCT'), ('beveik', 'ADV'), ('galiu', 'VERB'), ('<UNK>', 'PUNCT'), (',', 'PUNCT'), ('kad', 'SCONJ'), ('jis', 'PRON'), ('yra', 'VERB'), ('<UNK>', 'PUNCT'), ('<UNK>', 'NOUN'), ('Albertas', 'ADJ'), ('ar', 'CCONJ'), ('<UNK>', 'PUNCT'), ('<UNK>', 'NOUN'), ('.', 'PUNCT')], [('Kas', 'PRON'), (',', 'PUNCT'), ('kad', 'SCONJ'), ('<UNK>', 'NOUN'), ('.', 'PUNCT')], [('<UNK>', 'PUNCT'), ('<UNK>', 'PUNCT'), ('<UNK>', 'NOUN'), ('<UNK>', 'NOUN'), ('.', 'PUNCT')], [('O', 'CCONJ'), ('meilės', 'NOUN'), ('kiekvienam', 'NOUN'), ('<UNK>', 'NOUN'), ('paprastai', 'ADV'), ('būna', 'VERB'), ('tiek', 'ADV'), (',', 'PUNCT'), ('kiek', 'ADV'), ('<UNK>', 'NOUN'), ('<UNK>', 'NOUN'), (',', 'PUNCT'), ('bet', 'CCONJ'), ('aš', 'PRON'), ('nuo', 'ADP'), ('to', 'DET'), ('<UNK>', 'PUNCT'), ('<UNK>', 'NOUN'), (',', 'PUNCT'), ('atvirkščiai', 'ADV'), (',', 'PUNCT'), ('mane', 'PRON'), ('ima', 'VERB'), ('<UNK>', 'PUNCT'), ('neapykanta', 'VERB'), (',', 'PUNCT'), ('ir', 'CCONJ'), ('<UNK>', 'NOUN'), (',', 'PUNCT'), ('kad', 'SCONJ'), ('ne', 'PART'), ('<UNK>', 'NOUN'), ('<UNK>', 'NOUN'), ('ir', 'CCONJ'), ('ne', 'PART'), ('<UNK>', 'PUNCT'), (',', 'PUNCT'), ('o', 'CCONJ'), ('niekuo', 'PRON'), ('<UNK>', 'NOUN'), ('<UNK>', 'NOUN'), ('.', 'PUNCT')], [('<UNK>', 'PUNCT'), (',', 'PUNCT'), ('pavyzdžiui', 'NOUN'), ('.', 'PUNCT')], [('<UNK>', 'PUNCT'), ('<UNK>', 'PUNCT'), ('<UNK>', 'NOUN'), ('.', 'PUNCT')], [('Bet', 'CCONJ'), ('ar', 'CCONJ'), ('verta', 'NOUN'), ('<UNK>', 'NOUN'), ('<UNK>', 'NOUN'), ('<UNK>', 'NOUN')], [('Dėl', 'ADP'), ('ko', 'PRON'), ('<UNK>', 'PUNCT')], [('Kad', 'SCONJ'), ('<UNK>', 'PUNCT'), ('<UNK>', 'NOUN'), ('<UNK>', 'NOUN'), ('<UNK>', 'NOUN')], [('Viena', 'PRON'), ('aišku', 'NOUN'), ('-', 'PUNCT'), ('muilo', 'NOUN'), ('<UNK>', 'NOUN'), ('<UNK>', 'NOUN'), ('yra', 'AUX'), ('toks', 'DET'), ('pat', 'X'), ('<UNK>', 'PUNCT'), ('<UNK>', 'NOUN'), (',', 'PUNCT'), ('kaip', 'SCONJ'), ('ir', 'PART'), ('rūkymas', 'ADJ'), ('.', 'PUNCT')], [('Vyras', 'NOUN'), ('<UNK>', 'PUNCT'), (',', 'PUNCT'), ('kad', 'SCONJ'), ('nuo', 'ADP'), ('<UNK>', 'PUNCT'), ('<UNK>', 'NOUN'), ('kaip', 'SCONJ'), ('<UNK>', 'NOUN'), (',', 'PUNCT'), ('ir', 'CCONJ'), ('eina', 'VERB'), ('<UNK>', 'NOUN'), ('.', 'PUNCT')], [('Aš', 'PRON'), ('jam', 'PRON'), ('nieko', 'PRON'), ('<UNK>', 'PUNCT'), ('.', 'PUNCT')], [('Rudenį', 'NOUN'), ('virš', 'NOUN'), ('<UNK>', 'PUNCT'), ('<UNK>', 'NOUN'), ('<UNK>', 'NOUN'), ('kaip', 'SCONJ'), ('<UNK>', 'NOUN'), ('voratinkliai', 'NOUN'), (',', 'PUNCT'), ('retkarčiais', 'ADV'), ('<UNK>', 'NOUN'), ('ant', 'ADP'), ('<UNK>', 'NOUN'), ('virš', 'NOUN'), ('<UNK>', 'PUNCT'), ('<UNK>', 'NOUN'), ('<UNK>', 'NOUN'), ('ir', 'CCONJ'), ('<UNK>', 'NOUN'), ('kaip', 'SCONJ'), ('dar', 'PART'), ('<UNK>', 'PUNCT'), ('<UNK>', 'NOUN'), ('plaukai', 'NOUN'), ('.', 'PUNCT')], [('<UNK>', 'PUNCT'), (',', 'PUNCT'), ('kad', 'SCONJ'), ('bent', 'PART'), ('viename', 'PRON'), ('<UNK>', 'PUNCT'), ('<UNK>', 'NOUN'), ('tokį', 'DET'), ('<UNK>', 'NOUN'), ('<UNK>', 'NOUN')], [('<UNK>', 'PUNCT'), (',', 'PUNCT'), ('kad', 'SCONJ'), ('<UNK>', 'NOUN'), ('pasaulis', 'NOUN'), ('susijęs', 'VERB'), ('su', 'ADP'), ('<UNK>', 'NOUN'), ('.', 'PUNCT')], [('Bet', 'CCONJ'), ('<UNK>', 'PUNCT'), ('meilė', 'NOUN'), ('su', 'ADP'), ('<UNK>', 'PUNCT'), ('turi', 'VERB'), ('ką', 'PRON'), ('bendra', 'ADJ'), ('<UNK>', 'NOUN')], [('Todėl', 'ADV'), (',', 'PUNCT'), ('<UNK>', 'NOUN'), ('ir', 'CCONJ'), ('<UNK>', 'NOUN'), (',', 'PUNCT'), ('<UNK>', 'NOUN'), ('<UNK>', 'NOUN'), ('<UNK>', 'NOUN'), ('<UNK>', 'NOUN'), ('.', 'PUNCT')], [('<UNK>', 'PUNCT'), ('<UNK>', 'PUNCT'), ('žiūrėti', 'VERB'), ('<UNK>', 'NOUN'), ('eina', 'VERB'), ('tos', 'NOUN'), (',', 'PUNCT'), ('kurios', 'DET'), ('neturi', 'VERB'), ('televizorių', 'NOUN'), ('.', 'PUNCT')], [('IV', 'NOUN'), ('.', 'PUNCT'), ('APIE', 'NUM'), ('<UNK>', 'PUNCT'), ('<UNK>', 'NOUN'), ('.', 'PUNCT')], [('<UNK>', 'PUNCT'), ('<UNK>', 'PUNCT'), ('viena', 'PRON'), ('<UNK>', 'NOUN'), ('<UNK>', 'NOUN'), ('<UNK>', 'NOUN'), (',', 'PUNCT'), ('kad', 'SCONJ'), ('moters', 'NOUN'), ('<UNK>', 'NOUN'), ('bei', 'CCONJ'), ('<UNK>', 'NOUN'), ('<UNK>', 'NOUN'), ('ypatybes', 'NOUN'), ('ir', 'CCONJ'), ('asmenybės', 'NOUN'), ('<UNK>', 'NOUN'), ('lemia', 'VERB'), ('tam', 'PRON'), ('tikrų', 'X'), ('<UNK>', 'PUNCT'), ('<UNK>', 'NOUN'), ('(', 'PUNCT'), ('kokių', 'NOUN'), (',', 'PUNCT'), ('<UNK>', 'NOUN'), (',', 'PUNCT'), ('nes', 'SCONJ'), ('droviuosi', 'VERB'), ('-', 'PUNCT'), ('<UNK>', 'PUNCT'), ('<UNK>', 'NOUN'), ('<UNK>', 'NOUN'), ('sąlygomis', 'NOUN'), (')', 'PUNCT'), ('.', 'PUNCT')], [('Apie', 'ADP'), ('<UNK>', 'PUNCT'), ('ji', 'PRON'), ('nieko', 'PRON'), ('panašaus', 'NOUN'), ('<UNK>', 'NOUN'), (',', 'PUNCT'), ('tad', 'ADV'), ('man', 'PRON'), ('teko', 'VERB'), ('įsivaizduoti', 'VERB'), ('jų', 'PRON'), ('<UNK>', 'NOUN'), ('<UNK>', 'NOUN'), ('ir', 'CCONJ'), ('padaryti', 'VERB'), ('išvadą', 'NOUN'), (',', 'PUNCT'), ('kad', 'SCONJ'), ('<UNK>', 'NOUN'), ('vyras', 'NOUN'), ('su', 'ADP'), ('niekuo', 'PRON'), ('<UNK>', 'NOUN'), ('ir', 'CCONJ'), ('jo', 'PRON'), ('<UNK>', 'NOUN'), ('panašus', 'ADJ'), ('ne', 'PART'), ('į', 'ADP'), ('<UNK>', 'NOUN'), (',', 'PUNCT'), ('o', 'CCONJ'), ('į', 'ADP'), ('<UNK>', 'NOUN'), ('vienas', 'PRON'), ('nuo', 'ADP'), ('kito', 'PRON'), ('<UNK>', 'PUNCT'), ('<UNK>', 'NOUN'), ('<UNK>', 'NOUN'), ('.', 'PUNCT')], [('Tuo', 'PART'), ('tarpu', 'X'), ('moteris', 'NOUN'), ('<UNK>', 'PUNCT'), ('<UNK>', 'NOUN'), ('prie', 'ADP'), ('savo', 'PRON'), ('<UNK>', 'NOUN'), ('taško', 'NOUN'), ('.', 'PUNCT')], [('O', 'CCONJ'), ('jūs', 'PRON'), ('dar', 'ADV'), ('<UNK>', 'PUNCT'), (',', 'PUNCT'), ('feminizmo', 'NOUN'), ('<UNK>', 'NOUN'), (',', 'PUNCT'), ('<UNK>', 'NOUN'), ('<UNK>', 'NOUN'), (',', 'PUNCT'), ('kad', 'SCONJ'), ('moterys', 'NOUN'), ('<UNK>', 'NOUN'), ('ir', 'CCONJ'), ('<UNK>', 'NOUN'), (',', 'PUNCT'), ('kad', 'SCONJ'), ('neturi', 'VERB'), ('humoro', 'NOUN'), ('jausmo', 'NOUN'), ('.', 'PUNCT')], [('<UNK>', 'PUNCT'), ('kas', 'PRON'), ('<UNK>', 'NOUN'), ('ir', 'CCONJ'), ('dar', 'PART'), ('<UNK>', 'PUNCT'), ('vietoj', 'ADP'), ('alaus', 'NOUN'), ('<UNK>', 'NOUN'), ('.', 'PUNCT')], [('Kita', 'ADV'), ('<UNK>', 'PUNCT'), ('<UNK>', 'NOUN'), ('toje', 'DET'), ('pačioje', 'X'), ('knygoje', 'NOUN'), ('<UNK>', 'NOUN'), ('-', 'PUNCT'), ('girdi', 'NOUN'), (',', 'PUNCT'), ('Dievas', 'NOUN'), (',', 'PUNCT'), ('<UNK>', 'NOUN'), ('<UNK>', 'NOUN'), (',', 'PUNCT'), ('<UNK>', 'NOUN'), ('<UNK>', 'NOUN'), ('.', 'PUNCT')], [('Su', 'ADP'), ('<UNK>', 'PUNCT'), ('<UNK>', 'NOUN'), ('<UNK>', 'NOUN'), ('į', 'ADP'), ('<UNK>', 'NOUN'), ('.', 'PUNCT')], [('Gal', 'PART'), ('iš', 'ADP'), ('tiesų', 'X'), ('<UNK>', 'PUNCT')], [('Ar', 'PART'), ('kada', 'ADV'), ('<UNK>', 'PUNCT'), ('vidury', 'NOUN'), ('tuščio', 'NOUN'), ('<UNK>', 'NOUN'), ('<UNK>', 'NOUN'), ('<UNK>', 'NOUN'), ('galvą', 'NOUN'), (',', 'PUNCT'), ('<UNK>', 'NOUN'), ('<UNK>', 'NOUN'), ('<UNK>', 'NOUN'), ('ir', 'CCONJ'), ('<UNK>', 'NOUN'), ('<UNK>', 'NOUN')], [('<UNK>', 'PUNCT'), ('<UNK>', 'PUNCT'), ('į', 'ADP'), ('<UNK>', 'NOUN'), ('ir', 'CCONJ'), ('net', 'PART'), ('<UNK>', 'NOUN'), ('ji', 'PRON'), ('kelia', 'VERB'), ('<UNK>', 'NOUN')], [('O', 'CCONJ'), ('jeigu', 'SCONJ'), ('vietoj', 'ADP'), ('<UNK>', 'NOUN'), ('<UNK>', 'NOUN'), ('<UNK>', 'NOUN'), ('<UNK>', 'NOUN')], [('<UNK>', 'PUNCT'), ('tikra', 'X'), (',', 'PUNCT'), ('<UNK>', 'NOUN'), ('tuoj', 'VERB'), ('<UNK>', 'PUNCT'), ('.', 'PUNCT')], [('<UNK>', 'PUNCT'), ('-', 'PUNCT'), ('visai', 'ADV'), ('<UNK>', 'PUNCT'), ('<UNK>', 'NOUN'), ('.', 'PUNCT')], [('Ne', 'PART'), ('tik', 'PART'), ('todėl', 'ADV'), (',', 'PUNCT'), ('kad', 'SCONJ'), ('tai', 'DET'), ('<UNK>', 'NOUN'), ('<UNK>', 'NOUN'), ('per', 'ADP'), ('<UNK>', 'NOUN'), ('<UNK>', 'NOUN'), ('<UNK>', 'NOUN'), ('<UNK>', 'NOUN'), (',', 'PUNCT'), ('kam', 'ADV'), ('<UNK>', 'NOUN'), ('<UNK>', 'NOUN'), ('po', 'ADP'), ('<UNK>', 'NOUN'), ('<UNK>', 'NOUN'), ('ir', 'CCONJ'), ('kaip', 'SCONJ'), ('koks', 'DET'), ('<UNK>', 'NOUN'), ('pačią', 'X'), ('su', 'ADP'), ('vaikais', 'NOUN'), ('<UNK>', 'NOUN'), ('<UNK>', 'NOUN'), ('<UNK>', 'NOUN'), ('.', 'PUNCT')], [('<UNK>', 'PUNCT'), ('<UNK>', 'PUNCT'), (',', 'PUNCT'), ('ir', 'CCONJ'), ('viskas', 'PRON'), ('.', 'PUNCT')], [('Dievas', 'NOUN'), ('<UNK>', 'PUNCT'), ('būtų', 'AUX'), ('<UNK>', 'PUNCT'), ('sukurti', 'VERB'), ('ne', 'PART'), ('<UNK>', 'PUNCT'), (',', 'PUNCT'), ('o', 'CCONJ'), ('<UNK>', 'NOUN'), ('galvą', 'NOUN'), ('.', 'PUNCT')], [('<UNK>', 'PUNCT'), ('<UNK>', 'PUNCT'), ('iš', 'ADP'), ('<UNK>', 'NOUN'), ('<UNK>', 'NOUN'), ('.', 'PUNCT')], [('<UNK>', 'PUNCT'), ('<UNK>', 'PUNCT'), ('<UNK>', 'NOUN'), ('ir', 'CCONJ'), ('<UNK>', 'NOUN'), ('<UNK>', 'NOUN'), ('.', 'PUNCT')], [('<UNK>', 'PUNCT'), (',', 'PUNCT'), ('gal', 'PART'), ('<UNK>', 'NOUN'), ('<UNK>', 'NOUN'), ('<UNK>', 'NOUN'), ('<UNK>', 'NOUN'), ('<UNK>', 'NOUN'), ('<UNK>', 'NOUN')], [('Kur', 'PART'), ('tau', 'PRON'), ('.', 'PUNCT')], [('<UNK>', 'PUNCT'), ('į', 'ADP'), ('<UNK>', 'PUNCT'), ('moteris', 'NOUN'), ('ir', 'CCONJ'), ('apima', 'VERB'), ('<UNK>', 'NOUN'), ('<UNK>', 'NOUN'), ('.', 'PUNCT')], [('Viena', 'PRON'), ('-', 'PUNCT'), ('su', 'ADP'), ('<UNK>', 'NOUN'), ('<UNK>', 'NOUN'), (',', 'PUNCT'), ('kita', 'ADV'), ('-', 'PUNCT'), ('su', 'ADP'), ('<UNK>', 'NOUN'), ('automobiliu', 'NOUN'), (',', 'PUNCT'), ('<UNK>', 'NOUN'), ('-', 'PUNCT'), ('su', 'ADP'), ('<UNK>', 'NOUN'), ('ant', 'ADP'), ('<UNK>', 'NOUN'), ('...', 'PUNCT')], [('O', 'CCONJ'), ('kur', 'ADV'), ('vyrai', 'PRON'), ('<UNK>', 'NOUN')], [('Kur', 'PART'), ('<UNK>', 'PUNCT'), ('<UNK>', 'NOUN'), (',', 'PUNCT'), ('kur', 'ADV'), ('<UNK>', 'PUNCT'), ('<UNK>', 'NOUN'), ('<UNK>', 'NOUN')], [('<UNK>', 'PUNCT'), ('vienas', 'PRON'), ('<UNK>', 'NOUN'), ('ir', 'CCONJ'), ('labiausiai', 'ADV'), ('<UNK>', 'PUNCT'), ('moters', 'NOUN'), ('<UNK>', 'NOUN'), ('yra', 'AUX'), ('namų', 'NOUN'), ('<UNK>', 'NOUN'), ('<UNK>', 'NOUN')], [('<UNK>', 'PUNCT'), ('todėl', 'ADV'), (',', 'PUNCT'), ('kad', 'SCONJ'), ('dažniausiai', 'ADV'), ('šalia', 'ADP'), ('jos', 'PRON'), ('būna', 'VERB'), ('ne', 'PART'), ('vyras', 'NOUN'), (',', 'PUNCT'), ('o', 'CCONJ'), ('<UNK>', 'NOUN'), ('<UNK>', 'NOUN'), ('iš', 'ADP'), ('<UNK>', 'NOUN'), ('<UNK>', 'NOUN'), ('.', 'PUNCT')], [('Jis', 'PRON'), (',', 'PUNCT'), ('kaip', 'SCONJ'), ('žinoma', 'VERB'), (',', 'PUNCT'), ('<UNK>', 'PUNCT'), (',', 'PUNCT'), ('<UNK>', 'NOUN'), (',', 'PUNCT'), ('su', 'ADP'), ('namų', 'NOUN'), ('<UNK>', 'PUNCT'), ('nesusijęs', 'NOUN'), (',', 'PUNCT'), ('su', 'ADP'), ('juo', 'PRON'), ('dažniausiai', 'ADV'), ('baisu', 'ADJ'), ('-', 'PUNCT'), ('<UNK>', 'PUNCT'), (',', 'PUNCT'), ('kas', 'PRON'), ('jam', 'PRON'), ('<UNK>', 'NOUN'), ('į', 'ADP'), ('galvą', 'NOUN'), ('.', 'PUNCT')], [('O', 'CCONJ'), ('štai', 'PART'), ('jeigu', 'SCONJ'), ('tikras', 'X'), ('vyras', 'NOUN'), ('<UNK>', 'NOUN'), ('iš', 'ADP'), ('paskos', 'X'), ('<UNK>', 'PUNCT'), ('<UNK>', 'NOUN'), ('<UNK>', 'NOUN'), ('ar', 'CCONJ'), ('<UNK>', 'NOUN'), ('<UNK>', 'NOUN'), ('<UNK>', 'NOUN'), (',', 'PUNCT'), ('būtų', 'AUX'), ('jau', 'ADV'), ('ne', 'PART'), ('baisu', 'ADJ'), (',', 'PUNCT'), ('o', 'CCONJ'), ('juokinga', 'NOUN'), (',', 'PUNCT'), ('nes', 'SCONJ'), ('esu', 'VERB'), ('tikra', 'X'), (',', 'PUNCT'), ('kad', 'SCONJ'), ('<UNK>', 'NOUN'), ('<UNK>', 'NOUN'), ('ant', 'ADP'), ('<UNK>', 'NOUN'), ('ir', 'CCONJ'), ('<UNK>', 'NOUN'), ('visus', 'DET'), ('<UNK>', 'NOUN'), ('išteklius', 'NOUN'), (',', 'PUNCT'), ('<UNK>', 'NOUN'), ('ant', 'ADP'), ('<UNK>', 'NOUN'), (',', 'PUNCT'), ('niekaip', 'PRON'), ('<UNK>', 'PUNCT'), ('<UNK>', 'NOUN'), ('<UNK>', 'NOUN'), ('.', 'PUNCT')], [('Tas', 'DET'), ('pats', 'DET'), ('ir', 'PART'), ('<UNK>', 'NOUN'), ('.', 'PUNCT')], [('Kai', 'SCONJ'), ('moteris', 'NOUN'), ('šalia', 'ADP'), (',', 'PUNCT'), ('vyro', 'NOUN'), ('<UNK>', 'NOUN'), ('įgauna', 'VERB'), ('<UNK>', 'NOUN'), ('bruožų', 'NOUN'), ('.', 'PUNCT')], [('<UNK>', 'PUNCT'), ('<UNK>', 'PUNCT'), (',', 'PUNCT'), ('<UNK>', 'NOUN'), ('<UNK>', 'NOUN'), ('.', 'PUNCT')], [('<UNK>', 'PUNCT'), ('vyras', 'NOUN'), ('norėtų', 'VERB'), ('būti', 'AUX'), ('<UNK>', 'PUNCT'), ('ar', 'CCONJ'), ('<UNK>', 'NOUN'), ('<UNK>', 'NOUN')], [('Juk', 'PART'), ('ne', 'PART'), ('<UNK>', 'PUNCT'), (',', 'PUNCT'), ('<UNK>', 'NOUN'), ('dalis', 'NOUN'), ('<UNK>', 'NOUN'), ('.', 'PUNCT')], [('Perfrazuojant', 'NOUN'), ('<UNK>', 'PUNCT'), ('<UNK>', 'NOUN'), ('Tu', 'PRON'), ('-', 'PUNCT'), ('mano', 'PRON'), ('<UNK>', 'NOUN'), (',', 'PUNCT'), ('aš', 'PRON'), ('-', 'PUNCT'), ('tavo', 'VERB'), ('<UNK>', 'NOUN'), (',', 'PUNCT'), ('galima', 'VERB'), ('<UNK>', 'NOUN'), (':', 'PUNCT'), ('Tu', 'PRON'), ('-', 'PUNCT'), ('mano', 'PRON'), ('<UNK>', 'NOUN'), ('<UNK>', 'NOUN'), (',', 'PUNCT'), ('aš', 'PRON'), ('-', 'PUNCT'), ('tavo', 'VERB'), ('<UNK>', 'NOUN'), ('<UNK>', 'NOUN'), ('...', 'PUNCT')], [('O', 'CCONJ'), ('gal', 'PART'), ('ne', 'PART'), ('<UNK>', 'PUNCT'), (',', 'PUNCT'), ('gal', 'PART'), ('-', 'PUNCT'), ('<UNK>', 'PUNCT'), ('<UNK>', 'NOUN')], [('Ne', 'PART'), ('.', 'PUNCT')], [('<UNK>', 'PUNCT'), ('-', 'PUNCT'), ('<UNK>', 'PUNCT'), ('.', 'PUNCT')], [('Ne', 'PART'), ('tik', 'PART'), ('todėl', 'ADV'), (',', 'PUNCT'), ('kad', 'SCONJ'), ('<UNK>', 'NOUN'), ('.', 'PUNCT')], [('<UNK>', 'PUNCT'), ('<UNK>', 'PUNCT'), ('<UNK>', 'NOUN'), (',', 'PUNCT'), ('o', 'CCONJ'), ('<UNK>', 'NOUN'), ('tuo', 'DET'), ('metu', 'NOUN'), ('lieka', 'VERB'), ('<UNK>', 'NOUN'), ('ir', 'CCONJ'), ('<UNK>', 'NOUN'), ('kaip', 'SCONJ'), ('<UNK>', 'NOUN'), ('<UNK>', 'NOUN'), ('<UNK>', 'NOUN'), ('.', 'PUNCT')], [('V', 'NUM'), ('.', 'PUNCT'), ('APIE', 'NUM'), ('<UNK>', 'NOUN'), ('IR', 'CCONJ'), ('<UNK>', 'NOUN'), ('<UNK>', 'NOUN'), ('.', 'PUNCT')], [('<UNK>', 'PUNCT'), ('yra', 'AUX'), ('tas', 'DET'), (',', 'PUNCT'), ('kuris', 'DET'), ('sako', 'VERB'), (',', 'PUNCT'), ('<UNK>', 'NOUN'), ('<UNK>', 'NOUN'), ('poeto', 'NOUN'), ('žodžiai', 'NOUN'), ('apie', 'ADP'), ('<UNK>', 'PUNCT'), ('<UNK>', 'NOUN'), ('.', 'PUNCT')], [('O', 'CCONJ'), ('kas', 'PRON'), ('gi', 'PART'), ('tu', 'PRON'), ('esi', 'AUX'), (',', 'PUNCT'), ('<UNK>', 'NOUN'), (',', 'PUNCT'), ('jei', 'SCONJ'), ('ne', 'PART'), ('mes', 'PRON'), ('<UNK>', 'PUNCT')], [('<UNK>', 'PUNCT'), ('<UNK>', 'PUNCT'), ('prie', 'ADP'), ('kiosko', 'NOUN'), (',', 'PUNCT'), ('taip', 'PART'), ('ir', 'PART'), ('norisi', 'VERB'), ('<UNK>', 'NOUN'), ('jį', 'PRON'), ('už', 'ADP'), ('<UNK>', 'NOUN'), ('ir', 'CCONJ'), ('<UNK>', 'NOUN'), (':', 'PUNCT'), ('„', 'PUNCT'), ('Ar', 'PART'), ('bent', 'PART'), ('suvoki', 'VERB'), (',', 'PUNCT'), ('kas', 'PRON'), ('esi', 'VERB'), ('<UNK>', 'NOUN'), ('“', 'PUNCT')], [('Bet', 'CCONJ'), ('į', 'ADP'), ('<UNK>', 'PUNCT'), ('klausimus', 'NOUN'), ('<UNK>', 'NOUN'), ('niekas', 'NOUN'), ('<UNK>', 'NOUN'), ('.', 'PUNCT')], [('Jeigu', 'SCONJ'), ('<UNK>', 'PUNCT'), (',', 'PUNCT'), ('kiek', 'ADV'), ('<UNK>', 'NOUN'), ('<UNK>', 'NOUN'), (',', 'PUNCT'), ('<UNK>', 'NOUN'), ('<UNK>', 'NOUN'), ('<UNK>', 'NOUN'), (':', 'PUNCT'), ('du', 'NUM'), ('<UNK>', 'PUNCT'), ('<UNK>', 'NOUN'), ('.', 'PUNCT')], [('<UNK>', 'PUNCT'), ('<UNK>', 'PUNCT'), ('jam', 'PRON'), ('<UNK>', 'NOUN'), ('už', 'ADP'), ('<UNK>', 'NOUN'), ('ir', 'CCONJ'), ('žmogų', 'NOUN'), ('<UNK>', 'NOUN')], [('Nežinau', 'VERB'), ('to', 'DET'), (',', 'PUNCT'), ('bet', 'CCONJ'), ('<UNK>', 'NOUN'), (',', 'PUNCT'), ('kad', 'SCONJ'), ('nuo', 'ADP'), ('<UNK>', 'PUNCT'), ('<UNK>', 'NOUN'), ('kur', 'ADV'), ('kas', 'ADV'), ('<UNK>', 'NOUN'), (',', 'PUNCT'), ('nei', 'SCONJ'), ('nuo', 'ADP'), ('<UNK>', 'PUNCT'), ('.', 'PUNCT')], [('O', 'CCONJ'), ('kaip', 'SCONJ'), ('būtų', 'AUX'), ('<UNK>', 'PUNCT'), (',', 'PUNCT'), ('jei', 'SCONJ'), ('ir', 'PART'), ('<UNK>', 'NOUN'), ('kas', 'PRON'), ('<UNK>', 'NOUN'), ('<UNK>', 'NOUN'), (':', 'PUNCT'), ('<UNK>', 'NOUN'), ('paminklo', 'NOUN'), ('<UNK>', 'NOUN'), ('nebus', 'VERB'), (',', 'PUNCT'), ('kaip', 'SCONJ'), ('<UNK>', 'NOUN'), ('jų', 'PRON'), ('idealo', 'NOUN'), ('<UNK>', 'NOUN')], [('Manau', 'VERB'), (',', 'PUNCT'), ('jį', 'PRON'), ('<UNK>', 'PUNCT'), ('ne', 'PART'), ('tik', 'PART'), ('<UNK>', 'PUNCT'), (',', 'PUNCT'), ('bet', 'CCONJ'), ('ir', 'PART'), ('<UNK>', 'NOUN'), ('sluoksniai', 'NOUN'), ('.', 'PUNCT')], [('Ne', 'PART'), ('taip', 'PART'), ('<UNK>', 'PUNCT'), ('jiems', 'PRON'), ('būtų', 'AUX'), (',', 'PUNCT'), ('<UNK>', 'PUNCT'), ('į', 'ADP'), ('<UNK>', 'NOUN'), ('<UNK>', 'NOUN'), (',', 'PUNCT'), ('<UNK>', 'NOUN'), ('<UNK>', 'NOUN'), (':', 'PUNCT'), ('<UNK>', 'NOUN'), (',', 'PUNCT'), ('kad', 'SCONJ'), ('turi', 'VERB'), ('bendraminčių', 'NOUN'), ('ir', 'CCONJ'), ('<UNK>', 'NOUN'), ('<UNK>', 'NOUN'), ('.', 'PUNCT')], [('<UNK>', 'PUNCT'), ('<UNK>', 'PUNCT'), ('ryšys', 'NOUN'), ('dar', 'PART'), ('žadina', 'VERB'), ('man', 'PRON'), ('<UNK>', 'PUNCT'), ('tautų', 'NOUN'), ('<UNK>', 'NOUN'), ('ir', 'CCONJ'), ('<UNK>', 'NOUN'), ('.', 'PUNCT')], [('<UNK>', 'PUNCT'), ('tema', 'NOUN'), (':', 'PUNCT'), ('<UNK>', 'PUNCT'), ('švenčių', 'NOUN'), ('<UNK>', 'NOUN'), (',', 'PUNCT'), ('galima', 'VERB'), ('sumažinti', 'VERB'), ('daugelį', 'NOUN'), ('įtampą', 'NOUN'), ('<UNK>', 'NOUN'), ('<UNK>', 'NOUN')], [('<UNK>', 'PUNCT'), ('<UNK>', 'PUNCT')], [('<UNK>', 'PUNCT'), ('daugelis', 'NOUN'), ('mūsų', 'PRON'), (',', 'PUNCT'), ('<UNK>', 'NOUN'), ('nuo', 'ADP'), ('gruodžio', 'NOUN'), ('<UNK>', 'PUNCT'), (',', 'PUNCT'), ('kasmet', 'VERB'), ('sau', 'ADJ'), ('<UNK>', 'NOUN'), ('–', 'PUNCT'), ('<UNK>', 'NOUN'), ('jau', 'ADV'), ('kitais', 'PRON'), ('metais', 'NOUN'), ('viskuo', 'PRON'), ('<UNK>', 'NOUN'), ('anksčiau', 'ADV'), (':', 'PUNCT'), ('<UNK>', 'PUNCT'), (',', 'PUNCT'), ('maistu', 'NOUN'), (',', 'PUNCT'), ('<UNK>', 'NOUN'), ('.', 'PUNCT')], [('Bet', 'CCONJ'), (',', 'PUNCT'), ('<UNK>', 'PUNCT'), (',', 'PUNCT'), ('retai', 'ADV'), ('tuos', 'DET'), ('<UNK>', 'PUNCT'), ('<UNK>', 'NOUN'), ('.', 'PUNCT')], [('Taigi', 'PART'), (',', 'PUNCT'), ('kad', 'SCONJ'), ('ir', 'PART'), ('šiemet', 'ADV'), ('<UNK>', 'NOUN'), ('<UNK>', 'NOUN'), ('<UNK>', 'NOUN'), ('<UNK>', 'NOUN'), (',', 'PUNCT'), ('kai', 'SCONJ'), ('viską', 'PRON'), ('<UNK>', 'PUNCT'), ('<UNK>', 'NOUN'), ('<UNK>', 'NOUN'), (',', 'PUNCT'), ('<UNK>', 'NOUN'), ('<UNK>', 'NOUN'), ('<UNK>', 'NOUN'), ('jau', 'ADV'), ('dabar', 'ADV'), ('.', 'PUNCT')], [('Svarbiausia', 'ADJ'), ('<UNK>', 'PUNCT'), ('–', 'PUNCT'), ('<UNK>', 'NOUN'), ('jo', 'PRON'), ('tiek', 'ADV'), (',', 'PUNCT'), ('kiek', 'ADV'), ('reikės', 'VERB'), (',', 'PUNCT'), ('o', 'CCONJ'), ('ne', 'PART'), ('tiek', 'ADV'), (',', 'PUNCT'), ('kiek', 'ADV'), ('galime', 'VERB'), ('<UNK>', 'PUNCT'), ('.', 'PUNCT')], [('Kad', 'SCONJ'), ('<UNK>', 'PUNCT'), (',', 'PUNCT'), ('<UNK>', 'NOUN'), ('!', 'PUNCT')], [('<UNK>', 'PUNCT'), ('<UNK>', 'PUNCT'), ('Aplinkos', 'NOUN'), (',', 'PUNCT'), ('maisto', 'NOUN'), ('ir', 'CCONJ'), ('kaimo', 'NOUN'), ('reikalų', 'NOUN'), ('departamento', 'NOUN'), ('duomenimis', 'NOUN'), (',', 'PUNCT'), ('per', 'ADP'), ('<UNK>', 'NOUN'), ('metų', 'NOUN'), ('šventes', 'NOUN'), ('šalyje', 'NOUN'), ('į', 'ADP'), ('šiukšlių', 'NOUN'), ('<UNK>', 'NOUN'), ('patenka', 'VERB'), ('<UNK>', 'NOUN'), ('tūkst', 'X'), ('.', 'PUNCT'), ('tonų', 'PROPN'), ('maisto', 'NOUN'), ('.', 'PUNCT')], [('To', 'ADV'), ('galima', 'VERB'), ('išvengti', 'VERB'), ('griežtai', 'VERB'), ('<UNK>', 'PUNCT'), ('.', 'PUNCT')], [('Kad', 'SCONJ'), ('ir', 'PART'), ('šiandien', 'ADV'), ('<UNK>', 'NOUN'), ('<UNK>', 'NOUN'), (',', 'PUNCT'), ('kokius', 'DET'), ('patiekalus', 'NOUN'), ('<UNK>', 'NOUN'), ('<UNK>', 'NOUN'), (',', 'PUNCT'), ('ir', 'CCONJ'), ('<UNK>', 'NOUN'), ('produktų', 'NOUN'), ('sąrašą', 'NOUN'), ('.', 'PUNCT')], [('<UNK>', 'PUNCT'), ('ir', 'CCONJ'), ('apie', 'ADP'), ('tai', 'DET'), (',', 'PUNCT'), ('kaip', 'SCONJ'), ('<UNK>', 'NOUN'), ('darbus', 'NOUN'), (':', 'PUNCT'), ('ką', 'PRON'), ('<UNK>', 'NOUN'), ('ir', 'CCONJ'), ('<UNK>', 'NOUN'), ('iš', 'ADP'), ('anksto', 'X'), (',', 'PUNCT'), ('o', 'CCONJ'), ('ką', 'PRON'), ('<UNK>', 'NOUN'), ('<UNK>', 'NOUN'), ('<UNK>', 'NOUN'), ('.', 'PUNCT')], [('Dėl', 'ADP'), ('<UNK>', 'PUNCT'), (',', 'PUNCT'), ('<UNK>', 'NOUN'), ('būti', 'DET'), ('atvira', 'ADJ'), ('<UNK>', 'NOUN'), ('pasiūlymams', 'NOUN'), (',', 'PUNCT'), ('<UNK>', 'NOUN'), ('<UNK>', 'NOUN'), ('–', 'PUNCT'), ('nebūtina', 'ADJ'), ('kasmet', 'VERB'), ('<UNK>', 'NOUN'), ('baltą', 'ADJ'), ('<UNK>', 'NOUN'), ('ar', 'CCONJ'), ('<UNK>', 'NOUN'), ('su', 'ADP'), ('<UNK>', 'PUNCT'), ('.', 'PUNCT')], [('<UNK>', 'PUNCT'), ('<UNK>', 'PUNCT'), ('patiekalų', 'NOUN'), ('idėjų', 'NOUN'), ('<UNK>', 'NOUN'), ('internete', 'NOUN'), (',', 'PUNCT'), ('<UNK>', 'NOUN'), ('<UNK>', 'NOUN'), (',', 'PUNCT'), ('<UNK>', 'NOUN'), ('–', 'PUNCT'), ('<UNK>', 'NOUN'), ('<UNK>', 'NOUN'), ('!', 'PUNCT')], [('<UNK>', 'PUNCT'), ('patiekalus', 'NOUN'), ('ir', 'CCONJ'), ('produktus', 'NOUN'), (',', 'PUNCT'), ('<UNK>', 'NOUN'), ('paprasta', 'ADJ'), ('<UNK>', 'NOUN'), (':', 'PUNCT'), ('svarbu', 'ADJ'), ('ne', 'PART'), ('<UNK>', 'NOUN'), (',', 'PUNCT'), ('o', 'CCONJ'), ('kokybė', 'NOUN'), ('.', 'PUNCT')], [('Juk', 'PART'), ('<UNK>', 'PUNCT'), (',', 'PUNCT'), ('kad', 'SCONJ'), ('<UNK>', 'NOUN'), ('<UNK>', 'NOUN'), ('<UNK>', 'NOUN'), ('<UNK>', 'NOUN'), ('<UNK>', 'NOUN'), ('ant', 'ADP'), ('<UNK>', 'NOUN'), (',', 'PUNCT'), ('užuot', 'NOUN'), ('<UNK>', 'NOUN'), ('<UNK>', 'NOUN'), ('<UNK>', 'NOUN'), ('ir', 'CCONJ'), ('<UNK>', 'NOUN'), ('<UNK>', 'NOUN'), ('.', 'PUNCT')], [('Todėl', 'ADV'), ('keletas', 'PRON'), ('<UNK>', 'NOUN'), ('<UNK>', 'NOUN'), ('receptų', 'NOUN'), (',', 'PUNCT'), ('<UNK>', 'NOUN'), ('pagaminta', 'VERB'), ('<UNK>', 'NOUN'), (',', 'PUNCT'), ('<UNK>', 'NOUN'), ('<UNK>', 'NOUN'), ('<UNK>', 'NOUN'), ('bus', 'AUX'), ('<UNK>', 'NOUN'), ('<UNK>', 'NOUN'), ('jūsų', 'PRON'), ('<UNK>', 'NOUN'), ('.', 'PUNCT')], [('Jeigu', 'SCONJ'), ('į', 'ADP'), ('namus', 'NOUN'), ('<UNK>', 'NOUN'), ('<UNK>', 'NOUN'), ('<UNK>', 'NOUN'), (',', 'PUNCT'), ('<UNK>', 'NOUN'), ('kiekvieno', 'DET'), ('pasiruošti', 'VERB'), ('po', 'ADP'), ('<UNK>', 'NOUN'), ('–', 'PUNCT'), ('<UNK>', 'NOUN'), ('reikės', 'VERB'), ('mažiau', 'ADV'), ('<UNK>', 'PUNCT'), ('<UNK>', 'NOUN'), ('.', 'PUNCT')], [('<UNK>', 'PUNCT'), ('2', 'NUM'), ('<UNK>', 'NOUN'), ('iki', 'ADP'), ('Kalėdų', 'NOUN')], [('Ilgai', 'ADV'), ('<UNK>', 'PUNCT'), ('maisto', 'NOUN'), ('produktus', 'NOUN'), (':', 'PUNCT'), ('gėrimus', 'NOUN'), (',', 'PUNCT'), ('<UNK>', 'NOUN'), ('ir', 'CCONJ'), ('<UNK>', 'NOUN'), ('<UNK>', 'NOUN'), (',', 'PUNCT'), ('<UNK>', 'NOUN'), ('ir', 'CCONJ'), ('<UNK>', 'NOUN'), ('<UNK>', 'NOUN'), (',', 'PUNCT'), ('<UNK>', 'NOUN'), (',', 'PUNCT'), ('<UNK>', 'NOUN'), ('<UNK>', 'NOUN'), ('ar', 'CCONJ'), ('<UNK>', 'NOUN'), (',', 'PUNCT'), ('<UNK>', 'NOUN'), (',', 'PUNCT'), ('<UNK>', 'NOUN'), (',', 'PUNCT'), ('cukrų', 'NOUN'), ('ir', 'CCONJ'), ('visus', 'DET'), ('<UNK>', 'NOUN'), ('<UNK>', 'NOUN'), ('<UNK>', 'NOUN'), ('jau', 'ADV'), ('dabar', 'ADV'), ('–', 'PUNCT'), ('<UNK>', 'PUNCT'), ('<UNK>', 'NOUN'), ('nereikės', 'VERB'), ('<UNK>', 'NOUN'), ('<UNK>', 'NOUN'), ('ir', 'CCONJ'), ('<UNK>', 'NOUN'), (',', 'PUNCT'), ('kad', 'SCONJ'), ('prekybos', 'NOUN'), ('centre', 'NOUN'), ('<UNK>', 'NOUN'), ('<UNK>', 'NOUN'), ('.', 'PUNCT')], [('Jeigu', 'SCONJ'), ('<UNK>', 'PUNCT'), ('<UNK>', 'NOUN'), ('<UNK>', 'NOUN'), (',', 'PUNCT'), ('<UNK>', 'NOUN'), ('su', 'ADP'), ('jais', 'ADJ'), (',', 'PUNCT'), ('kad', 'SCONJ'), ('<UNK>', 'NOUN'), ('<UNK>', 'NOUN'), ('<UNK>', 'NOUN'), ('iki', 'ADP'), ('švenčių', 'NOUN'), ('<UNK>', 'NOUN'), ('mėsos', 'NOUN'), (',', 'PUNCT'), ('daržovių', 'NOUN'), (',', 'PUNCT'), ('pieno', 'NOUN'), ('produktų', 'NOUN'), ('ar', 'CCONJ'), ('žuvies', 'NOUN'), ('.', 'PUNCT')], [('Juk', 'PART'), ('<UNK>', 'PUNCT'), (',', 'PUNCT'), ('kad', 'SCONJ'), ('<UNK>', 'NOUN'), ('jiems', 'PRON'), ('<UNK>', 'NOUN'), ('<UNK>', 'NOUN'), ('<UNK>', 'NOUN'), ('gauti', 'VERB'), ('tai', 'DET'), (',', 'PUNCT'), ('ko', 'PRON'), ('reikia', 'VERB'), (',', 'PUNCT'), ('<UNK>', 'NOUN'), ('.', 'PUNCT')], [('Ne', 'PART'), ('<UNK>', 'PUNCT'), (',', 'PUNCT'), ('jei', 'SCONJ'), ('<UNK>', 'PUNCT'), ('<UNK>', 'NOUN'), ('iš', 'ADP'), ('anksto', 'X'), ('ir', 'CCONJ'), ('<UNK>', 'NOUN'), ('.', 'PUNCT')], [('<UNK>', 'PUNCT'), ('<UNK>', 'PUNCT'), ('teigia', 'VERB'), (',', 'PUNCT'), ('kad', 'SCONJ'), ('<UNK>', 'NOUN'), ('iki', 'ADP'), ('gruodžio', 'NOUN'), ('pradžios', 'NOUN'), ('<UNK>', 'PUNCT'), ('būna', 'AUX'), ('<UNK>', 'NOUN'), ('ir', 'CCONJ'), ('<UNK>', 'NOUN'), ('skonio', 'NOUN'), ('.', 'PUNCT')], [('Pasak', 'ADP'), ('<UNK>', 'NOUN'), ('<UNK>', 'NOUN'), ('<UNK>', 'NOUN'), (',', 'PUNCT'), ('daugelis', 'NOUN'), ('<UNK>', 'NOUN'), ('<UNK>', 'NOUN'), ('<UNK>', 'NOUN'), ('–', 'PUNCT'), ('vaisių', 'NOUN'), ('<UNK>', 'PUNCT'), (',', 'PUNCT'), ('<UNK>', 'NOUN'), ('arba', 'CCONJ'), ('<UNK>', 'NOUN'), ('labai', 'ADV'), ('dažnai', 'ADV'), ('pradedami', 'VERB'), ('<UNK>', 'NOUN'), ('prieš', 'ADP'), ('šventes', 'NOUN'), (',', 'PUNCT'), ('nes', 'SCONJ'), ('tešla', 'NOUN'), ('ilgiau', 'ADV'), ('<UNK>', 'PUNCT'), ('.', 'PUNCT')], [('Taigi', 'PART'), ('pats', 'DET'), ('<UNK>', 'PUNCT'), ('ją', 'PRON'), ('<UNK>', 'NOUN'), ('.', 'PUNCT')], [('<UNK>', 'PUNCT'), ('<UNK>', 'PUNCT'), ('iki', 'ADP'), ('Kalėdų', 'NOUN')], [('<UNK>', 'PUNCT'), ('2', 'NUM'), ('–', 'PUNCT'), ('3', 'NUM'), ('<UNK>', 'NOUN'), ('iki', 'ADP'), ('švenčių', 'NOUN'), (',', 'PUNCT'), ('prekybos', 'NOUN'), ('centruose', 'NOUN'), ('ar', 'CCONJ'), ('<UNK>', 'PUNCT'), ('<UNK>', 'NOUN'), ('<UNK>', 'NOUN'), ('<UNK>', 'NOUN'), ('<UNK>', 'NOUN'), (',', 'PUNCT'), ('<UNK>', 'NOUN'), ('ar', 'CCONJ'), ('<UNK>', 'NOUN'), ('ir', 'CCONJ'), ('<UNK>', 'NOUN'), ('iš', 'ADP'), ('anksto', 'X'), ('<UNK>', 'PUNCT'), ('<UNK>', 'NOUN'), ('ir', 'CCONJ'), ('<UNK>', 'NOUN'), ('–', 'PUNCT'), ('dieną', 'NOUN'), ('kitą', 'PRON'), ('<UNK>', 'PUNCT'), ('būna', 'AUX'), ('<UNK>', 'NOUN'), ('.', 'PUNCT')], [('<UNK>', 'PUNCT'), ('dienos', 'NOUN'), ('iki', 'ADP'), ('švenčių', 'NOUN'), ('<UNK>', 'NOUN'), ('<UNK>', 'NOUN'), ('<UNK>', 'NOUN'), (',', 'PUNCT'), ('žuvies', 'NOUN'), ('ir', 'CCONJ'), ('mėsos', 'NOUN'), ('<UNK>', 'NOUN'), ('.', 'PUNCT')], [('Prieš', 'ADV'), ('<UNK>', 'PUNCT'), ('<UNK>', 'NOUN'), ('tik', 'PART'), ('<UNK>', 'PUNCT'), ('.', 'PUNCT')], [('Jeigu', 'SCONJ'), ('norite', 'VERB'), ('<UNK>', 'NOUN'), (',', 'PUNCT'), ('kad', 'SCONJ'), ('<UNK>', 'NOUN'), ('<UNK>', 'NOUN'), (',', 'PUNCT'), ('<UNK>', 'NOUN'), ('ne', 'PART'), ('taip', 'ADV'), ('greitai', 'ADV'), ('<UNK>', 'PUNCT'), ('<UNK>', 'NOUN'), ('<UNK>', 'NOUN'), (',', 'PUNCT'), ('pavyzdžiui', 'NOUN'), (',', 'PUNCT'), ('<UNK>', 'NOUN'), ('<UNK>', 'NOUN'), ('ar', 'CCONJ'), ('<UNK>', 'NOUN'), ('su', 'ADP'), ('<UNK>', 'PUNCT'), ('vaisiais', 'NOUN'), ('.', 'PUNCT')], [('<UNK>', 'PUNCT'), ('<UNK>', 'PUNCT'), ('pasiruošti', 'VERB'), ('ir', 'CCONJ'), ('prieš', 'ADV'), ('kelias', 'NOUN'), ('dienas', 'NOUN'), ('–', 'PUNCT'), ('tikrai', 'ADV'), ('<UNK>', 'NOUN'), ('.', 'PUNCT')], [('Viena', 'PRON'), ('<UNK>', 'PUNCT'), ('metų', 'NOUN'), ('švenčių', 'NOUN'), ('<UNK>', 'NOUN'), ('neretai', 'ADV'), ('taip', 'ADV'), ('<UNK>', 'PUNCT'), ('į', 'ADP'), ('masinio', 'ADJ'), ('vartojimo', 'NOUN'), ('ratą', 'NOUN'), (',', 'PUNCT'), ('kad', 'SCONJ'), ('<UNK>', 'NOUN'), ('<UNK>', 'NOUN'), ('<UNK>', 'NOUN'), ('jos', 'PRON'), ('prasmę', 'NOUN'), ('.', 'PUNCT')], [('<UNK>', 'PUNCT'), ('teigia', 'VERB'), (',', 'PUNCT'), ('kad', 'SCONJ'), ('tie', 'DET'), (',', 'PUNCT'), ('kurie', 'DET'), ('<UNK>', 'NOUN'), ('Kristaus', 'PROPN'), ('<UNK>', 'NOUN'), ('ir', 'CCONJ'), ('turi', 'VERB'), ('<UNK>', 'PUNCT'), ('gyvenimo', 'NOUN'), ('prasmės', 'NOUN'), ('<UNK>', 'NOUN'), (',', 'PUNCT'), ('yra', 'AUX'), ('<UNK>', 'NOUN'), ('už', 'ADP'), ('tuos', 'DET'), (',', 'PUNCT'), ('kurie', 'DET'), ('mano', 'PRON'), (',', 'PUNCT'), ('kad', 'SCONJ'), ('norint', 'VERB'), ('<UNK>', 'NOUN'), ('<UNK>', 'NOUN'), ('reikia', 'VERB'), ('plačiai', 'ADV'), ('<UNK>', 'PUNCT'), ('pinigines', 'NOUN'), ('.', 'PUNCT')], [('Pastarieji', 'ADJ'), ('<UNK>', 'PUNCT'), ('ir', 'CCONJ'), ('<UNK>', 'NOUN'), ('<UNK>', 'NOUN'), ('<UNK>', 'NOUN'), ('<UNK>', 'NOUN'), ('prekybos', 'NOUN'), ('<UNK>', 'NOUN'), ('<UNK>', 'NOUN'), ('ir', 'CCONJ'), ('<UNK>', 'NOUN'), ('nereikalingų', 'NOUN'), ('daiktų', 'NOUN'), (',', 'PUNCT'), ('kurie', 'DET'), ('vėliau', 'ADV'), ('atsiduria', 'VERB'), ('<UNK>', 'NOUN'), ('.', 'PUNCT')], [('JAV', 'X'), ('Aplinkos', 'NOUN'), ('apsaugos', 'NOUN'), ('agentūros', 'NOUN'), ('duomenimis', 'NOUN'), (',', 'PUNCT'), ('<UNK>', 'NOUN'), ('švenčių', 'NOUN'), ('laikotarpiu', 'NOUN'), ('per', 'ADP'), ('savaitę', 'NOUN'), ('šalyje', 'NOUN'), ('<UNK>', 'NOUN'), ('apie', 'ADP'), ('1', 'NUM'), ('mln', 'X'), ('.', 'PUNCT'), ('tonų', 'PROPN'), ('šiukšlių', 'NOUN'), ('daugiau', 'ADV'), ('nei', 'SCONJ'), ('<UNK>', 'NOUN'), (',', 'PUNCT'), ('o', 'CCONJ'), ('<UNK>', 'NOUN'), ('popieriaus', 'NOUN'), (',', 'PUNCT'), ('<UNK>', 'NOUN'), ('ir', 'CCONJ'), ('<UNK>', 'NOUN'), ('<UNK>', 'NOUN'), ('<UNK>', 'NOUN'), ('siekia', 'VERB'), ('ir', 'CCONJ'), ('4', 'NUM'), ('mln', 'X'), ('.', 'PUNCT'), ('tonų', 'PROPN'), ('.', 'PUNCT')], [('Todėl', 'ADV'), ('<UNK>', 'NOUN'), ('visko', 'PRON'), ('iš', 'ADP'), ('eilės', 'NOUN'), (',', 'PUNCT'), ('kas', 'PRON'), (',', 'PUNCT'), ('labai', 'ADV'), ('tikėtina', 'ADJ'), (',', 'PUNCT'), ('<UNK>', 'NOUN'), ('<UNK>', 'NOUN'), ('.', 'PUNCT')], [('Labai', 'ADV'), ('pravartu', 'ADJ'), ('laikytis', 'NOUN'), ('„', 'PUNCT'), ('vienos', 'PRON'), ('<UNK>', 'PUNCT'), ('“', 'PUNCT'), ('taisyklės', 'NOUN'), (':', 'PUNCT'), ('artimųjų', 'NOUN'), ('rate', 'NOUN'), ('<UNK>', 'NOUN'), ('būdu', 'NOUN'), ('<UNK>', 'NOUN'), (',', 'PUNCT'), ('kas', 'PRON'), ('ir', 'PART'), ('kam', 'ADV'), ('šiais', 'DET'), ('metais', 'NOUN'), ('<UNK>', 'NOUN'), ('<UNK>', 'NOUN'), (',', 'PUNCT'), ('o', 'CCONJ'), ('dar', 'PART'), ('geriau', 'ADV'), ('<UNK>', 'PUNCT'), (',', 'PUNCT'), ('kad', 'SCONJ'), ('ji', 'PRON'), ('bus', 'VERB'), ('pagaminta', 'VERB'), ('pačių', 'DET'), ('–', 'PUNCT'), ('<UNK>', 'PUNCT'), (',', 'PUNCT'), ('kiek', 'ADV'), ('nereikalingų', 'ADJ'), ('išlaidų', 'NOUN'), ('<UNK>', 'NOUN'), ('.', 'PUNCT')], [('Jeigu', 'SCONJ'), ('dovanas', 'NOUN'), ('<UNK>', 'NOUN'), ('<UNK>', 'NOUN'), (',', 'PUNCT'), ('<UNK>', 'NOUN'), ('kuo', 'PART'), ('<UNK>', 'PUNCT'), ('.', 'PUNCT')], [('<UNK>', 'PUNCT'), ('<UNK>', 'PUNCT'), ('<UNK>', 'NOUN'), ('aliejai', 'NOUN'), (',', 'PUNCT'), ('<UNK>', 'NOUN'), ('<UNK>', 'NOUN'), (',', 'PUNCT'), ('<UNK>', 'NOUN'), ('<UNK>', 'NOUN'), (',', 'PUNCT'), ('<UNK>', 'NOUN'), ('<UNK>', 'NOUN'), ('spalvų', 'NOUN'), ('<UNK>', 'NOUN'), (',', 'PUNCT'), ('<UNK>', 'NOUN'), ('<UNK>', 'NOUN'), ('ar', 'CCONJ'), ('intelektą', 'NOUN'), ('<UNK>', 'NOUN'), ('<UNK>', 'NOUN'), ('<UNK>', 'NOUN'), ('.', 'PUNCT')], [('<UNK>', 'PUNCT'), (',', 'PUNCT'), ('ką', 'PRON'), ('<UNK>', 'NOUN'), ('?', 'PUNCT')], [('<UNK>', 'PUNCT'), ('<UNK>', 'PUNCT'), ('to', 'DET'), ('asmens', 'NOUN'), ('<UNK>', 'NOUN'), ('–', 'PUNCT'), ('dažniausiai', 'ADV'), ('ženklo', 'NOUN'), ('aprašymas', 'NOUN'), ('<UNK>', 'NOUN'), ('atspindi', 'VERB'), ('žmogaus', 'NOUN'), ('<UNK>', 'NOUN'), ('ir', 'CCONJ'), ('<UNK>', 'NOUN'), ('.', 'PUNCT')], [('Ir', 'CCONJ'), ('<UNK>', 'PUNCT'), (':', 'PUNCT'), ('visada', 'ADV'), ('<UNK>', 'PUNCT'), ('<UNK>', 'NOUN'), ('yra', 'AUX'), ('tos', 'DET'), (',', 'PUNCT'), ('kurias', 'DET'), ('galima', 'VERB'), ('panaudoti', 'VERB'), ('ar', 'CCONJ'), ('<UNK>', 'PUNCT'), (':', 'PUNCT'), ('<UNK>', 'NOUN'), ('į', 'ADP'), ('<UNK>', 'NOUN'), (',', 'PUNCT'), ('teatrą', 'NOUN'), (',', 'PUNCT'), ('sporto', 'NOUN'), ('<UNK>', 'NOUN'), (',', 'PUNCT'), ('<UNK>', 'NOUN'), ('<UNK>', 'NOUN'), (',', 'PUNCT'), ('pačių', 'DET'), ('<UNK>', 'NOUN'), ('<UNK>', 'NOUN'), (',', 'PUNCT'), ('<UNK>', 'NOUN'), ('maisto', 'NOUN'), ('produktai', 'NOUN'), (',', 'PUNCT'), ('<UNK>', 'NOUN'), ('<UNK>', 'NOUN'), ('ir', 'CCONJ'), ('t', 'ADV'), ('.', 'PUNCT'), ('t', 'ADV'), ('.', 'PUNCT')], [('<UNK>', 'PUNCT'), ('2', 'NUM'), ('<UNK>', 'NOUN'), ('iki', 'ADP'), ('Kalėdų', 'NOUN')], [('Tikrai', 'ADV'), ('<UNK>', 'PUNCT'), (',', 'PUNCT'), ('ką', 'PRON'), ('<UNK>', 'NOUN'), ('<UNK>', 'NOUN'), ('ar', 'CCONJ'), ('kitam', 'ADJ'), ('asmeniui', 'NOUN'), ('?', 'PUNCT')], [('<UNK>', 'PUNCT'), ('ir', 'CCONJ'), ('<UNK>', 'NOUN'), ('tai', 'DET'), ('jau', 'ADV'), ('šią', 'DET'), ('savaitę', 'NOUN'), ('.', 'PUNCT')], [('Iki', 'ADP'), ('<UNK>', 'PUNCT'), ('<UNK>', 'NOUN'), ('<UNK>', 'NOUN'), ('<UNK>', 'NOUN'), ('gali', 'VERB'), ('ir', 'PART'), ('<UNK>', 'NOUN'), (',', 'PUNCT'), ('o', 'CCONJ'), ('streso', 'NOUN'), ('<UNK>', 'NOUN'), ('.', 'PUNCT')], [('<UNK>', 'PUNCT'), ('dovanas', 'NOUN'), ('iš', 'ADP'), ('karto', 'ADJ'), ('<UNK>', 'NOUN'), ('–', 'PUNCT'), ('šis', 'DET'), ('darbas', 'NOUN'), ('<UNK>', 'NOUN'), ('labai', 'ADV'), ('daug', 'ADV'), ('laiko', 'NOUN'), (',', 'PUNCT'), ('jeigu', 'SCONJ'), ('<UNK>', 'NOUN'), ('<UNK>', 'NOUN'), ('į', 'ADP'), ('<UNK>', 'NOUN'), ('.', 'PUNCT')], [('<UNK>', 'PUNCT'), ('<UNK>', 'PUNCT'), ('<UNK>', 'NOUN'), ('pati', 'NOUN'), ('?', 'PUNCT')], [('<UNK>', 'PUNCT'), ('!', 'PUNCT')], [('<UNK>', 'PUNCT'), ('kuo', 'PART'), ('anksčiau', 'ADV'), ('–', 'PUNCT'), ('pačios', 'ADV'), ('<UNK>', 'PUNCT'), ('<UNK>', 'NOUN'), ('ar', 'CCONJ'), ('<UNK>', 'NOUN'), ('<UNK>', 'NOUN'), ('<UNK>', 'NOUN'), ('<UNK>', 'NOUN'), ('nemažai', 'ADV'), ('laiko', 'NOUN'), (',', 'PUNCT'), ('todėl', 'ADV'), ('dvi', 'NUM'), ('<UNK>', 'NOUN'), ('iki', 'ADP'), ('Kalėdų', 'NOUN'), ('–', 'PUNCT'), ('tinkamas', 'ADJ'), ('<UNK>', 'NOUN'), ('<UNK>', 'NOUN'), ('.', 'PUNCT')], [('<UNK>', 'PUNCT'), ('<UNK>', 'PUNCT'), ('<UNK>', 'NOUN'), ('<UNK>', 'NOUN'), ('esančias', 'VERB'), ('<UNK>', 'NOUN'), ('<UNK>', 'NOUN'), (',', 'PUNCT'), ('<UNK>', 'NOUN'), ('<UNK>', 'NOUN'), ('–', 'PUNCT'), ('<UNK>', 'NOUN'), ('laikraščius', 'NOUN'), ('–', 'PUNCT'), ('taip', 'PART'), ('tarsi', 'PART'), ('<UNK>', 'ADJ'), ('daiktus', 'NOUN'), ('<UNK>', 'NOUN'), ('gyvenimui', 'NOUN'), ('ir', 'CCONJ'), ('<UNK>', 'NOUN'), ('aplinkai', 'NOUN'), ('.', 'PUNCT')], [('<UNK>', 'PUNCT'), ('<UNK>', 'PUNCT'), ('į', 'ADP'), ('<UNK>', 'NOUN'), (',', 'PUNCT'), ('<UNK>', 'NOUN'), ('<UNK>', 'NOUN'), ('ar', 'CCONJ'), ('<UNK>', 'NOUN'), ('dėžutes', 'NOUN'), ('<UNK>', 'PUNCT'), ('<UNK>', 'NOUN'), ('visada', 'ADV'), ('<UNK>', 'NOUN'), ('ir', 'CCONJ'), ('naudingos', 'ADJ'), ('.', 'PUNCT')], [('Jau', 'ADV'), ('šią', 'DET'), ('savaitę', 'NOUN'), ('<UNK>', 'NOUN'), ('<UNK>', 'NOUN'), ('ilgai', 'ADV'), ('<UNK>', 'NOUN'), ('<UNK>', 'NOUN'), ('<UNK>', 'NOUN'), ('ar', 'CCONJ'), ('<UNK>', 'NOUN'), ('ir', 'CCONJ'), ('<UNK>', 'NOUN'), ('<UNK>', 'NOUN'), (',', 'PUNCT'), ('kad', 'SCONJ'), ('padėtų', 'NOUN'), ('pagaminti', 'VERB'), ('dėžutes', 'NOUN'), ('ar', 'CCONJ'), ('<UNK>', 'PUNCT'), ('<UNK>', 'NOUN'), ('ir', 'CCONJ'), ('<UNK>', 'NOUN'), ('<UNK>', 'NOUN'), ('<UNK>', 'NOUN'), ('.', 'PUNCT')], [('<UNK>', 'PUNCT'), ('<UNK>', 'PUNCT'), ('iki', 'ADP'), ('Kalėdų', 'NOUN')], [('Jeigu', 'SCONJ'), ('<UNK>', 'PUNCT'), ('<UNK>', 'NOUN'), ('<UNK>', 'NOUN'), ('<UNK>', 'NOUN'), ('ir', 'CCONJ'), ('<UNK>', 'NOUN'), ('<UNK>', 'NOUN'), ('<UNK>', 'NOUN'), ('<UNK>', 'NOUN'), ('po', 'ADP'), ('<UNK>', 'NOUN'), (',', 'PUNCT'), ('<UNK>', 'NOUN'), (',', 'PUNCT'), ('kad', 'SCONJ'), ('dovanas', 'NOUN'), ('<UNK>', 'NOUN'), ('pirkti', 'VERB'), ('internetu', 'NOUN'), ('.', 'PUNCT')], [('Taip', 'PART'), ('<UNK>', 'PUNCT'), ('laiko', 'NOUN'), ('ir', 'CCONJ'), ('<UNK>', 'NOUN'), ('<UNK>', 'NOUN'), ('<UNK>', 'NOUN'), ('.', 'PUNCT')], [('<UNK>', 'PUNCT'), ('sprendimas', 'NOUN'), ('–', 'PUNCT'), ('<UNK>', 'PUNCT'), ('į', 'ADP'), ('<UNK>', 'NOUN'), (',', 'PUNCT'), ('<UNK>', 'NOUN'), ('<UNK>', 'NOUN'), ('<UNK>', 'NOUN'), (',', 'PUNCT'), ('<UNK>', 'NOUN'), ('<UNK>', 'NOUN'), ('ar', 'CCONJ'), ('<UNK>', 'NOUN'), (',', 'PUNCT'), ('grožio', 'NOUN'), ('procedūrų', 'NOUN'), (',', 'PUNCT'), ('sporto', 'NOUN'), ('<UNK>', 'NOUN'), ('<UNK>', 'NOUN'), ('.', 'PUNCT')], [('<UNK>', 'PUNCT'), (',', 'PUNCT'), ('ką', 'PRON'), ('<UNK>', 'NOUN'), ('<UNK>', 'NOUN'), ('?', 'PUNCT')], [('<UNK>', 'PUNCT'), ('jiems', 'PRON'), ('savo', 'PRON'), ('laiką', 'NOUN'), ('–', 'PUNCT'), ('ant', 'ADP'), ('<UNK>', 'PUNCT'), ('<UNK>', 'NOUN'), ('<UNK>', 'NOUN'), ('<UNK>', 'NOUN'), ('.', 'PUNCT')], [('Pagal', 'ADP'), ('galimybes', 'NOUN'), ('–', 'PUNCT'), ('<UNK>', 'NOUN'), (',', 'PUNCT'), ('kine', 'NOUN'), (',', 'PUNCT'), ('o', 'CCONJ'), ('gal', 'PART'), ('gamtoje', 'ADJ'), ('su', 'ADP'), ('pačių', 'DET'), ('rinkta', 'VERB'), ('<UNK>', 'NOUN'), ('<UNK>', 'NOUN'), (',', 'PUNCT'), ('<UNK>', 'NOUN'), ('<UNK>', 'NOUN'), ('ar', 'CCONJ'), ('obuolių', 'NOUN'), ('<UNK>', 'NOUN'), ('.', 'PUNCT')], [('Šiame', 'DET'), ('skubos', 'VERB'), ('amžiuje', 'NOUN'), ('<UNK>', 'PUNCT'), ('<UNK>', 'NOUN'), ('<UNK>', 'NOUN'), ('laiko', 'NOUN'), ('ir', 'CCONJ'), ('<UNK>', 'NOUN'), ('dėmesys', 'NOUN'), ('–', 'PUNCT'), ('daug', 'ADV'), ('didesnė', 'VERB'), ('<UNK>', 'NOUN'), ('už', 'ADP'), ('<UNK>', 'NOUN'), ('galva', 'NOUN'), ('<UNK>', 'NOUN'), ('<UNK>', 'NOUN'), ('.', 'PUNCT')], [('Taip', 'PART'), ('jau', 'PART'), ('yra', 'AUX'), (',', 'PUNCT'), ('kad', 'SCONJ'), ('visus', 'DET'), ('metus', 'NOUN'), ('<UNK>', 'NOUN'), ('langų', 'NOUN'), (',', 'PUNCT'), ('<UNK>', 'NOUN'), ('ir', 'CCONJ'), ('<UNK>', 'NOUN'), ('su', 'ADP'), ('<UNK>', 'NOUN'), ('<UNK>', 'NOUN'), ('<UNK>', 'NOUN'), ('<UNK>', 'NOUN'), ('<UNK>', 'NOUN'), ('metinę', 'ADJ'), ('<UNK>', 'NOUN'), ('misiją', 'NOUN'), ('įvykdyti', 'NOUN'), ('per', 'ADP'), ('savaitę', 'NOUN'), (':', 'PUNCT'), ('<UNK>', 'PUNCT'), (',', 'PUNCT'), ('<UNK>', 'NOUN'), (',', 'PUNCT'), ('<UNK>', 'NOUN'), (',', 'PUNCT'), ('<UNK>', 'NOUN'), (',', 'PUNCT'), ('<UNK>', 'NOUN'), ('...', 'PUNCT')], [('Dar', 'ADV'), ('blogiau', 'ADV'), (',', 'PUNCT'), ('jei', 'SCONJ'), ('<UNK>', 'PUNCT'), ('tai', 'DET'), ('padaryti', 'VERB'), ('pačios', 'DET'), (',', 'PUNCT'), ('be', 'ADP'), ('<UNK>', 'PUNCT'), ('pagalbos', 'NOUN'), (',', 'PUNCT'), ('per', 'ADP'), ('<UNK>', 'NOUN'), ('ir', 'CCONJ'), ('taip', 'ADV'), ('<UNK>', 'PUNCT'), (',', 'PUNCT'), ('tarsi', 'PART'), ('svečiai', 'ADJ'), ('<UNK>', 'NOUN'), ('ne', 'PART'), ('<UNK>', 'NOUN'), (',', 'PUNCT'), ('o', 'CCONJ'), ('ieškoti', 'VERB'), ('<UNK>', 'NOUN'), ('ant', 'ADP'), ('<UNK>', 'NOUN'), ('.', 'PUNCT')], [('<UNK>', 'PUNCT'), ('<UNK>', 'PUNCT'), (',', 'PUNCT'), ('kad', 'SCONJ'), ('nieko', 'PRON'), ('<UNK>', 'PUNCT'), ('.', 'PUNCT')], [('<UNK>', 'PUNCT'), (',', 'PUNCT'), ('metų', 'NOUN'), ('pabaiga', 'NOUN'), ('–', 'PUNCT'), ('tai', 'DET'), ('dar', 'PART'), ('ne', 'PART'), ('gyvenimo', 'NOUN'), ('pabaiga', 'NOUN'), (',', 'PUNCT'), ('daugybę', 'NOUN'), ('darbų', 'NOUN'), ('galime', 'VERB'), ('<UNK>', 'PUNCT'), ('<UNK>', 'NOUN'), ('<UNK>', 'NOUN'), ('.', 'PUNCT')], [('O', 'CCONJ'), ('jeigu', 'SCONJ'), ('esate', 'PROPN'), ('iš', 'ADP'), ('tų', 'DET'), (',', 'PUNCT'), ('kurios', 'DET'), ('<UNK>', 'PUNCT'), ('privalo', 'VERB'), ('<UNK>', 'NOUN'), ('prieš', 'ADP'), ('šventes', 'NOUN'), (',', 'PUNCT'), ('tai', 'PART'), ('<UNK>', 'NOUN'), ('išmintingai', 'NOUN'), ('.', 'PUNCT')], [('<UNK>', 'PUNCT'), ('<UNK>', 'PUNCT'), ('ar', 'CCONJ'), ('girdėjote', 'ADJ'), ('apie', 'ADP'), ('<UNK>', 'PUNCT'), ('„', 'PUNCT'), ('<UNK>', 'PUNCT'), ('“', 'PUNCT'), ('<UNK>', 'PUNCT'), ('sistemą', 'NOUN'), (',', 'PUNCT'), ('kurią', 'DET'), ('prieš', 'VERB'), ('dešimtmetį', 'NOUN'), ('<UNK>', 'PUNCT'), ('<UNK>', 'NOUN'), ('namų', 'NOUN'), ('<UNK>', 'NOUN'), ('<UNK>', 'NOUN'), ('<UNK>', 'NOUN'), ('?', 'PUNCT')], [('Pagrindinis', 'ADJ'), ('jos', 'PRON'), ('principas', 'NOUN'), ('–', 'PUNCT'), ('į', 'ADP'), ('namų', 'NOUN'), ('<UNK>', 'PUNCT'), ('<UNK>', 'NOUN'), ('linksmai', 'ADV'), ('ir', 'CCONJ'), ('<UNK>', 'NOUN'), ('iki', 'ADP'), ('<UNK>', 'PUNCT'), ('.', 'PUNCT')], [('M', 'X'), ('.', 'PUNCT'), ('<UNK>', 'PUNCT'), ('sako', 'VERB'), (':', 'PUNCT'), ('„', 'PUNCT'), ('<UNK>', 'PUNCT'), ('<UNK>', 'NOUN'), ('<UNK>', 'NOUN'), ('per', 'ADP'), ('vieną', 'NUM'), ('dieną', 'NOUN'), (',', 'PUNCT'), ('tad', 'ADV'), ('per', 'ADP'), ('vieną', 'NUM'), ('dieną', 'NOUN'), ('jų', 'PRON'), ('<UNK>', 'NOUN'), ('ir', 'CCONJ'), ('<UNK>', 'NOUN'), ('dėl', 'ADP'), ('to', 'DET'), ('nereikia', 'VERB'), ('.', 'PUNCT'), ('“', 'PUNCT')], [('Taigi', 'PART'), ('pirmiausia', 'ADV'), ('<UNK>', 'PUNCT'), (',', 'PUNCT'), ('ką', 'PRON'), ('ir', 'PART'), ('kada', 'ADV'), ('<UNK>', 'PUNCT'), (',', 'PUNCT'), ('o', 'CCONJ'), ('tada', 'ADV'), ('<UNK>', 'PUNCT'), ('darbo', 'NOUN'), ('.', 'PUNCT')], [('M', 'X'), ('.', 'PUNCT'), ('<UNK>', 'PUNCT'), ('<UNK>', 'NOUN'), ('namus', 'NOUN'), ('<UNK>', 'NOUN'), ('į', 'ADP'), ('penkias', 'NOUN'), ('<UNK>', 'PUNCT'), ('(', 'PUNCT'), ('<UNK>', 'NOUN'), (',', 'PUNCT'), ('<UNK>', 'NOUN'), (',', 'PUNCT'), ('<UNK>', 'NOUN'), (',', 'PUNCT'), ('<UNK>', 'NOUN'), ('ir', 'CCONJ'), ('<UNK>', 'NOUN'), (',', 'PUNCT'), ('vaikų', 'NOUN'), ('kambarį', 'NOUN'), (')', 'PUNCT'), ('ir', 'CCONJ'), ('<UNK>', 'NOUN'), ('<UNK>', 'NOUN'), ('savaitę', 'NOUN'), ('kasdien', 'ADV'), ('ne', 'PART'), ('ilgiau', 'ADV'), ('nei', 'PART'), ('15', 'NUM'), ('<UNK>', 'NOUN'), ('.', 'PUNCT')], [('Mums', 'PRON'), (',', 'PUNCT'), ('žinoma', 'VERB'), (',', 'PUNCT'), ('tai', 'PART'), ('<UNK>', 'NOUN'), (',', 'PUNCT'), ('nes', 'SCONJ'), ('laiko', 'NOUN'), ('liko', 'VERB'), ('mažiau', 'ADV'), (',', 'PUNCT'), ('bet', 'CCONJ'), ('kas', 'PRON'), ('sakė', 'VERB'), (',', 'PUNCT'), ('kad', 'SCONJ'), ('vaikų', 'NOUN'), ('kambario', 'NOUN'), (',', 'PUNCT'), ('vonios', 'VERB'), ('ir', 'CCONJ'), ('<UNK>', 'NOUN'), (',', 'PUNCT'), ('taip', 'PART'), ('pat', 'X'), ('<UNK>', 'PUNCT'), ('<UNK>', 'NOUN'), ('<UNK>', 'NOUN'), ('<UNK>', 'NOUN'), ('vaikams', 'NOUN'), ('ir', 'CCONJ'), ('vyrui', 'NOUN'), ('?', 'PUNCT')], [('<UNK>', 'PUNCT'), ('liks', 'VERB'), ('tik', 'PART'), ('<UNK>', 'PUNCT'), ('ir', 'CCONJ'), ('virtuvė', 'NOUN'), ('–', 'PUNCT'), ('kaip', 'SCONJ'), ('tik', 'PART'), ('dviem', 'NUM'), ('<UNK>', 'NOUN'), ('.', 'PUNCT')], [('<UNK>', 'PUNCT'), ('2', 'NUM'), ('<UNK>', 'NOUN'), ('iki', 'ADP'), ('Kalėdų', 'NOUN')], [('<UNK>', 'PUNCT'), ('sutvarkyti', 'VERB'), ('<UNK>', 'NOUN'), (':', 'PUNCT'), ('<UNK>', 'NOUN'), ('nereikalingus', 'NOUN'), ('daiktus', 'NOUN'), (',', 'PUNCT'), ('kasdien', 'ADV'), ('po', 'ADP'), ('vieną', 'PRON'), ('<UNK>', 'NOUN'), ('<UNK>', 'NOUN'), (',', 'PUNCT'), ('<UNK>', 'NOUN'), ('<UNK>', 'NOUN'), ('ir', 'CCONJ'), ('<UNK>', 'NOUN'), ('<UNK>', 'NOUN'), ('nuo', 'ADP'), ('knygų', 'NOUN'), (',', 'PUNCT'), ('<UNK>', 'NOUN'), ('smulkmenų', 'VERB'), ('.', 'PUNCT')], [('<UNK>', 'PUNCT'), ('<UNK>', 'PUNCT'), ('<UNK>', 'NOUN'), ('augalų', 'NOUN'), ('<UNK>', 'NOUN'), ('.', 'PUNCT')], [('Jeigu', 'SCONJ'), ('<UNK>', 'PUNCT'), ('galimybę', 'NOUN'), (',', 'PUNCT'), ('užuot', 'NOUN'), ('<UNK>', 'NOUN'), ('<UNK>', 'NOUN'), (',', 'PUNCT'), ('<UNK>', 'NOUN'), ('jas', 'PRON'), ('į', 'ADP'), ('<UNK>', 'NOUN'), ('–', 'PUNCT'), ('<UNK>', 'NOUN'), ('ir', 'CCONJ'), ('<UNK>', 'NOUN'), ('<UNK>', 'NOUN'), ('tik', 'PART'), ('<UNK>', 'NOUN'), ('.', 'PUNCT')], [('<UNK>', 'PUNCT'), ('<UNK>', 'PUNCT'), ('iš', 'ADP'), ('<UNK>', 'NOUN'), ('<UNK>', 'NOUN'), ('<UNK>', 'NOUN'), (',', 'PUNCT'), ('<UNK>', 'NOUN'), ('ir', 'CCONJ'), ('<UNK>', 'NOUN'), ('<UNK>', 'NOUN'), ('<UNK>', 'NOUN'), ('<UNK>', 'NOUN'), ('–', 'PUNCT'), ('ant', 'ADP'), ('<UNK>', 'NOUN'), ('<UNK>', 'NOUN'), ('ir', 'CCONJ'), ('<UNK>', 'NOUN'), ('ne', 'PART'), ('taip', 'ADV'), ('greitai', 'ADV'), ('<UNK>', 'PUNCT'), ('.', 'PUNCT')], [('Jeigu', 'SCONJ'), ('svetainėje', 'NOUN'), ('<UNK>', 'NOUN'), ('<UNK>', 'NOUN'), (',', 'PUNCT'), ('o', 'CCONJ'), ('<UNK>', 'NOUN'), ('<UNK>', 'NOUN'), ('<UNK>', 'NOUN'), (',', 'PUNCT'), ('<UNK>', 'NOUN'), ('vaikų', 'NOUN'), ('pagalbos', 'NOUN'), ('–', 'PUNCT'), ('<UNK>', 'NOUN'), ('gali', 'VERB'), ('<UNK>', 'NOUN'), ('<UNK>', 'NOUN'), (',', 'PUNCT'), ('<UNK>', 'NOUN'), ('.', 'PUNCT')], [('<UNK>', 'PUNCT'), ('atėjus', 'VERB'), (',', 'PUNCT'), ('<UNK>', 'NOUN'), ('tik', 'PART'), ('<UNK>', 'NOUN'), ('viską', 'PRON'), ('ant', 'ADP'), ('<UNK>', 'NOUN'), ('.', 'PUNCT')], [('<UNK>', 'PUNCT'), ('<UNK>', 'PUNCT'), ('iki', 'ADP'), ('Kalėdų', 'NOUN')], [('<UNK>', 'PUNCT'), ('<UNK>', 'PUNCT'), (':', 'PUNCT'), ('<UNK>', 'NOUN'), ('<UNK>', 'NOUN'), (',', 'PUNCT'), ('<UNK>', 'NOUN'), (',', 'PUNCT'), ('<UNK>', 'NOUN'), ('<UNK>', 'NOUN'), (',', 'PUNCT'), ('jei', 'SCONJ'), ('tokią', 'DET'), ('<UNK>', 'NOUN'), (',', 'PUNCT'), ('<UNK>', 'NOUN'), ('<UNK>', 'NOUN'), ('.', 'PUNCT')], [('<UNK>', 'PUNCT'), ('<UNK>', 'PUNCT'), ('stalo', 'NOUN'), ('<UNK>', 'NOUN'), (':', 'PUNCT'), ('<UNK>', 'NOUN'), (',', 'PUNCT'), ('<UNK>', 'NOUN'), (',', 'PUNCT'), ('<UNK>', 'NOUN'), (',', 'PUNCT'), ('įrankiais', 'NOUN'), ('ir', 'CCONJ'), ('<UNK>', 'NOUN'), ('–', 'PUNCT'), ('<UNK>', 'NOUN'), ('juos', 'PRON'), ('ir', 'CCONJ'), ('<UNK>', 'NOUN'), ('uždarus', 'ADJ'), (',', 'PUNCT'), ('kad', 'SCONJ'), ('atėjus', 'VERB'), ('<UNK>', 'NOUN'), ('metui', 'NOUN'), ('ant', 'ADP'), ('stalo', 'NOUN'), ('reikėtų', 'VERB'), ('tik', 'PART'), ('<UNK>', 'PUNCT'), ('.', 'PUNCT')], [('Grožis', 'NOUN'), ('ir', 'CCONJ'), ('<UNK>', 'NOUN')], [('<UNK>', 'PUNCT'), ('svarbiausias', 'ADJ'), ('dalykas', 'NOUN'), ('<UNK>', 'NOUN'), ('<UNK>', 'NOUN'), (',', 'PUNCT'), ('<UNK>', 'NOUN'), ('apie', 'ADP'), ('maistą', 'NOUN'), ('ir', 'CCONJ'), ('<UNK>', 'NOUN'), ('<UNK>', 'NOUN'), ('–', 'PUNCT'), ('<UNK>', 'NOUN'), ('savęs', 'PRON'), ('.', 'PUNCT')], [('Juk', 'PART'), ('<UNK>', 'PUNCT'), ('prie', 'ADP'), ('stalo', 'NOUN'), ('<UNK>', 'PUNCT'), ('<UNK>', 'NOUN'), ('nuo', 'ADP'), ('<UNK>', 'PUNCT'), ('<UNK>', 'NOUN'), (',', 'PUNCT'), ('<UNK>', 'NOUN'), ('veido', 'NOUN'), ('išraiška', 'NOUN'), (',', 'PUNCT'), ('ties', 'ADV'), ('<UNK>', 'NOUN'), ('<UNK>', 'NOUN'), ('<UNK>', 'NOUN'), ('<UNK>', 'NOUN'), ('ir', 'CCONJ'), ('<UNK>', 'NOUN'), ('<UNK>', 'NOUN'), ('<UNK>', 'NOUN'), ('iš', 'ADP'), ('<UNK>', 'NOUN'), ('<UNK>', 'NOUN'), ('vienintele', 'ADJ'), ('ten', 'ADV'), ('<UNK>', 'NOUN'), ('<UNK>', 'NOUN'), ('<UNK>', 'NOUN'), ('.', 'PUNCT')], [('Jokių', 'DET'), ('<UNK>', 'PUNCT'), ('–', 'PUNCT'), ('nebuvo', 'VERB'), ('kada', 'X'), (',', 'PUNCT'), ('už', 'ADP'), ('ką', 'PRON'), (',', 'PUNCT'), ('<UNK>', 'PUNCT'), (',', 'PUNCT'), ('<UNK>', 'NOUN'), ('<UNK>', 'NOUN'), ('ir', 'CCONJ'), ('pan', 'X'), ('.', 'PUNCT'), ('–', 'PUNCT'), ('būti', 'PROPN'), ('negali', 'VERB'), ('!', 'PUNCT')], [('<UNK>', 'PUNCT'), (',', 'PUNCT'), ('kad', 'SCONJ'), ('aplinką', 'NOUN'), (',', 'PUNCT'), ('grožį', 'NOUN'), ('ir', 'CCONJ'), ('<UNK>', 'NOUN'), ('savo', 'PRON'), ('požiūriu', 'NOUN'), (',', 'PUNCT'), ('<UNK>', 'NOUN'), ('ir', 'CCONJ'), ('veiksmais', 'NOUN'), ('šeimose', 'NOUN'), ('kuriame', 'NOUN'), ('pačios', 'DET'), ('.', 'PUNCT')], [('Taigi', 'PART'), (',', 'PUNCT'), ('kuo', 'PART'), ('<UNK>', 'PUNCT'), ('<UNK>', 'NOUN'), (',', 'PUNCT'), ('tuo', 'SCONJ'), ('<UNK>', 'NOUN'), ('bus', 'VERB'), ('<UNK>', 'NOUN'), ('.', 'PUNCT')], [('Geriau', 'ADV'), ('mažiau', 'ADV'), ('<UNK>', 'PUNCT'), (',', 'PUNCT'), ('bet', 'CCONJ'), ('daugiau', 'ADV'), ('džiaugsmo', 'ADJ'), (',', 'PUNCT'), ('<UNK>', 'NOUN'), (',', 'PUNCT'), ('dėmesio', 'NOUN'), (',', 'PUNCT'), ('šiltų', 'ADJ'), ('<UNK>', 'NOUN'), ('<UNK>', 'NOUN'), ('ir', 'CCONJ'), ('grožio', 'NOUN'), ('.', 'PUNCT')], [('<UNK>', 'PUNCT'), ('negali', 'VERB'), ('jūsų', 'PRON'), ('priimti', 'VERB'), ('?', 'PUNCT')], [('<UNK>', 'PUNCT'), ('gali', 'VERB'), ('<UNK>', 'NOUN'), ('ir', 'CCONJ'), ('<UNK>', 'NOUN'), ('ar', 'CCONJ'), ('vyras', 'NOUN'), ('.', 'PUNCT')], [('<UNK>', 'PUNCT'), ('pinigų', 'NOUN'), ('naujai', 'ADV'), ('<UNK>', 'NOUN'), ('?', 'PUNCT')], [('<UNK>', 'PUNCT'), ('galima', 'VERB'), ('rasti', 'VERB'), ('ir', 'PART'), ('<UNK>', 'NOUN'), ('drabužių', 'NOUN'), ('<UNK>', 'NOUN'), ('.', 'PUNCT')], [('Svarbu', 'CCONJ'), ('–', 'PUNCT'), ('noras', 'NOUN'), ('.', 'PUNCT')], [('<UNK>', 'PUNCT'), ('2', 'NUM'), ('<UNK>', 'NOUN'), ('iki', 'ADP'), ('Kalėdų', 'NOUN')], [('<UNK>', 'PUNCT'), (',', 'PUNCT'), ('kuo', 'PART'), ('<UNK>', 'PUNCT'), ('per', 'ADP'), ('šventes', 'NOUN'), (',', 'PUNCT'), ('ir', 'CCONJ'), ('<UNK>', 'NOUN'), ('visą', 'DET'), ('drabužių', 'NOUN'), ('<UNK>', 'NOUN'), ('su', 'ADP'), ('<UNK>', 'NOUN'), ('.', 'PUNCT')], [('Jeigu', 'SCONJ'), ('reikia', 'VERB'), (',', 'PUNCT'), ('<UNK>', 'NOUN'), ('keletą', 'PRON'), ('naujų', 'ADJ'), (',', 'PUNCT'), ('ką', 'PRON'), ('<UNK>', 'NOUN'), (',', 'PUNCT'), ('<UNK>', 'NOUN'), ('.', 'PUNCT')], [('Svarbiausia', 'ADJ'), (',', 'PUNCT'), ('kad', 'SCONJ'), ('<UNK>', 'NOUN'), ('drabužių', 'NOUN'), ('<UNK>', 'NOUN'), ('<UNK>', 'NOUN'), ('<UNK>', 'NOUN'), ('.', 'PUNCT')], [('<UNK>', 'PUNCT'), ('<UNK>', 'PUNCT'), ('<UNK>', 'NOUN'), ('nagus', 'NOUN'), ('–', 'PUNCT'), ('net', 'PART'), ('po', 'ADP'), ('daugybės', 'NOUN'), ('darbų', 'NOUN'), ('<UNK>', 'NOUN'), ('<UNK>', 'NOUN'), ('ir', 'CCONJ'), ('nereikės', 'VERB'), ('gaišti', 'VERB'), ('laiko', 'NOUN'), ('einant', 'VERB'), ('pas', 'VERB'), ('<UNK>', 'NOUN'), ('.', 'PUNCT')], [('Jeigu', 'SCONJ'), ('jūsų', 'PRON'), ('<UNK>', 'NOUN'), ('dar', 'PART'), ('<UNK>', 'PUNCT'), ('<UNK>', 'NOUN'), ('laiko', 'NOUN'), (',', 'PUNCT'), ('<UNK>', 'NOUN'), ('<UNK>', 'NOUN'), ('.', 'PUNCT')], [('Jeigu', 'SCONJ'), ('ne', 'PART'), (',', 'PUNCT'), ('<UNK>', 'NOUN'), (',', 'PUNCT'), ('kad', 'SCONJ'), ('<UNK>', 'NOUN'), ('–', 'PUNCT'), ('<UNK>', 'NOUN'), (',', 'PUNCT'), ('kad', 'SCONJ'), ('<UNK>', 'NOUN'), ('ar', 'CCONJ'), ('mama', 'NOUN'), ('<UNK>', 'NOUN'), ('<UNK>', 'NOUN'), ('ar', 'CCONJ'), ('<UNK>', 'NOUN'), ('juos', 'PRON'), ('<UNK>', 'NOUN'), ('.', 'PUNCT')], [('Jeigu', 'SCONJ'), ('tiksliai', 'VERB'), ('<UNK>', 'PUNCT'), ('<UNK>', 'NOUN'), ('<UNK>', 'NOUN'), ('numerį', 'NOUN'), (',', 'PUNCT'), ('<UNK>', 'NOUN'), ('ir', 'CCONJ'), ('<UNK>', 'NOUN'), ('.', 'PUNCT')], [('<UNK>', 'PUNCT'), ('<UNK>', 'PUNCT'), ('<UNK>', 'NOUN'), ('<UNK>', 'NOUN'), ('<UNK>', 'NOUN'), ('poveikio', 'NOUN'), ('<UNK>', 'NOUN'), ('<UNK>', 'NOUN'), ('<UNK>', 'NOUN'), ('.', 'PUNCT')], [('<UNK>', 'PUNCT'), ('nuo', 'ADP'), ('streso', 'NOUN'), (',', 'PUNCT'), ('veido', 'NOUN'), ('<UNK>', 'NOUN'), ('<UNK>', 'NOUN'), ('<UNK>', 'NOUN'), ('su', 'ADP'), ('<UNK>', 'NOUN'), ('ir', 'CCONJ'), ('pan', 'X'), ('.', 'PUNCT'), ('–', 'PUNCT'), ('<UNK>', 'PUNCT'), ('<UNK>', 'NOUN'), ('<UNK>', 'NOUN'), ('iki', 'ADP'), ('<UNK>', 'PUNCT'), (',', 'PUNCT'), ('<UNK>', 'NOUN'), ('puikiai', 'ADV'), ('.', 'PUNCT')], [('Jeigu', 'SCONJ'), ('<UNK>', 'PUNCT'), ('<UNK>', 'NOUN'), ('atvirą', 'ADJ'), ('<UNK>', 'NOUN'), (',', 'PUNCT'), ('keletą', 'PRON'), ('kartų', 'NOUN'), ('<UNK>', 'NOUN'), ('<UNK>', 'NOUN'), ('–', 'PUNCT'), ('saulės', 'NOUN'), ('<UNK>', 'NOUN'), (',', 'PUNCT'), ('<UNK>', 'NOUN'), ('ir', 'CCONJ'), ('<UNK>', 'NOUN'), (',', 'PUNCT'), ('<UNK>', 'NOUN'), ('kūnas', 'NOUN'), ('atrodo', 'NOUN'), ('<UNK>', 'NOUN'), ('.', 'PUNCT')], [('<UNK>', 'PUNCT'), ('<UNK>', 'PUNCT'), ('iki', 'ADP'), ('Kalėdų', 'NOUN')], [('<UNK>', 'PUNCT'), ('<UNK>', 'PUNCT'), ('<UNK>', 'NOUN'), ('?', 'PUNCT')], [('Ne', 'PART'), ('<UNK>', 'PUNCT'), ('.', 'PUNCT')], [('Prieš', 'ADV'), ('<UNK>', 'PUNCT'), ('vakarą', 'NOUN'), ('<UNK>', 'NOUN'), ('veidą', 'NOUN'), ('švelniai', 'NOUN'), ('<UNK>', 'NOUN'), ('arba', 'CCONJ'), ('<UNK>', 'NOUN'), ('<UNK>', 'NOUN'), ('<UNK>', 'NOUN'), ('.', 'PUNCT')], [('<UNK>', 'PUNCT'), ('<UNK>', 'PUNCT'), ('iki', 'ADP'), ('švenčių', 'NOUN'), (',', 'PUNCT'), ('<UNK>', 'NOUN'), ('<UNK>', 'NOUN'), ('<UNK>', 'NOUN'), ('<UNK>', 'NOUN'), ('<UNK>', 'NOUN'), ('.', 'PUNCT')], [('<UNK>', 'PUNCT'), (',', 'PUNCT'), ('<UNK>', 'NOUN'), (',', 'PUNCT'), ('<UNK>', 'NOUN'), ('labiausiai', 'VERB'), ('<UNK>', 'NOUN'), ('juodi', 'ADJ'), ('<UNK>', 'NOUN'), ('<UNK>', 'NOUN'), ('akis', 'NOUN'), ('.', 'PUNCT')], [('Juos', 'NOUN'), ('<UNK>', 'PUNCT'), ('<UNK>', 'NOUN'), ('arbatos', 'NOUN'), (',', 'PUNCT'), ('<UNK>', 'NOUN'), ('<UNK>', 'NOUN'), ('.', 'PUNCT')], [('<UNK>', 'PUNCT'), ('<UNK>', 'PUNCT'), ('padeda', 'VERB'), ('<UNK>', 'NOUN'), ('<UNK>', 'NOUN'), ('<UNK>', 'NOUN'), ('<UNK>', 'NOUN'), ('<UNK>', 'NOUN'), ('.', 'PUNCT')], [('<UNK>', 'PUNCT'), ('prieš', 'ADP'), ('šventes', 'NOUN'), ('<UNK>', 'NOUN'), ('valandėlę', 'NOUN'), ('tik', 'PART'), ('sau', 'ADV'), ('.', 'PUNCT')], [('<UNK>', 'PUNCT'), ('<UNK>', 'PUNCT'), (',', 'PUNCT'), ('<UNK>', 'NOUN'), ('vonios', 'NOUN'), ('<UNK>', 'NOUN'), (',', 'PUNCT'), ('veido', 'NOUN'), ('<UNK>', 'NOUN'), (',', 'PUNCT'), ('<UNK>', 'NOUN'), ('muzika', 'NOUN'), ('–', 'PUNCT'), ('ir', 'CCONJ'), ('<UNK>', 'NOUN'), ('<UNK>', 'NOUN'), ('kaip', 'SCONJ'), ('<UNK>', 'NOUN'), ('.', 'PUNCT')], [('Kalėdų', 'NOUN'), ('<UNK>', 'NOUN')], [('20', 'NUM'), ('<UNK>', 'NOUN'), ('patarimų', 'NOUN'), ('kiekvienai', 'NOUN')], [('Kad', 'SCONJ'), ('<UNK>', 'PUNCT'), ('<UNK>', 'NOUN'), ('sveikatai', 'NOUN'), ('<UNK>', 'NOUN'), ('<UNK>', 'NOUN'), ('<UNK>', 'NOUN'), (',', 'PUNCT'), ('<UNK>', 'NOUN'), ('<UNK>', 'NOUN'), ('<UNK>', 'NOUN'), ('biudžetą', 'NOUN'), ('ir', 'CCONJ'), ('bent', 'PART'), ('apytikriai', 'ADV'), ('<UNK>', 'PUNCT'), (',', 'PUNCT'), ('kiek', 'ADV'), ('<UNK>', 'NOUN'), ('maistui', 'NOUN'), (',', 'PUNCT'), ('<UNK>', 'NOUN'), (',', 'PUNCT'), ('<UNK>', 'NOUN'), ('.', 'PUNCT')], [('<UNK>', 'PUNCT'), ('dalykas', 'NOUN'), (',', 'PUNCT'), ('padėsiantis', 'VERB'), ('kokybiškai', 'VERB'), ('pasiruošti', 'VERB'), ('<UNK>', 'NOUN'), (',', 'PUNCT'), ('–', 'PUNCT'), ('griežtai', 'ADV'), ('<UNK>', 'NOUN'), ('<UNK>', 'NOUN'), ('ir', 'CCONJ'), ('darbų', 'NOUN'), ('<UNK>', 'NOUN'), ('.', 'PUNCT')], [('<UNK>', 'PUNCT'), ('<UNK>', 'PUNCT'), (',', 'PUNCT'), ('ką', 'PRON'), ('tiksliai', 'VERB'), ('<UNK>', 'NOUN'), ('kiekvieną', 'X'), ('dieną', 'NOUN'), (',', 'PUNCT'), ('ir', 'CCONJ'), ('<UNK>', 'NOUN'), ('taip', 'ADV'), (',', 'PUNCT'), ('kad', 'SCONJ'), ('viskas', 'PRON'), ('atimtų', 'VERB'), ('kuo', 'PART'), ('mažiau', 'ADV'), ('pastangų', 'NOUN'), ('.', 'PUNCT')], [('Nors', 'SCONJ'), ('įprasta', 'ADJ'), ('<UNK>', 'NOUN'), ('<UNK>', 'NOUN'), (',', 'PUNCT'), ('<UNK>', 'NOUN'), ('<UNK>', 'NOUN'), ('ar', 'CCONJ'), ('<UNK>', 'NOUN'), ('<UNK>', 'NOUN'), ('puikiai', 'ADV'), ('<UNK>', 'NOUN'), ('–', 'PUNCT'), ('nereikės', 'VERB'), ('<UNK>', 'NOUN'), ('ir', 'CCONJ'), ('gaišti', 'VERB'), ('laiko', 'NOUN'), ('<UNK>', 'NOUN'), ('.', 'PUNCT')], [('<UNK>', 'PUNCT'), ('pirkti', 'VERB'), ('<UNK>', 'NOUN'), ('ar', 'CCONJ'), ('maisto', 'NOUN'), ('produktų', 'NOUN'), (',', 'PUNCT'), ('<UNK>', 'NOUN'), ('<UNK>', 'NOUN'), ('ir', 'CCONJ'), ('<UNK>', 'NOUN'), ('tik', 'PART'), ('jame', 'VERB'), ('<UNK>', 'NOUN'), ('produktus', 'NOUN'), ('–', 'PUNCT'), ('<UNK>', 'PUNCT'), ('<UNK>', 'NOUN'), ('<UNK>', 'NOUN'), ('nereikalingų', 'NOUN'), ('akcijos', 'NOUN'), ('prekių', 'NOUN'), ('.', 'PUNCT')], [('Kad', 'SCONJ'), ('ir', 'PART'), ('kokia', 'DET'), ('<UNK>', 'PUNCT'), ('<UNK>', 'NOUN'), ('<UNK>', 'NOUN'), ('jus', 'PROPN'), ('<UNK>', 'PUNCT'), (',', 'PUNCT'), ('<UNK>', 'NOUN'), ('laiko', 'NOUN'), ('sau', 'ADJ'), (':', 'PUNCT'), ('<UNK>', 'PUNCT'), ('<UNK>', 'NOUN'), ('knygą', 'NOUN'), (',', 'PUNCT'), ('<UNK>', 'NOUN'), ('į', 'ADP'), ('<UNK>', 'NOUN'), (',', 'PUNCT'), ('o', 'CCONJ'), ('gal', 'PART'), ('grožio', 'ADJ'), ('procedūrą', 'NOUN'), (',', 'PUNCT'), ('<UNK>', 'NOUN'), ('<UNK>', 'NOUN'), ('muzikos', 'NOUN'), (',', 'PUNCT'), ('jei', 'SCONJ'), ('<UNK>', 'PUNCT'), ('<UNK>', 'NOUN'), ('<UNK>', 'NOUN'), (',', 'PUNCT'), ('<UNK>', 'NOUN'), ('joms', 'PRON'), ('minutėlę', 'NOUN'), ('kitą', 'PRON'), ('.', 'PUNCT')], [('<UNK>', 'PUNCT'), ('puikiai', 'ADV'), ('<UNK>', 'NOUN'), ('<UNK>', 'NOUN'), (',', 'PUNCT'), ('o', 'CCONJ'), ('<UNK>', 'NOUN'), ('<UNK>', 'NOUN'), ('ir', 'CCONJ'), ('<UNK>', 'NOUN'), ('teikia', 'VERB'), ('<UNK>', 'NOUN'), ('<UNK>', 'NOUN'), (',', 'PUNCT'), ('<UNK>', 'NOUN'), ('<UNK>', 'NOUN'), ('<UNK>', 'NOUN'), ('.', 'PUNCT')], [('<UNK>', 'PUNCT'), ('<UNK>', 'PUNCT'), ('<UNK>', 'NOUN'), ('.', 'PUNCT')], [('<UNK>', 'PUNCT'), ('sako', 'VERB'), (',', 'PUNCT'), ('kad', 'SCONJ'), ('kaip', 'SCONJ'), ('ir', 'PART'), ('per', 'ADP'), ('<UNK>', 'NOUN'), (',', 'PUNCT'), ('taip', 'PART'), ('ir', 'PART'), ('per', 'PART'), ('šventes', 'NOUN'), ('mus', 'PRON'), ('apima', 'VERB'), ('<UNK>', 'NOUN'), ('lūkesčiai', 'NOUN'), ('–', 'PUNCT'), ('<UNK>', 'NOUN'), ('iš', 'ADP'), ('TV', 'ADJ'), ('<UNK>', 'PUNCT'), (',', 'PUNCT'), ('<UNK>', 'NOUN'), ('<UNK>', 'NOUN'), ('<UNK>', 'NOUN'), ('<UNK>', 'NOUN'), ('<UNK>', 'NOUN'), (',', 'PUNCT'), ('<UNK>', 'NOUN'), ('<UNK>', 'NOUN'), ('ir', 'CCONJ'), ('dėmesio', 'NOUN'), (',', 'PUNCT'), ('bet', 'CCONJ'), ('visa', 'PRON'), ('tai', 'DET'), ('praryja', 'VERB'), ('darbo', 'NOUN'), ('<UNK>', 'NOUN'), (',', 'PUNCT'), ('metų', 'NOUN'), ('pabaigos', 'NOUN'), ('darbai', 'NOUN'), ('.', 'PUNCT')], [('O', 'CCONJ'), ('ką', 'PRON'), ('jau', 'ADV'), ('kalbėti', 'VERB'), (',', 'PUNCT'), ('jei', 'SCONJ'), ('ir', 'PART'), ('taip', 'PART'), ('visus', 'DET'), ('metus', 'NOUN'), ('<UNK>', 'NOUN'), ('<UNK>', 'NOUN'), ('<UNK>', 'NOUN'), ('.', 'PUNCT')], [('Tokiais', 'DET'), ('atvejais', 'NOUN'), ('<UNK>', 'NOUN'), ('mažai', 'ADV'), ('<UNK>', 'NOUN'), ('–', 'PUNCT'), ('<UNK>', 'NOUN'), ('vieni', 'PRON'), ('kitus', 'PRON'), ('ir', 'CCONJ'), ('<UNK>', 'NOUN'), ('tonu', 'NOUN'), (',', 'PUNCT'), ('<UNK>', 'NOUN'), (',', 'PUNCT'), ('<UNK>', 'NOUN'), ('<UNK>', 'NOUN'), ('<UNK>', 'NOUN'), ('ir', 'CCONJ'), ('<UNK>', 'NOUN'), ('<UNK>', 'NOUN'), ('.', 'PUNCT')], [('Jokių', 'DET'), ('konfliktų', 'NOUN'), ('!', 'PUNCT')], [('<UNK>', 'PUNCT'), ('į', 'ADP'), ('viską', 'PRON'), ('<UNK>', 'PUNCT'), ('ir', 'CCONJ'), ('<UNK>', 'NOUN'), (',', 'PUNCT'), ('kad', 'SCONJ'), ('<UNK>', 'NOUN'), ('laikas', 'NOUN'), ('turėtų', 'VERB'), ('būti', 'AUX'), ('<UNK>', 'PUNCT'), ('ir', 'CCONJ'), ('<UNK>', 'NOUN'), (',', 'PUNCT'), ('o', 'CCONJ'), ('švenčių', 'NOUN'), ('<UNK>', 'NOUN'), ('ir', 'CCONJ'), ('<UNK>', 'NOUN'), ('<UNK>', 'NOUN'), ('<UNK>', 'NOUN'), ('mes', 'PRON'), ('patys', 'NOUN'), ('.', 'PUNCT')], [('<UNK>', 'PUNCT'), ('laiko', 'NOUN'), ('<UNK>', 'NOUN'), ('darbams', 'NOUN'), ('.', 'PUNCT')], [('Jeigu', 'SCONJ'), ('<UNK>', 'PUNCT'), (',', 'PUNCT'), ('kad', 'SCONJ'), ('kaimynas', 'NOUN'), ('<UNK>', 'NOUN'), (',', 'PUNCT'), ('<UNK>', 'NOUN'), ('jam', 'PRON'), ('<UNK>', 'NOUN'), ('.', 'PUNCT')], [('<UNK>', 'PUNCT'), ('neseniai', 'ADV'), ('<UNK>', 'NOUN'), ('ar', 'CCONJ'), ('<UNK>', 'NOUN'), ('<UNK>', 'NOUN'), ('<UNK>', 'NOUN'), ('<UNK>', 'NOUN'), ('šventes', 'NOUN'), ('drauge', 'VERB'), ('.', 'PUNCT')], [('<UNK>', 'PUNCT'), ('<UNK>', 'PUNCT'), ('<UNK>', 'NOUN'), ('<UNK>', 'NOUN'), ('<UNK>', 'NOUN'), ('<UNK>', 'NOUN'), ('<UNK>', 'NOUN'), (',', 'PUNCT'), ('jei', 'SCONJ'), ('<UNK>', 'NOUN'), ('galimybę', 'NOUN'), (',', 'PUNCT'), ('<UNK>', 'NOUN'), ('apie', 'ADP'), ('<UNK>', 'PUNCT'), ('.', 'PUNCT')], [('<UNK>', 'PUNCT'), (',', 'PUNCT'), ('<UNK>', 'NOUN'), ('darbai', 'NOUN'), ('<UNK>', 'NOUN'), ('<UNK>', 'NOUN'), ('daug', 'ADV'), ('labiau', 'ADV'), ('nei', 'SCONJ'), ('<UNK>', 'NOUN'), ('<UNK>', 'NOUN'), (',', 'PUNCT'), ('bet', 'CCONJ'), ('<UNK>', 'NOUN'), ('<UNK>', 'NOUN'), ('.', 'PUNCT')], [('<UNK>', 'PUNCT'), ('ir', 'CCONJ'), ('<UNK>', 'NOUN'), ('<UNK>', 'NOUN'), ('.', 'PUNCT')], [('Šiame', 'DET'), ('<UNK>', 'PUNCT'), ('<UNK>', 'NOUN'), ('ir', 'CCONJ'), ('<UNK>', 'NOUN'), ('amžiuje', 'NOUN'), ('neretai', 'ADV'), ('<UNK>', 'PUNCT'), ('tampa', 'VERB'), ('tarsi', 'PART'), ('<UNK>', 'PUNCT'), ('<UNK>', 'NOUN'), ('–', 'PUNCT'), ('kas', 'PRON'), ('<UNK>', 'NOUN'), ('ir', 'CCONJ'), ('<UNK>', 'NOUN'), ('<UNK>', 'NOUN'), (',', 'PUNCT'), ('kas', 'PRON'), ('labiau', 'ADV'), ('<UNK>', 'PUNCT'), ('<UNK>', 'NOUN'), (',', 'PUNCT'), ('<UNK>', 'NOUN'), ('nauja', 'NOUN'), ('<UNK>', 'NOUN'), ('.', 'PUNCT')], [('<UNK>', 'PUNCT'), ('tai', 'DET'), ('sukelia', 'VERB'), ('tik', 'PART'), ('<UNK>', 'PUNCT'), ('įtampą', 'NOUN'), ('ir', 'CCONJ'), ('savotiškas', 'ADJ'), ('<UNK>', 'NOUN'), ('.', 'PUNCT')], [('<UNK>', 'PUNCT'), ('ir', 'CCONJ'), ('<UNK>', 'NOUN'), ('savimi', 'PRON'), ('.', 'PUNCT')], [('<UNK>', 'PUNCT'), ('šventes', 'NOUN'), ('taip', 'ADV'), (',', 'PUNCT'), ('kaip', 'SCONJ'), ('norite', 'VERB'), (',', 'PUNCT'), ('kad', 'SCONJ'), ('ir', 'PART'), ('vieni', 'PRON'), ('su', 'ADP'), ('šeima', 'NOUN'), (',', 'PUNCT'), ('<UNK>', 'NOUN'), ('<UNK>', 'NOUN'), ('<UNK>', 'NOUN'), ('ar', 'CCONJ'), ('<UNK>', 'NOUN'), ('<UNK>', 'NOUN'), (',', 'PUNCT'), ('apie', 'ADP'), ('kurią', 'DET'), ('seniai', 'ADV'), ('<UNK>', 'PUNCT'), (',', 'PUNCT'), ('bet', 'CCONJ'), ('vis', 'ADV'), ('<UNK>', 'NOUN'), ('dėl', 'ADP'), ('savo', 'PRON'), ('<UNK>', 'NOUN'), (',', 'PUNCT'), ('metų', 'NOUN'), ('metais', 'NOUN'), ('<UNK>', 'NOUN'), ('tradicijų', 'NOUN'), ('.', 'PUNCT')], [('<UNK>', 'PUNCT'), ('irgi', 'ADV'), ('keičiasi', 'VERB'), (',', 'PUNCT'), ('pagaliau', 'ADV'), ('jas', 'PRON'), ('šeimose', 'NOUN'), ('<UNK>', 'PUNCT'), ('pradėti', 'VERB'), ('kurti', 'VERB'), ('.', 'PUNCT')], [('Per', 'ADP'), ('šventes', 'NOUN'), ('tikrai', 'ADV'), ('nebūtina', 'ADJ'), ('<UNK>', 'NOUN'), ('<UNK>', 'NOUN'), ('draugų', 'NOUN'), (',', 'PUNCT'), ('<UNK>', 'NOUN'), (',', 'PUNCT'), ('vis', 'ADV'), ('tiek', 'ADV'), ('visko', 'VERB'), ('<UNK>', 'PUNCT'), ('.', 'PUNCT')], [('<UNK>', 'PUNCT'), (',', 'PUNCT'), ('kad', 'SCONJ'), ('<UNK>', 'NOUN'), ('<UNK>', 'NOUN'), ('dažnai', 'ADV'), ('reiškia', 'VERB'), ('ir', 'CCONJ'), ('mažiau', 'ADV'), ('streso', 'NOUN'), ('.', 'PUNCT')], [('<UNK>', 'PUNCT'), ('<UNK>', 'PUNCT'), ('dėl', 'ADP'), ('to', 'DET'), (',', 'PUNCT'), ('kad', 'SCONJ'), ('<UNK>', 'NOUN'), ('už', 'ADP'), ('ką', 'PRON'), ('<UNK>', 'PUNCT'), ('vaikų', 'NOUN'), ('<UNK>', 'NOUN'), ('<UNK>', 'NOUN'), ('.', 'PUNCT')], [('Situacija', 'NOUN'), ('taps', 'VERB'), ('<UNK>', 'PUNCT'), (',', 'PUNCT'), ('jei', 'SCONJ'), ('su', 'ADP'), ('šeima', 'NOUN'), ('<UNK>', 'PUNCT'), (',', 'PUNCT'), ('kas', 'PRON'), ('jums', 'VERB'), ('yra', 'AUX'), ('<UNK>', 'PUNCT'), ('ir', 'CCONJ'), ('ką', 'PRON'), ('jos', 'PRON'), ('reiškia', 'VERB'), ('.', 'PUNCT')], [('Vaikai', 'NOUN'), ('turi', 'VERB'), ('žinoti', 'VERB'), (',', 'PUNCT'), ('kad', 'SCONJ'), ('labiau', 'ADV'), ('nei', 'SCONJ'), ('<UNK>', 'PUNCT'), ('<UNK>', 'NOUN'), ('svarbu', 'ADJ'), ('<UNK>', 'NOUN'), ('<UNK>', 'NOUN'), ('dėmesys', 'NOUN'), ('ir', 'CCONJ'), ('laikas', 'NOUN'), (',', 'PUNCT'), ('<UNK>', 'NOUN'), ('drauge', 'ADV'), ('.', 'PUNCT')], [('Įmonės', 'DET'), ('<UNK>', 'PUNCT'), ('artėjant', 'VERB')], [('<UNK>', 'PUNCT'), ('<UNK>', 'PUNCT'), ('metų', 'NOUN'), ('<UNK>', 'NOUN'), (',', 'PUNCT'), ('o', 'CCONJ'), ('kartu', 'ADV'), ('ir', 'CCONJ'), ('ištikimi', 'ADJ'), ('jų', 'PRON'), ('palydovai', 'NOUN'), ('–', 'PUNCT'), ('įmonių', 'NOUN'), ('<UNK>', 'PUNCT'), (',', 'PUNCT'), ('kurie', 'DET'), ('yra', 'AUX'), ('tokie', 'DET'), ('pat', 'X'), ('svarbūs', 'NOUN'), ('kaip', 'SCONJ'), ('ir', 'PART'), ('bet', 'VERB'), ('kuri', 'DET'), ('darbo', 'NOUN'), ('<UNK>', 'NOUN'), ('.', 'PUNCT')], [('Todėl', 'ADV'), (',', 'PUNCT'), ('jeigu', 'SCONJ'), ('rimtai', 'ADV'), ('galvojate', 'VERB'), ('apie', 'ADP'), ('<UNK>', 'PUNCT'), (',', 'PUNCT'), ('jūsų', 'PRON'), ('elgesys', 'NOUN'), ('<UNK>', 'NOUN'), ('metu', 'NOUN'), ('taip', 'ADV'), ('pat', 'X'), ('turi', 'VERB'), ('būti', 'AUX'), ('<UNK>', 'PUNCT'), ('.', 'PUNCT')], [('Kol', 'ADV'), ('<UNK>', 'PUNCT'), ('už', 'ADP'), ('<UNK>', 'NOUN'), ('<UNK>', 'NOUN'), ('suka', 'NOUN'), ('<UNK>', 'PUNCT'), (',', 'PUNCT'), ('koks', 'DET'), ('jis', 'PRON'), ('galėtų', 'VERB'), ('būti', 'AUX'), (',', 'PUNCT'), ('ir', 'PART'), ('<UNK>', 'NOUN'), ('biudžetą', 'NOUN'), (',', 'PUNCT'), ('<UNK>', 'NOUN'), ('<UNK>', 'NOUN'), ('<UNK>', 'NOUN'), ('nuo', 'ADP'), ('metinių', 'ADJ'), ('ataskaitų', 'NOUN'), ('rengimo', 'NOUN'), ('metu', 'NOUN'), ('<UNK>', 'NOUN'), ('<UNK>', 'NOUN'), ('šventes', 'NOUN'), ('.', 'PUNCT')], [('„', 'PUNCT'), ('<UNK>', 'PUNCT'), (',', 'PUNCT'), ('kaip', 'SCONJ'), ('skyriaus', 'NOUN'), ('<UNK>', 'NOUN'), (',', 'PUNCT'), ('tada', 'ADV'), ('tik', 'PART'), ('projektų', 'VERB'), ('vadovas', 'NOUN'), (',', 'PUNCT'), ('tą', 'DET'), ('<UNK>', 'NOUN'), ('<UNK>', 'NOUN'), ('<UNK>', 'NOUN'), ('!', 'PUNCT')], [('Dar', 'ADV'), ('ir', 'PART'), ('dabar', 'ADV'), ('<UNK>', 'PUNCT'), ('<UNK>', 'NOUN'), ('!', 'PUNCT'), ('“', 'PUNCT')], [('„', 'PUNCT'), ('O', 'CCONJ'), ('kaip', 'SCONJ'), ('Rūta', 'PRON'), ('iš', 'ADP'), ('pardavimo', 'NOUN'), ('skyriaus', 'NOUN'), ('kalbą', 'NOUN'), ('apie', 'ADP'), ('<UNK>', 'PUNCT'), ('<UNK>', 'NOUN'), ('<UNK>', 'NOUN'), ('!', 'PUNCT')], [('Keista', 'ADJ'), (',', 'PUNCT'), ('kad', 'SCONJ'), ('ji', 'PRON'), ('iki', 'ADP'), ('šiol', 'X'), ('dirba', 'VERB'), ('.', 'PUNCT'), ('“', 'PUNCT')], [('<UNK>', 'PUNCT'), ('pavyzdžių', 'NOUN'), ('daugybė', 'NOUN'), ('.', 'PUNCT')], [('<UNK>', 'PUNCT'), ('<UNK>', 'PUNCT'), ('–', 'PUNCT'), ('tai', 'DET'), ('ne', 'PART'), ('<UNK>', 'PUNCT'), ('artimų', 'ADJ'), ('draugų', 'NOUN'), ('rate', 'NOUN'), ('.', 'PUNCT')], [('<UNK>', 'PUNCT'), ('į', 'ADP'), ('juos', 'PRON'), ('kviečiami', 'VERB'), ('ne', 'PART'), ('tik', 'PART'), ('darbuotojai', 'NOUN'), (',', 'PUNCT'), ('bet', 'CCONJ'), ('ir', 'PART'), ('įmonės', 'VERB'), ('klientų', 'NOUN'), ('bei', 'CCONJ'), ('partnerių', 'NOUN'), ('atstovai', 'NOUN'), (',', 'PUNCT'), ('todėl', 'ADV'), ('<UNK>', 'PUNCT'), ('<UNK>', 'NOUN'), ('tik', 'PART'), ('<UNK>', 'PUNCT'), ('<UNK>', 'NOUN'), ('.', 'PUNCT')], [('Iš', 'ADV'), ('tiesų', 'X'), ('kompanijos', 'NOUN'), (',', 'PUNCT'), ('ypač', 'ADV'), ('didelės', 'VERB'), (',', 'PUNCT'), ('nustato', 'VERB'), ('tam', 'PRON'), ('tikras', 'X'), ('<UNK>', 'PUNCT'), (',', 'PUNCT'), ('nors', 'SCONJ'), ('ir', 'PART'), ('ne', 'PART'), ('tokias', 'PART'), ('<UNK>', 'NOUN'), ('kaip', 'SCONJ'), ('<UNK>', 'NOUN'), ('.', 'PUNCT')], [('<UNK>', 'PUNCT'), ('kodas', 'NOUN')], [('<UNK>', 'PUNCT'), ('privalo', 'VERB'), ('atitikti', 'VERB'), ('aplinką', 'NOUN'), ('.', 'PUNCT')], [('Paprastai', 'PART'), ('įmonės', 'VERB'), ('darbuotojai', 'NOUN'), ('<UNK>', 'NOUN'), ('į', 'ADP'), ('<UNK>', 'NOUN'), ('gauna', 'VERB'), ('su', 'ADP'), ('juose', 'PRON'), ('nurodytu', 'VERB'), ('<UNK>', 'PUNCT'), ('<UNK>', 'NOUN'), ('.', 'PUNCT')], [('Jeigu', 'SCONJ'), ('ne', 'PART'), (',', 'PUNCT'), ('vadinasi', 'VERB'), (',', 'PUNCT'), ('pakanka', 'VERB'), ('laikytis', 'NOUN'), ('bendrų', 'NOUN'), ('taisyklių', 'NOUN'), ('.', 'PUNCT')], [('Pavyzdžiui', 'NOUN'), (',', 'PUNCT'), ('<UNK>', 'NOUN'), ('po', 'ADP'), ('<UNK>', 'NOUN'), ('darbo', 'NOUN'), ('dienos', 'NOUN'), ('tinka', 'VERB'), ('pasirodyti', 'VERB'), ('<UNK>', 'NOUN'), ('<UNK>', 'NOUN'), (',', 'PUNCT'), ('<UNK>', 'NOUN'), ('keletą', 'PRON'), ('<UNK>', 'NOUN'), ('<UNK>', 'NOUN'), ('.', 'PUNCT')], [('<UNK>', 'PUNCT'), (',', 'PUNCT'), ('kad', 'SCONJ'), ('šalia', 'ADP'), ('<UNK>', 'NOUN'), (',', 'PUNCT'), ('<UNK>', 'NOUN'), (',', 'PUNCT'), ('<UNK>', 'NOUN'), ('<UNK>', 'NOUN'), ('ir', 'CCONJ'), ('panašių', 'ADJ'), ('darbo', 'NOUN'), ('atributų', 'NOUN'), ('<UNK>', 'NOUN'), ('<UNK>', 'NOUN'), ('<UNK>', 'NOUN'), ('<UNK>', 'NOUN'), ('<UNK>', 'NOUN'), ('<UNK>', 'NOUN'), ('keistai', 'VERB'), ('.', 'PUNCT')], [('<UNK>', 'PUNCT'), ('<UNK>', 'PUNCT'), ('būtina', 'ADJ'), ('<UNK>', 'NOUN'), ('<UNK>', 'NOUN'), ('ar', 'CCONJ'), ('<UNK>', 'NOUN'), ('<UNK>', 'NOUN'), (',', 'PUNCT'), ('<UNK>', 'NOUN'), ('klube', 'NOUN'), ('–', 'PUNCT'), ('<UNK>', 'NOUN'), ('stiliaus', 'NOUN'), ('<UNK>', 'NOUN'), ('.', 'PUNCT')], [('O', 'CCONJ'), ('štai', 'PART'), ('pernelyg', 'ADV'), ('atviros', 'ADJ'), (',', 'PUNCT'), ('<UNK>', 'NOUN'), ('ir', 'CCONJ'), ('akį', 'NOUN'), ('<UNK>', 'NOUN'), ('<UNK>', 'NOUN'), ('firmos', 'NOUN'), ('<UNK>', 'NOUN'), ('<UNK>', 'NOUN'), ('<UNK>', 'NOUN'), ('.', 'PUNCT')], [('Net', 'VERB'), ('<UNK>', 'PUNCT'), ('<UNK>', 'NOUN'), ('aplinkoje', 'NOUN'), ('<UNK>', 'NOUN'), ('vienas', 'PRON'), ('kitam', 'ADJ'), ('turi', 'VERB'), ('likti', 'VERB'), ('<UNK>', 'NOUN'), ('.', 'PUNCT')], [('Žinoma', 'VERB'), (',', 'PUNCT'), ('nėra', 'VERB'), ('taisyklių', 'NOUN'), ('be', 'ADP'), ('<UNK>', 'PUNCT'), (',', 'PUNCT'), ('bet', 'CCONJ'), (',', 'PUNCT'), ('<UNK>', 'NOUN'), ('nuo', 'ADP'), ('to', 'DET'), (',', 'PUNCT'), ('koks', 'DET'), ('<UNK>', 'NOUN'), ('ir', 'CCONJ'), ('<UNK>', 'NOUN'), ('jūsų', 'PRON'), ('<UNK>', 'NOUN'), (',', 'PUNCT'), ('<UNK>', 'NOUN'), ('<UNK>', 'NOUN'), ('ir', 'CCONJ'), ('<UNK>', 'NOUN'), ('<UNK>', 'NOUN'), ('<UNK>', 'NOUN'), ('deramai', 'ADV'), ('<UNK>', 'NOUN'), ('.', 'PUNCT')], [('<UNK>', 'PUNCT'), ('<UNK>', 'PUNCT'), ('<UNK>', 'NOUN')], [('Tas', 'DET'), (',', 'PUNCT'), ('kuris', 'DET'), ('<UNK>', 'NOUN'), (',', 'PUNCT'), ('kad', 'SCONJ'), ('<UNK>', 'NOUN'), ('ir', 'CCONJ'), ('<UNK>', 'NOUN'), ('vadovų', 'NOUN'), ('nėra', 'VERB'), (',', 'PUNCT'), ('turbūt', 'PART'), ('<UNK>', 'NOUN'), ('.', 'PUNCT')], [('<UNK>', 'PUNCT'), ('visada', 'ADV'), ('lieka', 'VERB'), ('<UNK>', 'NOUN'), (',', 'PUNCT'), ('net', 'PART'), ('<UNK>', 'PUNCT'), ('<UNK>', 'NOUN'), ('metus', 'NOUN'), ('<UNK>', 'NOUN'), ('už', 'ADP'), ('<UNK>', 'NOUN'), ('<UNK>', 'NOUN'), ('nuo', 'ADP'), ('biuro', 'NOUN'), ('.', 'PUNCT')], [('<UNK>', 'PUNCT'), (',', 'PUNCT'), ('kad', 'SCONJ'), ('<UNK>', 'NOUN'), ('<UNK>', 'NOUN'), ('<UNK>', 'NOUN'), ('prie', 'ADP'), ('jūsų', 'PRON'), ('<UNK>', 'PUNCT'), ('<UNK>', 'NOUN'), ('<UNK>', 'NOUN'), ('ir', 'CCONJ'), ('<UNK>', 'NOUN'), ('įmonės', 'NOUN'), ('<UNK>', 'NOUN'), (',', 'PUNCT'), ('bet', 'CCONJ'), ('ir', 'PART'), ('<UNK>', 'NOUN'), ('<UNK>', 'NOUN'), ('į', 'ADP'), ('glėbį', 'NOUN'), ('kaip', 'SCONJ'), ('<UNK>', 'NOUN'), ('<UNK>', 'NOUN'), ('<UNK>', 'NOUN'), ('.', 'PUNCT')], [('Kad', 'SCONJ'), ('ir', 'PART'), ('kokia', 'DET'), ('<UNK>', 'PUNCT'), ('jums', 'VERB'), ('atrodytų', 'VERB'), ('<UNK>', 'NOUN'), (',', 'PUNCT'), ('<UNK>', 'NOUN'), ('<UNK>', 'NOUN'), ('primygtinai', 'ADV'), ('siūlyti', 'VERB'), ('dalyvauti', 'VERB'), ('<UNK>', 'NOUN'), ('<UNK>', 'NOUN'), ('ar', 'CCONJ'), ('<UNK>', 'NOUN'), ('į', 'ADP'), ('<UNK>', 'NOUN'), ('aikštelę', 'NOUN'), ('jam', 'PRON'), ('to', 'DET'), ('<UNK>', 'PUNCT'), ('.', 'PUNCT')], [('<UNK>', 'PUNCT'), ('–', 'PUNCT'), ('pats', 'DET'), ('<UNK>', 'PUNCT'), ('.', 'PUNCT')], [('O', 'CCONJ'), ('štai', 'PART'), ('jeigu', 'SCONJ'), ('<UNK>', 'NOUN'), ('metu', 'NOUN'), ('<UNK>', 'NOUN'), ('<UNK>', 'NOUN'), ('ramiai', 'ADV'), ('su', 'ADP'), ('juo', 'PRON'), ('pasikalbėti', 'VERB'), ('(', 'PUNCT'), ('vadovo', 'NOUN'), ('pasiūlyta', 'VERB'), ('tema', 'NOUN'), (')', 'PUNCT'), ('–', 'PUNCT'), ('<UNK>', 'PUNCT'), ('didelį', 'NOUN'), ('<UNK>', 'NOUN'), ('.', 'PUNCT')], [('Tik', 'PART'), ('nesistenkite', 'VERB'), ('pokalbio', 'NOUN'), ('<UNK>', 'NOUN'), ('jums', 'VERB'), ('<UNK>', 'NOUN'), ('<UNK>', 'NOUN'), ('klausimais', 'NOUN'), (',', 'PUNCT'), ('greičiausiai', 'ADV'), ('<UNK>', 'NOUN'), ('<UNK>', 'NOUN'), (',', 'PUNCT'), ('nes', 'SCONJ'), ('aplinka', 'ADJ'), ('ne', 'PART'), ('ta', 'DET'), ('.', 'PUNCT')], [('Bet', 'CCONJ'), ('ir', 'PART'), ('nutraukti', 'VERB'), ('<UNK>', 'PUNCT'), ('pokalbio', 'NUM'), ('nereikia', 'VERB'), (',', 'PUNCT'), ('pagaliau', 'ADV'), ('kodėl', 'NOUN'), ('<UNK>', 'NOUN'), ('apie', 'ADP'), ('kitų', 'PRON'), ('metų', 'NOUN'), ('<UNK>', 'NOUN'), ('?', 'PUNCT')], [('<UNK>', 'PUNCT'), ('ar', 'CCONJ'), ('<UNK>', 'NOUN'), ('<UNK>', 'NOUN')], [('Didžiosios', 'ADJ'), ('<UNK>', 'NOUN'), ('sociologai', 'NOUN'), ('atliko', 'VERB'), ('tyrimą', 'NOUN'), ('ir', 'CCONJ'), ('paaiškėjo', 'NOUN'), (',', 'PUNCT'), ('kad', 'SCONJ'), ('dauguma', 'NOUN'), ('<UNK>', 'NOUN'), ('per', 'ADP'), ('<UNK>', 'NOUN'), ('<UNK>', 'NOUN'), ('<UNK>', 'NOUN'), ('.', 'PUNCT')], [('64', 'ADJ'), ('proc', 'X'), ('.', 'PUNCT'), ('organizacijų', 'NOUN'), ('<UNK>', 'NOUN'), ('siūlo', 'VERB'), ('ir', 'CCONJ'), ('<UNK>', 'NOUN'), (',', 'PUNCT'), ('ir', 'CCONJ'), ('<UNK>', 'NOUN'), ('<UNK>', 'NOUN'), (',', 'PUNCT'), ('27', 'VERB'), ('proc', 'X'), ('.', 'PUNCT'), ('–', 'PUNCT'), ('tik', 'PART'), ('<UNK>', 'PUNCT'), ('ir', 'CCONJ'), ('vos', 'PART'), ('9', 'NUM'), ('proc', 'X'), ('.', 'PUNCT'), ('<UNK>', 'PUNCT'), ('<UNK>', 'NOUN'), ('nebūna', 'VERB'), ('jokių', 'NOUN'), ('<UNK>', 'NOUN'), ('<UNK>', 'NOUN'), ('.', 'PUNCT')], [('Jeigu', 'SCONJ'), ('jūsų', 'PRON'), ('įmonė', 'NOUN'), ('ne', 'PART'), ('iš', 'ADP'), ('pastarųjų', 'ADJ'), (',', 'PUNCT'), ('<UNK>', 'NOUN'), ('–', 'PUNCT'), ('<UNK>', 'NOUN'), (',', 'PUNCT'), ('<UNK>', 'NOUN'), ('ir', 'CCONJ'), ('dar', 'PART'), ('kartą', 'NOUN'), ('<UNK>', 'NOUN'), ('.', 'PUNCT')], [('<UNK>', 'PUNCT'), ('skaitytojų', 'NOUN'), ('šis', 'DET'), ('<UNK>', 'PUNCT'), ('greičiausiai', 'ADV'), ('<UNK>', 'NOUN'), (',', 'PUNCT'), ('bet', 'CCONJ'), ('vis', 'ADV'), ('dėlto', 'X'), ('verta', 'NOUN'), ('<UNK>', 'NOUN'), (',', 'PUNCT'), ('kad', 'SCONJ'), ('<UNK>', 'NOUN'), ('–', 'PUNCT'), ('karjeros', 'NOUN'), ('<UNK>', 'NOUN'), ('.', 'PUNCT')], [('<UNK>', 'PUNCT'), ('dviejų', 'NUM'), ('<UNK>', 'NOUN'), ('<UNK>', 'NOUN'), ('pakanka', 'VERB'), ('<UNK>', 'NOUN'), (',', 'PUNCT'), ('elgtis', 'VERB'), ('<UNK>', 'NOUN'), ('ir', 'CCONJ'), ('išmesti', 'VERB'), ('iš', 'ADP'), ('galvos', 'NOUN'), ('darbo', 'NOUN'), ('problemas', 'NOUN'), ('.', 'PUNCT')], [('<UNK>', 'PUNCT'), ('<UNK>', 'PUNCT'), ('<UNK>', 'NOUN'), ('<UNK>', 'NOUN'), ('gali', 'VERB'), ('<UNK>', 'NOUN'), ('atsiliepti', 'VERB'), ('karjerai', 'NOUN'), ('.', 'PUNCT')], [('<UNK>', 'PUNCT'), ('vadovas', 'NOUN'), ('<UNK>', 'NOUN'), ('<UNK>', 'NOUN'), ('<UNK>', 'NOUN'), (',', 'PUNCT'), ('kuris', 'DET'), ('<UNK>', 'NOUN'), ('savęs', 'PRON'), ('ir', 'CCONJ'), ('<UNK>', 'NOUN'), ('<UNK>', 'NOUN'), ('tarp', 'ADP'), ('kolegų', 'NOUN'), ('ir', 'CCONJ'), ('partnerių', 'NOUN'), ('.', 'PUNCT')], [('Jeigu', 'SCONJ'), ('<UNK>', 'PUNCT'), (',', 'PUNCT'), ('kad', 'SCONJ'), ('bus', 'VERB'), ('sunku', 'ADJ'), ('susilaikyti', 'VERB'), ('nuo', 'ADP'), ('<UNK>', 'PUNCT'), ('ar', 'CCONJ'), ('<UNK>', 'NOUN'), ('<UNK>', 'NOUN'), (',', 'PUNCT'), ('geriau', 'ADV'), ('išvis', 'ADV'), ('<UNK>', 'NOUN'), ('vartoti', 'VERB'), ('<UNK>', 'PUNCT'), ('<UNK>', 'NOUN'), ('.', 'PUNCT')], [('Kad', 'SCONJ'), ('<UNK>', 'PUNCT'), ('<UNK>', 'NOUN'), ('<UNK>', 'NOUN'), (',', 'PUNCT'), ('<UNK>', 'NOUN'), ('<UNK>', 'NOUN'), ('įvairių', 'ADJ'), ('<UNK>', 'NOUN'), (':', 'PUNCT'), ('„', 'PUNCT'), ('kaltę', 'NOUN'), ('“', 'PUNCT'), ('<UNK>', 'PUNCT'), ('<UNK>', 'NOUN'), ('<UNK>', 'NOUN'), ('<UNK>', 'NOUN'), (',', 'PUNCT'), ('vietoj', 'ADP'), ('<UNK>', 'NOUN'), ('<UNK>', 'NOUN'), ('vandens', 'NOUN'), ('ir', 'CCONJ'), ('pan', 'X'), ('.', 'PUNCT')], [('<UNK>', 'PUNCT'), (',', 'PUNCT'), ('<UNK>', 'NOUN'), (',', 'PUNCT'), ('<UNK>', 'NOUN')], [('Taip', 'PART'), ('jau', 'PART'), ('yra', 'AUX'), (',', 'PUNCT'), ('kad', 'SCONJ'), ('įmonės', 'NOUN'), ('<UNK>', 'NOUN'), ('–', 'PUNCT'), ('tai', 'DET'), ('ne', 'PART'), ('tik', 'PART'), ('bendra', 'ADJ'), ('<UNK>', 'NOUN'), ('ir', 'CCONJ'), ('<UNK>', 'NOUN'), ('už', 'ADP'), ('kompanijos', 'NOUN'), ('sėkmę', 'NOUN'), ('kitais', 'PRON'), ('metais', 'NOUN'), ('.', 'PUNCT')], [('Paprastai', 'PART'), ('organizatoriai', 'VERB'), ('stengiasi', 'VERB'), ('<UNK>', 'NOUN'), ('įvairių', 'ADJ'), ('<UNK>', 'NOUN'), ('.', 'PUNCT')], [('Gerai', 'ADV'), (',', 'PUNCT'), ('jeigu', 'SCONJ'), ('esate', 'PROPN'), ('prigimties', 'ADJ'), ('<UNK>', 'PUNCT'), ('ir', 'CCONJ'), ('puikiai', 'ADV'), ('<UNK>', 'NOUN'), ('<UNK>', 'NOUN'), ('su', 'ADP'), ('<UNK>', 'NOUN'), ('<UNK>', 'NOUN'), ('<UNK>', 'NOUN'), ('.', 'PUNCT')], [('O', 'CCONJ'), ('ką', 'PRON'), ('daryti', 'VERB'), (',', 'PUNCT'), ('jeigu', 'SCONJ'), ('taip', 'ADV'), ('nėra', 'VERB'), ('?', 'PUNCT')], [('Telieka', 'VERB'), ('tikėtis', 'VERB'), (',', 'PUNCT'), ('kad', 'SCONJ'), ('niekas', 'NOUN'), ('prieš', 'ADP'), ('jūsų', 'PRON'), ('<UNK>', 'PUNCT'), ('<UNK>', 'NOUN'), ('ant', 'ADP'), ('scenos', 'NOUN'), ('<UNK>', 'NOUN'), ('<UNK>', 'NOUN'), ('.', 'PUNCT')], [('Visgi', 'VERB'), ('reikia', 'VERB'), ('<UNK>', 'PUNCT'), (',', 'PUNCT'), ('kad', 'SCONJ'), ('darbuotojus', 'NOUN'), (',', 'PUNCT'), ('kurie', 'DET'), ('dalyvauja', 'VERB'), ('<UNK>', 'NOUN'), ('<UNK>', 'NOUN'), (',', 'PUNCT'), ('vadovai', 'VERB'), ('gali', 'VERB'), ('vertinti', 'VERB'), ('kaip', 'SCONJ'), ('turinčius', 'VERB'), ('<UNK>', 'NOUN'), ('<UNK>', 'NOUN'), ('gebėjimų', 'NOUN'), ('ar', 'CCONJ'), ('net', 'PART'), ('<UNK>', 'PUNCT'), ('savybių', 'NOUN'), ('.', 'PUNCT')], [('Tai', 'DET'), ('–', 'PUNCT'), ('didelis', 'ADJ'), ('<UNK>', 'NOUN'), (',', 'PUNCT'), ('todėl', 'ADV'), ('<UNK>', 'PUNCT'), ('<UNK>', 'NOUN'), ('situacijose', 'NOUN'), ('yra', 'AUX'), ('<UNK>', 'NOUN'), ('.', 'PUNCT')], [('<UNK>', 'PUNCT'), ('–', 'PUNCT'), ('<UNK>', 'PUNCT')], [('Kad', 'SCONJ'), ('<UNK>', 'PUNCT'), ('<UNK>', 'NOUN'), ('ir', 'CCONJ'), ('<UNK>', 'NOUN'), ('<UNK>', 'NOUN'), ('prisiminimų', 'NOUN'), (',', 'PUNCT'), ('<UNK>', 'NOUN'), ('elgtis', 'VERB'), ('<UNK>', 'NOUN'), ('.', 'PUNCT')], [('<UNK>', 'PUNCT'), ('su', 'ADP'), ('<UNK>', 'NOUN'), (',', 'PUNCT'), ('<UNK>', 'NOUN'), ('jie', 'PRON'), ('<UNK>', 'NOUN'), ('jus', 'PROPN'), ('ne', 'PART'), ('tik', 'PART'), ('kaip', 'SCONJ'), ('gerą', 'X'), ('<UNK>', 'NOUN'), (',', 'PUNCT'), ('bet', 'CCONJ'), ('ir', 'PART'), ('kaip', 'SCONJ'), ('<UNK>', 'NOUN'), (',', 'PUNCT'), ('<UNK>', 'NOUN'), ('<UNK>', 'NOUN'), ('.', 'PUNCT')], [('Todėl', 'ADV'), ('<UNK>', 'NOUN'), ('prie', 'ADP'), ('jų', 'PRON'), ('su', 'ADP'), ('darbo', 'NOUN'), ('problemomis', 'NOUN'), (',', 'PUNCT'), ('juk', 'PART'), ('<UNK>', 'PUNCT'), ('daug', 'ADV'), ('<UNK>', 'NOUN'), ('kalbėtis', 'VERB'), (',', 'PUNCT'), ('pavyzdžiui', 'NOUN'), (',', 'PUNCT'), ('apie', 'ADP'), ('<UNK>', 'PUNCT'), ('.', 'PUNCT')], [('<UNK>', 'PUNCT'), ('<UNK>', 'PUNCT'), ('pasakyti', 'VERB'), ('<UNK>', 'NOUN'), ('<UNK>', 'NOUN'), (',', 'PUNCT'), ('jei', 'SCONJ'), ('<UNK>', 'NOUN'), ('.', 'PUNCT')], [('<UNK>', 'PUNCT'), (',', 'PUNCT'), ('kad', 'SCONJ'), ('<UNK>', 'NOUN'), ('ne', 'PART'), ('tik', 'PART'), ('pristatyti', 'VERB'), ('naujas', 'ADJ'), ('įmonės', 'NOUN'), ('paslaugas', 'NOUN'), (',', 'PUNCT'), ('bet', 'CCONJ'), ('ir', 'PART'), ('<UNK>', 'NOUN'), ('<UNK>', 'NOUN'), ('žodžių', 'NOUN'), ('darbo', 'NOUN'), ('<UNK>', 'NOUN'), ('.', 'PUNCT')], [('<UNK>', 'PUNCT'), ('<UNK>', 'PUNCT'), ('su', 'ADP'), ('kuo', 'PART'), ('daugiau', 'ADV'), ('žmonių', 'NOUN'), ('.', 'PUNCT')], [('Ypač', 'ADV'), ('<UNK>', 'PUNCT'), ('<UNK>', 'NOUN'), ('<UNK>', 'NOUN'), ('kaip', 'SCONJ'), ('tik', 'PART'), ('ir', 'PART'), ('rengiami', 'VERB'), (',', 'PUNCT'), ('kad', 'SCONJ'), ('galėtų', 'VERB'), ('<UNK>', 'NOUN'), ('susipažinti', 'VERB'), ('<UNK>', 'NOUN'), ('iš', 'ADP'), ('skirtingų', 'ADJ'), ('padalinių', 'NOUN'), (',', 'PUNCT'), ('kurie', 'DET'), ('paprastai', 'ADV'), ('tik', 'PART'), ('<UNK>', 'PUNCT'), ('<UNK>', 'NOUN'), ('<UNK>', 'NOUN'), ('.', 'PUNCT')], [('Tik', 'PART'), ('<UNK>', 'PUNCT'), ('.', 'PUNCT')], [('<UNK>', 'PUNCT'), ('<UNK>', 'PUNCT'), ('<UNK>', 'NOUN'), ('metu', 'NOUN'), ('ne', 'PART'), ('toks', 'DET'), ('<UNK>', 'PUNCT'), ('kaip', 'SCONJ'), ('<UNK>', 'NOUN'), ('<UNK>', 'NOUN'), (',', 'PUNCT'), ('tačiau', 'CCONJ'), ('<UNK>', 'NOUN'), ('<UNK>', 'NOUN'), (',', 'PUNCT'), ('kad', 'SCONJ'), ('savo', 'PRON'), ('<UNK>', 'NOUN'), ('pernelyg', 'ADV'), ('„', 'PUNCT'), ('<UNK>', 'NOUN'), ('“', 'PUNCT'), ('kurio', 'DET'), ('nors', 'X'), ('<UNK>', 'PUNCT'), ('ir', 'CCONJ'), ('kitą', 'PRON'), ('rytą', 'NOUN'), ('įmonėje', 'NOUN'), ('nereikėtų', 'VERB'), ('<UNK>', 'NOUN'), ('.', 'PUNCT')], [('<UNK>', 'PUNCT'), ('ar', 'CCONJ'), ('<UNK>', 'NOUN'), ('?', 'PUNCT')], [('Kai', 'SCONJ'), ('kurie', 'X'), ('darbuotojai', 'NOUN'), ('stengiasi', 'VERB'), ('išvengti', 'VERB'), ('dalyvavimo', 'NOUN'), ('<UNK>', 'NOUN'), ('<UNK>', 'NOUN'), (':', 'PUNCT'), ('kas', 'PRON'), ('dėl', 'ADP'), ('to', 'DET'), (',', 'PUNCT'), ('kad', 'SCONJ'), ('<UNK>', 'NOUN'), ('jaučiasi', 'VERB'), ('<UNK>', 'NOUN'), ('<UNK>', 'NOUN'), (',', 'PUNCT'), ('kam', 'ADV'), ('sunku', 'ADJ'), ('išsirinkti', 'VERB'), ('<UNK>', 'NOUN'), (',', 'PUNCT'), ('o', 'CCONJ'), ('kas', 'PRON'), ('nepasitiki', 'VERB'), ('savimi', 'PRON'), ('.', 'PUNCT')], [('Visgi', 'VERB'), ('dėl', 'ADP'), ('karjeros', 'NOUN'), ('<UNK>', 'PUNCT'), ('<UNK>', 'NOUN'), ('renginiuose', 'NOUN'), ('neabejotinai', 'X'), ('verta', 'NOUN'), ('!', 'PUNCT')], [('Juk', 'PART'), ('į', 'ADP'), ('darbą', 'NOUN'), ('kartais', 'ADV'), ('taip', 'ADV'), ('pat', 'X'), ('<UNK>', 'PUNCT'), (',', 'PUNCT'), ('tačiau', 'CCONJ'), ('<UNK>', 'NOUN'), ('ir', 'CCONJ'), ('<UNK>', 'NOUN'), ('.', 'PUNCT')], [('Žinoma', 'VERB'), (',', 'PUNCT'), ('<UNK>', 'PUNCT'), ('<UNK>', 'NOUN'), ('<UNK>', 'NOUN'), (',', 'PUNCT'), ('bet', 'CCONJ'), ('<UNK>', 'NOUN'), ('<UNK>', 'NOUN'), ('<UNK>', 'NOUN'), ('gali', 'VERB'), ('padėti', 'VERB'), ('įsitvirtinti', 'VERB'), ('<UNK>', 'NOUN'), ('.', 'PUNCT')], [('<UNK>', 'PUNCT'), ('<UNK>', 'PUNCT'), ('gali', 'VERB'), ('tie', 'DET'), (',', 'PUNCT'), ('kurie', 'DET'), ('jau', 'ADV'), ('tapo', 'VERB'), ('<UNK>', 'NOUN'), ('<UNK>', 'NOUN'), ('arba', 'CCONJ'), ('yra', 'AUX'), ('tikrai', 'ADV'), ('<UNK>', 'NOUN'), ('specialistai', 'NOUN'), ('.', 'PUNCT')], [('Todėl', 'ADV'), (',', 'PUNCT'), ('jeigu', 'SCONJ'), ('labai', 'ADV'), ('tvirtai', 'ADV'), ('<UNK>', 'NOUN'), ('<UNK>', 'NOUN'), (',', 'PUNCT'), ('<UNK>', 'NOUN'), ('turėti', 'VERB'), ('<UNK>', 'NOUN'), ('<UNK>', 'NOUN'), ('ir', 'CCONJ'), ('pradėti', 'VERB'), ('maždaug', 'ADV'), ('taip', 'ADV'), (':', 'PUNCT')], [('„', 'PUNCT'), ('<UNK>', 'PUNCT'), (',', 'PUNCT'), ('tikrai', 'ADV'), ('<UNK>', 'NOUN'), ('dalyvauti', 'VERB'), ('ir', 'CCONJ'), ('labai', 'ADV'), ('<UNK>', 'NOUN'), (',', 'PUNCT'), ('kad', 'SCONJ'), ('negalėsiu', 'VERB'), ('ateiti', 'VERB'), ('...', 'PUNCT'), ('“', 'PUNCT')], [('Beje', 'PART'), (',', 'PUNCT'), ('<UNK>', 'PUNCT'), ('<UNK>', 'NOUN'), ('<UNK>', 'NOUN'), ('<UNK>', 'NOUN'), ('ne', 'PART'), ('tik', 'PART'), ('tada', 'ADV'), (',', 'PUNCT'), ('jei', 'SCONJ'), ('visai', 'ADV'), ('<UNK>', 'PUNCT'), (',', 'PUNCT'), ('bet', 'CCONJ'), ('ir', 'PART'), ('jeigu', 'SCONJ'), ('šiek', 'ADV'), ('tiek', 'ADV'), ('<UNK>', 'PUNCT'), ('.', 'PUNCT')], [('<UNK>', 'PUNCT'), ('be', 'ADP'), ('įspėjimo', 'NOUN'), ('–', 'PUNCT'), ('<UNK>', 'NOUN'), ('<UNK>', 'NOUN'), ('.', 'PUNCT')], [('Tai', 'DET'), ('ne', 'PART'), ('<UNK>', 'PUNCT'), ('ir', 'CCONJ'), ('bus', 'VERB'), ('labai', 'ADV'), ('<UNK>', 'NOUN'), (',', 'PUNCT'), ('kai', 'SCONJ'), ('<UNK>', 'NOUN'), ('pro', 'ADV'), ('<UNK>', 'PUNCT'), ('per', 'ADP'), ('<UNK>', 'NOUN'), ('kalbos', 'NOUN'), ('<UNK>', 'NOUN'), ('.', 'PUNCT')], [('<UNK>', 'PUNCT'), (',', 'PUNCT'), ('ar', 'SCONJ'), ('jis', 'PRON'), ('bus', 'VERB'), ('<UNK>', 'NOUN'), ('...', 'PUNCT')], [('<UNK>', 'PUNCT'), ('<UNK>', 'PUNCT'), ('<UNK>', 'NOUN'), ('<UNK>', 'NOUN')], [('Iš', 'ADV'), ('anksto', 'X'), ('<UNK>', 'PUNCT'), ('<UNK>', 'PUNCT'), ('tą', 'DET'), ('dieną', 'NOUN'), ('ir', 'CCONJ'), ('<UNK>', 'NOUN'), ('jokių', 'NOUN'), ('kitų', 'PRON'), ('<UNK>', 'NOUN'), ('.', 'PUNCT')], [('<UNK>', 'PUNCT'), ('ir', 'CCONJ'), ('<UNK>', 'NOUN'), (',', 'PUNCT'), ('ką', 'PRON'), ('<UNK>', 'NOUN'), ('padaryti', 'VERB'), ('<UNK>', 'NOUN'), ('<UNK>', 'NOUN'), ('.', 'PUNCT')], [('Pasistenkite', 'NOUN'), ('viską', 'PRON'), ('atlikti', 'VERB'), ('<UNK>', 'NOUN'), ('mažiausiai', 'ADV'), ('2', 'NUM'), ('–', 'PUNCT'), ('3', 'NUM'), ('<UNK>', 'NOUN'), ('iki', 'ADP'), ('<UNK>', 'PUNCT'), ('<UNK>', 'NOUN'), ('.', 'PUNCT')], [('<UNK>', 'PUNCT'), ('laiko', 'NOUN'), ('<UNK>', 'NOUN'), ('ir', 'CCONJ'), ('<UNK>', 'NOUN'), ('.', 'PUNCT')], [('<UNK>', 'PUNCT'), ('<UNK>', 'PUNCT'), ('biudžetą', 'NOUN'), ('.', 'PUNCT')], [('<UNK>', 'PUNCT'), ('<UNK>', 'PUNCT'), ('daliai', 'NOUN'), ('(', 'PUNCT'), ('maistas', 'NOUN'), (',', 'PUNCT'), ('<UNK>', 'PUNCT'), (',', 'PUNCT'), ('programos', 'NOUN'), (',', 'PUNCT'), ('automobilių', 'NOUN'), ('ar', 'CCONJ'), ('patalpų', 'NOUN'), ('nuoma', 'NOUN'), ('ir', 'CCONJ'), ('pan', 'X'), ('.', 'PUNCT'), (')', 'PUNCT'), ('„', 'PUNCT'), ('<UNK>', 'PUNCT'), ('“', 'PUNCT'), ('<UNK>', 'PUNCT'), ('.', 'PUNCT')], [('Tik', 'PART'), ('<UNK>', 'PUNCT'), (',', 'PUNCT'), ('kad', 'SCONJ'), ('<UNK>', 'NOUN'), ('<UNK>', 'NOUN'), ('programa', 'NOUN'), ('ir', 'CCONJ'), ('pernelyg', 'ADV'), ('<UNK>', 'NOUN'), ('<UNK>', 'NOUN'), ('svečius', 'NOUN'), ('gali', 'VERB'), ('<UNK>', 'NOUN'), ('tiek', 'ADV'), ('pat', 'X'), (',', 'PUNCT'), ('kiek', 'ADV'), ('ir', 'PART'), ('viso', 'X'), ('to', 'DET'), ('trūkumas', 'NOUN'), ('.', 'PUNCT')], [('Svarbiausia', 'ADJ'), (',', 'PUNCT'), ('kad', 'SCONJ'), ('„', 'PUNCT'), ('<UNK>', 'PUNCT'), ('“', 'PUNCT'), ('į', 'ADP'), ('numatytą', 'ADJ'), ('pinigų', 'NOUN'), ('sumą', 'NOUN'), ('ir', 'CCONJ'), ('<UNK>', 'NOUN'), ('<UNK>', 'NOUN'), ('<UNK>', 'NOUN'), (',', 'PUNCT'), ('kad', 'SCONJ'), ('visi', 'DET'), ('<UNK>', 'NOUN'), ('patenkinti', 'VERB'), ('.', 'PUNCT')], [('Labai', 'ADV'), ('atsakingai', 'VERB'), ('<UNK>', 'PUNCT'), ('<UNK>', 'NOUN'), ('.', 'PUNCT')], [('Pavyzdžiui', 'NOUN'), (',', 'PUNCT'), ('šeimos', 'NOUN'), ('<UNK>', 'NOUN'), ('dalyvauja', 'VERB'), ('<UNK>', 'NOUN'), ('amžiaus', 'NOUN'), ('žmonių', 'NOUN'), (',', 'PUNCT'), ('todėl', 'ADV'), ('geriau', 'ADV'), ('<UNK>', 'PUNCT'), ('<UNK>', 'NOUN'), (',', 'PUNCT'), ('<UNK>', 'NOUN'), ('muzika', 'NOUN'), ('.', 'PUNCT')], [('<UNK>', 'PUNCT'), ('<UNK>', 'PUNCT'), (',', 'PUNCT'), ('kad', 'SCONJ'), ('<UNK>', 'NOUN'), ('situacijas', 'NOUN'), ('<UNK>', 'NOUN'), ('būtent', 'VERB'), ('muzika', 'NOUN'), ('.', 'PUNCT')], [('Jeigu', 'SCONJ'), ('<UNK>', 'PUNCT'), ('panašaus', 'NOUN'), ('amžiaus', 'NOUN'), ('<UNK>', 'NOUN'), ('skirtą', 'VERB'), ('<UNK>', 'NOUN'), ('<UNK>', 'NOUN'), ('ar', 'CCONJ'), ('<UNK>', 'NOUN'), ('vakarą', 'NOUN'), ('dviem', 'NOUN'), ('–', 'PUNCT'), ('<UNK>', 'PUNCT'), ('<UNK>', 'NOUN'), ('bus', 'AUX'), ('<UNK>', 'NOUN'), ('.', 'PUNCT')], [('Iš', 'ADV'), ('anksto', 'X'), ('<UNK>', 'PUNCT'), (',', 'PUNCT'), ('kur', 'ADV'), ('<UNK>', 'PUNCT'), ('<UNK>', 'NOUN'), ('.', 'PUNCT')], [('<UNK>', 'PUNCT'), ('dydis', 'NOUN'), ('turėtų', 'VERB'), ('<UNK>', 'PUNCT'), ('prie', 'ADP'), ('žmonių', 'NOUN'), ('skaičiaus', 'NOUN'), (',', 'PUNCT'), ('kad', 'SCONJ'), ('<UNK>', 'NOUN'), ('nebūtų', 'VERB'), ('pernelyg', 'ADV'), ('<UNK>', 'NOUN'), ('ar', 'CCONJ'), ('<UNK>', 'NOUN'), ('per', 'ADP'), ('didelis', 'ADJ'), ('plotas', 'NOUN'), ('.', 'PUNCT')], [('<UNK>', 'PUNCT'), ('suteiks', 'VERB'), ('<UNK>', 'NOUN'), ('<UNK>', 'NOUN'), (',', 'PUNCT'), ('<UNK>', 'NOUN'), ('prie', 'ADP'), ('<UNK>', 'NOUN'), ('temos', 'NOUN'), ('.', 'PUNCT')], [('Be', 'ADV'), ('<UNK>', 'PUNCT'), ('ir', 'CCONJ'), ('<UNK>', 'NOUN'), (',', 'PUNCT'), ('<UNK>', 'NOUN'), ('rinktis', 'VERB'), ('įvairias', 'ADJ'), ('gėlių', 'NOUN'), ('kompozicijas', 'NOUN'), (',', 'PUNCT'), ('kitas', 'PRON'), ('<UNK>', 'NOUN'), ('<UNK>', 'NOUN'), ('<UNK>', 'NOUN'), ('.', 'PUNCT')], [('<UNK>', 'PUNCT'), ('įvairiais', 'VERB'), ('<UNK>', 'NOUN'), ('<UNK>', 'NOUN'), ('dieną', 'NOUN'), ('prieš', 'ADP'), ('šventes', 'NOUN'), ('.', 'PUNCT')], [('Pasistenkite', 'NOUN'), ('<UNK>', 'PUNCT'), (',', 'PUNCT'), ('<UNK>', 'NOUN'), ('išvaizda', 'NOUN'), ('.', 'PUNCT')], [('Gerai', 'ADV'), ('<UNK>', 'PUNCT'), ('–', 'PUNCT'), ('<UNK>', 'PUNCT'), ('<UNK>', 'NOUN'), ('nuotaikos', 'NOUN'), (',', 'PUNCT'), ('<UNK>', 'NOUN'), ('.', 'PUNCT')], [('Jeigu', 'SCONJ'), ('<UNK>', 'PUNCT'), ('<UNK>', 'NOUN'), (',', 'PUNCT'), ('vadinasi', 'VERB'), (',', 'PUNCT'), ('<UNK>', 'NOUN'), ('tais', 'VERB'), ('„', 'PUNCT'), ('<UNK>', 'PUNCT'), ('“', 'PUNCT'), (',', 'PUNCT'), ('kurie', 'DET'), ('<UNK>', 'PUNCT'), ('visus', 'DET'), ('svečius', 'NOUN'), ('.', 'PUNCT')], [('Ko', 'ADV'), ('gero', 'X'), (',', 'PUNCT'), ('nėra', 'VERB'), ('nieko', 'PRON'), ('blogiau', 'ADV'), ('nei', 'SCONJ'), ('<UNK>', 'PUNCT'), ('<UNK>', 'NOUN'), ('<UNK>', 'NOUN'), ('.', 'PUNCT')], [('<UNK>', 'PUNCT'), (':', 'PUNCT'), ('<UNK>', 'PUNCT'), ('prieš', 'ADP'), ('naujo', 'X'), ('<UNK>', 'PUNCT'), ('<UNK>', 'PUNCT')], [('<UNK>', 'PUNCT'), ('tūkstančių', 'NUM'), ('žmonių', 'NOUN'), ('surengė', 'NOUN'), ('<UNK>', 'NOUN'), ('<UNK>', 'NOUN'), ('<UNK>', 'NOUN'), ('<UNK>', 'NOUN'), ('prieš', 'ADP'), ('naujo', 'X'), ('ministro', 'NOUN'), ('pirmininko', 'NOUN'), ('<UNK>', 'NOUN'), ('<UNK>', 'NOUN'), ('<UNK>', 'NOUN'), ('.', 'PUNCT')], [('<UNK>', 'PUNCT'), ('tvirtina', 'VERB'), (',', 'PUNCT'), ('kad', 'SCONJ'), ('<UNK>', 'NOUN'), ('<UNK>', 'NOUN'), ('įvairius', 'ADJ'), ('daiktus', 'NOUN'), ('ir', 'CCONJ'), ('<UNK>', 'NOUN'), ('<UNK>', 'NOUN'), ('pro', 'ADV'), ('<UNK>', 'PUNCT'), (',', 'PUNCT'), ('<UNK>', 'NOUN'), ('parlamento', 'NOUN'), ('<UNK>', 'NOUN'), (',', 'PUNCT'), ('<UNK>', 'NOUN'), ('<UNK>', 'NOUN'), ('.', 'PUNCT')], [('<UNK>', 'PUNCT'), ('pranešimų', 'NOUN'), (',', 'PUNCT'), ('kad', 'SCONJ'), ('per', 'ADP'), ('<UNK>', 'NOUN'), ('nukentėjo', 'VERB'), ('keletas', 'PRON'), ('<UNK>', 'NOUN'), ('ir', 'CCONJ'), ('policijos', 'NOUN'), ('pareigūnų', 'NOUN'), ('.', 'PUNCT')], [('G', 'CCONJ'), ('.', 'PUNCT'), ('<UNK>', 'PUNCT'), ('pakeitė', 'VERB'), ('<UNK>', 'NOUN'), ('<UNK>', 'NOUN'), (',', 'PUNCT'), ('kuris', 'DET'), ('apie', 'ADP'), ('<UNK>', 'PUNCT'), ('iš', 'ADP'), ('<UNK>', 'NOUN'), ('<UNK>', 'NOUN'), ('paskelbė', 'VERB'), ('kovą', 'NOUN'), (',', 'PUNCT'), ('<UNK>', 'NOUN'), (',', 'PUNCT'), ('kad', 'SCONJ'), ('jaučiasi', 'VERB'), ('esąs', 'NOUN'), ('kliūtis', 'NOUN'), ('<UNK>', 'NOUN'), ('<UNK>', 'NOUN'), ('.', 'PUNCT')], [('G', 'CCONJ'), ('.', 'PUNCT'), ('<UNK>', 'PUNCT'), (',', 'PUNCT'), ('kuris', 'DET'), ('buvo', 'AUX'), ('ekonomikos', 'VERB'), ('ministras', 'NOUN'), (',', 'PUNCT'), ('į', 'ADP'), ('<UNK>', 'NOUN'), ('<UNK>', 'NOUN'), ('<UNK>', 'NOUN'), ('<UNK>', 'NOUN'), ('.', 'PUNCT')], [('Už', 'ADP'), ('jo', 'PRON'), ('<UNK>', 'NOUN'), ('<UNK>', 'NOUN'), ('pirmininku', 'NOUN'), ('<UNK>', 'PUNCT'), ('<UNK>', 'NOUN'), ('iš', 'ADP'), ('<UNK>', 'NOUN'), ('<UNK>', 'NOUN'), ('.', 'PUNCT')], [('Tačiau', 'CCONJ'), ('<UNK>', 'PUNCT'), ('<UNK>', 'NOUN'), ('reikalauja', 'VERB'), (',', 'PUNCT'), ('kad', 'SCONJ'), ('<UNK>', 'NOUN'), ('būtų', 'AUX'), ('<UNK>', 'NOUN'), ('ir', 'CCONJ'), ('surengti', 'VERB'), ('<UNK>', 'PUNCT'), ('<UNK>', 'NOUN'), ('.', 'PUNCT')], [('G', 'CCONJ'), ('.', 'PUNCT'), ('<UNK>', 'PUNCT'), ('dar', 'PART'), ('prieš', 'VERB'), ('savo', 'PRON'), ('<UNK>', 'NOUN'), ('paskelbė', 'VERB'), ('apie', 'ADP'), ('taupymo', 'NOUN'), ('priemones', 'NOUN'), ('ir', 'CCONJ'), ('skausmingas', 'ADJ'), ('<UNK>', 'NOUN'), ('reformas', 'NOUN'), ('.', 'PUNCT')], [('Jis', 'PRON'), ('<UNK>', 'PUNCT'), ('<UNK>', 'NOUN'), ('turėtų', 'VERB'), ('iki', 'VERB'), ('kitų', 'PRON'), ('rinkimų', 'NOUN'), (',', 'PUNCT'), ('kurie', 'DET'), ('<UNK>', 'PUNCT'), ('2010', 'NOUN'), ('metų', 'NOUN'), ('balandį', 'NOUN'), ('arba', 'CCONJ'), ('<UNK>', 'NOUN'), ('.', 'PUNCT')], [('<UNK>', 'PUNCT'), ('ekonominė', 'NOUN'), ('<UNK>', 'NOUN'), ('yra', 'AUX'), ('<UNK>', 'NOUN'), ('ypač', 'ADV'), ('smarkiai', 'ADV'), ('.', 'PUNCT')], [('<UNK>', 'PUNCT'), ('departamento', 'NOUN'), ('duomenimis', 'NOUN'), (',', 'PUNCT'), ('<UNK>', 'NOUN'), ('šalyje', 'NOUN'), ('nuo', 'ADP'), ('gruodžio', 'NOUN'), ('iki', 'ADP'), ('vasario', 'NOUN'), ('išaugo', 'VERB'), ('iki', 'ADP'), ('<UNK>', 'PUNCT'), ('proc', 'X'), ('.', 'PUNCT')], [('<UNK>', 'PUNCT'), ('metų', 'NOUN'), ('pabaigoje', 'NOUN'), ('vyriausybė', 'NOUN'), ('buvo', 'AUX'), ('<UNK>', 'PUNCT'), ('<UNK>', 'NOUN'), ('Tarptautinio', 'ADJ'), ('valiutos', 'NOUN'), ('fondo', 'NOUN'), ('(', 'PUNCT'), ('TVF', 'X'), (')', 'PUNCT'), ('ir', 'CCONJ'), ('kitų', 'PRON'), ('institucijų', 'NOUN'), ('25', 'NOUN'), ('mlrd', 'X'), ('.', 'PUNCT'), ('dolerių', 'NOUN'), ('kreditų', 'NOUN'), ('.', 'PUNCT')], [('LIETUVOS', 'PROPN'), ('RESPUBLIKOS', 'NOUN'), ('KULTŪROS', 'NOUN'), ('<UNK>', 'NOUN')], [('<UNK>', 'PUNCT'), ('DĖL', 'ADP'), ('LIETUVOS', 'PROPN'), ('RESPUBLIKOS', 'NOUN'), ('KULTŪROS', 'NOUN'), ('<UNK>', 'NOUN'), ('2008', 'NUM'), ('M', 'X'), ('.', 'PUNCT'), ('<UNK>', 'PUNCT'), ('22', 'NUM'), ('D', 'NOUN'), ('.', 'PUNCT'), ('<UNK>', 'PUNCT'), ('<UNK>', 'NOUN'), ('.', 'PUNCT'), ('<UNK>', 'NOUN'), ('„', 'PUNCT'), ('DĖL', 'ADP'), ('<UNK>', 'NOUN'), ('BIUDŽETO', 'NOUN'), ('<UNK>', 'NOUN'), ('<UNK>', 'NOUN'), ('PROGRAMOS', 'NOUN'), ('„', 'PUNCT'), ('<UNK>', 'PUNCT'), ('<UNK>', 'NOUN'), ('<UNK>', 'NOUN'), ('IR', 'CCONJ'), ('<UNK>', 'NOUN'), ('LIETUVOJE', 'VERB'), ('IR', 'CCONJ'), ('<UNK>', 'NOUN'), ('“', 'PUNCT'), ('<UNK>', 'NOUN'), ('„', 'PUNCT'), ('<UNK>', 'PUNCT'), ('<UNK>', 'NOUN'), ('„', 'PUNCT'), ('<UNK>', 'PUNCT'), ('–', 'PUNCT'), ('EUROPOS', 'ADJ'), ('KULTŪROS', 'NOUN'), ('<UNK>', 'NOUN'), ('2009', 'NUM'), ('“', 'PUNCT'), ('<UNK>', 'PUNCT'), ('<UNK>', 'NOUN'), ('“', 'PUNCT'), ('<UNK>', 'NOUN'), ('<UNK>', 'NOUN'), ('<UNK>', 'NOUN'), ('<UNK>', 'NOUN'), ('<UNK>', 'NOUN'), (',', 'PUNCT'), ('<UNK>', 'NOUN'), (',', 'PUNCT'), ('<UNK>', 'NOUN'), ('IR', 'CCONJ'), ('ATASKAITŲ', 'NOUN'), ('<UNK>', 'NOUN'), ('PATVIRTINIMO', 'NOUN'), ('“', 'PUNCT'), ('<UNK>', 'PUNCT')], [('2009', 'NUM'), ('m', 'NOUN'), ('.', 'PUNCT'), ('rugsėjo', 'NOUN'), ('30', 'NUM'), ('d', 'X'), ('.', 'PUNCT'), ('Nr', 'X'), ('.', 'PUNCT'), ('<UNK>', 'PUNCT')], [('<UNK>', 'PUNCT'), ('Valstybės', 'NOUN'), ('biudžeto', 'NOUN'), ('lėšų', 'NOUN'), ('skyrimo', 'NOUN'), ('programos', 'NOUN'), ('„', 'PUNCT'), ('<UNK>', 'PUNCT'), ('kūrybos', 'NOUN'), ('plėtra', 'NOUN'), ('ir', 'CCONJ'), ('sklaida', 'ADJ'), ('Lietuvoje', 'PROPN'), ('ir', 'CCONJ'), ('užsienyje', 'NOUN'), ('“', 'PUNCT'), ('priemonės', 'NOUN'), ('„', 'PUNCT'), ('<UNK>', 'PUNCT'), ('projekto', 'NOUN'), ('„', 'PUNCT'), ('Vilnius', 'ADJ'), ('–', 'PUNCT'), ('Europos', 'PROPN'), ('kultūros', 'NOUN'), ('<UNK>', 'NOUN'), ('2009', 'NUM'), ('“', 'PUNCT'), ('<UNK>', 'PUNCT'), ('darbus', 'NOUN'), ('“', 'PUNCT'), ('projektų', 'NOUN'), ('<UNK>', 'NOUN'), ('<UNK>', 'NOUN'), ('tvarkos', 'NOUN'), ('aprašą', 'NOUN'), (',', 'PUNCT'), ('patvirtintą', 'VERB'), ('Lietuvos', 'PROPN'), ('Respublikos', 'NOUN'), ('kultūros', 'NOUN'), ('ministro', 'NOUN'), ('2008', 'NUM'), ('m', 'NOUN'), ('.', 'PUNCT'), ('rugsėjo', 'NOUN'), ('22', 'NUM'), ('d', 'X'), ('.', 'PUNCT'), ('įsakymu', 'NOUN'), ('Nr', 'X'), ('.', 'PUNCT'), ('<UNK>', 'PUNCT'), ('„', 'PUNCT'), ('Dėl', 'ADP'), ('Valstybės', 'NOUN'), ('biudžeto', 'NOUN'), ('lėšų', 'NOUN'), ('skyrimo', 'NOUN'), ('programos', 'NOUN'), ('„', 'PUNCT'), ('<UNK>', 'PUNCT'), ('kūrybos', 'NOUN'), ('plėtra', 'NOUN'), ('ir', 'CCONJ'), ('sklaida', 'ADJ'), ('Lietuvoje', 'PROPN'), ('ir', 'CCONJ'), ('užsienyje', 'NOUN'), ('“', 'PUNCT'), ('priemonės', 'NOUN'), ('„', 'PUNCT'), ('<UNK>', 'PUNCT'), ('projekto', 'NOUN'), ('„', 'PUNCT'), ('Vilnius', 'ADJ'), ('–', 'PUNCT'), ('Europos', 'PROPN'), ('kultūros', 'NOUN'), ('<UNK>', 'NOUN'), ('2009', 'NUM'), ('“', 'PUNCT'), ('<UNK>', 'PUNCT'), ('darbus', 'NOUN'), ('“', 'PUNCT'), ('projektų', 'NOUN'), ('<UNK>', 'NOUN'), ('<UNK>', 'NOUN'), ('tvarkos', 'NOUN'), ('<UNK>', 'NOUN'), (',', 'PUNCT'), ('<UNK>', 'NOUN'), (',', 'PUNCT'), ('sutarties', 'NOUN'), ('ir', 'CCONJ'), ('ataskaitų', 'NOUN'), ('formų', 'NOUN'), ('patvirtinimo', 'NOUN'), ('“', 'PUNCT'), ('(', 'PUNCT'), ('Žin', 'X'), ('.', 'PUNCT'), (',', 'PUNCT'), ('2008', 'NUM'), (',', 'PUNCT'), ('Nr', 'X'), ('.', 'PUNCT'), ('<UNK>', 'PUNCT'), (')', 'PUNCT'), (':', 'PUNCT')], [('1', 'NUM'), ('.', 'PUNCT'), ('<UNK>', 'PUNCT'), ('5', 'NUM'), ('<UNK>', 'PUNCT'), ('taip', 'ADV'), (':', 'PUNCT')], [('„', 'PUNCT'), ('5', 'NUM'), ('.', 'PUNCT'), ('<UNK>', 'PUNCT'), ('gali', 'VERB'), ('teikti', 'VERB'), ('visi', 'DET'), ('Lietuvos', 'PROPN'), ('Respublikos', 'NOUN'), ('teisės', 'NOUN'), ('aktų', 'NOUN'), ('nustatyta', 'VERB'), ('tvarka', 'NOUN'), ('įregistruoti', 'NOUN'), ('ne', 'PART'), ('<UNK>', 'NOUN'), ('<UNK>', 'NOUN'), ('viešieji', 'ADJ'), ('juridiniai', 'NOUN'), ('asmenys', 'NOUN'), (',', 'PUNCT'), ('<UNK>', 'NOUN'), ('kultūros', 'NOUN'), ('srityje', 'NOUN'), ('ir', 'CCONJ'), ('teikiantys', 'VERB'), ('kultūros', 'NOUN'), ('srities', 'NOUN'), ('paslaugas', 'NOUN'), ('(', 'PUNCT'), ('toliau', 'ADV'), ('–', 'PUNCT'), ('projektų', 'NOUN'), ('<UNK>', 'NOUN'), (')', 'PUNCT'), (',', 'PUNCT'), ('išskyrus', 'VERB'), ('<UNK>', 'NOUN'), ('asmenis', 'NOUN'), ('.', 'PUNCT')], [('<UNK>', 'PUNCT'), ('<UNK>', 'PUNCT'), ('projekto', 'NOUN'), ('<UNK>', 'NOUN'), ('<UNK>', 'NOUN'), ('projekto', 'NOUN'), ('<UNK>', 'NOUN'), ('praranda', 'VERB'), ('teisę', 'NOUN'), ('teikti', 'VERB'), ('<UNK>', 'NOUN'), ('ir', 'CCONJ'), ('gauti', 'VERB'), ('<UNK>', 'NOUN'), ('finansavimą', 'NOUN'), ('tiems', 'VERB'), ('patiems', 'DET'), ('projektams', 'NOUN'), ('vykdyti', 'VERB'), ('iš', 'ADP'), ('kitų', 'PRON'), ('ministerijos', 'NOUN'), ('strateginiame', 'VERB'), ('plane', 'NOUN'), ('nurodytų', 'VERB'), ('programų', 'NOUN'), ('priemonių', 'NOUN'), ('.', 'PUNCT')], [('<UNK>', 'PUNCT'), ('negali', 'VERB'), ('būti', 'AUX'), ('<UNK>', 'PUNCT'), ('į', 'ADP'), ('<UNK>', 'NOUN'), ('projektus', 'NOUN'), ('(', 'PUNCT'), ('<UNK>', 'PUNCT'), ('to', 'DET'), ('paties', 'DET'), ('ar', 'CCONJ'), ('kito', 'PRON'), ('<UNK>', 'PUNCT'), (')', 'PUNCT'), (',', 'PUNCT'), ('kuriems', 'DET'), ('<UNK>', 'PUNCT'), ('būtų', 'AUX'), ('teikiamos', 'ADJ'), ('ir', 'CCONJ'), ('skiriamas', 'VERB'), ('dalinis', 'VERB'), ('finansavimas', 'NOUN'), ('jų', 'PRON'), ('įgyvendinimui', 'NOUN'), (',', 'PUNCT'), ('kaip', 'SCONJ'), ('<UNK>', 'NOUN'), ('projektams', 'NOUN'), (',', 'PUNCT'), ('iš', 'ADP'), ('kitų', 'PRON'), ('ministerijos', 'NOUN'), ('strateginio', 'ADJ'), ('plano', 'NOUN'), ('nurodytų', 'VERB'), ('programų', 'NOUN'), ('priemonių', 'NOUN'), ('.', 'PUNCT'), ('“', 'PUNCT')], [('2', 'NUM'), ('.', 'PUNCT'), ('<UNK>', 'PUNCT'), ('<UNK>', 'NOUN'), ('<UNK>', 'NOUN'), ('taip', 'ADV'), (':', 'PUNCT')], [('„', 'PUNCT'), ('<UNK>', 'PUNCT'), ('.', 'PUNCT'), ('<UNK>', 'PUNCT'), ('skirtos', 'VERB'), ('lėšos', 'NOUN'), ('negali', 'VERB'), ('būti', 'AUX'), ('naudojamos', 'VERB'), ('kitiems', 'PRON'), ('<UNK>', 'NOUN'), (',', 'PUNCT'), ('nei', 'SCONJ'), ('nurodyta', 'VERB'), ('su', 'ADP'), ('ministerija', 'NOUN'), ('<UNK>', 'NOUN'), ('<UNK>', 'NOUN'), (',', 'PUNCT'), ('arba', 'CCONJ'), ('būti', 'DET'), ('<UNK>', 'PUNCT'), ('į', 'ADP'), ('kitus', 'PRON'), ('<UNK>', 'NOUN'), ('metus', 'NOUN'), ('.', 'PUNCT')], [('<UNK>', 'PUNCT'), ('nustačius', 'VERB'), (',', 'PUNCT'), ('kad', 'SCONJ'), ('projektų', 'NOUN'), ('<UNK>', 'NOUN'), ('<UNK>', 'NOUN'), ('būdu', 'NOUN'), ('gavo', 'VERB'), ('valstybės', 'NOUN'), ('biudžeto', 'NOUN'), ('<UNK>', 'NOUN'), (',', 'PUNCT'), ('projekto', 'ADJ'), ('<UNK>', 'NOUN'), ('privalo', 'VERB'), ('juos', 'PRON'), ('grąžinti', 'VERB'), ('ministerijai', 'NOUN'), ('per', 'ADP'), ('ministerijos', 'NOUN'), ('nustatytą', 'VERB'), ('laikotarpį', 'NOUN'), ('ir', 'CCONJ'), ('praranda', 'VERB'), ('teisę', 'NOUN'), ('trejus', 'ADP'), ('metus', 'NOUN'), ('teikti', 'VERB'), ('<UNK>', 'NOUN'), ('ir', 'CCONJ'), ('gauti', 'VERB'), ('finansavimą', 'NOUN'), ('iš', 'ADP'), ('visų', 'X'), ('ministerijos', 'NOUN'), ('strateginiame', 'VERB'), ('plane', 'NOUN'), ('nurodytų', 'VERB'), ('programų', 'NOUN'), ('priemonių', 'NOUN'), ('.', 'PUNCT')], [('Jeigu', 'SCONJ'), ('projekto', 'ADJ'), ('<UNK>', 'NOUN'), ('per', 'ADP'), ('ministerijos', 'NOUN'), ('nustatytą', 'VERB'), ('laikotarpį', 'NOUN'), ('<UNK>', 'NOUN'), ('<UNK>', 'NOUN'), ('būdu', 'NOUN'), ('gautų', 'VERB'), ('valstybės', 'NOUN'), ('biudžeto', 'NOUN'), ('asignavimų', 'NOUN'), (',', 'PUNCT'), ('jie', 'PRON'), ('<UNK>', 'NOUN'), ('teisės', 'NOUN'), ('aktų', 'NOUN'), ('nustatyta', 'VERB'), ('tvarka', 'NOUN'), ('.', 'PUNCT'), ('“', 'PUNCT')]]\n"
          ],
          "name": "stdout"
        }
      ]
    },
    {
      "cell_type": "markdown",
      "metadata": {
        "id": "QimZFAgmBTTs"
      },
      "source": [
        "As expected, most errors occur with polysemous words such as *galvos* (verb - thinik, noun - heads). However, the model also misstaged some rather obvious words, such as *kur* and *trys* which only have one sense (preposition and numeral respectively). \n",
        "\n",
        "Overall, I did not manage to see any distinctive patterns that would link a particular part of speech to errors in Lithuanian. Something that did somewhat surprise me though was how often the <UNK> placeholder appeared in the tagged data. I did not manage to get to the bottom of this matter, but my best guess would be that every word that did not appear in the training data was assigned the index corresponding to <UNK>, which I then decoded manually. "
      ]
    },
    {
      "cell_type": "markdown",
      "metadata": {
        "id": "x44BUFF1dm2J"
      },
      "source": [
        "# **BASELINE CLASSIFIER**\n",
        "\n",
        "To objectively evaluate the models to be tested out, I firstly had to define a baseline. I chose to use DummyClassifier available in sklearn model. The model is designed specifically for this purpsoe. \n",
        "\n",
        "I had to change the data slightly. Tensors are not accepted, so I transformed them into flat numpy arrays. Hence, the data were stored in 1 dimensional arrays.\n",
        "\n",
        "I used a simple majority baseline, assigning the most frequent labels to their respective tags.\n",
        "\n",
        "The result of such a tagger are pretty horrible, but they constitute a nice baseline to work from."
      ]
    },
    {
      "cell_type": "code",
      "metadata": {
        "colab": {
          "base_uri": "https://localhost:8080/"
        },
        "id": "yMmsv2ApLbTc",
        "outputId": "d54330ee-f921-4250-f2cd-9b5b2a2b2f52"
      },
      "source": [
        "from sklearn.dummy import DummyClassifier\n",
        "import numpy as np\n",
        "\n",
        "X_lt_train_alksnis, y_lt_train_alksnis = conllu_parser('/content/ud-treebanks-v2.8/UD_Lithuanian-ALKSNIS', 'lt_alksnis-ud-train.conllu')\n",
        "X_lt_test_alksnis, y_lt_test_alksnis = conllu_parser('/content/ud-treebanks-v2.8/UD_Lithuanian-ALKSNIS', 'lt_alksnis-ud-test.conllu')\n",
        "\n",
        "flat_x = [item for sublist in X_lt_train_alksnis for item in sublist] # pervadint, nes nupyzdinta\n",
        "flat_y = [item for sublist in y_lt_train_alksnis for item in sublist] # pervadint, nes nupyzdinta\n",
        "\n",
        "X_np = np.array(flat_x)\n",
        "y_np = np.array(flat_y)\n",
        "\n",
        "dummy_clf = DummyClassifier(strategy=\"most_frequent\")\n",
        "dummy_clf.fit(X_np, y_np)\n",
        "print(dummy_clf.score(X_np, y_np))"
      ],
      "execution_count": null,
      "outputs": [
        {
          "output_type": "stream",
          "text": [
            "0.31340807928109515\n"
          ],
          "name": "stdout"
        }
      ]
    },
    {
      "cell_type": "markdown",
      "metadata": {
        "id": "qxj1qTgBO4RV"
      },
      "source": [
        "# **EXTENSION 1**\n",
        "\n",
        "I added the option to use GRU layers in the classifiers by simply passing 'GRU' as an argument to *rnn_type* variable of the Tagger class. \n",
        "\n",
        "The performance of GRU and LSTM models does not vary significantly on identical parameters, as both models tend to achieve a 70% accuracy on the Lithuanian Alksnis dataset. Nevertheless, GRU almost always outperforms the LSTM model by at least 0.5% percent. \n",
        "\n",
        "Lastly, it is important to note that GRU is less computationally demanding. Hence, it allows to use more dimensions and embeddings, thus leading to better results without signifficant increase in computational power. It therefore appears to be an overall more viable choice for the task of PoS tagging."
      ]
    },
    {
      "cell_type": "code",
      "metadata": {
        "colab": {
          "base_uri": "https://localhost:8080/"
        },
        "id": "wGo23d7nQqn5",
        "outputId": "24d85a78-84bd-44a5-87aa-ba2e60cd91ed"
      },
      "source": [
        "pos_tagger = Tagger(rnn_type = 'LSTM', word_embedding_dim=50,\n",
        "                   rnn_hidden_dim=80,\n",
        "                   vocabulary_size=len(processor.token2idx),\n",
        "                   tagset_size=len(processor.tag2idx)-1, bidirectional_bool=False,\n",
        "                  data_storage = processor)\n",
        "\n",
        "pos_tagger.train(X_lt_train_alksnis, y_lt_train_alksnis, no_epochs=10)\n",
        "\n",
        "print('''\n",
        "\n",
        "PERFORMANCE WITH *LSTM* ON LITHUANIAN UD:\n",
        "\n",
        "''')\n",
        "\n",
        "pos_tagger.test(X_lt_test_alksnis, y_lt_test_alksnis)\n"
      ],
      "execution_count": null,
      "outputs": [
        {
          "output_type": "stream",
          "text": [
            "Epoch 0: 100%|██████████| 10/10 [00:00<00:00, 16.63batch/s, accuracy=49.9, loss=1.67]\n",
            "Epoch 1: 100%|██████████| 10/10 [00:00<00:00, 16.51batch/s, accuracy=61.6, loss=1.32]\n",
            "Epoch 2: 100%|██████████| 10/10 [00:00<00:00, 16.61batch/s, accuracy=67.7, loss=1.11]\n",
            "Epoch 3: 100%|██████████| 10/10 [00:00<00:00, 16.80batch/s, accuracy=74.2, loss=0.914]\n",
            "Epoch 4: 100%|██████████| 10/10 [00:00<00:00, 16.64batch/s, accuracy=79, loss=0.729]\n",
            "Epoch 5: 100%|██████████| 10/10 [00:00<00:00, 16.85batch/s, accuracy=83.5, loss=0.548]\n",
            "Epoch 6: 100%|██████████| 10/10 [00:00<00:00, 16.71batch/s, accuracy=88.9, loss=0.396]\n",
            "Epoch 7: 100%|██████████| 10/10 [00:00<00:00, 16.99batch/s, accuracy=91.9, loss=0.273]\n",
            "Epoch 8: 100%|██████████| 10/10 [00:00<00:00, 16.76batch/s, accuracy=96.1, loss=0.181]\n",
            "Epoch 9: 100%|██████████| 10/10 [00:00<00:00, 16.96batch/s, accuracy=98.5, loss=0.119]\n"
          ],
          "name": "stderr"
        },
        {
          "output_type": "stream",
          "text": [
            "\n",
            "\n",
            "PERFORMANCE WITH *LSTM* ON LITHUANIAN UD:\n",
            "\n",
            "\n",
            "Test accuracy 70.1%\n"
          ],
          "name": "stdout"
        }
      ]
    },
    {
      "cell_type": "code",
      "metadata": {
        "colab": {
          "base_uri": "https://localhost:8080/"
        },
        "id": "MaGSeFmoQrhD",
        "outputId": "861e29ce-e279-4ab6-baac-cf4800b465b6"
      },
      "source": [
        "pos_tagger = Tagger(rnn_type = 'GRU', word_embedding_dim=50,\n",
        "                   rnn_hidden_dim=80,\n",
        "                   vocabulary_size=len(processor.token2idx),\n",
        "                   tagset_size=len(processor.tag2idx)-1, bidirectional_bool=False,\n",
        "                  data_storage = processor)\n",
        "\n",
        "pos_tagger.train(X_lt_train_alksnis, y_lt_train_alksnis, no_epochs=10)\n",
        "\n",
        "print('''\n",
        "\n",
        "PERFORMANCE WITH *GRU* ON LITHUANIAN UD:\n",
        "\n",
        "''')\n",
        "\n",
        "\n",
        "pos_tagger.test(X_lt_test_alksnis, y_lt_test_alksnis)"
      ],
      "execution_count": null,
      "outputs": [
        {
          "output_type": "stream",
          "text": [
            "Epoch 0: 100%|██████████| 10/10 [00:00<00:00, 17.18batch/s, accuracy=48.8, loss=1.64]\n",
            "Epoch 1: 100%|██████████| 10/10 [00:00<00:00, 16.96batch/s, accuracy=63.2, loss=1.26]\n",
            "Epoch 2: 100%|██████████| 10/10 [00:00<00:00, 17.07batch/s, accuracy=68.3, loss=1.06]\n",
            "Epoch 3: 100%|██████████| 10/10 [00:00<00:00, 17.28batch/s, accuracy=74, loss=0.856]\n",
            "Epoch 4: 100%|██████████| 10/10 [00:00<00:00, 17.06batch/s, accuracy=80.1, loss=0.649]\n",
            "Epoch 5: 100%|██████████| 10/10 [00:00<00:00, 17.03batch/s, accuracy=86.3, loss=0.469]\n",
            "Epoch 6: 100%|██████████| 10/10 [00:00<00:00, 17.26batch/s, accuracy=90.8, loss=0.323]\n",
            "Epoch 7: 100%|██████████| 10/10 [00:00<00:00, 17.25batch/s, accuracy=95.5, loss=0.21]\n",
            "Epoch 8: 100%|██████████| 10/10 [00:00<00:00, 17.58batch/s, accuracy=97.3, loss=0.133]\n",
            "Epoch 9: 100%|██████████| 10/10 [00:00<00:00, 16.88batch/s, accuracy=98.1, loss=0.0826]\n"
          ],
          "name": "stderr"
        },
        {
          "output_type": "stream",
          "text": [
            "\n",
            "\n",
            "PERFORMANCE WITH *GRU* ON LITHUANIAN UD:\n",
            "\n",
            "\n",
            "Test accuracy 71.1%\n"
          ],
          "name": "stdout"
        }
      ]
    },
    {
      "cell_type": "markdown",
      "metadata": {
        "id": "wKEMIFJ7OuFf"
      },
      "source": [
        "# **EXTENSION 2**\n",
        "\n",
        "I added the option to use bidirectional embeddings with all available types of rnn layers by setting the *bidirectional_bool* variable of the Tagger class to *True*.\n",
        "\n",
        "In general, it increased the performance for both LSTM and GRU, as the models appeared to converge faster and even reach a higher accuracy on the training set. An interesting observation is that bidirectional embeddings led to more overfitting of the model. As a result, the model's performance on the test set decreased with the use of bidirectional embeddings. \n",
        "\n",
        "Higher dimensionality partially solved the issue, yet still the best performance was observed with unidirectional model. "
      ]
    },
    {
      "cell_type": "code",
      "metadata": {
        "colab": {
          "base_uri": "https://localhost:8080/"
        },
        "id": "SaETNA75Tp4S",
        "outputId": "fca98f88-35b9-4096-92c4-3c8cca3b9858"
      },
      "source": [
        "pos_tagger = Tagger(rnn_type = 'GRU', word_embedding_dim=50,\n",
        "                   rnn_hidden_dim=80,\n",
        "                   vocabulary_size=len(processor.token2idx),\n",
        "                   tagset_size=len(processor.tag2idx)-1, bidirectional_bool=False,\n",
        "                  data_storage = processor)\n",
        "\n",
        "pos_tagger.train(X_lt_train_alksnis, y_lt_train_alksnis, no_epochs=10)\n",
        "\n",
        "print('''\n",
        "\n",
        "PERFORMANCE WITH GRU ON LITHUANIAN UD, *UNIDIRECTIONAL ENCODINGS*:\n",
        "\n",
        "''')\n",
        "\n",
        "\n",
        "pos_tagger.test(X_lt_test_alksnis, y_lt_test_alksnis)"
      ],
      "execution_count": null,
      "outputs": [
        {
          "output_type": "stream",
          "text": [
            "Epoch 0: 100%|██████████| 10/10 [00:00<00:00, 17.31batch/s, accuracy=55.4, loss=1.62]\n",
            "Epoch 1: 100%|██████████| 10/10 [00:00<00:00, 17.31batch/s, accuracy=62.7, loss=1.27]\n",
            "Epoch 2: 100%|██████████| 10/10 [00:00<00:00, 17.37batch/s, accuracy=69.1, loss=1.05]\n",
            "Epoch 3: 100%|██████████| 10/10 [00:00<00:00, 17.49batch/s, accuracy=76.4, loss=0.859]\n",
            "Epoch 4: 100%|██████████| 10/10 [00:00<00:00, 17.42batch/s, accuracy=81.7, loss=0.664]\n",
            "Epoch 5: 100%|██████████| 10/10 [00:00<00:00, 17.44batch/s, accuracy=85.8, loss=0.488]\n",
            "Epoch 6: 100%|██████████| 10/10 [00:00<00:00, 17.39batch/s, accuracy=90, loss=0.342]\n",
            "Epoch 7: 100%|██████████| 10/10 [00:00<00:00, 17.09batch/s, accuracy=94.2, loss=0.221]\n",
            "Epoch 8: 100%|██████████| 10/10 [00:00<00:00, 17.18batch/s, accuracy=97.7, loss=0.141]\n",
            "Epoch 9: 100%|██████████| 10/10 [00:00<00:00, 17.54batch/s, accuracy=98.7, loss=0.087]\n"
          ],
          "name": "stderr"
        },
        {
          "output_type": "stream",
          "text": [
            "\n",
            "\n",
            "PERFORMANCE WITH GRU ON LITHUANIAN UD, *UNIDIRECTIONAL ENCODINGS*:\n",
            "\n",
            "\n",
            "Test accuracy 74.5%\n"
          ],
          "name": "stdout"
        }
      ]
    },
    {
      "cell_type": "code",
      "metadata": {
        "colab": {
          "base_uri": "https://localhost:8080/"
        },
        "id": "U6tfbm3xUAmQ",
        "outputId": "f5c58f38-5eaf-4c46-e12a-ab0cb3a84222"
      },
      "source": [
        "pos_tagger = Tagger(rnn_type = 'GRU', word_embedding_dim=50,\n",
        "                   rnn_hidden_dim=80,\n",
        "                   vocabulary_size=len(processor.token2idx),\n",
        "                   tagset_size=len(processor.tag2idx)-1, bidirectional_bool=True,\n",
        "                  data_storage = processor)\n",
        "\n",
        "pos_tagger.train(X_lt_train_alksnis, y_lt_train_alksnis, no_epochs=10)\n",
        "\n",
        "print('''\n",
        "\n",
        "PERFORMANCE WITH *GRU* ON LITHUANIAN UD, *BIDIRECTIONAL ENCODINGS*:\n",
        "\n",
        "''')\n",
        "\n",
        "\n",
        "pos_tagger.test(X_lt_test_alksnis, y_lt_test_alksnis)"
      ],
      "execution_count": null,
      "outputs": [
        {
          "output_type": "stream",
          "text": [
            "Epoch 0: 100%|██████████| 10/10 [00:00<00:00, 14.53batch/s, accuracy=58.2, loss=1.45]\n",
            "Epoch 1: 100%|██████████| 10/10 [00:00<00:00, 14.51batch/s, accuracy=67.2, loss=1.07]\n",
            "Epoch 2: 100%|██████████| 10/10 [00:00<00:00, 14.67batch/s, accuracy=76.6, loss=0.777]\n",
            "Epoch 3: 100%|██████████| 10/10 [00:00<00:00, 13.94batch/s, accuracy=84.3, loss=0.56]\n",
            "Epoch 4: 100%|██████████| 10/10 [00:00<00:00, 14.58batch/s, accuracy=89.8, loss=0.382]\n",
            "Epoch 5: 100%|██████████| 10/10 [00:00<00:00, 14.44batch/s, accuracy=92.9, loss=0.249]\n",
            "Epoch 6: 100%|██████████| 10/10 [00:00<00:00, 14.63batch/s, accuracy=95.6, loss=0.159]\n",
            "Epoch 7: 100%|██████████| 10/10 [00:00<00:00, 14.46batch/s, accuracy=98.1, loss=0.091]\n",
            "Epoch 8: 100%|██████████| 10/10 [00:00<00:00, 14.52batch/s, accuracy=99.8, loss=0.0497]\n",
            "Epoch 9: 100%|██████████| 10/10 [00:00<00:00, 14.47batch/s, accuracy=100, loss=0.0259]\n"
          ],
          "name": "stderr"
        },
        {
          "output_type": "stream",
          "text": [
            "\n",
            "\n",
            "PERFORMANCE WITH *GRU* ON LITHUANIAN UD, *BIDIRECTIONAL ENCODINGS*:\n",
            "\n",
            "\n",
            "Test accuracy 65.5%\n"
          ],
          "name": "stdout"
        }
      ]
    },
    {
      "cell_type": "code",
      "metadata": {
        "colab": {
          "base_uri": "https://localhost:8080/"
        },
        "id": "FpUX6hmTUpTn",
        "outputId": "72549b3d-8631-4b9f-ff28-6fcf758138f6"
      },
      "source": [
        "pos_tagger = Tagger(rnn_type = 'GRU', word_embedding_dim=100,\n",
        "                   rnn_hidden_dim=100,\n",
        "                   vocabulary_size=len(processor.token2idx),\n",
        "                   tagset_size=len(processor.tag2idx)-1, bidirectional_bool=True,\n",
        "                  data_storage = processor)\n",
        "\n",
        "pos_tagger.train(X_lt_train_alksnis, y_lt_train_alksnis, no_epochs=10)\n",
        "\n",
        "print('''\n",
        "\n",
        "PERFORMANCE WITH *GRU* ON LITHUANIAN UD, *BIDIRECTIONAL ENCODINGS*, HIGHER DIMENSIONS:\n",
        "\n",
        "''')\n",
        "\n",
        "\n",
        "pos_tagger.test(X_lt_test_alksnis, y_lt_test_alksnis)"
      ],
      "execution_count": null,
      "outputs": [
        {
          "output_type": "stream",
          "text": [
            "Epoch 0: 100%|██████████| 10/10 [00:00<00:00, 14.83batch/s, accuracy=58.5, loss=1.49]\n",
            "Epoch 1: 100%|██████████| 10/10 [00:00<00:00, 14.49batch/s, accuracy=67.2, loss=1.05]\n",
            "Epoch 2: 100%|██████████| 10/10 [00:00<00:00, 14.69batch/s, accuracy=75.3, loss=0.785]\n",
            "Epoch 3: 100%|██████████| 10/10 [00:00<00:00, 14.27batch/s, accuracy=83.4, loss=0.579]\n",
            "Epoch 4: 100%|██████████| 10/10 [00:00<00:00, 14.94batch/s, accuracy=88.9, loss=0.391]\n",
            "Epoch 5: 100%|██████████| 10/10 [00:00<00:00, 14.84batch/s, accuracy=93.2, loss=0.253]\n",
            "Epoch 6: 100%|██████████| 10/10 [00:00<00:00, 14.61batch/s, accuracy=97.1, loss=0.155]\n",
            "Epoch 7: 100%|██████████| 10/10 [00:00<00:00, 14.41batch/s, accuracy=98.9, loss=0.0923]\n",
            "Epoch 8: 100%|██████████| 10/10 [00:00<00:00, 14.85batch/s, accuracy=99.4, loss=0.0506]\n",
            "Epoch 9: 100%|██████████| 10/10 [00:00<00:00, 14.47batch/s, accuracy=99.7, loss=0.0279]\n"
          ],
          "name": "stderr"
        },
        {
          "output_type": "stream",
          "text": [
            "\n",
            "\n",
            "PERFORMANCE WITH *GRU* ON LITHUANIAN UD, *BIDIRECTIONAL ENCODINGS*, HIGHER DIMENSIONS:\n",
            "\n",
            "\n",
            "Test accuracy 71.6%\n"
          ],
          "name": "stdout"
        }
      ]
    },
    {
      "cell_type": "markdown",
      "metadata": {
        "id": "kyDBb6BEOt_l"
      },
      "source": [
        "# **EXTENSION 3**\n"
      ]
    },
    {
      "cell_type": "markdown",
      "metadata": {
        "id": "TzlncufSU8iM"
      },
      "source": [
        "The Dataset and DataLoader were implemented under a single class of **DataLoader**, which can be seen in the second section of this notebook, namely *DATASET and DATALOADER as DataProcessing class*. The class contains 2 useful functions, *pad_and_encode* as well as *batch_iterator* which are used by the PoS tagger. \n",
        "\n",
        "Overall, the class made it easier to keep the data somewhat organized."
      ]
    },
    {
      "cell_type": "markdown",
      "metadata": {
        "id": "foc1fRWMOtye"
      },
      "source": [
        "# **EXTENSION 4**\n",
        "\n"
      ]
    },
    {
      "cell_type": "markdown",
      "metadata": {
        "id": "wQezPWHicaKF"
      },
      "source": [
        "I added the option to use regularizer in the form of weight decay by passing a *regularizer* argument to the *fit* function of the Tagger class. According to the literature, this is supposed to increase the generalisability of the model; however, this was not really the case for my model. \n",
        "\n",
        "To test this, I had to increase the number of epochs in the training to at least 100, since the regularizer slowed down the convergence of the model by a lot. In addition, no value above 0.01 worked in my case. Any value above 0.01 led to either the model being stuck on the same accuracy and loss, or even an increase in loss and thus lower accuracy.\n",
        "\n",
        "As can be seen below, even with 100 epochs the model did not achieve a reasonable result. Nevertheless, the loss was decreasing more or less steadily.\n",
        "\n",
        "There are two possible explanations: The more likely one is that I implemented the decay incorrectly (or used unsuitable values). My other theory is though that it does work; however, it requires much more time and possibly data to converge. Should the model be given the time to converge, it could possibly outperform the previously discussed models and parameters."
      ]
    },
    {
      "cell_type": "code",
      "metadata": {
        "colab": {
          "base_uri": "https://localhost:8080/"
        },
        "id": "gx64ubRebe1P",
        "outputId": "6e09ef15-17c9-423b-d2f1-7d538cf89a50"
      },
      "source": [
        "pos_tagger = Tagger(rnn_type = 'LSTM', word_embedding_dim=100,\n",
        "                   rnn_hidden_dim=100,\n",
        "                   vocabulary_size=len(processor.token2idx),\n",
        "                   tagset_size=len(processor.tag2idx)-1, bidirectional_bool=True,\n",
        "                  data_storage = processor)\n",
        "\n",
        "pos_tagger.train(X_lt_train_alksnis, y_lt_train_alksnis, no_epochs=100, regularizer=0.01)\n",
        "\n",
        "print('''\n",
        "\n",
        "PERFORMANCE WITH BIDIRECTIONAL *LSTM* WITH WEIGHT DECAY ON LITHUANIAN UD:\n",
        "\n",
        "''')\n",
        "\n",
        "pos_tagger.test(X_lt_test_alksnis, y_lt_test_alksnis)"
      ],
      "execution_count": null,
      "outputs": [
        {
          "output_type": "stream",
          "text": [
            "Epoch 0: 100%|██████████| 10/10 [00:00<00:00, 14.23batch/s, accuracy=55.6, loss=1.64]\n",
            "Epoch 1: 100%|██████████| 10/10 [00:00<00:00, 14.48batch/s, accuracy=60.3, loss=1.41]\n",
            "Epoch 2: 100%|██████████| 10/10 [00:00<00:00, 14.57batch/s, accuracy=60.1, loss=1.41]\n",
            "Epoch 3: 100%|██████████| 10/10 [00:00<00:00, 14.62batch/s, accuracy=60.9, loss=1.4]\n",
            "Epoch 4: 100%|██████████| 10/10 [00:00<00:00, 14.73batch/s, accuracy=60.3, loss=1.42]\n",
            "Epoch 5: 100%|██████████| 10/10 [00:00<00:00, 14.84batch/s, accuracy=60.1, loss=1.39]\n",
            "Epoch 6: 100%|██████████| 10/10 [00:00<00:00, 14.54batch/s, accuracy=60.3, loss=1.4]\n",
            "Epoch 7: 100%|██████████| 10/10 [00:00<00:00, 14.64batch/s, accuracy=60.9, loss=1.38]\n",
            "Epoch 8: 100%|██████████| 10/10 [00:00<00:00, 14.76batch/s, accuracy=61.2, loss=1.38]\n",
            "Epoch 9: 100%|██████████| 10/10 [00:00<00:00, 14.82batch/s, accuracy=61.2, loss=1.39]\n",
            "Epoch 10: 100%|██████████| 10/10 [00:00<00:00, 14.60batch/s, accuracy=61.6, loss=1.38]\n",
            "Epoch 11: 100%|██████████| 10/10 [00:00<00:00, 14.77batch/s, accuracy=61.6, loss=1.37]\n",
            "Epoch 12: 100%|██████████| 10/10 [00:00<00:00, 14.15batch/s, accuracy=61.7, loss=1.36]\n",
            "Epoch 13: 100%|██████████| 10/10 [00:00<00:00, 14.68batch/s, accuracy=62, loss=1.35]\n",
            "Epoch 14: 100%|██████████| 10/10 [00:00<00:00, 14.70batch/s, accuracy=62.5, loss=1.35]\n",
            "Epoch 15: 100%|██████████| 10/10 [00:00<00:00, 14.50batch/s, accuracy=62.7, loss=1.34]\n",
            "Epoch 16: 100%|██████████| 10/10 [00:00<00:00, 14.61batch/s, accuracy=63, loss=1.33]\n",
            "Epoch 17: 100%|██████████| 10/10 [00:00<00:00, 14.74batch/s, accuracy=63.2, loss=1.33]\n",
            "Epoch 18: 100%|██████████| 10/10 [00:00<00:00, 14.65batch/s, accuracy=63.2, loss=1.32]\n",
            "Epoch 19: 100%|██████████| 10/10 [00:00<00:00, 14.72batch/s, accuracy=63.2, loss=1.31]\n",
            "Epoch 20: 100%|██████████| 10/10 [00:00<00:00, 14.70batch/s, accuracy=63.2, loss=1.3]\n",
            "Epoch 21: 100%|██████████| 10/10 [00:00<00:00, 14.70batch/s, accuracy=63.2, loss=1.29]\n",
            "Epoch 22: 100%|██████████| 10/10 [00:00<00:00, 14.71batch/s, accuracy=63.2, loss=1.28]\n",
            "Epoch 23: 100%|██████████| 10/10 [00:00<00:00, 14.72batch/s, accuracy=63.2, loss=1.28]\n",
            "Epoch 24: 100%|██████████| 10/10 [00:00<00:00, 14.98batch/s, accuracy=63.2, loss=1.27]\n",
            "Epoch 25: 100%|██████████| 10/10 [00:00<00:00, 14.62batch/s, accuracy=63.2, loss=1.26]\n",
            "Epoch 26: 100%|██████████| 10/10 [00:00<00:00, 14.28batch/s, accuracy=63.2, loss=1.25]\n",
            "Epoch 27: 100%|██████████| 10/10 [00:00<00:00, 14.77batch/s, accuracy=63.2, loss=1.25]\n",
            "Epoch 28: 100%|██████████| 10/10 [00:00<00:00, 14.53batch/s, accuracy=63.2, loss=1.24]\n",
            "Epoch 29: 100%|██████████| 10/10 [00:00<00:00, 14.70batch/s, accuracy=63.2, loss=1.23]\n",
            "Epoch 30: 100%|██████████| 10/10 [00:00<00:00, 14.42batch/s, accuracy=63.2, loss=1.22]\n",
            "Epoch 31: 100%|██████████| 10/10 [00:00<00:00, 14.56batch/s, accuracy=63.3, loss=1.21]\n",
            "Epoch 32: 100%|██████████| 10/10 [00:00<00:00, 14.61batch/s, accuracy=63.3, loss=1.21]\n",
            "Epoch 33: 100%|██████████| 10/10 [00:00<00:00, 14.51batch/s, accuracy=63.5, loss=1.2]\n",
            "Epoch 34: 100%|██████████| 10/10 [00:00<00:00, 14.54batch/s, accuracy=63.7, loss=1.19]\n",
            "Epoch 35: 100%|██████████| 10/10 [00:00<00:00, 14.68batch/s, accuracy=63.5, loss=1.19]\n",
            "Epoch 36: 100%|██████████| 10/10 [00:00<00:00, 14.66batch/s, accuracy=63.7, loss=1.18]\n",
            "Epoch 37: 100%|██████████| 10/10 [00:00<00:00, 14.49batch/s, accuracy=64.9, loss=1.18]\n",
            "Epoch 38: 100%|██████████| 10/10 [00:00<00:00, 14.55batch/s, accuracy=64.9, loss=1.17]\n",
            "Epoch 39: 100%|██████████| 10/10 [00:00<00:00, 14.71batch/s, accuracy=65.1, loss=1.16]\n",
            "Epoch 40: 100%|██████████| 10/10 [00:00<00:00, 14.06batch/s, accuracy=65.1, loss=1.16]\n",
            "Epoch 41: 100%|██████████| 10/10 [00:00<00:00, 13.96batch/s, accuracy=65.1, loss=1.15]\n",
            "Epoch 42: 100%|██████████| 10/10 [00:00<00:00, 14.48batch/s, accuracy=64.9, loss=1.16]\n",
            "Epoch 43: 100%|██████████| 10/10 [00:00<00:00, 14.53batch/s, accuracy=64.9, loss=1.15]\n",
            "Epoch 44: 100%|██████████| 10/10 [00:00<00:00, 14.21batch/s, accuracy=64.9, loss=1.15]\n",
            "Epoch 45: 100%|██████████| 10/10 [00:00<00:00, 14.65batch/s, accuracy=64.9, loss=1.14]\n",
            "Epoch 46: 100%|██████████| 10/10 [00:00<00:00, 14.46batch/s, accuracy=64.9, loss=1.14]\n",
            "Epoch 47: 100%|██████████| 10/10 [00:00<00:00, 14.52batch/s, accuracy=64.9, loss=1.14]\n",
            "Epoch 48: 100%|██████████| 10/10 [00:00<00:00, 14.78batch/s, accuracy=64.9, loss=1.13]\n",
            "Epoch 49: 100%|██████████| 10/10 [00:00<00:00, 14.60batch/s, accuracy=64.9, loss=1.13]\n",
            "Epoch 50: 100%|██████████| 10/10 [00:00<00:00, 14.50batch/s, accuracy=65.3, loss=1.13]\n",
            "Epoch 51: 100%|██████████| 10/10 [00:00<00:00, 14.34batch/s, accuracy=65.1, loss=1.13]\n",
            "Epoch 52: 100%|██████████| 10/10 [00:00<00:00, 14.62batch/s, accuracy=65.4, loss=1.12]\n",
            "Epoch 53: 100%|██████████| 10/10 [00:00<00:00, 14.44batch/s, accuracy=65.4, loss=1.12]\n",
            "Epoch 54: 100%|██████████| 10/10 [00:00<00:00, 14.31batch/s, accuracy=65.4, loss=1.12]\n",
            "Epoch 55: 100%|██████████| 10/10 [00:00<00:00, 13.96batch/s, accuracy=65.4, loss=1.12]\n",
            "Epoch 56: 100%|██████████| 10/10 [00:00<00:00, 14.03batch/s, accuracy=65.4, loss=1.12]\n",
            "Epoch 57: 100%|██████████| 10/10 [00:00<00:00, 14.65batch/s, accuracy=65.4, loss=1.11]\n",
            "Epoch 58: 100%|██████████| 10/10 [00:00<00:00, 14.59batch/s, accuracy=65.3, loss=1.11]\n",
            "Epoch 59: 100%|██████████| 10/10 [00:00<00:00, 14.43batch/s, accuracy=65.3, loss=1.11]\n",
            "Epoch 60: 100%|██████████| 10/10 [00:00<00:00, 14.34batch/s, accuracy=65.3, loss=1.11]\n",
            "Epoch 61: 100%|██████████| 10/10 [00:00<00:00, 14.57batch/s, accuracy=65.3, loss=1.11]\n",
            "Epoch 62: 100%|██████████| 10/10 [00:00<00:00, 14.53batch/s, accuracy=65.4, loss=1.1]\n",
            "Epoch 63: 100%|██████████| 10/10 [00:00<00:00, 14.53batch/s, accuracy=65.4, loss=1.1]\n",
            "Epoch 64: 100%|██████████| 10/10 [00:00<00:00, 14.85batch/s, accuracy=65.4, loss=1.1]\n",
            "Epoch 65: 100%|██████████| 10/10 [00:00<00:00, 14.41batch/s, accuracy=65.4, loss=1.1]\n",
            "Epoch 66: 100%|██████████| 10/10 [00:00<00:00, 14.31batch/s, accuracy=65.4, loss=1.09]\n",
            "Epoch 67: 100%|██████████| 10/10 [00:00<00:00, 14.41batch/s, accuracy=65.6, loss=1.09]\n",
            "Epoch 68: 100%|██████████| 10/10 [00:00<00:00, 14.48batch/s, accuracy=65.9, loss=1.09]\n",
            "Epoch 69: 100%|██████████| 10/10 [00:00<00:00, 14.49batch/s, accuracy=66.1, loss=1.08]\n",
            "Epoch 70: 100%|██████████| 10/10 [00:00<00:00, 14.56batch/s, accuracy=66.2, loss=1.08]\n",
            "Epoch 71: 100%|██████████| 10/10 [00:00<00:00, 14.28batch/s, accuracy=66.2, loss=1.07]\n",
            "Epoch 72: 100%|██████████| 10/10 [00:00<00:00, 14.45batch/s, accuracy=66.2, loss=1.07]\n",
            "Epoch 73: 100%|██████████| 10/10 [00:00<00:00, 14.33batch/s, accuracy=66.2, loss=1.07]\n",
            "Epoch 74: 100%|██████████| 10/10 [00:00<00:00, 14.11batch/s, accuracy=66.4, loss=1.06]\n",
            "Epoch 75: 100%|██████████| 10/10 [00:00<00:00, 14.47batch/s, accuracy=66.6, loss=1.06]\n",
            "Epoch 76: 100%|██████████| 10/10 [00:00<00:00, 14.11batch/s, accuracy=66.6, loss=1.06]\n",
            "Epoch 77: 100%|██████████| 10/10 [00:00<00:00, 14.31batch/s, accuracy=66.7, loss=1.06]\n",
            "Epoch 78: 100%|██████████| 10/10 [00:00<00:00, 14.20batch/s, accuracy=67, loss=1.05]\n",
            "Epoch 79: 100%|██████████| 10/10 [00:00<00:00, 13.96batch/s, accuracy=67, loss=1.05]\n",
            "Epoch 80: 100%|██████████| 10/10 [00:00<00:00, 14.23batch/s, accuracy=67.2, loss=1.05]\n",
            "Epoch 81: 100%|██████████| 10/10 [00:00<00:00, 14.23batch/s, accuracy=67.4, loss=1.05]\n",
            "Epoch 82: 100%|██████████| 10/10 [00:00<00:00, 14.70batch/s, accuracy=67.4, loss=1.05]\n",
            "Epoch 83: 100%|██████████| 10/10 [00:00<00:00, 14.19batch/s, accuracy=67.4, loss=1.04]\n",
            "Epoch 84: 100%|██████████| 10/10 [00:00<00:00, 14.66batch/s, accuracy=67.4, loss=1.04]\n",
            "Epoch 85: 100%|██████████| 10/10 [00:00<00:00, 14.26batch/s, accuracy=67.4, loss=1.04]\n",
            "Epoch 86: 100%|██████████| 10/10 [00:00<00:00, 14.33batch/s, accuracy=67.4, loss=1.04]\n",
            "Epoch 87: 100%|██████████| 10/10 [00:00<00:00, 13.89batch/s, accuracy=67.4, loss=1.04]\n",
            "Epoch 88: 100%|██████████| 10/10 [00:00<00:00, 14.32batch/s, accuracy=67.5, loss=1.04]\n",
            "Epoch 89: 100%|██████████| 10/10 [00:00<00:00, 14.31batch/s, accuracy=67.5, loss=1.04]\n",
            "Epoch 90: 100%|██████████| 10/10 [00:00<00:00, 14.36batch/s, accuracy=67.5, loss=1.04]\n",
            "Epoch 91: 100%|██████████| 10/10 [00:00<00:00, 14.41batch/s, accuracy=67.5, loss=1.04]\n",
            "Epoch 92: 100%|██████████| 10/10 [00:00<00:00, 14.29batch/s, accuracy=67.5, loss=1.04]\n",
            "Epoch 93: 100%|██████████| 10/10 [00:00<00:00, 14.57batch/s, accuracy=67.5, loss=1.03]\n",
            "Epoch 94: 100%|██████████| 10/10 [00:00<00:00, 14.10batch/s, accuracy=67.5, loss=1.03]\n",
            "Epoch 95: 100%|██████████| 10/10 [00:00<00:00, 14.37batch/s, accuracy=67.5, loss=1.03]\n",
            "Epoch 96: 100%|██████████| 10/10 [00:00<00:00, 14.38batch/s, accuracy=67.5, loss=1.03]\n",
            "Epoch 97: 100%|██████████| 10/10 [00:00<00:00, 14.33batch/s, accuracy=67.5, loss=1.03]\n",
            "Epoch 98: 100%|██████████| 10/10 [00:00<00:00, 14.42batch/s, accuracy=67.5, loss=1.03]\n",
            "Epoch 99: 100%|██████████| 10/10 [00:00<00:00, 14.33batch/s, accuracy=67.7, loss=1.03]\n"
          ],
          "name": "stderr"
        },
        {
          "output_type": "stream",
          "text": [
            "\n",
            "\n",
            "PERFORMANCE WITH BIDIRECTIONAL *LSTM* WITH WEIGHT DECAY ON LITHUANIAN UD:\n",
            "\n",
            "\n",
            "Test accuracy 50.4%\n"
          ],
          "name": "stdout"
        }
      ]
    },
    {
      "cell_type": "markdown",
      "metadata": {
        "id": "Yrqa0GTWOtoo"
      },
      "source": [
        "# **EXTENSION 5**\n",
        "\n",
        "In extension 7, I compare the performance of a PoS tagger on Lithuanian with UD and language specific tagset Jablonskis. A crucial observation is that it took a lot of training data to achieve great results. In fact, I had to use 80% of the whole MATAS corpus, which consists of 5 genres: \n",
        "\n",
        "*   Documents (14%)\n",
        "*   Fiction (19%)\n",
        "*   Periodicals (36%)\n",
        "*   Scientific texts (24%)\n",
        "*   Transcripts(7%)\n",
        "\n",
        "and a total of 144,047 sentences. This is likely due to the morphological richness of the language, since there are countless number of word forms.\n",
        "\n",
        "Thus, when using a large corpora with 5 genres, namely the MATAS corpus, the accuracy achieved by the model reaches 95%. However, as seen from some of the examples above, the performance is much worse when it comes to a smaller data set, such as Alknsis, which is tagged with UD tagset and consists of 3,643 sentences.\n",
        "\n",
        "**HYPOTHESIS**: This is not the case for English, as English is an Analytic language. Instead of word forms, grammatical cases are often expressed by prepositions. Hence, in theory, a model should require less data to achieve great results when it comes to tagging English sentences. \n",
        "\n",
        "To test that, I decided to use a small UD corpus, namely English ESL, which consists of only 5,124 sentences. To my surprise, the resulsts were horrible. However, I quickly learned that this is the case due to some evident error with the document, as all the text was replaced with underscores (_) throughout the corpus. Check the **en_esl-ud-train.conllu** document for reference."
      ]
    },
    {
      "cell_type": "code",
      "metadata": {
        "colab": {
          "base_uri": "https://localhost:8080/"
        },
        "id": "DdF3nOq1fJay",
        "outputId": "bac9c034-c106-4c0c-ee8a-eceb81f09ae1"
      },
      "source": [
        "processor = DataProcessing(X_en_train_esl, y_en_train_esl)\n",
        "\n",
        "pos_tagger = Tagger(rnn_type = 'GRU', word_embedding_dim=50,                                     \n",
        "                   rnn_hidden_dim=60,                                        \n",
        "                   vocabulary_size=len(processor.token2idx),                           \n",
        "                   tagset_size=len(processor.tag2idx)-1, bidirectional_bool=False,\n",
        "                  data_storage = processor)\n",
        "\n",
        "pos_tagger.train(X_en_train_esl, y_en_train_esl, no_epochs=10)\n",
        "\n",
        "pos_tagger.test(X_en_train_esl, y_en_train_esl)"
      ],
      "execution_count": null,
      "outputs": [
        {
          "output_type": "stream",
          "text": [
            "Epoch 0: 100%|██████████| 17/17 [00:00<00:00, 18.76batch/s, accuracy=17.1, loss=2.42]\n",
            "Epoch 1: 100%|██████████| 17/17 [00:00<00:00, 18.80batch/s, accuracy=16.5, loss=2.4]\n",
            "Epoch 2: 100%|██████████| 17/17 [00:00<00:00, 19.01batch/s, accuracy=17.2, loss=2.4]\n",
            "Epoch 3: 100%|██████████| 17/17 [00:00<00:00, 19.39batch/s, accuracy=17.2, loss=2.39]\n",
            "Epoch 4: 100%|██████████| 17/17 [00:00<00:00, 18.74batch/s, accuracy=17.6, loss=2.39]\n",
            "Epoch 5: 100%|██████████| 17/17 [00:00<00:00, 18.87batch/s, accuracy=18.1, loss=2.39]\n",
            "Epoch 6: 100%|██████████| 17/17 [00:00<00:00, 19.23batch/s, accuracy=18, loss=2.39]\n",
            "Epoch 7: 100%|██████████| 17/17 [00:00<00:00, 18.99batch/s, accuracy=17.8, loss=2.39]\n",
            "Epoch 8: 100%|██████████| 17/17 [00:00<00:00, 18.98batch/s, accuracy=18, loss=2.39]\n",
            "Epoch 9: 100%|██████████| 17/17 [00:00<00:00, 19.38batch/s, accuracy=17.8, loss=2.39]\n"
          ],
          "name": "stderr"
        },
        {
          "output_type": "stream",
          "text": [
            "Test accuracy 19.2%\n"
          ],
          "name": "stdout"
        }
      ]
    },
    {
      "cell_type": "markdown",
      "metadata": {
        "id": "KtBex6IMztt3"
      },
      "source": [
        "I therefore shifted to another English corpus available on UD, namely English EWT. The size of this corpus is 16,622 sentences. Three times larger than the last one, yet still more than 8 times smaller than MATAS.\n",
        "\n",
        "The dataset consists of five genres:\n",
        "\n",
        "\n",
        "\n",
        "*   weblogs\n",
        "*   newsgroups\n",
        "*   emails\n",
        "*   reviews\n",
        "*   Yahoo! answers\n",
        "\n",
        "all of which were used for both training and testing.\n",
        "\n",
        "As seen from the results below, the corpus helped me confirm the hypothesis, as the model was able to achieve the accuracy of over 88% with a dataset that is more than 8 times smaller. To the best of my knowledge, this is mainly because a sythetic, morphologically rich language such as Lithuanian requires a lot more data to train a model."
      ]
    },
    {
      "cell_type": "code",
      "metadata": {
        "colab": {
          "base_uri": "https://localhost:8080/"
        },
        "id": "DDUofJLizuId",
        "outputId": "6cbb48d8-0f39-4a69-a622-499e2437e5f2"
      },
      "source": [
        "processor = DataProcessing(X_en_train_ewt, y_en_train_ewt)\n",
        "\n",
        "pos_tagger = Tagger(rnn_type = 'GRU', word_embedding_dim=50,                                     \n",
        "                   rnn_hidden_dim=60,                                        \n",
        "                   vocabulary_size=len(processor.token2idx),                           \n",
        "                   tagset_size=len(processor.tag2idx)-1, bidirectional_bool=False,\n",
        "                  data_storage = processor)\n",
        "\n",
        "pos_tagger.train(X_en_train_ewt, y_en_train_ewt, no_epochs=10)\n",
        "\n",
        "pos_tagger.test(X_en_test_ewt, y_en_test_ewt)"
      ],
      "execution_count": null,
      "outputs": [
        {
          "output_type": "stream",
          "text": [
            "Epoch 0: 100%|██████████| 47/47 [00:02<00:00, 19.13batch/s, accuracy=74.6, loss=0.842]\n",
            "Epoch 1: 100%|██████████| 47/47 [00:02<00:00, 19.00batch/s, accuracy=84.7, loss=0.493]\n",
            "Epoch 2: 100%|██████████| 47/47 [00:02<00:00, 19.13batch/s, accuracy=88.6, loss=0.348]\n",
            "Epoch 3: 100%|██████████| 47/47 [00:02<00:00, 18.99batch/s, accuracy=91.2, loss=0.263]\n",
            "Epoch 4: 100%|██████████| 47/47 [00:02<00:00, 19.04batch/s, accuracy=92.8, loss=0.211]\n",
            "Epoch 5: 100%|██████████| 47/47 [00:02<00:00, 18.93batch/s, accuracy=93.8, loss=0.179]\n",
            "Epoch 6: 100%|██████████| 47/47 [00:02<00:00, 18.86batch/s, accuracy=94.7, loss=0.154]\n",
            "Epoch 7: 100%|██████████| 47/47 [00:02<00:00, 18.72batch/s, accuracy=95.3, loss=0.135]\n",
            "Epoch 8: 100%|██████████| 47/47 [00:02<00:00, 18.69batch/s, accuracy=95.9, loss=0.121]\n",
            "Epoch 9: 100%|██████████| 47/47 [00:02<00:00, 19.04batch/s, accuracy=96.2, loss=0.107]\n"
          ],
          "name": "stderr"
        },
        {
          "output_type": "stream",
          "text": [
            "Test accuracy 88.4%\n"
          ],
          "name": "stdout"
        }
      ]
    },
    {
      "cell_type": "markdown",
      "metadata": {
        "id": "tw5vd5S71few"
      },
      "source": [
        "Lastly, to ensure that this was not simply due to some corpus or language feature, I tested one more analytic language - Swedish. I used the Talbanken UD corpus, which consists of only 6,000 sentencs.\n",
        "\n",
        "The performance of the model on the Swedish dataset ended up beingsurprising, as even with such a small corpus, the result was usaully well above 80%. This only goes to prove that an analytic language requires less data. "
      ]
    },
    {
      "cell_type": "code",
      "metadata": {
        "colab": {
          "base_uri": "https://localhost:8080/"
        },
        "id": "qoqZtj0n1e5Y",
        "outputId": "b79a86e1-305a-4910-b0ec-60657ac60a16"
      },
      "source": [
        "processor = DataProcessing(X_se_train_talbanken, y_en_train_ewt)\n",
        "\n",
        "pos_tagger = Tagger(rnn_type = 'GRU', word_embedding_dim=50,                                     \n",
        "                   rnn_hidden_dim=60,                                        \n",
        "                   vocabulary_size=len(processor.token2idx),                           \n",
        "                   tagset_size=len(processor.tag2idx)-1, bidirectional_bool=False,\n",
        "                  data_storage = processor)\n",
        "\n",
        "pos_tagger.train(X_se_train_talbanken, y_se_train_talbanken, no_epochs=10)\n",
        "\n",
        "pos_tagger.test(X_se_test_talbanken, y_se_test_talbanken)"
      ],
      "execution_count": null,
      "outputs": [
        {
          "output_type": "stream",
          "text": [
            "Epoch 0: 100%|██████████| 17/17 [00:00<00:00, 20.26batch/s, accuracy=47.9, loss=1.56]\n",
            "Epoch 1: 100%|██████████| 17/17 [00:00<00:00, 20.58batch/s, accuracy=65.4, loss=1.03]\n",
            "Epoch 2: 100%|██████████| 17/17 [00:00<00:00, 20.52batch/s, accuracy=76.1, loss=0.737]\n",
            "Epoch 3: 100%|██████████| 17/17 [00:00<00:00, 20.69batch/s, accuracy=82.6, loss=0.54]\n",
            "Epoch 4: 100%|██████████| 17/17 [00:00<00:00, 20.16batch/s, accuracy=87.4, loss=0.399]\n",
            "Epoch 5: 100%|██████████| 17/17 [00:00<00:00, 20.68batch/s, accuracy=90.4, loss=0.306]\n",
            "Epoch 6: 100%|██████████| 17/17 [00:00<00:00, 20.65batch/s, accuracy=92.1, loss=0.244]\n",
            "Epoch 7: 100%|██████████| 17/17 [00:00<00:00, 20.48batch/s, accuracy=93.6, loss=0.195]\n",
            "Epoch 8: 100%|██████████| 17/17 [00:00<00:00, 20.45batch/s, accuracy=94.7, loss=0.161]\n",
            "Epoch 9: 100%|██████████| 17/17 [00:00<00:00, 20.69batch/s, accuracy=95.3, loss=0.134]\n"
          ],
          "name": "stderr"
        },
        {
          "output_type": "stream",
          "text": [
            "Test accuracy 82.3%\n"
          ],
          "name": "stdout"
        }
      ]
    },
    {
      "cell_type": "markdown",
      "metadata": {
        "id": "MOU-XT2oHqY6"
      },
      "source": [
        "As the very las experiment, I decided to also try Polish. I used the LFG corpus consisting of 17,200 sentences. Polish is also a synthetic language. I therefore expected a very similar performance to Lithuanian.\n",
        "\n",
        "It was somewhat surprising that the model handled the Polish data really well, achieving a 85% accuracy. It should be noted though that the corpus is the second largest used in my experience; hence, the decent performance might be influenced by the amount of data. "
      ]
    },
    {
      "cell_type": "code",
      "metadata": {
        "colab": {
          "base_uri": "https://localhost:8080/"
        },
        "id": "E_lIaAq8HM0e",
        "outputId": "1eaf0983-df53-416c-bab2-08c4ffe3f8b8"
      },
      "source": [
        "processor = DataProcessing(X_pl_train_lfg, y_pl_train_lfg)\n",
        "\n",
        "pos_tagger = Tagger(rnn_type = 'GRU', word_embedding_dim=50,                                     \n",
        "                   rnn_hidden_dim=60,                                        \n",
        "                   vocabulary_size=len(processor.token2idx),                           \n",
        "                   tagset_size=len(processor.tag2idx)-1, bidirectional_bool=False,\n",
        "                  data_storage = processor)\n",
        "\n",
        "pos_tagger.train(X_pl_train_lfg, y_pl_train_lfg, no_epochs=10)\n",
        "\n",
        "pos_tagger.test(X_pl_test_lfg, y_pl_test_lfg)"
      ],
      "execution_count": null,
      "outputs": [
        {
          "output_type": "stream",
          "text": [
            "Epoch 0: 100%|██████████| 54/54 [00:01<00:00, 38.64batch/s, accuracy=61.9, loss=1.1]\n",
            "Epoch 1: 100%|██████████| 54/54 [00:01<00:00, 38.75batch/s, accuracy=72.7, loss=0.807]\n",
            "Epoch 2: 100%|██████████| 54/54 [00:01<00:00, 38.96batch/s, accuracy=80.3, loss=0.565]\n",
            "Epoch 3: 100%|██████████| 54/54 [00:01<00:00, 38.78batch/s, accuracy=89.8, loss=0.351]\n",
            "Epoch 4: 100%|██████████| 54/54 [00:01<00:00, 38.93batch/s, accuracy=94.8, loss=0.197]\n",
            "Epoch 5: 100%|██████████| 54/54 [00:01<00:00, 38.42batch/s, accuracy=97.1, loss=0.109]\n",
            "Epoch 6: 100%|██████████| 54/54 [00:01<00:00, 39.10batch/s, accuracy=98.4, loss=0.0606]\n",
            "Epoch 7: 100%|██████████| 54/54 [00:01<00:00, 38.90batch/s, accuracy=99.5, loss=0.0308]\n",
            "Epoch 8: 100%|██████████| 54/54 [00:01<00:00, 38.52batch/s, accuracy=99.7, loss=0.019]\n",
            "Epoch 9: 100%|██████████| 54/54 [00:01<00:00, 38.69batch/s, accuracy=99.8, loss=0.017]\n"
          ],
          "name": "stderr"
        },
        {
          "output_type": "stream",
          "text": [
            "Test accuracy 85.7%\n"
          ],
          "name": "stdout"
        }
      ]
    },
    {
      "cell_type": "markdown",
      "metadata": {
        "id": "hA0k3E76Onio"
      },
      "source": [
        "# **EXTENSION 6**\n",
        "\n",
        "Going into this assignment, I had the impression that Lithuanian would have very limited data for the models to train on. Hence, I expected the models to do poorly on data in Lithuanian and though about an interesting way of addressing this offered by Yang, Salakhutdinov, and Cohen in 2017. The model proposed by the authors has a rather unique and stunning feature - it is versatile and therefore able to transfer across domains and even languages. The authors do this by adjusting the parameters of the model in accordance with the source and target tasks, combining those that are shared and thus overlap.\n",
        "\n",
        "The authors record an improvement of at least 8% for cross-domain transfers (Penn Tree Bank PoS task -> Twitter corpus) and even a 3% increase in a cross-language transfer (Spanish -> English). This might not seem like a significant increase, but it is firstly stunning how pattrns learned from a one language can contribute to the performance of the model on another.\n",
        "\n",
        "Neither of the models I've implemented or tested is able to transfer across languages. It can arguably be applied across domains, but there is no option to tailor the shared or task specific features. That is something I would like to implement in the future with the knowledge I gained throghout the course.\n",
        "\n",
        "**REFERENCE**: Yang, R. Salakhutdinov, and W. W. Cohen. Transfer learning for sequence tagging with hierarchicalrecurrent networks.ArXiv, abs/1703.06345, 2017."
      ]
    },
    {
      "cell_type": "markdown",
      "metadata": {
        "id": "EFD2ED51v7df"
      },
      "source": [
        "# **EXTENSION 7**\n",
        "\n",
        "UD Lithuanian versus Jablonskis Lithuanian tagset\n",
        "\n",
        "As shown and discussed below, the language-specific tagset outperforms UD, which was against my expectations. I quickly learned, however, that the reason behind that is simply the fact that the model had a much larger training dataset for Jablonskis."
      ]
    },
    {
      "cell_type": "code",
      "metadata": {
        "id": "hdZpfKLPv6vl"
      },
      "source": [
        "import tarfile\n",
        "import os\n",
        "from sklearn.model_selection import train_test_split\n",
        "\n",
        "os.chdir('/content')\n",
        "!wget -N https://clarin.vdu.lt/xmlui/bitstream/handle/20.500.11821/33/MATAS-v1.0.zip\n",
        "!unzip -q 'MATAS-v1.0.zip'\n",
        "\n",
        "X_MATAS = []\n",
        "y_MATAS = []\n",
        "\n",
        "os.chdir('/content/MATAS-v1.0/CONLLU')\n",
        "for file in os.listdir():\n",
        "    X_, y_ = conllu_parser('/content/MATAS-v1.0/CONLLU', file)\n",
        "    X_MATAS.extend(X_)\n",
        "    y_MATAS.extend(y_)\n",
        "\n",
        "X_train_MATAS, X_test_MATAS, y_train_MATAS, y_test_MATAS = train_test_split(X_MATAS, y_MATAS, test_size=0.2, random_state=0)\n",
        "\n"
      ],
      "execution_count": null,
      "outputs": []
    },
    {
      "cell_type": "code",
      "metadata": {
        "id": "GxwPCSWQG6gI",
        "colab": {
          "base_uri": "https://localhost:8080/"
        },
        "outputId": "b453c2fc-766c-443a-c803-baf93d86e5c3"
      },
      "source": [
        "processor = DataProcessing(X_MATAS, y_MATAS)\n",
        "\n",
        "pos_tagger = Tagger(rnn_type = 'GRU', word_embedding_dim=50,                                       # Dimensionality of the work embedding\n",
        "                   rnn_hidden_dim=60,                                          # Dimensionality of the hidden state in the LSTM\n",
        "                   vocabulary_size=len(processor.token2idx),                              # The vocabulary incudes both the 'padding' and 'unknown' symbols\n",
        "                   tagset_size=len(processor.tag2idx)-1, bidirectional_bool=False,\n",
        "                  data_storage = processor)\n",
        "\n",
        "pos_tagger.train(X_train_MATAS, y_train_MATAS, no_epochs=5)\n"
      ],
      "execution_count": null,
      "outputs": [
        {
          "output_type": "stream",
          "text": [
            "Epoch 0: 100%|██████████| 448/448 [00:23<00:00, 18.75batch/s, accuracy=92.4, loss=0.272]\n",
            "Epoch 1: 100%|██████████| 448/448 [00:23<00:00, 19.03batch/s, accuracy=97.2, loss=0.113]\n",
            "Epoch 2: 100%|██████████| 448/448 [00:23<00:00, 18.98batch/s, accuracy=98.4, loss=0.0657]\n",
            "Epoch 3: 100%|██████████| 448/448 [00:23<00:00, 19.00batch/s, accuracy=98.9, loss=0.0478]\n",
            "Epoch 4: 100%|██████████| 448/448 [00:23<00:00, 19.06batch/s, accuracy=99.1, loss=0.0361]\n"
          ],
          "name": "stderr"
        }
      ]
    },
    {
      "cell_type": "code",
      "metadata": {
        "colab": {
          "base_uri": "https://localhost:8080/"
        },
        "id": "vbeRCX5-MjOU",
        "outputId": "2e83b98c-1c2f-436c-9e3d-455fbf5085e8"
      },
      "source": [
        "pos_tagger.test(X_test_MATAS, y_test_MATAS)"
      ],
      "execution_count": null,
      "outputs": [
        {
          "output_type": "stream",
          "text": [
            "Test accuracy 95.1%\n"
          ],
          "name": "stdout"
        }
      ]
    },
    {
      "cell_type": "markdown",
      "metadata": {
        "id": "y31Qm_h0MyMM"
      },
      "source": [
        "As seen above, the tagger reaches a really impressive score with the Lithuanian specific tag set Jablonskis, trained on the MATAS corpus. It should be noted, however, that the difference in the results is highly affected by the difference in the sizes of the training sets. The training set for Jablonskis is much larger than the one for UD, thus inevitably leading to better results on the test set.\n",
        "\n",
        "This also relates to the **extension 6**, as it proves that morphologically rich languages, such as Lithuanian, require much larger training sets to achieve reasonable results in the task of PoS tagging. "
      ]
    },
    {
      "cell_type": "code",
      "metadata": {
        "colab": {
          "base_uri": "https://localhost:8080/"
        },
        "id": "FFRLMkbSNJ7n",
        "outputId": "460d8a38-65eb-4c37-b3eb-d757c7747647"
      },
      "source": [
        "print(f'Size of Lithuanian-specific Jablonskis training set: {len(X_train_MATAS)}')\n",
        "print(f'Size of Lithuanian UD training set: {len(X_lt_train_alksnis)}')"
      ],
      "execution_count": null,
      "outputs": [
        {
          "output_type": "stream",
          "text": [
            "Size of Lithuanian-specific MATAS training set: 114621\n",
            "Size of Lithuanian UD training set: 2337\n"
          ],
          "name": "stdout"
        }
      ]
    }
  ]
}